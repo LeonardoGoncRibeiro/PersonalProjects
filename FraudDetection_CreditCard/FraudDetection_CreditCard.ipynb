{
  "nbformat": 4,
  "nbformat_minor": 0,
  "metadata": {
    "colab": {
      "name": "FraudDetection_CreditCard.ipynb",
      "provenance": [],
      "toc_visible": true,
      "authorship_tag": "ABX9TyMEsgSCeLkNaqWYUPbC/6vy",
      "include_colab_link": true
    },
    "kernelspec": {
      "name": "python3",
      "display_name": "Python 3"
    },
    "language_info": {
      "name": "python"
    },
    "widgets": {
      "application/vnd.jupyter.widget-state+json": {
        "8e3c1cc7a51942bb836d0e717997041d": {
          "model_module": "@jupyter-widgets/controls",
          "model_name": "HBoxModel",
          "model_module_version": "1.5.0",
          "state": {
            "_dom_classes": [],
            "_model_module": "@jupyter-widgets/controls",
            "_model_module_version": "1.5.0",
            "_model_name": "HBoxModel",
            "_view_count": null,
            "_view_module": "@jupyter-widgets/controls",
            "_view_module_version": "1.5.0",
            "_view_name": "HBoxView",
            "box_style": "",
            "children": [
              "IPY_MODEL_53a5712484944b00b615fbe874d4b0e6",
              "IPY_MODEL_9c2208fc8c224f52aa1364f602e0730b",
              "IPY_MODEL_7038824ced5f4853a1f4def291925526"
            ],
            "layout": "IPY_MODEL_888d09769ac14ae393d975f534f9bbed"
          }
        },
        "53a5712484944b00b615fbe874d4b0e6": {
          "model_module": "@jupyter-widgets/controls",
          "model_name": "VBoxModel",
          "model_module_version": "1.5.0",
          "state": {
            "_dom_classes": [],
            "_model_module": "@jupyter-widgets/controls",
            "_model_module_version": "1.5.0",
            "_model_name": "VBoxModel",
            "_view_count": null,
            "_view_module": "@jupyter-widgets/controls",
            "_view_module_version": "1.5.0",
            "_view_name": "VBoxView",
            "box_style": "",
            "children": [
              "IPY_MODEL_cf7b418fbbf04293a664db916e0c560a",
              "IPY_MODEL_b43dd923970044229440138edfaa1ada",
              "IPY_MODEL_81edc5e4dba0479b9cc2814da1327831"
            ],
            "layout": "IPY_MODEL_4c2f7512de9f4314a58ce629d1a55faa"
          }
        },
        "9c2208fc8c224f52aa1364f602e0730b": {
          "model_module": "@jupyter-widgets/controls",
          "model_name": "VBoxModel",
          "model_module_version": "1.5.0",
          "state": {
            "_dom_classes": [],
            "_model_module": "@jupyter-widgets/controls",
            "_model_module_version": "1.5.0",
            "_model_name": "VBoxModel",
            "_view_count": null,
            "_view_module": "@jupyter-widgets/controls",
            "_view_module_version": "1.5.0",
            "_view_name": "VBoxView",
            "box_style": "",
            "children": [
              "IPY_MODEL_7f9f43c2b4f54917b99e381e7229fd3c",
              "IPY_MODEL_5a7b3a58f03b4984b53c221410dbd1a3"
            ],
            "layout": "IPY_MODEL_469749139a214ae99983ac83876f8e37"
          }
        },
        "7038824ced5f4853a1f4def291925526": {
          "model_module": "@jupyter-widgets/controls",
          "model_name": "VBoxModel",
          "model_module_version": "1.5.0",
          "state": {
            "_dom_classes": [],
            "_model_module": "@jupyter-widgets/controls",
            "_model_module_version": "1.5.0",
            "_model_name": "VBoxModel",
            "_view_count": null,
            "_view_module": "@jupyter-widgets/controls",
            "_view_module_version": "1.5.0",
            "_view_name": "VBoxView",
            "box_style": "",
            "children": [
              "IPY_MODEL_5b44c13070944abda4b88de9d4779b59",
              "IPY_MODEL_9f77babc37fb4f4cbb623f293ee6b11c"
            ],
            "layout": "IPY_MODEL_8d51a3cb248949bc8036adc43ccec3ac"
          }
        },
        "888d09769ac14ae393d975f534f9bbed": {
          "model_module": "@jupyter-widgets/base",
          "model_name": "LayoutModel",
          "model_module_version": "1.2.0",
          "state": {
            "_model_module": "@jupyter-widgets/base",
            "_model_module_version": "1.2.0",
            "_model_name": "LayoutModel",
            "_view_count": null,
            "_view_module": "@jupyter-widgets/base",
            "_view_module_version": "1.2.0",
            "_view_name": "LayoutView",
            "align_content": null,
            "align_items": null,
            "align_self": null,
            "border": null,
            "bottom": null,
            "display": null,
            "flex": null,
            "flex_flow": null,
            "grid_area": null,
            "grid_auto_columns": null,
            "grid_auto_flow": null,
            "grid_auto_rows": null,
            "grid_column": null,
            "grid_gap": null,
            "grid_row": null,
            "grid_template_areas": null,
            "grid_template_columns": null,
            "grid_template_rows": null,
            "height": null,
            "justify_content": null,
            "justify_items": null,
            "left": null,
            "margin": null,
            "max_height": null,
            "max_width": null,
            "min_height": null,
            "min_width": null,
            "object_fit": null,
            "object_position": null,
            "order": null,
            "overflow": null,
            "overflow_x": null,
            "overflow_y": null,
            "padding": null,
            "right": null,
            "top": null,
            "visibility": null,
            "width": null
          }
        },
        "cf7b418fbbf04293a664db916e0c560a": {
          "model_module": "@jupyter-widgets/controls",
          "model_name": "FloatTextModel",
          "model_module_version": "1.5.0",
          "state": {
            "_dom_classes": [],
            "_model_module": "@jupyter-widgets/controls",
            "_model_module_version": "1.5.0",
            "_model_name": "FloatTextModel",
            "_view_count": null,
            "_view_module": "@jupyter-widgets/controls",
            "_view_module_version": "1.5.0",
            "_view_name": "FloatTextView",
            "continuous_update": false,
            "description": "Dist. home (km): ",
            "description_tooltip": null,
            "disabled": false,
            "layout": "IPY_MODEL_db15a98be933432984d1179202e6ec32",
            "step": null,
            "style": "IPY_MODEL_2a927156980f4aa09a2973971c4fccef",
            "value": 0
          }
        },
        "b43dd923970044229440138edfaa1ada": {
          "model_module": "@jupyter-widgets/controls",
          "model_name": "FloatTextModel",
          "model_module_version": "1.5.0",
          "state": {
            "_dom_classes": [],
            "_model_module": "@jupyter-widgets/controls",
            "_model_module_version": "1.5.0",
            "_model_name": "FloatTextModel",
            "_view_count": null,
            "_view_module": "@jupyter-widgets/controls",
            "_view_module_version": "1.5.0",
            "_view_name": "FloatTextView",
            "continuous_update": false,
            "description": "Dist. last (km): ",
            "description_tooltip": null,
            "disabled": false,
            "layout": "IPY_MODEL_a79338c0b8cd428c9a33b28f60288360",
            "step": null,
            "style": "IPY_MODEL_3c729652bc514af6954b2b357bb790e0",
            "value": 0
          }
        },
        "81edc5e4dba0479b9cc2814da1327831": {
          "model_module": "@jupyter-widgets/controls",
          "model_name": "FloatTextModel",
          "model_module_version": "1.5.0",
          "state": {
            "_dom_classes": [],
            "_model_module": "@jupyter-widgets/controls",
            "_model_module_version": "1.5.0",
            "_model_name": "FloatTextModel",
            "_view_count": null,
            "_view_module": "@jupyter-widgets/controls",
            "_view_module_version": "1.5.0",
            "_view_name": "FloatTextView",
            "continuous_update": false,
            "description": "Value: ",
            "description_tooltip": null,
            "disabled": false,
            "layout": "IPY_MODEL_1527aa307ead4ed99c385d781e23d3ad",
            "step": null,
            "style": "IPY_MODEL_b358775a710e4628b84a69a8d2191086",
            "value": 0
          }
        },
        "4c2f7512de9f4314a58ce629d1a55faa": {
          "model_module": "@jupyter-widgets/base",
          "model_name": "LayoutModel",
          "model_module_version": "1.2.0",
          "state": {
            "_model_module": "@jupyter-widgets/base",
            "_model_module_version": "1.2.0",
            "_model_name": "LayoutModel",
            "_view_count": null,
            "_view_module": "@jupyter-widgets/base",
            "_view_module_version": "1.2.0",
            "_view_name": "LayoutView",
            "align_content": null,
            "align_items": null,
            "align_self": null,
            "border": null,
            "bottom": null,
            "display": null,
            "flex": null,
            "flex_flow": null,
            "grid_area": null,
            "grid_auto_columns": null,
            "grid_auto_flow": null,
            "grid_auto_rows": null,
            "grid_column": null,
            "grid_gap": null,
            "grid_row": null,
            "grid_template_areas": null,
            "grid_template_columns": null,
            "grid_template_rows": null,
            "height": null,
            "justify_content": null,
            "justify_items": null,
            "left": null,
            "margin": null,
            "max_height": null,
            "max_width": null,
            "min_height": null,
            "min_width": null,
            "object_fit": null,
            "object_position": null,
            "order": null,
            "overflow": null,
            "overflow_x": null,
            "overflow_y": null,
            "padding": null,
            "right": null,
            "top": null,
            "visibility": null,
            "width": null
          }
        },
        "7f9f43c2b4f54917b99e381e7229fd3c": {
          "model_module": "@jupyter-widgets/controls",
          "model_name": "RadioButtonsModel",
          "model_module_version": "1.5.0",
          "state": {
            "_dom_classes": [],
            "_model_module": "@jupyter-widgets/controls",
            "_model_module_version": "1.5.0",
            "_model_name": "RadioButtonsModel",
            "_options_labels": [
              "No",
              "Yes"
            ],
            "_view_count": null,
            "_view_module": "@jupyter-widgets/controls",
            "_view_module_version": "1.5.0",
            "_view_name": "RadioButtonsView",
            "description": "Same seller?",
            "description_tooltip": null,
            "disabled": false,
            "index": 0,
            "layout": "IPY_MODEL_f6d69cfbbaa04e65a1ea080fee49ee5f",
            "style": "IPY_MODEL_5d70c553744f40118d18dcb1b7c78f49"
          }
        },
        "5a7b3a58f03b4984b53c221410dbd1a3": {
          "model_module": "@jupyter-widgets/controls",
          "model_name": "RadioButtonsModel",
          "model_module_version": "1.5.0",
          "state": {
            "_dom_classes": [],
            "_model_module": "@jupyter-widgets/controls",
            "_model_module_version": "1.5.0",
            "_model_name": "RadioButtonsModel",
            "_options_labels": [
              "No",
              "Yes"
            ],
            "_view_count": null,
            "_view_module": "@jupyter-widgets/controls",
            "_view_module_version": "1.5.0",
            "_view_name": "RadioButtonsView",
            "description": "Physical card?",
            "description_tooltip": null,
            "disabled": false,
            "index": 0,
            "layout": "IPY_MODEL_0991f17eed8742c9b2df9e8b53938ba6",
            "style": "IPY_MODEL_030e22d6859045f5902e3f43afc44656"
          }
        },
        "469749139a214ae99983ac83876f8e37": {
          "model_module": "@jupyter-widgets/base",
          "model_name": "LayoutModel",
          "model_module_version": "1.2.0",
          "state": {
            "_model_module": "@jupyter-widgets/base",
            "_model_module_version": "1.2.0",
            "_model_name": "LayoutModel",
            "_view_count": null,
            "_view_module": "@jupyter-widgets/base",
            "_view_module_version": "1.2.0",
            "_view_name": "LayoutView",
            "align_content": null,
            "align_items": null,
            "align_self": null,
            "border": null,
            "bottom": null,
            "display": null,
            "flex": null,
            "flex_flow": null,
            "grid_area": null,
            "grid_auto_columns": null,
            "grid_auto_flow": null,
            "grid_auto_rows": null,
            "grid_column": null,
            "grid_gap": null,
            "grid_row": null,
            "grid_template_areas": null,
            "grid_template_columns": null,
            "grid_template_rows": null,
            "height": null,
            "justify_content": null,
            "justify_items": null,
            "left": null,
            "margin": null,
            "max_height": null,
            "max_width": null,
            "min_height": null,
            "min_width": null,
            "object_fit": null,
            "object_position": null,
            "order": null,
            "overflow": null,
            "overflow_x": null,
            "overflow_y": null,
            "padding": null,
            "right": null,
            "top": null,
            "visibility": null,
            "width": null
          }
        },
        "5b44c13070944abda4b88de9d4779b59": {
          "model_module": "@jupyter-widgets/controls",
          "model_name": "RadioButtonsModel",
          "model_module_version": "1.5.0",
          "state": {
            "_dom_classes": [],
            "_model_module": "@jupyter-widgets/controls",
            "_model_module_version": "1.5.0",
            "_model_name": "RadioButtonsModel",
            "_options_labels": [
              "No",
              "Yes"
            ],
            "_view_count": null,
            "_view_module": "@jupyter-widgets/controls",
            "_view_module_version": "1.5.0",
            "_view_name": "RadioButtonsView",
            "description": "Password?",
            "description_tooltip": null,
            "disabled": false,
            "index": 0,
            "layout": "IPY_MODEL_a15b3fa814eb4475b667774c9c30f922",
            "style": "IPY_MODEL_69d4fd4e729c4f2ab3ec3e041de3a24a"
          }
        },
        "9f77babc37fb4f4cbb623f293ee6b11c": {
          "model_module": "@jupyter-widgets/controls",
          "model_name": "RadioButtonsModel",
          "model_module_version": "1.5.0",
          "state": {
            "_dom_classes": [],
            "_model_module": "@jupyter-widgets/controls",
            "_model_module_version": "1.5.0",
            "_model_name": "RadioButtonsModel",
            "_options_labels": [
              "No",
              "Yes"
            ],
            "_view_count": null,
            "_view_module": "@jupyter-widgets/controls",
            "_view_module_version": "1.5.0",
            "_view_name": "RadioButtonsView",
            "description": "On-line?",
            "description_tooltip": null,
            "disabled": false,
            "index": 0,
            "layout": "IPY_MODEL_786f8cae8706407c926549dbc12826ad",
            "style": "IPY_MODEL_54404f096a1642968d2fd0446c92e0e6"
          }
        },
        "8d51a3cb248949bc8036adc43ccec3ac": {
          "model_module": "@jupyter-widgets/base",
          "model_name": "LayoutModel",
          "model_module_version": "1.2.0",
          "state": {
            "_model_module": "@jupyter-widgets/base",
            "_model_module_version": "1.2.0",
            "_model_name": "LayoutModel",
            "_view_count": null,
            "_view_module": "@jupyter-widgets/base",
            "_view_module_version": "1.2.0",
            "_view_name": "LayoutView",
            "align_content": null,
            "align_items": null,
            "align_self": null,
            "border": null,
            "bottom": null,
            "display": null,
            "flex": null,
            "flex_flow": null,
            "grid_area": null,
            "grid_auto_columns": null,
            "grid_auto_flow": null,
            "grid_auto_rows": null,
            "grid_column": null,
            "grid_gap": null,
            "grid_row": null,
            "grid_template_areas": null,
            "grid_template_columns": null,
            "grid_template_rows": null,
            "height": null,
            "justify_content": null,
            "justify_items": null,
            "left": null,
            "margin": null,
            "max_height": null,
            "max_width": null,
            "min_height": null,
            "min_width": null,
            "object_fit": null,
            "object_position": null,
            "order": null,
            "overflow": null,
            "overflow_x": null,
            "overflow_y": null,
            "padding": null,
            "right": null,
            "top": null,
            "visibility": null,
            "width": null
          }
        },
        "db15a98be933432984d1179202e6ec32": {
          "model_module": "@jupyter-widgets/base",
          "model_name": "LayoutModel",
          "model_module_version": "1.2.0",
          "state": {
            "_model_module": "@jupyter-widgets/base",
            "_model_module_version": "1.2.0",
            "_model_name": "LayoutModel",
            "_view_count": null,
            "_view_module": "@jupyter-widgets/base",
            "_view_module_version": "1.2.0",
            "_view_name": "LayoutView",
            "align_content": null,
            "align_items": null,
            "align_self": null,
            "border": null,
            "bottom": null,
            "display": null,
            "flex": null,
            "flex_flow": null,
            "grid_area": null,
            "grid_auto_columns": null,
            "grid_auto_flow": null,
            "grid_auto_rows": null,
            "grid_column": null,
            "grid_gap": null,
            "grid_row": null,
            "grid_template_areas": null,
            "grid_template_columns": null,
            "grid_template_rows": null,
            "height": null,
            "justify_content": null,
            "justify_items": null,
            "left": null,
            "margin": null,
            "max_height": null,
            "max_width": null,
            "min_height": null,
            "min_width": null,
            "object_fit": null,
            "object_position": null,
            "order": null,
            "overflow": null,
            "overflow_x": null,
            "overflow_y": null,
            "padding": null,
            "right": null,
            "top": null,
            "visibility": null,
            "width": null
          }
        },
        "2a927156980f4aa09a2973971c4fccef": {
          "model_module": "@jupyter-widgets/controls",
          "model_name": "DescriptionStyleModel",
          "model_module_version": "1.5.0",
          "state": {
            "_model_module": "@jupyter-widgets/controls",
            "_model_module_version": "1.5.0",
            "_model_name": "DescriptionStyleModel",
            "_view_count": null,
            "_view_module": "@jupyter-widgets/base",
            "_view_module_version": "1.2.0",
            "_view_name": "StyleView",
            "description_width": ""
          }
        },
        "a79338c0b8cd428c9a33b28f60288360": {
          "model_module": "@jupyter-widgets/base",
          "model_name": "LayoutModel",
          "model_module_version": "1.2.0",
          "state": {
            "_model_module": "@jupyter-widgets/base",
            "_model_module_version": "1.2.0",
            "_model_name": "LayoutModel",
            "_view_count": null,
            "_view_module": "@jupyter-widgets/base",
            "_view_module_version": "1.2.0",
            "_view_name": "LayoutView",
            "align_content": null,
            "align_items": null,
            "align_self": null,
            "border": null,
            "bottom": null,
            "display": null,
            "flex": null,
            "flex_flow": null,
            "grid_area": null,
            "grid_auto_columns": null,
            "grid_auto_flow": null,
            "grid_auto_rows": null,
            "grid_column": null,
            "grid_gap": null,
            "grid_row": null,
            "grid_template_areas": null,
            "grid_template_columns": null,
            "grid_template_rows": null,
            "height": null,
            "justify_content": null,
            "justify_items": null,
            "left": null,
            "margin": null,
            "max_height": null,
            "max_width": null,
            "min_height": null,
            "min_width": null,
            "object_fit": null,
            "object_position": null,
            "order": null,
            "overflow": null,
            "overflow_x": null,
            "overflow_y": null,
            "padding": null,
            "right": null,
            "top": null,
            "visibility": null,
            "width": null
          }
        },
        "3c729652bc514af6954b2b357bb790e0": {
          "model_module": "@jupyter-widgets/controls",
          "model_name": "DescriptionStyleModel",
          "model_module_version": "1.5.0",
          "state": {
            "_model_module": "@jupyter-widgets/controls",
            "_model_module_version": "1.5.0",
            "_model_name": "DescriptionStyleModel",
            "_view_count": null,
            "_view_module": "@jupyter-widgets/base",
            "_view_module_version": "1.2.0",
            "_view_name": "StyleView",
            "description_width": ""
          }
        },
        "1527aa307ead4ed99c385d781e23d3ad": {
          "model_module": "@jupyter-widgets/base",
          "model_name": "LayoutModel",
          "model_module_version": "1.2.0",
          "state": {
            "_model_module": "@jupyter-widgets/base",
            "_model_module_version": "1.2.0",
            "_model_name": "LayoutModel",
            "_view_count": null,
            "_view_module": "@jupyter-widgets/base",
            "_view_module_version": "1.2.0",
            "_view_name": "LayoutView",
            "align_content": null,
            "align_items": null,
            "align_self": null,
            "border": null,
            "bottom": null,
            "display": null,
            "flex": null,
            "flex_flow": null,
            "grid_area": null,
            "grid_auto_columns": null,
            "grid_auto_flow": null,
            "grid_auto_rows": null,
            "grid_column": null,
            "grid_gap": null,
            "grid_row": null,
            "grid_template_areas": null,
            "grid_template_columns": null,
            "grid_template_rows": null,
            "height": null,
            "justify_content": null,
            "justify_items": null,
            "left": null,
            "margin": null,
            "max_height": null,
            "max_width": null,
            "min_height": null,
            "min_width": null,
            "object_fit": null,
            "object_position": null,
            "order": null,
            "overflow": null,
            "overflow_x": null,
            "overflow_y": null,
            "padding": null,
            "right": null,
            "top": null,
            "visibility": null,
            "width": null
          }
        },
        "b358775a710e4628b84a69a8d2191086": {
          "model_module": "@jupyter-widgets/controls",
          "model_name": "DescriptionStyleModel",
          "model_module_version": "1.5.0",
          "state": {
            "_model_module": "@jupyter-widgets/controls",
            "_model_module_version": "1.5.0",
            "_model_name": "DescriptionStyleModel",
            "_view_count": null,
            "_view_module": "@jupyter-widgets/base",
            "_view_module_version": "1.2.0",
            "_view_name": "StyleView",
            "description_width": ""
          }
        },
        "f6d69cfbbaa04e65a1ea080fee49ee5f": {
          "model_module": "@jupyter-widgets/base",
          "model_name": "LayoutModel",
          "model_module_version": "1.2.0",
          "state": {
            "_model_module": "@jupyter-widgets/base",
            "_model_module_version": "1.2.0",
            "_model_name": "LayoutModel",
            "_view_count": null,
            "_view_module": "@jupyter-widgets/base",
            "_view_module_version": "1.2.0",
            "_view_name": "LayoutView",
            "align_content": null,
            "align_items": null,
            "align_self": null,
            "border": null,
            "bottom": null,
            "display": null,
            "flex": null,
            "flex_flow": null,
            "grid_area": null,
            "grid_auto_columns": null,
            "grid_auto_flow": null,
            "grid_auto_rows": null,
            "grid_column": null,
            "grid_gap": null,
            "grid_row": null,
            "grid_template_areas": null,
            "grid_template_columns": null,
            "grid_template_rows": null,
            "height": null,
            "justify_content": null,
            "justify_items": null,
            "left": null,
            "margin": null,
            "max_height": null,
            "max_width": null,
            "min_height": null,
            "min_width": null,
            "object_fit": null,
            "object_position": null,
            "order": null,
            "overflow": null,
            "overflow_x": null,
            "overflow_y": null,
            "padding": null,
            "right": null,
            "top": null,
            "visibility": null,
            "width": null
          }
        },
        "5d70c553744f40118d18dcb1b7c78f49": {
          "model_module": "@jupyter-widgets/controls",
          "model_name": "DescriptionStyleModel",
          "model_module_version": "1.5.0",
          "state": {
            "_model_module": "@jupyter-widgets/controls",
            "_model_module_version": "1.5.0",
            "_model_name": "DescriptionStyleModel",
            "_view_count": null,
            "_view_module": "@jupyter-widgets/base",
            "_view_module_version": "1.2.0",
            "_view_name": "StyleView",
            "description_width": ""
          }
        },
        "0991f17eed8742c9b2df9e8b53938ba6": {
          "model_module": "@jupyter-widgets/base",
          "model_name": "LayoutModel",
          "model_module_version": "1.2.0",
          "state": {
            "_model_module": "@jupyter-widgets/base",
            "_model_module_version": "1.2.0",
            "_model_name": "LayoutModel",
            "_view_count": null,
            "_view_module": "@jupyter-widgets/base",
            "_view_module_version": "1.2.0",
            "_view_name": "LayoutView",
            "align_content": null,
            "align_items": null,
            "align_self": null,
            "border": null,
            "bottom": null,
            "display": null,
            "flex": null,
            "flex_flow": null,
            "grid_area": null,
            "grid_auto_columns": null,
            "grid_auto_flow": null,
            "grid_auto_rows": null,
            "grid_column": null,
            "grid_gap": null,
            "grid_row": null,
            "grid_template_areas": null,
            "grid_template_columns": null,
            "grid_template_rows": null,
            "height": null,
            "justify_content": null,
            "justify_items": null,
            "left": null,
            "margin": null,
            "max_height": null,
            "max_width": null,
            "min_height": null,
            "min_width": null,
            "object_fit": null,
            "object_position": null,
            "order": null,
            "overflow": null,
            "overflow_x": null,
            "overflow_y": null,
            "padding": null,
            "right": null,
            "top": null,
            "visibility": null,
            "width": null
          }
        },
        "030e22d6859045f5902e3f43afc44656": {
          "model_module": "@jupyter-widgets/controls",
          "model_name": "DescriptionStyleModel",
          "model_module_version": "1.5.0",
          "state": {
            "_model_module": "@jupyter-widgets/controls",
            "_model_module_version": "1.5.0",
            "_model_name": "DescriptionStyleModel",
            "_view_count": null,
            "_view_module": "@jupyter-widgets/base",
            "_view_module_version": "1.2.0",
            "_view_name": "StyleView",
            "description_width": ""
          }
        },
        "a15b3fa814eb4475b667774c9c30f922": {
          "model_module": "@jupyter-widgets/base",
          "model_name": "LayoutModel",
          "model_module_version": "1.2.0",
          "state": {
            "_model_module": "@jupyter-widgets/base",
            "_model_module_version": "1.2.0",
            "_model_name": "LayoutModel",
            "_view_count": null,
            "_view_module": "@jupyter-widgets/base",
            "_view_module_version": "1.2.0",
            "_view_name": "LayoutView",
            "align_content": null,
            "align_items": null,
            "align_self": null,
            "border": null,
            "bottom": null,
            "display": null,
            "flex": null,
            "flex_flow": null,
            "grid_area": null,
            "grid_auto_columns": null,
            "grid_auto_flow": null,
            "grid_auto_rows": null,
            "grid_column": null,
            "grid_gap": null,
            "grid_row": null,
            "grid_template_areas": null,
            "grid_template_columns": null,
            "grid_template_rows": null,
            "height": null,
            "justify_content": null,
            "justify_items": null,
            "left": null,
            "margin": null,
            "max_height": null,
            "max_width": null,
            "min_height": null,
            "min_width": null,
            "object_fit": null,
            "object_position": null,
            "order": null,
            "overflow": null,
            "overflow_x": null,
            "overflow_y": null,
            "padding": null,
            "right": null,
            "top": null,
            "visibility": null,
            "width": null
          }
        },
        "69d4fd4e729c4f2ab3ec3e041de3a24a": {
          "model_module": "@jupyter-widgets/controls",
          "model_name": "DescriptionStyleModel",
          "model_module_version": "1.5.0",
          "state": {
            "_model_module": "@jupyter-widgets/controls",
            "_model_module_version": "1.5.0",
            "_model_name": "DescriptionStyleModel",
            "_view_count": null,
            "_view_module": "@jupyter-widgets/base",
            "_view_module_version": "1.2.0",
            "_view_name": "StyleView",
            "description_width": ""
          }
        },
        "786f8cae8706407c926549dbc12826ad": {
          "model_module": "@jupyter-widgets/base",
          "model_name": "LayoutModel",
          "model_module_version": "1.2.0",
          "state": {
            "_model_module": "@jupyter-widgets/base",
            "_model_module_version": "1.2.0",
            "_model_name": "LayoutModel",
            "_view_count": null,
            "_view_module": "@jupyter-widgets/base",
            "_view_module_version": "1.2.0",
            "_view_name": "LayoutView",
            "align_content": null,
            "align_items": null,
            "align_self": null,
            "border": null,
            "bottom": null,
            "display": null,
            "flex": null,
            "flex_flow": null,
            "grid_area": null,
            "grid_auto_columns": null,
            "grid_auto_flow": null,
            "grid_auto_rows": null,
            "grid_column": null,
            "grid_gap": null,
            "grid_row": null,
            "grid_template_areas": null,
            "grid_template_columns": null,
            "grid_template_rows": null,
            "height": null,
            "justify_content": null,
            "justify_items": null,
            "left": null,
            "margin": null,
            "max_height": null,
            "max_width": null,
            "min_height": null,
            "min_width": null,
            "object_fit": null,
            "object_position": null,
            "order": null,
            "overflow": null,
            "overflow_x": null,
            "overflow_y": null,
            "padding": null,
            "right": null,
            "top": null,
            "visibility": null,
            "width": null
          }
        },
        "54404f096a1642968d2fd0446c92e0e6": {
          "model_module": "@jupyter-widgets/controls",
          "model_name": "DescriptionStyleModel",
          "model_module_version": "1.5.0",
          "state": {
            "_model_module": "@jupyter-widgets/controls",
            "_model_module_version": "1.5.0",
            "_model_name": "DescriptionStyleModel",
            "_view_count": null,
            "_view_module": "@jupyter-widgets/base",
            "_view_module_version": "1.2.0",
            "_view_name": "StyleView",
            "description_width": ""
          }
        },
        "f56dfc1e7ed649199f482271091b0a8e": {
          "model_module": "@jupyter-widgets/controls",
          "model_name": "ButtonModel",
          "model_module_version": "1.5.0",
          "state": {
            "_dom_classes": [],
            "_model_module": "@jupyter-widgets/controls",
            "_model_module_version": "1.5.0",
            "_model_name": "ButtonModel",
            "_view_count": null,
            "_view_module": "@jupyter-widgets/controls",
            "_view_module_version": "1.5.0",
            "_view_name": "ButtonView",
            "button_style": "",
            "description": "Detect",
            "disabled": false,
            "icon": "",
            "layout": "IPY_MODEL_b54a0f42b2534341bf94315d35c89bd4",
            "style": "IPY_MODEL_bbda0e4c90b9477da91e8cc7495c199f",
            "tooltip": ""
          }
        },
        "b54a0f42b2534341bf94315d35c89bd4": {
          "model_module": "@jupyter-widgets/base",
          "model_name": "LayoutModel",
          "model_module_version": "1.2.0",
          "state": {
            "_model_module": "@jupyter-widgets/base",
            "_model_module_version": "1.2.0",
            "_model_name": "LayoutModel",
            "_view_count": null,
            "_view_module": "@jupyter-widgets/base",
            "_view_module_version": "1.2.0",
            "_view_name": "LayoutView",
            "align_content": null,
            "align_items": null,
            "align_self": null,
            "border": null,
            "bottom": null,
            "display": null,
            "flex": null,
            "flex_flow": null,
            "grid_area": null,
            "grid_auto_columns": null,
            "grid_auto_flow": null,
            "grid_auto_rows": null,
            "grid_column": null,
            "grid_gap": null,
            "grid_row": null,
            "grid_template_areas": null,
            "grid_template_columns": null,
            "grid_template_rows": null,
            "height": null,
            "justify_content": null,
            "justify_items": null,
            "left": null,
            "margin": null,
            "max_height": null,
            "max_width": null,
            "min_height": null,
            "min_width": null,
            "object_fit": null,
            "object_position": null,
            "order": null,
            "overflow": null,
            "overflow_x": null,
            "overflow_y": null,
            "padding": null,
            "right": null,
            "top": null,
            "visibility": null,
            "width": null
          }
        },
        "bbda0e4c90b9477da91e8cc7495c199f": {
          "model_module": "@jupyter-widgets/controls",
          "model_name": "ButtonStyleModel",
          "model_module_version": "1.5.0",
          "state": {
            "_model_module": "@jupyter-widgets/controls",
            "_model_module_version": "1.5.0",
            "_model_name": "ButtonStyleModel",
            "_view_count": null,
            "_view_module": "@jupyter-widgets/base",
            "_view_module_version": "1.2.0",
            "_view_name": "StyleView",
            "button_color": null,
            "font_weight": ""
          }
        }
      }
    }
  },
  "cells": [
    {
      "cell_type": "markdown",
      "metadata": {
        "id": "view-in-github",
        "colab_type": "text"
      },
      "source": [
        "<a href=\"https://colab.research.google.com/github/LeonardoGoncRibeiro/PersonalProjects/blob/main/FraudDetection_CreditCard/FraudDetection_CreditCard.ipynb\" target=\"_parent\"><img src=\"https://colab.research.google.com/assets/colab-badge.svg\" alt=\"Open In Colab\"/></a>"
      ]
    },
    {
      "cell_type": "markdown",
      "source": [
        "# Fraud Detection: Credit Card\n",
        "\n",
        "In this file, I will build a fraud detection algorithm for payments via credit cards. Fraud detection algorithms allow us to predict a probability of a given event being fraudulent, given some input parameters, and, thus, understand if more validation is necessary to conduct the transaction. To that end, we will go through the following steps:\n",
        "\n",
        "1.   Data collection\n",
        "2.   Data cleaning\n",
        "3.   Data exploration and analysis\n",
        "4.   Data modeling and model optimization\n",
        "5.   Deployment\n",
        "\n",
        "First, let's download and import the packages which will be used in this project.\n"
      ],
      "metadata": {
        "id": "pdaCxEWt8Eq_"
      }
    },
    {
      "cell_type": "code",
      "source": [
        "# Catboost model\n",
        "\n",
        "!pip install catboost --quiet"
      ],
      "metadata": {
        "id": "u2muswp1Ccfx"
      },
      "execution_count": 173,
      "outputs": []
    },
    {
      "cell_type": "code",
      "execution_count": 174,
      "metadata": {
        "id": "OgaJCnIj8ApR"
      },
      "outputs": [],
      "source": [
        "import pandas as pd                                           # Data collection and manipulation\n",
        "import numpy as np                                            # Work with arrays\n",
        "import random                                                 # For randomized operations\n",
        "\n",
        "import matplotlib.pyplot as plt                               # Data visualization\n",
        "import seaborn as sns                                         # Data visualization\n",
        "%matplotlib inline\n",
        "\n",
        "from scipy.stats import normaltest                            # Normality test\n",
        "from scipy.stats import mannwhitneyu                          # Mann-whitney test\n",
        "\n",
        "# Modeling\n",
        "\n",
        "from sklearn.model_selection import train_test_split          # Train-test split\n",
        "\n",
        "from sklearn.dummy import DummyClassifier                     # Dummy classifier\n",
        "from sklearn.linear_model import LogisticRegression           # Logistic regression\n",
        "from sklearn.tree import DecisionTreeClassifier               # Decision tree\n",
        "from sklearn.ensemble import RandomForestClassifier           # Random forest\n",
        "from sklearn.ensemble import GradientBoostingClassifier       # Gradient boosting\n",
        "from xgboost import XGBClassifier                             # XGBoost\n",
        "from catboost import CatBoostClassifier                       # Catboost\n",
        "\n",
        "# Model validation\n",
        "\n",
        "from sklearn import metrics                                   # Metrics for comparing different models\n",
        "from sklearn.metrics import confusion_matrix                  # Confusion matrix\n",
        "from sklearn.metrics import ConfusionMatrixDisplay            # Confusion matrix plot\n",
        "\n",
        "# Model deploy\n",
        "\n",
        "import pickle                                                 # Model serialization\n",
        "from ipywidgets import widgets, HBox, VBox                    # Interactive simulator\n",
        "from IPython.display import display                           # Simulator display"
      ]
    },
    {
      "cell_type": "markdown",
      "source": [
        "So, let's start with the data collection."
      ],
      "metadata": {
        "id": "EhbZbn6Y8b1-"
      }
    },
    {
      "cell_type": "markdown",
      "source": [
        "# Data collection\n",
        "\n",
        "In this project, we will use a dataset for credit card payments:"
      ],
      "metadata": {
        "id": "JrE2OjzK8eg0"
      }
    },
    {
      "cell_type": "code",
      "source": [
        "raw_df = pd.read_csv('Dataset_CreditCard_Fraud.csv', sep = ';')\n",
        "\n",
        "raw_df.columns = ['Distance_home', 'Distance_last_transaction', 'Transaction_value', 'Same_seller', 'Physical_card', 'Password', 'Online', 'Fraud']"
      ],
      "metadata": {
        "id": "wdjnij5r8ULa"
      },
      "execution_count": 175,
      "outputs": []
    },
    {
      "cell_type": "code",
      "source": [
        "raw_df.head( )"
      ],
      "metadata": {
        "colab": {
          "base_uri": "https://localhost:8080/",
          "height": 206
        },
        "id": "MVueLOLj9Idp",
        "outputId": "0e420dbc-c289-46a9-a966-58350d67f335"
      },
      "execution_count": 176,
      "outputs": [
        {
          "output_type": "execute_result",
          "data": {
            "text/plain": [
              "   Distance_home  Distance_last_transaction  Transaction_value  Same_seller  \\\n",
              "0      17.801691                   1.296368             466.36            1   \n",
              "1       5.005299                   1.889715             514.60            1   \n",
              "2      15.615760                   1.126043             837.69            1   \n",
              "3      78.065387                   0.535579             342.12            1   \n",
              "4      35.042909                   0.073558            1103.91            1   \n",
              "\n",
              "   Physical_card  Password  Online  Fraud  \n",
              "0              0         1       1      0  \n",
              "1              0         0       1      0  \n",
              "2              1         0       1      0  \n",
              "3              1         0       1      0  \n",
              "4              0         0       1      0  "
            ],
            "text/html": [
              "\n",
              "  <div id=\"df-5229cc26-bb25-4bed-addb-6881f0e98082\">\n",
              "    <div class=\"colab-df-container\">\n",
              "      <div>\n",
              "<style scoped>\n",
              "    .dataframe tbody tr th:only-of-type {\n",
              "        vertical-align: middle;\n",
              "    }\n",
              "\n",
              "    .dataframe tbody tr th {\n",
              "        vertical-align: top;\n",
              "    }\n",
              "\n",
              "    .dataframe thead th {\n",
              "        text-align: right;\n",
              "    }\n",
              "</style>\n",
              "<table border=\"1\" class=\"dataframe\">\n",
              "  <thead>\n",
              "    <tr style=\"text-align: right;\">\n",
              "      <th></th>\n",
              "      <th>Distance_home</th>\n",
              "      <th>Distance_last_transaction</th>\n",
              "      <th>Transaction_value</th>\n",
              "      <th>Same_seller</th>\n",
              "      <th>Physical_card</th>\n",
              "      <th>Password</th>\n",
              "      <th>Online</th>\n",
              "      <th>Fraud</th>\n",
              "    </tr>\n",
              "  </thead>\n",
              "  <tbody>\n",
              "    <tr>\n",
              "      <th>0</th>\n",
              "      <td>17.801691</td>\n",
              "      <td>1.296368</td>\n",
              "      <td>466.36</td>\n",
              "      <td>1</td>\n",
              "      <td>0</td>\n",
              "      <td>1</td>\n",
              "      <td>1</td>\n",
              "      <td>0</td>\n",
              "    </tr>\n",
              "    <tr>\n",
              "      <th>1</th>\n",
              "      <td>5.005299</td>\n",
              "      <td>1.889715</td>\n",
              "      <td>514.60</td>\n",
              "      <td>1</td>\n",
              "      <td>0</td>\n",
              "      <td>0</td>\n",
              "      <td>1</td>\n",
              "      <td>0</td>\n",
              "    </tr>\n",
              "    <tr>\n",
              "      <th>2</th>\n",
              "      <td>15.615760</td>\n",
              "      <td>1.126043</td>\n",
              "      <td>837.69</td>\n",
              "      <td>1</td>\n",
              "      <td>1</td>\n",
              "      <td>0</td>\n",
              "      <td>1</td>\n",
              "      <td>0</td>\n",
              "    </tr>\n",
              "    <tr>\n",
              "      <th>3</th>\n",
              "      <td>78.065387</td>\n",
              "      <td>0.535579</td>\n",
              "      <td>342.12</td>\n",
              "      <td>1</td>\n",
              "      <td>1</td>\n",
              "      <td>0</td>\n",
              "      <td>1</td>\n",
              "      <td>0</td>\n",
              "    </tr>\n",
              "    <tr>\n",
              "      <th>4</th>\n",
              "      <td>35.042909</td>\n",
              "      <td>0.073558</td>\n",
              "      <td>1103.91</td>\n",
              "      <td>1</td>\n",
              "      <td>0</td>\n",
              "      <td>0</td>\n",
              "      <td>1</td>\n",
              "      <td>0</td>\n",
              "    </tr>\n",
              "  </tbody>\n",
              "</table>\n",
              "</div>\n",
              "      <button class=\"colab-df-convert\" onclick=\"convertToInteractive('df-5229cc26-bb25-4bed-addb-6881f0e98082')\"\n",
              "              title=\"Convert this dataframe to an interactive table.\"\n",
              "              style=\"display:none;\">\n",
              "        \n",
              "  <svg xmlns=\"http://www.w3.org/2000/svg\" height=\"24px\"viewBox=\"0 0 24 24\"\n",
              "       width=\"24px\">\n",
              "    <path d=\"M0 0h24v24H0V0z\" fill=\"none\"/>\n",
              "    <path d=\"M18.56 5.44l.94 2.06.94-2.06 2.06-.94-2.06-.94-.94-2.06-.94 2.06-2.06.94zm-11 1L8.5 8.5l.94-2.06 2.06-.94-2.06-.94L8.5 2.5l-.94 2.06-2.06.94zm10 10l.94 2.06.94-2.06 2.06-.94-2.06-.94-.94-2.06-.94 2.06-2.06.94z\"/><path d=\"M17.41 7.96l-1.37-1.37c-.4-.4-.92-.59-1.43-.59-.52 0-1.04.2-1.43.59L10.3 9.45l-7.72 7.72c-.78.78-.78 2.05 0 2.83L4 21.41c.39.39.9.59 1.41.59.51 0 1.02-.2 1.41-.59l7.78-7.78 2.81-2.81c.8-.78.8-2.07 0-2.86zM5.41 20L4 18.59l7.72-7.72 1.47 1.35L5.41 20z\"/>\n",
              "  </svg>\n",
              "      </button>\n",
              "      \n",
              "  <style>\n",
              "    .colab-df-container {\n",
              "      display:flex;\n",
              "      flex-wrap:wrap;\n",
              "      gap: 12px;\n",
              "    }\n",
              "\n",
              "    .colab-df-convert {\n",
              "      background-color: #E8F0FE;\n",
              "      border: none;\n",
              "      border-radius: 50%;\n",
              "      cursor: pointer;\n",
              "      display: none;\n",
              "      fill: #1967D2;\n",
              "      height: 32px;\n",
              "      padding: 0 0 0 0;\n",
              "      width: 32px;\n",
              "    }\n",
              "\n",
              "    .colab-df-convert:hover {\n",
              "      background-color: #E2EBFA;\n",
              "      box-shadow: 0px 1px 2px rgba(60, 64, 67, 0.3), 0px 1px 3px 1px rgba(60, 64, 67, 0.15);\n",
              "      fill: #174EA6;\n",
              "    }\n",
              "\n",
              "    [theme=dark] .colab-df-convert {\n",
              "      background-color: #3B4455;\n",
              "      fill: #D2E3FC;\n",
              "    }\n",
              "\n",
              "    [theme=dark] .colab-df-convert:hover {\n",
              "      background-color: #434B5C;\n",
              "      box-shadow: 0px 1px 3px 1px rgba(0, 0, 0, 0.15);\n",
              "      filter: drop-shadow(0px 1px 2px rgba(0, 0, 0, 0.3));\n",
              "      fill: #FFFFFF;\n",
              "    }\n",
              "  </style>\n",
              "\n",
              "      <script>\n",
              "        const buttonEl =\n",
              "          document.querySelector('#df-5229cc26-bb25-4bed-addb-6881f0e98082 button.colab-df-convert');\n",
              "        buttonEl.style.display =\n",
              "          google.colab.kernel.accessAllowed ? 'block' : 'none';\n",
              "\n",
              "        async function convertToInteractive(key) {\n",
              "          const element = document.querySelector('#df-5229cc26-bb25-4bed-addb-6881f0e98082');\n",
              "          const dataTable =\n",
              "            await google.colab.kernel.invokeFunction('convertToInteractive',\n",
              "                                                     [key], {});\n",
              "          if (!dataTable) return;\n",
              "\n",
              "          const docLinkHtml = 'Like what you see? Visit the ' +\n",
              "            '<a target=\"_blank\" href=https://colab.research.google.com/notebooks/data_table.ipynb>data table notebook</a>'\n",
              "            + ' to learn more about interactive tables.';\n",
              "          element.innerHTML = '';\n",
              "          dataTable['output_type'] = 'display_data';\n",
              "          await google.colab.output.renderOutput(dataTable, element);\n",
              "          const docLink = document.createElement('div');\n",
              "          docLink.innerHTML = docLinkHtml;\n",
              "          element.appendChild(docLink);\n",
              "        }\n",
              "      </script>\n",
              "    </div>\n",
              "  </div>\n",
              "  "
            ]
          },
          "metadata": {},
          "execution_count": 176
        }
      ]
    },
    {
      "cell_type": "markdown",
      "source": [
        "In this dataset, we have information about a given transaction, mainly:\n",
        "\n",
        "*   Distance_home: The distance from the buyer's home.\n",
        "*   Distance_last_transaction: The distance from the last transaction.\n",
        "*   Transaction_value: The transaction value.\n",
        "\n",
        "Also, we have some boolean features, which state:\n",
        "\n",
        "*   Same_seller: If the transaction is being performed with the same seller.\n",
        "*   Physical_card: If the physical card is being used.\n",
        "*   Password: If the user is inserting the password.\n",
        "*   Online: If the user is buying something online.\n",
        "\n",
        "And, of course, the target feature:\n",
        "\n",
        "*   Fraud: If the transaction is fraudulent.\n",
        "\n"
      ],
      "metadata": {
        "id": "Y6upD6ZK9SjG"
      }
    },
    {
      "cell_type": "markdown",
      "source": [
        "Note that we have 50,000 entries in our dataset:"
      ],
      "metadata": {
        "id": "LG6GQn0VAh4l"
      }
    },
    {
      "cell_type": "code",
      "source": [
        "raw_df.shape"
      ],
      "metadata": {
        "colab": {
          "base_uri": "https://localhost:8080/"
        },
        "id": "3SmVvL7G9JSn",
        "outputId": "79ae0c11-c67d-4321-a6bb-e23e7c69d627"
      },
      "execution_count": 177,
      "outputs": [
        {
          "output_type": "execute_result",
          "data": {
            "text/plain": [
              "(50000, 8)"
            ]
          },
          "metadata": {},
          "execution_count": 177
        }
      ]
    },
    {
      "cell_type": "markdown",
      "source": [
        "Now, let's start cleaning our data:"
      ],
      "metadata": {
        "id": "x3Qq8t-sAxz-"
      }
    },
    {
      "cell_type": "markdown",
      "source": [
        "# Data cleaning\n",
        "\n",
        "So, let's clean our dataset. First, let's see if we have any null value:"
      ],
      "metadata": {
        "id": "mLa4RPVVA0dm"
      }
    },
    {
      "cell_type": "code",
      "source": [
        "raw_df.isnull( ).sum( )"
      ],
      "metadata": {
        "colab": {
          "base_uri": "https://localhost:8080/"
        },
        "id": "YKTYbgsKAs1R",
        "outputId": "057e89af-e6d1-4eaf-8b2d-5c35f484e4d8"
      },
      "execution_count": 178,
      "outputs": [
        {
          "output_type": "execute_result",
          "data": {
            "text/plain": [
              "Distance_home                0\n",
              "Distance_last_transaction    0\n",
              "Transaction_value            0\n",
              "Same_seller                  0\n",
              "Physical_card                0\n",
              "Password                     0\n",
              "Online                       0\n",
              "Fraud                        0\n",
              "dtype: int64"
            ]
          },
          "metadata": {},
          "execution_count": 178
        }
      ]
    },
    {
      "cell_type": "markdown",
      "source": [
        "Nice! We have no null value in our dataframe. Now, let's see if we have any duplicated entry:"
      ],
      "metadata": {
        "id": "ztMQNYtJBAGH"
      }
    },
    {
      "cell_type": "code",
      "source": [
        "raw_df.duplicated( ).sum( )"
      ],
      "metadata": {
        "colab": {
          "base_uri": "https://localhost:8080/"
        },
        "id": "DBA9kD-xA-UY",
        "outputId": "b6cd899c-460c-46d2-b5a5-cfda781fe06f"
      },
      "execution_count": 179,
      "outputs": [
        {
          "output_type": "execute_result",
          "data": {
            "text/plain": [
              "0"
            ]
          },
          "metadata": {},
          "execution_count": 179
        }
      ]
    },
    {
      "cell_type": "markdown",
      "source": [
        "Nice! Also, no duplicated entry. \n",
        "\n",
        "Now, let's see if we have any strange entry. First, all of our boolean features should only have two possible values: 0 and 1. Let's see if that is the case for all boolean features:"
      ],
      "metadata": {
        "id": "K12P4qHrBN8Y"
      }
    },
    {
      "cell_type": "code",
      "source": [
        "bool_cols = ['Same_seller', 'Physical_card', 'Password', 'Online', 'Fraud']\n",
        "\n",
        "for bc in bool_cols:\n",
        "  print('-'*30)\n",
        "  print(bc)\n",
        "  print('-'*30)\n",
        "  for i in range(len(raw_df[bc].unique( ))):\n",
        "    print('Unique value number ' + str(i + 1) + ' - ' + str(raw_df[bc].unique( )[i]))"
      ],
      "metadata": {
        "colab": {
          "base_uri": "https://localhost:8080/"
        },
        "id": "wrnX2vZYBHQ9",
        "outputId": "0b4dbfa9-9a39-4bd9-92c0-dae696eee649"
      },
      "execution_count": 180,
      "outputs": [
        {
          "output_type": "stream",
          "name": "stdout",
          "text": [
            "------------------------------\n",
            "Same_seller\n",
            "------------------------------\n",
            "Unique value number 1 - 1\n",
            "Unique value number 2 - 0\n",
            "------------------------------\n",
            "Physical_card\n",
            "------------------------------\n",
            "Unique value number 1 - 0\n",
            "Unique value number 2 - 1\n",
            "------------------------------\n",
            "Password\n",
            "------------------------------\n",
            "Unique value number 1 - 1\n",
            "Unique value number 2 - 0\n",
            "------------------------------\n",
            "Online\n",
            "------------------------------\n",
            "Unique value number 1 - 1\n",
            "Unique value number 2 - 0\n",
            "------------------------------\n",
            "Fraud\n",
            "------------------------------\n",
            "Unique value number 1 - 0\n",
            "Unique value number 2 - 1\n"
          ]
        }
      ]
    },
    {
      "cell_type": "markdown",
      "source": [
        "Nice! All features have only two possible values (0 and 1), as expected. Now, let's see if we have any strange values in our continuous features:"
      ],
      "metadata": {
        "id": "WHIZolQkCGW3"
      }
    },
    {
      "cell_type": "code",
      "source": [
        "cont_cols = ['Distance_home', 'Distance_last_transaction', 'Transaction_value']\n",
        "\n",
        "raw_df[cont_cols].describe( )"
      ],
      "metadata": {
        "colab": {
          "base_uri": "https://localhost:8080/",
          "height": 300
        },
        "id": "5AkXbFZsBg_J",
        "outputId": "c0a23b23-1180-401c-f472-a514da02fbff"
      },
      "execution_count": 181,
      "outputs": [
        {
          "output_type": "execute_result",
          "data": {
            "text/plain": [
              "       Distance_home  Distance_last_transaction  Transaction_value\n",
              "count   50000.000000               50000.000000       50000.000000\n",
              "mean       26.732037                   5.037710        1838.540043\n",
              "std        69.287903                  21.657879        2836.469831\n",
              "min         0.038379                   0.000338           8.950000\n",
              "25%         3.897788                   0.296896         477.595000\n",
              "50%        10.061194                   0.999128        1002.075000\n",
              "75%        25.845679                   3.326717        2097.670000\n",
              "max      5797.972589                1400.098234      126294.930000"
            ],
            "text/html": [
              "\n",
              "  <div id=\"df-0d5d8d2a-ebbc-405c-8b07-22978762366a\">\n",
              "    <div class=\"colab-df-container\">\n",
              "      <div>\n",
              "<style scoped>\n",
              "    .dataframe tbody tr th:only-of-type {\n",
              "        vertical-align: middle;\n",
              "    }\n",
              "\n",
              "    .dataframe tbody tr th {\n",
              "        vertical-align: top;\n",
              "    }\n",
              "\n",
              "    .dataframe thead th {\n",
              "        text-align: right;\n",
              "    }\n",
              "</style>\n",
              "<table border=\"1\" class=\"dataframe\">\n",
              "  <thead>\n",
              "    <tr style=\"text-align: right;\">\n",
              "      <th></th>\n",
              "      <th>Distance_home</th>\n",
              "      <th>Distance_last_transaction</th>\n",
              "      <th>Transaction_value</th>\n",
              "    </tr>\n",
              "  </thead>\n",
              "  <tbody>\n",
              "    <tr>\n",
              "      <th>count</th>\n",
              "      <td>50000.000000</td>\n",
              "      <td>50000.000000</td>\n",
              "      <td>50000.000000</td>\n",
              "    </tr>\n",
              "    <tr>\n",
              "      <th>mean</th>\n",
              "      <td>26.732037</td>\n",
              "      <td>5.037710</td>\n",
              "      <td>1838.540043</td>\n",
              "    </tr>\n",
              "    <tr>\n",
              "      <th>std</th>\n",
              "      <td>69.287903</td>\n",
              "      <td>21.657879</td>\n",
              "      <td>2836.469831</td>\n",
              "    </tr>\n",
              "    <tr>\n",
              "      <th>min</th>\n",
              "      <td>0.038379</td>\n",
              "      <td>0.000338</td>\n",
              "      <td>8.950000</td>\n",
              "    </tr>\n",
              "    <tr>\n",
              "      <th>25%</th>\n",
              "      <td>3.897788</td>\n",
              "      <td>0.296896</td>\n",
              "      <td>477.595000</td>\n",
              "    </tr>\n",
              "    <tr>\n",
              "      <th>50%</th>\n",
              "      <td>10.061194</td>\n",
              "      <td>0.999128</td>\n",
              "      <td>1002.075000</td>\n",
              "    </tr>\n",
              "    <tr>\n",
              "      <th>75%</th>\n",
              "      <td>25.845679</td>\n",
              "      <td>3.326717</td>\n",
              "      <td>2097.670000</td>\n",
              "    </tr>\n",
              "    <tr>\n",
              "      <th>max</th>\n",
              "      <td>5797.972589</td>\n",
              "      <td>1400.098234</td>\n",
              "      <td>126294.930000</td>\n",
              "    </tr>\n",
              "  </tbody>\n",
              "</table>\n",
              "</div>\n",
              "      <button class=\"colab-df-convert\" onclick=\"convertToInteractive('df-0d5d8d2a-ebbc-405c-8b07-22978762366a')\"\n",
              "              title=\"Convert this dataframe to an interactive table.\"\n",
              "              style=\"display:none;\">\n",
              "        \n",
              "  <svg xmlns=\"http://www.w3.org/2000/svg\" height=\"24px\"viewBox=\"0 0 24 24\"\n",
              "       width=\"24px\">\n",
              "    <path d=\"M0 0h24v24H0V0z\" fill=\"none\"/>\n",
              "    <path d=\"M18.56 5.44l.94 2.06.94-2.06 2.06-.94-2.06-.94-.94-2.06-.94 2.06-2.06.94zm-11 1L8.5 8.5l.94-2.06 2.06-.94-2.06-.94L8.5 2.5l-.94 2.06-2.06.94zm10 10l.94 2.06.94-2.06 2.06-.94-2.06-.94-.94-2.06-.94 2.06-2.06.94z\"/><path d=\"M17.41 7.96l-1.37-1.37c-.4-.4-.92-.59-1.43-.59-.52 0-1.04.2-1.43.59L10.3 9.45l-7.72 7.72c-.78.78-.78 2.05 0 2.83L4 21.41c.39.39.9.59 1.41.59.51 0 1.02-.2 1.41-.59l7.78-7.78 2.81-2.81c.8-.78.8-2.07 0-2.86zM5.41 20L4 18.59l7.72-7.72 1.47 1.35L5.41 20z\"/>\n",
              "  </svg>\n",
              "      </button>\n",
              "      \n",
              "  <style>\n",
              "    .colab-df-container {\n",
              "      display:flex;\n",
              "      flex-wrap:wrap;\n",
              "      gap: 12px;\n",
              "    }\n",
              "\n",
              "    .colab-df-convert {\n",
              "      background-color: #E8F0FE;\n",
              "      border: none;\n",
              "      border-radius: 50%;\n",
              "      cursor: pointer;\n",
              "      display: none;\n",
              "      fill: #1967D2;\n",
              "      height: 32px;\n",
              "      padding: 0 0 0 0;\n",
              "      width: 32px;\n",
              "    }\n",
              "\n",
              "    .colab-df-convert:hover {\n",
              "      background-color: #E2EBFA;\n",
              "      box-shadow: 0px 1px 2px rgba(60, 64, 67, 0.3), 0px 1px 3px 1px rgba(60, 64, 67, 0.15);\n",
              "      fill: #174EA6;\n",
              "    }\n",
              "\n",
              "    [theme=dark] .colab-df-convert {\n",
              "      background-color: #3B4455;\n",
              "      fill: #D2E3FC;\n",
              "    }\n",
              "\n",
              "    [theme=dark] .colab-df-convert:hover {\n",
              "      background-color: #434B5C;\n",
              "      box-shadow: 0px 1px 3px 1px rgba(0, 0, 0, 0.15);\n",
              "      filter: drop-shadow(0px 1px 2px rgba(0, 0, 0, 0.3));\n",
              "      fill: #FFFFFF;\n",
              "    }\n",
              "  </style>\n",
              "\n",
              "      <script>\n",
              "        const buttonEl =\n",
              "          document.querySelector('#df-0d5d8d2a-ebbc-405c-8b07-22978762366a button.colab-df-convert');\n",
              "        buttonEl.style.display =\n",
              "          google.colab.kernel.accessAllowed ? 'block' : 'none';\n",
              "\n",
              "        async function convertToInteractive(key) {\n",
              "          const element = document.querySelector('#df-0d5d8d2a-ebbc-405c-8b07-22978762366a');\n",
              "          const dataTable =\n",
              "            await google.colab.kernel.invokeFunction('convertToInteractive',\n",
              "                                                     [key], {});\n",
              "          if (!dataTable) return;\n",
              "\n",
              "          const docLinkHtml = 'Like what you see? Visit the ' +\n",
              "            '<a target=\"_blank\" href=https://colab.research.google.com/notebooks/data_table.ipynb>data table notebook</a>'\n",
              "            + ' to learn more about interactive tables.';\n",
              "          element.innerHTML = '';\n",
              "          dataTable['output_type'] = 'display_data';\n",
              "          await google.colab.output.renderOutput(dataTable, element);\n",
              "          const docLink = document.createElement('div');\n",
              "          docLink.innerHTML = docLinkHtml;\n",
              "          element.appendChild(docLink);\n",
              "        }\n",
              "      </script>\n",
              "    </div>\n",
              "  </div>\n",
              "  "
            ]
          },
          "metadata": {},
          "execution_count": 181
        }
      ]
    },
    {
      "cell_type": "markdown",
      "source": [
        "The mean distance from home is 26.73 km, and the max is 5797.97 km. These values seem to be correct, as one might expect to see these distances. A similar argument can be made regarding the other features. \n",
        "\n",
        "Now, let's continue our study by exploring and analyzing our data through some visualization methods."
      ],
      "metadata": {
        "id": "5SIk96EdCjMO"
      }
    },
    {
      "cell_type": "markdown",
      "source": [
        "# Data exploration and analysis\n",
        "\n",
        "The first thing we are going to do is build a function to draw a countplot with information about the percentage from the total. We can do that using:"
      ],
      "metadata": {
        "id": "7cTSptLsDK5m"
      }
    },
    {
      "cell_type": "code",
      "source": [
        "def plot_perc(feature, dataset):\n",
        "  plt.figure(figsize = (16, 6))\n",
        "  g = sns.countplot(x = feature, data = dataset, orient = 'h')\n",
        "\n",
        "  g.set_ylabel('Count', fontsize = 18)\n",
        "\n",
        "  sizes = []\n",
        "  for p in g.patches:\n",
        "    height = p.get_height( )\n",
        "    sizes.append(height)\n",
        "    g.text(p.get_x( ) + p.get_width( )*0.2, \n",
        "           height, \n",
        "           '{:1.2f}%'.format(height/len(dataset)*100),\n",
        "           ha = 'center', va = 'bottom', fontsize = 12)\n",
        "    \n",
        "  g.set_ylim(0, max(sizes)*1.1)"
      ],
      "metadata": {
        "id": "XooZsQeLCe7k"
      },
      "execution_count": 182,
      "outputs": []
    },
    {
      "cell_type": "markdown",
      "source": [
        "Nice! Now, let's compare the number of fraudulent and non-fraudulent data:"
      ],
      "metadata": {
        "id": "YNu6BK_vDktn"
      }
    },
    {
      "cell_type": "code",
      "source": [
        "plot_perc('Fraud', raw_df)"
      ],
      "metadata": {
        "colab": {
          "base_uri": "https://localhost:8080/",
          "height": 392
        },
        "id": "lI56gjLCDkCa",
        "outputId": "9eb75091-5762-462a-bb2d-61e25e49dd2d"
      },
      "execution_count": 183,
      "outputs": [
        {
          "output_type": "display_data",
          "data": {
            "text/plain": [
              "<Figure size 1152x432 with 1 Axes>"
            ],
            "image/png": "[encoded data removed]"
          },
          "metadata": {
            "needs_background": "light"
          }
        }
      ]
    },
    {
      "cell_type": "markdown",
      "source": [
        "So, our fraudulent data corresponds to almost 9% of our dataset. Even though this isn't a very low number, our dataset is still very unbalanced. Now, let's try to understand how is the occurrence of fraud related to the other features. Let's create a new user-defined function:"
      ],
      "metadata": {
        "id": "eX-82r2DD1PG"
      }
    },
    {
      "cell_type": "code",
      "source": [
        "def plot_perc_compare(feature, feature_hue, dataset):\n",
        "  plt.figure(figsize = (16, 6))\n",
        "  g = sns.countplot(x = feature, hue = feature_hue, data = dataset, orient = 'h')\n",
        "\n",
        "  g.set_ylabel('Count', fontsize = 18)\n",
        "\n",
        "  sizes = []\n",
        "  for p in g.patches:\n",
        "    height = p.get_height( )\n",
        "    sizes.append(height)\n",
        "    g.text(p.get_x( ) + p.get_width( )*0.2, \n",
        "           height, \n",
        "           '{:1.2f}%'.format(height/len(dataset)*100),\n",
        "           ha = 'center', va = 'bottom', fontsize = 12)\n",
        "    \n",
        "  g.set_ylim(0, max(sizes)*1.1)"
      ],
      "metadata": {
        "id": "kuvLAYx6D0A7"
      },
      "execution_count": 184,
      "outputs": []
    },
    {
      "cell_type": "markdown",
      "source": [
        "Now, let's see how many of these frauds come from online transactions:"
      ],
      "metadata": {
        "id": "Oiuwln8jEMHA"
      }
    },
    {
      "cell_type": "code",
      "source": [
        "plot_perc_compare('Fraud', 'Online', raw_df)"
      ],
      "metadata": {
        "colab": {
          "base_uri": "https://localhost:8080/",
          "height": 388
        },
        "id": "CFKd1MKiEP1T",
        "outputId": "2f3e193b-f473-4644-fd4c-07fab4b6da09"
      },
      "execution_count": 185,
      "outputs": [
        {
          "output_type": "display_data",
          "data": {
            "text/plain": [
              "<Figure size 1152x432 with 1 Axes>"
            ],
            "image/png": "[encoded data removed]"
          },
          "metadata": {
            "needs_background": "light"
          }
        }
      ]
    },
    {
      "cell_type": "markdown",
      "source": [
        "So, in the non-fraudulent data, the number of online transactions is higher. However, they are fairly close: 34.63% of the transactions are not online, while 56.43% of the transactions are online.\n",
        "\n",
        "However, when we look at the fraudulent data, we see that almost ALL of the frauds occur in online transactions. \n",
        "\n",
        "Nice. We already know that we have to be careful when dealing with online transactions. Now, let's see a similar graph, but know related to the input of a password:"
      ],
      "metadata": {
        "id": "-tSIuqheEZ9Z"
      }
    },
    {
      "cell_type": "code",
      "source": [
        "plot_perc_compare('Fraud', 'Password', raw_df)"
      ],
      "metadata": {
        "colab": {
          "base_uri": "https://localhost:8080/",
          "height": 388
        },
        "id": "6mg18SK-ERDU",
        "outputId": "86a53a18-a33d-4593-bf92-8b9a0ce3122e"
      },
      "execution_count": 186,
      "outputs": [
        {
          "output_type": "display_data",
          "data": {
            "text/plain": [
              "<Figure size 1152x432 with 1 Axes>"
            ],
            "image/png": "[encoded data removed]"
          },
          "metadata": {
            "needs_background": "light"
          }
        }
      ]
    },
    {
      "cell_type": "markdown",
      "source": [
        "Here, notice that almost all transactions are performed with using the password. That being said, again, almost ALL fraudulent transactions did not require the password input. Again, that is a very important insight for our company.\n",
        "\n",
        "Now, let's see how making the transaction using a physical card affects frauds:"
      ],
      "metadata": {
        "id": "4GxEVGdoFHK5"
      }
    },
    {
      "cell_type": "code",
      "source": [
        "plot_perc_compare('Fraud', 'Physical_card', raw_df)"
      ],
      "metadata": {
        "colab": {
          "base_uri": "https://localhost:8080/",
          "height": 388
        },
        "id": "7hS4VCUAFEbu",
        "outputId": "a3785f26-138b-44a1-f14c-b185dfdc797d"
      },
      "execution_count": 187,
      "outputs": [
        {
          "output_type": "display_data",
          "data": {
            "text/plain": [
              "<Figure size 1152x432 with 1 Axes>"
            ],
            "image/png": "[encoded data removed]"
          },
          "metadata": {
            "needs_background": "light"
          }
        }
      ]
    },
    {
      "cell_type": "markdown",
      "source": [
        "So, more frauds occur with no physical card. However, a similar ratio is seem in the non-fraudulent data. So, it is hard to say that this feature is very important to us now. \n",
        "\n",
        "Finally, let's analyze the final boolean feature, and understand how buying from the same seller affects fraud occurrence:"
      ],
      "metadata": {
        "id": "NGO7dIQiN8GB"
      }
    },
    {
      "cell_type": "code",
      "source": [
        "plot_perc_compare('Fraud', 'Same_seller', raw_df)"
      ],
      "metadata": {
        "colab": {
          "base_uri": "https://localhost:8080/",
          "height": 388
        },
        "id": "IvlKLRwKN5dl",
        "outputId": "152d4361-ef79-4265-8203-8efcefdc3515"
      },
      "execution_count": 188,
      "outputs": [
        {
          "output_type": "display_data",
          "data": {
            "text/plain": [
              "<Figure size 1152x432 with 1 Axes>"
            ],
            "image/png": "[encoded data removed]"
          },
          "metadata": {
            "needs_background": "light"
          }
        }
      ]
    },
    {
      "cell_type": "markdown",
      "source": [
        "Again, similar to the previous feature, the distribution for fraudulent and non-fraudulent data is very similar. "
      ],
      "metadata": {
        "id": "5_sc69E0PPaS"
      }
    },
    {
      "cell_type": "markdown",
      "source": [
        "Now, let's look at the continuous features. First, let's draw a boxplot for the transaction value:"
      ],
      "metadata": {
        "id": "ID3nFEO7PYK7"
      }
    },
    {
      "cell_type": "code",
      "source": [
        "sns.boxplot(x = 'Fraud', y = 'Transaction_value', data = raw_df)"
      ],
      "metadata": {
        "colab": {
          "base_uri": "https://localhost:8080/",
          "height": 297
        },
        "id": "tbyPWJG6PNrO",
        "outputId": "b97b49a6-c945-4560-ebfc-cd6d9b97d15b"
      },
      "execution_count": 189,
      "outputs": [
        {
          "output_type": "execute_result",
          "data": {
            "text/plain": [
              "<matplotlib.axes._subplots.AxesSubplot at 0x7fa4e547b910>"
            ]
          },
          "metadata": {},
          "execution_count": 189
        },
        {
          "output_type": "display_data",
          "data": {
            "text/plain": [
              "<Figure size 432x288 with 1 Axes>"
            ],
            "image/png": "[encoded data removed]"
          },
          "metadata": {
            "needs_background": "light"
          }
        }
      ]
    },
    {
      "cell_type": "markdown",
      "source": [
        "Since data is very right-skewed, it is actually hard to see the comparison. However, we can not that fraudulent transactions often have a higher amount. In fact, all transactions with amount higher than 80000 were fraudulent! That is an important conclusion for us. \n",
        "\n",
        "Now, let's see a different feature: the distance to the buyer's home:"
      ],
      "metadata": {
        "id": "Q77FZ6gZPnbb"
      }
    },
    {
      "cell_type": "code",
      "source": [
        "sns.boxplot(x = 'Fraud', y = 'Distance_home', data = raw_df)"
      ],
      "metadata": {
        "colab": {
          "base_uri": "https://localhost:8080/",
          "height": 298
        },
        "id": "nO4fzFfJPlH9",
        "outputId": "10517342-b307-4b5d-9a0a-51750f04fbeb"
      },
      "execution_count": 190,
      "outputs": [
        {
          "output_type": "execute_result",
          "data": {
            "text/plain": [
              "<matplotlib.axes._subplots.AxesSubplot at 0x7fa4e5400b50>"
            ]
          },
          "metadata": {},
          "execution_count": 190
        },
        {
          "output_type": "display_data",
          "data": {
            "text/plain": [
              "<Figure size 432x288 with 1 Axes>"
            ],
            "image/png": "[encoded data removed]"
          },
          "metadata": {
            "needs_background": "light"
          }
        }
      ]
    },
    {
      "cell_type": "markdown",
      "source": [
        "This one is a little harder to understand. Let's use a describe to see the values:"
      ],
      "metadata": {
        "id": "7-05sKmTQNUy"
      }
    },
    {
      "cell_type": "code",
      "source": [
        "group_fraud = raw_df.groupby('Fraud')\n",
        "\n",
        "group_fraud['Distance_home'].describe( )"
      ],
      "metadata": {
        "colab": {
          "base_uri": "https://localhost:8080/",
          "height": 143
        },
        "id": "QMqKWJhCQImq",
        "outputId": "6276a432-def7-4b14-e6e5-b8b3a9f840be"
      },
      "execution_count": 191,
      "outputs": [
        {
          "output_type": "execute_result",
          "data": {
            "text/plain": [
              "         count       mean         std       min       25%        50%  \\\n",
              "Fraud                                                                  \n",
              "0      45529.0  22.972069   60.516632  0.038379  3.866950   9.780600   \n",
              "1       4471.0  65.020471  121.605785  0.067886  4.520484  15.068831   \n",
              "\n",
              "              75%          max  \n",
              "Fraud                           \n",
              "0       24.280399  5797.972589  \n",
              "1      101.380199  2033.498174  "
            ],
            "text/html": [
              "\n",
              "  <div id=\"df-dc01235e-9997-492b-b59b-350d50444f05\">\n",
              "    <div class=\"colab-df-container\">\n",
              "      <div>\n",
              "<style scoped>\n",
              "    .dataframe tbody tr th:only-of-type {\n",
              "        vertical-align: middle;\n",
              "    }\n",
              "\n",
              "    .dataframe tbody tr th {\n",
              "        vertical-align: top;\n",
              "    }\n",
              "\n",
              "    .dataframe thead th {\n",
              "        text-align: right;\n",
              "    }\n",
              "</style>\n",
              "<table border=\"1\" class=\"dataframe\">\n",
              "  <thead>\n",
              "    <tr style=\"text-align: right;\">\n",
              "      <th></th>\n",
              "      <th>count</th>\n",
              "      <th>mean</th>\n",
              "      <th>std</th>\n",
              "      <th>min</th>\n",
              "      <th>25%</th>\n",
              "      <th>50%</th>\n",
              "      <th>75%</th>\n",
              "      <th>max</th>\n",
              "    </tr>\n",
              "    <tr>\n",
              "      <th>Fraud</th>\n",
              "      <th></th>\n",
              "      <th></th>\n",
              "      <th></th>\n",
              "      <th></th>\n",
              "      <th></th>\n",
              "      <th></th>\n",
              "      <th></th>\n",
              "      <th></th>\n",
              "    </tr>\n",
              "  </thead>\n",
              "  <tbody>\n",
              "    <tr>\n",
              "      <th>0</th>\n",
              "      <td>45529.0</td>\n",
              "      <td>22.972069</td>\n",
              "      <td>60.516632</td>\n",
              "      <td>0.038379</td>\n",
              "      <td>3.866950</td>\n",
              "      <td>9.780600</td>\n",
              "      <td>24.280399</td>\n",
              "      <td>5797.972589</td>\n",
              "    </tr>\n",
              "    <tr>\n",
              "      <th>1</th>\n",
              "      <td>4471.0</td>\n",
              "      <td>65.020471</td>\n",
              "      <td>121.605785</td>\n",
              "      <td>0.067886</td>\n",
              "      <td>4.520484</td>\n",
              "      <td>15.068831</td>\n",
              "      <td>101.380199</td>\n",
              "      <td>2033.498174</td>\n",
              "    </tr>\n",
              "  </tbody>\n",
              "</table>\n",
              "</div>\n",
              "      <button class=\"colab-df-convert\" onclick=\"convertToInteractive('df-dc01235e-9997-492b-b59b-350d50444f05')\"\n",
              "              title=\"Convert this dataframe to an interactive table.\"\n",
              "              style=\"display:none;\">\n",
              "        \n",
              "  <svg xmlns=\"http://www.w3.org/2000/svg\" height=\"24px\"viewBox=\"0 0 24 24\"\n",
              "       width=\"24px\">\n",
              "    <path d=\"M0 0h24v24H0V0z\" fill=\"none\"/>\n",
              "    <path d=\"M18.56 5.44l.94 2.06.94-2.06 2.06-.94-2.06-.94-.94-2.06-.94 2.06-2.06.94zm-11 1L8.5 8.5l.94-2.06 2.06-.94-2.06-.94L8.5 2.5l-.94 2.06-2.06.94zm10 10l.94 2.06.94-2.06 2.06-.94-2.06-.94-.94-2.06-.94 2.06-2.06.94z\"/><path d=\"M17.41 7.96l-1.37-1.37c-.4-.4-.92-.59-1.43-.59-.52 0-1.04.2-1.43.59L10.3 9.45l-7.72 7.72c-.78.78-.78 2.05 0 2.83L4 21.41c.39.39.9.59 1.41.59.51 0 1.02-.2 1.41-.59l7.78-7.78 2.81-2.81c.8-.78.8-2.07 0-2.86zM5.41 20L4 18.59l7.72-7.72 1.47 1.35L5.41 20z\"/>\n",
              "  </svg>\n",
              "      </button>\n",
              "      \n",
              "  <style>\n",
              "    .colab-df-container {\n",
              "      display:flex;\n",
              "      flex-wrap:wrap;\n",
              "      gap: 12px;\n",
              "    }\n",
              "\n",
              "    .colab-df-convert {\n",
              "      background-color: #E8F0FE;\n",
              "      border: none;\n",
              "      border-radius: 50%;\n",
              "      cursor: pointer;\n",
              "      display: none;\n",
              "      fill: #1967D2;\n",
              "      height: 32px;\n",
              "      padding: 0 0 0 0;\n",
              "      width: 32px;\n",
              "    }\n",
              "\n",
              "    .colab-df-convert:hover {\n",
              "      background-color: #E2EBFA;\n",
              "      box-shadow: 0px 1px 2px rgba(60, 64, 67, 0.3), 0px 1px 3px 1px rgba(60, 64, 67, 0.15);\n",
              "      fill: #174EA6;\n",
              "    }\n",
              "\n",
              "    [theme=dark] .colab-df-convert {\n",
              "      background-color: #3B4455;\n",
              "      fill: #D2E3FC;\n",
              "    }\n",
              "\n",
              "    [theme=dark] .colab-df-convert:hover {\n",
              "      background-color: #434B5C;\n",
              "      box-shadow: 0px 1px 3px 1px rgba(0, 0, 0, 0.15);\n",
              "      filter: drop-shadow(0px 1px 2px rgba(0, 0, 0, 0.3));\n",
              "      fill: #FFFFFF;\n",
              "    }\n",
              "  </style>\n",
              "\n",
              "      <script>\n",
              "        const buttonEl =\n",
              "          document.querySelector('#df-dc01235e-9997-492b-b59b-350d50444f05 button.colab-df-convert');\n",
              "        buttonEl.style.display =\n",
              "          google.colab.kernel.accessAllowed ? 'block' : 'none';\n",
              "\n",
              "        async function convertToInteractive(key) {\n",
              "          const element = document.querySelector('#df-dc01235e-9997-492b-b59b-350d50444f05');\n",
              "          const dataTable =\n",
              "            await google.colab.kernel.invokeFunction('convertToInteractive',\n",
              "                                                     [key], {});\n",
              "          if (!dataTable) return;\n",
              "\n",
              "          const docLinkHtml = 'Like what you see? Visit the ' +\n",
              "            '<a target=\"_blank\" href=https://colab.research.google.com/notebooks/data_table.ipynb>data table notebook</a>'\n",
              "            + ' to learn more about interactive tables.';\n",
              "          element.innerHTML = '';\n",
              "          dataTable['output_type'] = 'display_data';\n",
              "          await google.colab.output.renderOutput(dataTable, element);\n",
              "          const docLink = document.createElement('div');\n",
              "          docLink.innerHTML = docLinkHtml;\n",
              "          element.appendChild(docLink);\n",
              "        }\n",
              "      </script>\n",
              "    </div>\n",
              "  </div>\n",
              "  "
            ]
          },
          "metadata": {},
          "execution_count": 191
        }
      ]
    },
    {
      "cell_type": "markdown",
      "source": [
        "So, by looking at the mean, it seems that fraudulent transactions have a higher distance from home. However, note that we have some very far transactions that are not fraudulent! A very similar thing occurs when we analyze the distance from the previous transaction:"
      ],
      "metadata": {
        "id": "woniH147QhMM"
      }
    },
    {
      "cell_type": "code",
      "source": [
        "sns.boxplot(x = 'Fraud', y = 'Distance_last_transaction', data = raw_df)"
      ],
      "metadata": {
        "colab": {
          "base_uri": "https://localhost:8080/",
          "height": 297
        },
        "id": "0Dt81OHxQ7gc",
        "outputId": "aa13dc23-38ae-4b4d-aae1-3c30e20bfb73"
      },
      "execution_count": 192,
      "outputs": [
        {
          "output_type": "execute_result",
          "data": {
            "text/plain": [
              "<matplotlib.axes._subplots.AxesSubplot at 0x7fa4e530aa90>"
            ]
          },
          "metadata": {},
          "execution_count": 192
        },
        {
          "output_type": "display_data",
          "data": {
            "text/plain": [
              "<Figure size 432x288 with 1 Axes>"
            ],
            "image/png": "[encoded data removed]"
          },
          "metadata": {
            "needs_background": "light"
          }
        }
      ]
    },
    {
      "cell_type": "code",
      "source": [
        "group_fraud['Distance_last_transaction'].describe( )"
      ],
      "metadata": {
        "colab": {
          "base_uri": "https://localhost:8080/",
          "height": 143
        },
        "id": "ZF3Ec0qyQd_K",
        "outputId": "87396e23-a721-43bc-b932-fb9992871437"
      },
      "execution_count": 193,
      "outputs": [
        {
          "output_type": "execute_result",
          "data": {
            "text/plain": [
              "         count       mean        std       min       25%       50%       75%  \\\n",
              "Fraud                                                                          \n",
              "0      45529.0   4.288774  17.142865  0.000338  0.292787  0.981444  3.238316   \n",
              "1       4471.0  12.664263  46.793033  0.001733  0.347318  1.198794  4.391936   \n",
              "\n",
              "               max  \n",
              "Fraud               \n",
              "0      1400.098234  \n",
              "1      1070.617532  "
            ],
            "text/html": [
              "\n",
              "  <div id=\"df-27e0db7f-e437-4c63-a140-08f315f01ff1\">\n",
              "    <div class=\"colab-df-container\">\n",
              "      <div>\n",
              "<style scoped>\n",
              "    .dataframe tbody tr th:only-of-type {\n",
              "        vertical-align: middle;\n",
              "    }\n",
              "\n",
              "    .dataframe tbody tr th {\n",
              "        vertical-align: top;\n",
              "    }\n",
              "\n",
              "    .dataframe thead th {\n",
              "        text-align: right;\n",
              "    }\n",
              "</style>\n",
              "<table border=\"1\" class=\"dataframe\">\n",
              "  <thead>\n",
              "    <tr style=\"text-align: right;\">\n",
              "      <th></th>\n",
              "      <th>count</th>\n",
              "      <th>mean</th>\n",
              "      <th>std</th>\n",
              "      <th>min</th>\n",
              "      <th>25%</th>\n",
              "      <th>50%</th>\n",
              "      <th>75%</th>\n",
              "      <th>max</th>\n",
              "    </tr>\n",
              "    <tr>\n",
              "      <th>Fraud</th>\n",
              "      <th></th>\n",
              "      <th></th>\n",
              "      <th></th>\n",
              "      <th></th>\n",
              "      <th></th>\n",
              "      <th></th>\n",
              "      <th></th>\n",
              "      <th></th>\n",
              "    </tr>\n",
              "  </thead>\n",
              "  <tbody>\n",
              "    <tr>\n",
              "      <th>0</th>\n",
              "      <td>45529.0</td>\n",
              "      <td>4.288774</td>\n",
              "      <td>17.142865</td>\n",
              "      <td>0.000338</td>\n",
              "      <td>0.292787</td>\n",
              "      <td>0.981444</td>\n",
              "      <td>3.238316</td>\n",
              "      <td>1400.098234</td>\n",
              "    </tr>\n",
              "    <tr>\n",
              "      <th>1</th>\n",
              "      <td>4471.0</td>\n",
              "      <td>12.664263</td>\n",
              "      <td>46.793033</td>\n",
              "      <td>0.001733</td>\n",
              "      <td>0.347318</td>\n",
              "      <td>1.198794</td>\n",
              "      <td>4.391936</td>\n",
              "      <td>1070.617532</td>\n",
              "    </tr>\n",
              "  </tbody>\n",
              "</table>\n",
              "</div>\n",
              "      <button class=\"colab-df-convert\" onclick=\"convertToInteractive('df-27e0db7f-e437-4c63-a140-08f315f01ff1')\"\n",
              "              title=\"Convert this dataframe to an interactive table.\"\n",
              "              style=\"display:none;\">\n",
              "        \n",
              "  <svg xmlns=\"http://www.w3.org/2000/svg\" height=\"24px\"viewBox=\"0 0 24 24\"\n",
              "       width=\"24px\">\n",
              "    <path d=\"M0 0h24v24H0V0z\" fill=\"none\"/>\n",
              "    <path d=\"M18.56 5.44l.94 2.06.94-2.06 2.06-.94-2.06-.94-.94-2.06-.94 2.06-2.06.94zm-11 1L8.5 8.5l.94-2.06 2.06-.94-2.06-.94L8.5 2.5l-.94 2.06-2.06.94zm10 10l.94 2.06.94-2.06 2.06-.94-2.06-.94-.94-2.06-.94 2.06-2.06.94z\"/><path d=\"M17.41 7.96l-1.37-1.37c-.4-.4-.92-.59-1.43-.59-.52 0-1.04.2-1.43.59L10.3 9.45l-7.72 7.72c-.78.78-.78 2.05 0 2.83L4 21.41c.39.39.9.59 1.41.59.51 0 1.02-.2 1.41-.59l7.78-7.78 2.81-2.81c.8-.78.8-2.07 0-2.86zM5.41 20L4 18.59l7.72-7.72 1.47 1.35L5.41 20z\"/>\n",
              "  </svg>\n",
              "      </button>\n",
              "      \n",
              "  <style>\n",
              "    .colab-df-container {\n",
              "      display:flex;\n",
              "      flex-wrap:wrap;\n",
              "      gap: 12px;\n",
              "    }\n",
              "\n",
              "    .colab-df-convert {\n",
              "      background-color: #E8F0FE;\n",
              "      border: none;\n",
              "      border-radius: 50%;\n",
              "      cursor: pointer;\n",
              "      display: none;\n",
              "      fill: #1967D2;\n",
              "      height: 32px;\n",
              "      padding: 0 0 0 0;\n",
              "      width: 32px;\n",
              "    }\n",
              "\n",
              "    .colab-df-convert:hover {\n",
              "      background-color: #E2EBFA;\n",
              "      box-shadow: 0px 1px 2px rgba(60, 64, 67, 0.3), 0px 1px 3px 1px rgba(60, 64, 67, 0.15);\n",
              "      fill: #174EA6;\n",
              "    }\n",
              "\n",
              "    [theme=dark] .colab-df-convert {\n",
              "      background-color: #3B4455;\n",
              "      fill: #D2E3FC;\n",
              "    }\n",
              "\n",
              "    [theme=dark] .colab-df-convert:hover {\n",
              "      background-color: #434B5C;\n",
              "      box-shadow: 0px 1px 3px 1px rgba(0, 0, 0, 0.15);\n",
              "      filter: drop-shadow(0px 1px 2px rgba(0, 0, 0, 0.3));\n",
              "      fill: #FFFFFF;\n",
              "    }\n",
              "  </style>\n",
              "\n",
              "      <script>\n",
              "        const buttonEl =\n",
              "          document.querySelector('#df-27e0db7f-e437-4c63-a140-08f315f01ff1 button.colab-df-convert');\n",
              "        buttonEl.style.display =\n",
              "          google.colab.kernel.accessAllowed ? 'block' : 'none';\n",
              "\n",
              "        async function convertToInteractive(key) {\n",
              "          const element = document.querySelector('#df-27e0db7f-e437-4c63-a140-08f315f01ff1');\n",
              "          const dataTable =\n",
              "            await google.colab.kernel.invokeFunction('convertToInteractive',\n",
              "                                                     [key], {});\n",
              "          if (!dataTable) return;\n",
              "\n",
              "          const docLinkHtml = 'Like what you see? Visit the ' +\n",
              "            '<a target=\"_blank\" href=https://colab.research.google.com/notebooks/data_table.ipynb>data table notebook</a>'\n",
              "            + ' to learn more about interactive tables.';\n",
              "          element.innerHTML = '';\n",
              "          dataTable['output_type'] = 'display_data';\n",
              "          await google.colab.output.renderOutput(dataTable, element);\n",
              "          const docLink = document.createElement('div');\n",
              "          docLink.innerHTML = docLinkHtml;\n",
              "          element.appendChild(docLink);\n",
              "        }\n",
              "      </script>\n",
              "    </div>\n",
              "  </div>\n",
              "  "
            ]
          },
          "metadata": {},
          "execution_count": 193
        }
      ]
    },
    {
      "cell_type": "markdown",
      "source": [
        "To be more sure, here, we can use a Mann-Whitney test. In this test, we check if the data has the same distribution. It is usually used as a non-parametric test for the comparison between means of two datasets. So, we can do:"
      ],
      "metadata": {
        "id": "B89fQrX6Q6oi"
      }
    },
    {
      "cell_type": "code",
      "source": [
        "df_frauds   = raw_df.query('Fraud == 1')\n",
        "df_nofrauds = raw_df.query('Fraud == 0')"
      ],
      "metadata": {
        "id": "VsuhE3ssSSsL"
      },
      "execution_count": 194,
      "outputs": []
    },
    {
      "cell_type": "markdown",
      "source": [
        "So, we will test if:\n",
        "\n",
        "\\begin{equation}\n",
        "H_0 : \\text{Group 1 does not present lower values ($\\mu_1 \\geq \\mu_2$).}\n",
        "\\end{equation}\n",
        "\n",
        "\\begin{equation}\n",
        "H_1 : \\text{Group 1 usually presents lower values ($\\mu_1 <\\mu_2$).}\n",
        "\\end{equation}\n",
        "\n",
        "where subscript $1$ refers to the non-fraudulent data and $2$ to the fraudulent data."
      ],
      "metadata": {
        "id": "Vv5d3RDOSaVM"
      }
    },
    {
      "cell_type": "code",
      "source": [
        "mannwhitneyu(df_nofrauds.Transaction_value, df_frauds.Transaction_value, alternative = 'less')"
      ],
      "metadata": {
        "colab": {
          "base_uri": "https://localhost:8080/"
        },
        "id": "Yi50uDG8Q5GN",
        "outputId": "8a32ead2-3483-4afd-9785-9fee5fa14ba6"
      },
      "execution_count": 195,
      "outputs": [
        {
          "output_type": "execute_result",
          "data": {
            "text/plain": [
              "MannwhitneyuResult(statistic=30455479.0, pvalue=0.0)"
            ]
          },
          "metadata": {},
          "execution_count": 195
        }
      ]
    },
    {
      "cell_type": "markdown",
      "source": [
        "So, since the $p$-value is 0, we can say that, indeed, transaction values are higher in the fraud set. Now, let's test the same thing for the other features:"
      ],
      "metadata": {
        "id": "FvUkpuOoTHk6"
      }
    },
    {
      "cell_type": "code",
      "source": [
        "mannwhitneyu(df_nofrauds.Distance_home, df_frauds.Distance_home, alternative = 'less')"
      ],
      "metadata": {
        "colab": {
          "base_uri": "https://localhost:8080/"
        },
        "id": "rVrznW61S9QL",
        "outputId": "43e88aa4-2a0a-427f-fc83-1ec22641b0a7"
      },
      "execution_count": 196,
      "outputs": [
        {
          "output_type": "execute_result",
          "data": {
            "text/plain": [
              "MannwhitneyuResult(statistic=82938441.0, pvalue=2.52395664173379e-93)"
            ]
          },
          "metadata": {},
          "execution_count": 196
        }
      ]
    },
    {
      "cell_type": "code",
      "source": [
        "mannwhitneyu(df_nofrauds.Distance_last_transaction, df_frauds.Distance_last_transaction, alternative = 'less')"
      ],
      "metadata": {
        "colab": {
          "base_uri": "https://localhost:8080/"
        },
        "id": "efzqeiTYTVAH",
        "outputId": "031e4e84-1e47-48d9-ae9d-a56b48a11289"
      },
      "execution_count": 197,
      "outputs": [
        {
          "output_type": "execute_result",
          "data": {
            "text/plain": [
              "MannwhitneyuResult(statistic=94037640.0, pvalue=2.1060608309234386e-17)"
            ]
          },
          "metadata": {},
          "execution_count": 197
        }
      ]
    },
    {
      "cell_type": "markdown",
      "source": [
        "Again, both of our $p$-values were very low! So, we can say that distances are higher for the fraudulent set."
      ],
      "metadata": {
        "id": "WwA2YAdjTZYU"
      }
    },
    {
      "cell_type": "markdown",
      "source": [
        "Finally, let's see the histogram from each of our continuous features:"
      ],
      "metadata": {
        "id": "PI0GICw6Tz0M"
      }
    },
    {
      "cell_type": "code",
      "source": [
        "sns.histplot(x = 'Transaction_value', data = raw_df, stat = 'density', kde = 'True')"
      ],
      "metadata": {
        "colab": {
          "base_uri": "https://localhost:8080/",
          "height": 298
        },
        "id": "w1nUnoyhTYOw",
        "outputId": "61c7962f-aa6b-4f3c-bc97-9d1d5f1ed63c"
      },
      "execution_count": 198,
      "outputs": [
        {
          "output_type": "execute_result",
          "data": {
            "text/plain": [
              "<matplotlib.axes._subplots.AxesSubplot at 0x7fa4e58f6190>"
            ]
          },
          "metadata": {},
          "execution_count": 198
        },
        {
          "output_type": "display_data",
          "data": {
            "text/plain": [
              "<Figure size 432x288 with 1 Axes>"
            ],
            "image/png": "[encoded data removed]"
          },
          "metadata": {
            "needs_background": "light"
          }
        }
      ]
    },
    {
      "cell_type": "code",
      "source": [
        "sns.histplot(x = 'Distance_home', data = raw_df, stat = 'density', kde = 'True')"
      ],
      "metadata": {
        "colab": {
          "base_uri": "https://localhost:8080/",
          "height": 298
        },
        "id": "XHuVdsJwUQ4O",
        "outputId": "2a445237-f0b8-47af-e496-0386f07acefb"
      },
      "execution_count": 199,
      "outputs": [
        {
          "output_type": "execute_result",
          "data": {
            "text/plain": [
              "<matplotlib.axes._subplots.AxesSubplot at 0x7fa4e53be610>"
            ]
          },
          "metadata": {},
          "execution_count": 199
        },
        {
          "output_type": "display_data",
          "data": {
            "text/plain": [
              "<Figure size 432x288 with 1 Axes>"
            ],
            "image/png": "[encoded data removed]"
          },
          "metadata": {
            "needs_background": "light"
          }
        }
      ]
    },
    {
      "cell_type": "code",
      "source": [
        "sns.histplot(x = 'Distance_last_transaction', data = raw_df, stat = 'density', kde = 'True')"
      ],
      "metadata": {
        "colab": {
          "base_uri": "https://localhost:8080/",
          "height": 299
        },
        "id": "t0Cj0wmCUdKh",
        "outputId": "1e82f56a-e4eb-49cf-bb6f-6696d263fc37"
      },
      "execution_count": 200,
      "outputs": [
        {
          "output_type": "execute_result",
          "data": {
            "text/plain": [
              "<matplotlib.axes._subplots.AxesSubplot at 0x7fa4e5e917d0>"
            ]
          },
          "metadata": {},
          "execution_count": 200
        },
        {
          "output_type": "display_data",
          "data": {
            "text/plain": [
              "<Figure size 432x288 with 1 Axes>"
            ],
            "image/png": "[encoded data removed]"
          },
          "metadata": {
            "needs_background": "light"
          }
        }
      ]
    },
    {
      "cell_type": "markdown",
      "source": [
        "Note that our data is **VERY** right skewed. To make it easier for our model to handle the data, we could make a transformation by taking the log of each variable:"
      ],
      "metadata": {
        "id": "DyjY0umGUg7g"
      }
    },
    {
      "cell_type": "code",
      "source": [
        "df = raw_df.copy( )\n",
        "df['Transaction_value']         = np.log(df['Transaction_value'])\n",
        "df['Distance_home']             = np.log(df['Distance_home'])\n",
        "df['Distance_last_transaction'] = np.log(df['Distance_last_transaction'])"
      ],
      "metadata": {
        "id": "Q5oBhyKsUgbv"
      },
      "execution_count": 201,
      "outputs": []
    },
    {
      "cell_type": "code",
      "source": [
        "sns.histplot(x = 'Transaction_value', data = df, stat = 'density', kde = 'True')"
      ],
      "metadata": {
        "colab": {
          "base_uri": "https://localhost:8080/",
          "height": 298
        },
        "id": "Vurw7cJDWs1i",
        "outputId": "9dd84233-fbdf-4297-dd31-172db97a4291"
      },
      "execution_count": 202,
      "outputs": [
        {
          "output_type": "execute_result",
          "data": {
            "text/plain": [
              "<matplotlib.axes._subplots.AxesSubplot at 0x7fa4db136350>"
            ]
          },
          "metadata": {},
          "execution_count": 202
        },
        {
          "output_type": "display_data",
          "data": {
            "text/plain": [
              "<Figure size 432x288 with 1 Axes>"
            ],
            "image/png": "[encoded data removed]"
          },
          "metadata": {
            "needs_background": "light"
          }
        }
      ]
    },
    {
      "cell_type": "code",
      "source": [
        "sns.histplot(x = 'Distance_home', data = df, stat = 'density', kde = 'True')"
      ],
      "metadata": {
        "colab": {
          "base_uri": "https://localhost:8080/",
          "height": 298
        },
        "outputId": "9a160ba4-b70b-45b6-b770-9cceb7db9c2c",
        "id": "EuIMte8EYsfq"
      },
      "execution_count": 203,
      "outputs": [
        {
          "output_type": "execute_result",
          "data": {
            "text/plain": [
              "<matplotlib.axes._subplots.AxesSubplot at 0x7fa4da7fa790>"
            ]
          },
          "metadata": {},
          "execution_count": 203
        },
        {
          "output_type": "display_data",
          "data": {
            "text/plain": [
              "<Figure size 432x288 with 1 Axes>"
            ],
            "image/png": "[encoded data removed]"
          },
          "metadata": {
            "needs_background": "light"
          }
        }
      ]
    },
    {
      "cell_type": "code",
      "source": [
        "sns.histplot(x = 'Distance_last_transaction', data = df, stat = 'density', kde = 'True')"
      ],
      "metadata": {
        "colab": {
          "base_uri": "https://localhost:8080/",
          "height": 298
        },
        "outputId": "b1e7f380-4635-4855-b46d-8a6a6605388a",
        "id": "LOS_5wSgYsf1"
      },
      "execution_count": 204,
      "outputs": [
        {
          "output_type": "execute_result",
          "data": {
            "text/plain": [
              "<matplotlib.axes._subplots.AxesSubplot at 0x7fa4da0cdf50>"
            ]
          },
          "metadata": {},
          "execution_count": 204
        },
        {
          "output_type": "display_data",
          "data": {
            "text/plain": [
              "<Figure size 432x288 with 1 Axes>"
            ],
            "image/png": "[encoded data removed]"
          },
          "metadata": {
            "needs_background": "light"
          }
        }
      ]
    },
    {
      "cell_type": "markdown",
      "source": [
        "Nice! Now, our feature distribution looks a lot like a normal curve! We can even use a normality test to check it:"
      ],
      "metadata": {
        "id": "HyAQc0dQYwCv"
      }
    },
    {
      "cell_type": "markdown",
      "source": [
        "\n",
        "\n",
        "\\begin{equation}\n",
        "H_0 : \\text{Data distribution is close to a Normal.}\n",
        "\\end{equation}\n",
        "\n",
        "\\begin{equation}\n",
        "H_1 : \\text{Data does not come from a Normal.}\n",
        "\\end{equation}"
      ],
      "metadata": {
        "id": "dUH9yw_PZjbu"
      }
    },
    {
      "cell_type": "code",
      "source": [
        "normaltest(df['Transaction_value'])"
      ],
      "metadata": {
        "colab": {
          "base_uri": "https://localhost:8080/"
        },
        "id": "ERHn_GBTZivM",
        "outputId": "628d9dd4-8c9b-4543-8ccc-9f391a475839"
      },
      "execution_count": 205,
      "outputs": [
        {
          "output_type": "execute_result",
          "data": {
            "text/plain": [
              "NormaltestResult(statistic=1.4897330797393598, pvalue=0.47479766226952813)"
            ]
          },
          "metadata": {},
          "execution_count": 205
        }
      ]
    },
    {
      "cell_type": "code",
      "source": [
        "normaltest(df['Distance_home'])"
      ],
      "metadata": {
        "colab": {
          "base_uri": "https://localhost:8080/"
        },
        "id": "rTAgd8UJYu7l",
        "outputId": "cba2229f-a806-4665-a377-4c195724fe55"
      },
      "execution_count": 206,
      "outputs": [
        {
          "output_type": "execute_result",
          "data": {
            "text/plain": [
              "NormaltestResult(statistic=0.5177288941078586, pvalue=0.7719276530196129)"
            ]
          },
          "metadata": {},
          "execution_count": 206
        }
      ]
    },
    {
      "cell_type": "code",
      "source": [
        "normaltest(df['Distance_last_transaction'])"
      ],
      "metadata": {
        "colab": {
          "base_uri": "https://localhost:8080/"
        },
        "id": "f4e4AYqaZ7tt",
        "outputId": "0fdb3264-def9-4cbd-fabc-904521a1b8f8"
      },
      "execution_count": 207,
      "outputs": [
        {
          "output_type": "execute_result",
          "data": {
            "text/plain": [
              "NormaltestResult(statistic=3.694239816010186, pvalue=0.1576906765797867)"
            ]
          },
          "metadata": {},
          "execution_count": 207
        }
      ]
    },
    {
      "cell_type": "markdown",
      "source": [
        "Nice! Now, all of our features \"passed\" the normality test! Now, it we be much easier to model our data."
      ],
      "metadata": {
        "id": "vvW4NpqjZ9z3"
      }
    },
    {
      "cell_type": "markdown",
      "source": [
        "Now, let's check the correlation between our features:"
      ],
      "metadata": {
        "id": "V_7Sxvo6a8qu"
      }
    },
    {
      "cell_type": "code",
      "source": [
        "plt.figure(figsize=(12, 11))\n",
        "\n",
        "mask = np.triu(np.ones_like(df.corr(), dtype=np.bool))\n",
        "\n",
        "heatmap = sns.heatmap(df.corr(), mask=mask, vmin=-1, vmax=1, annot=True, cmap='Blues')"
      ],
      "metadata": {
        "colab": {
          "base_uri": "https://localhost:8080/",
          "height": 843
        },
        "id": "TTzyfItBZ9RD",
        "outputId": "483e1676-9d62-45c1-9e0e-8f4ed6c1a612"
      },
      "execution_count": 208,
      "outputs": [
        {
          "output_type": "stream",
          "name": "stderr",
          "text": [
            "/usr/local/lib/python3.7/dist-packages/ipykernel_launcher.py:3: DeprecationWarning: `np.bool` is a deprecated alias for the builtin `bool`. To silence this warning, use `bool` by itself. Doing this will not modify any behavior and is safe. If you specifically wanted the numpy scalar type, use `np.bool_` here.\n",
            "Deprecated in NumPy 1.20; for more details and guidance: https://numpy.org/devdocs/release/1.20.0-notes.html#deprecations\n",
            "  This is separate from the ipykernel package so we can avoid doing imports until\n"
          ]
        },
        {
          "output_type": "display_data",
          "data": {
            "text/plain": [
              "<Figure size 864x792 with 2 Axes>"
            ],
            "image/png": "[encoded data removed]"
          },
          "metadata": {
            "needs_background": "light"
          }
        }
      ]
    },
    {
      "cell_type": "markdown",
      "source": [
        "The correlation between our data seem very low. Most of our independent features have a very low correlation (which is actually good). However, our target feature also seems to have a low correlation with most other features. The correlation is higher only between transaction value and the online boolean feature. \n",
        "\n",
        "Now that we understood our data, let's go to data modeling."
      ],
      "metadata": {
        "id": "OMyNf3STcttO"
      }
    },
    {
      "cell_type": "markdown",
      "source": [
        "# Data modeling\n",
        "\n",
        "So, let's model our data to detect when frauds will occur. Let's start by splitting our dataset:"
      ],
      "metadata": {
        "id": "L0n_Q7ehBxHo"
      }
    },
    {
      "cell_type": "code",
      "source": [
        "X = df.drop('Fraud', axis = 1)   # Independent variables\n",
        "y = df.Fraud                     # Target variable\n",
        "\n",
        "SEED = 42\n",
        "\n",
        "X_train, X_test, y_train, y_test = train_test_split(X, y, test_size = 0.2, random_state = SEED)"
      ],
      "metadata": {
        "id": "3yPSJrKpC0Tm"
      },
      "execution_count": 209,
      "outputs": []
    },
    {
      "cell_type": "markdown",
      "source": [
        "Now, we will start using very simple models: first a dummy classifier, and then a simple logistic regression. Then, we will test more complex models, and see if they are able to improve upon our results."
      ],
      "metadata": {
        "id": "vXdhssszCv2H"
      }
    },
    {
      "cell_type": "markdown",
      "source": [
        "## Dummy classifier\n",
        "\n",
        "First, we will use a very simple dummy classifier, where our model always picks the most frequent class. Thus, we can do:"
      ],
      "metadata": {
        "id": "kF7BHpJvCKEO"
      }
    },
    {
      "cell_type": "code",
      "source": [
        "dummy_clf = DummyClassifier(strategy=\"most_frequent\")\n",
        "\n",
        "dummy_clf.fit(X_train, y_train)"
      ],
      "metadata": {
        "id": "bzLFrChFbOTO",
        "colab": {
          "base_uri": "https://localhost:8080/"
        },
        "outputId": "5d498272-f9e3-4058-99cc-02733b29392b"
      },
      "execution_count": 210,
      "outputs": [
        {
          "output_type": "execute_result",
          "data": {
            "text/plain": [
              "DummyClassifier(strategy='most_frequent')"
            ]
          },
          "metadata": {},
          "execution_count": 210
        }
      ]
    },
    {
      "cell_type": "markdown",
      "source": [
        "Then, we can get the prediction on the text set using:"
      ],
      "metadata": {
        "id": "rU5moLAfDSx_"
      }
    },
    {
      "cell_type": "code",
      "source": [
        "y_pred = dummy_clf.predict(X_test)"
      ],
      "metadata": {
        "id": "Mm14fXnyDR8R"
      },
      "execution_count": 211,
      "outputs": []
    },
    {
      "cell_type": "markdown",
      "source": [
        "Now, let's evaluate some metrics for our model. For classification models, there are some very important metrics, usually related to the True Positives ($TP$), True Negatives ($TN$), False Positives ($FP$), and False Negatives ($FN$). These are:\n",
        "\n",
        "* Accuracy: The accuracy evaluates the division between correctly guessed entries, and the total number of entries.\n",
        "\n",
        "\\begin{equation}\n",
        "\\dfrac{TN + TP}{TN + TP + FN + FP}\n",
        "\\end{equation}\n",
        "\n",
        "* Precision: Precision evaluates the proportion of $TP$ in relation to the positive predictions from the model. If we have low precision, it means that there are a lot of non-frauds that our model is identifying as frauds.\n",
        "\n",
        "\\begin{equation}\n",
        "\\dfrac{TP}{TP + FP}\n",
        "\\end{equation}\n",
        "\n",
        "* Recall: Recall evaluates the proportion of $TP$ and the number of positives from the test set. If we have a lower recall, it means that we are letting many frauds pass.\n",
        "\n",
        "\\begin{equation}\n",
        "\\dfrac{TP}{TP + FN}\n",
        "\\end{equation}\n",
        "\n",
        "* F1-score: Tries to balance precision and recall. It goes from 0 to 1, and the closest it is to 1, the better.\n",
        "\n",
        "\\begin{equation}\n",
        "2 \\, \\dfrac{P \\, R}{P + R}\n",
        "\\end{equation}"
      ],
      "metadata": {
        "id": "GQKk7Vm3DbL-"
      }
    },
    {
      "cell_type": "markdown",
      "source": [
        "The number of true positives and negatives, and false positives and negatives can be taken from the confusion matrix:"
      ],
      "metadata": {
        "id": "pLho8_l-DfGQ"
      }
    },
    {
      "cell_type": "code",
      "source": [
        "cm = confusion_matrix(y_test, y_pred)\n",
        "disp = ConfusionMatrixDisplay(confusion_matrix = cm)\n",
        "disp.plot(values_format='d')"
      ],
      "metadata": {
        "colab": {
          "base_uri": "https://localhost:8080/",
          "height": 297
        },
        "id": "MVpb7zcnDXzw",
        "outputId": "3254be77-6230-4e57-e9e7-0177c4015599"
      },
      "execution_count": 212,
      "outputs": [
        {
          "output_type": "execute_result",
          "data": {
            "text/plain": [
              "<sklearn.metrics._plot.confusion_matrix.ConfusionMatrixDisplay at 0x7fa4d9fcaa50>"
            ]
          },
          "metadata": {},
          "execution_count": 212
        },
        {
          "output_type": "display_data",
          "data": {
            "text/plain": [
              "<Figure size 432x288 with 2 Axes>"
            ],
            "image/png": "[encoded data removed]"
          },
          "metadata": {
            "needs_background": "light"
          }
        }
      ]
    },
    {
      "cell_type": "markdown",
      "source": [
        "Since our dummy classifier only guesses for the most frequent class, it thinks that none of our data is fraudulent. Thus, we have 9129 true negatives and 871 false negatives. Let's get the metrics for this case:"
      ],
      "metadata": {
        "id": "1XByMaWWD1ep"
      }
    },
    {
      "cell_type": "code",
      "source": [
        "acc = round(metrics.accuracy_score(y_test, y_pred), 4)\n",
        "prc = round(metrics.precision_score(y_test, y_pred), 4)\n",
        "rec = round(metrics.recall_score(y_test, y_pred), 4)\n",
        "f1s = round(metrics.f1_score(y_test, y_pred), 4)\n",
        "\n",
        "print(f\"Accuracy  : {acc}\")\n",
        "print(f\"Precision : {prc}\")\n",
        "print(f\"Recall    : {rec}\")\n",
        "print(f\"F1        : {f1s}\")"
      ],
      "metadata": {
        "colab": {
          "base_uri": "https://localhost:8080/"
        },
        "id": "DMEHZnkAD0Cn",
        "outputId": "62113c63-09f3-4e2f-ba42-dc19961455af"
      },
      "execution_count": 213,
      "outputs": [
        {
          "output_type": "stream",
          "name": "stdout",
          "text": [
            "Accuracy  : 0.9129\n",
            "Precision : 0.0\n",
            "Recall    : 0.0\n",
            "F1        : 0.0\n"
          ]
        },
        {
          "output_type": "stream",
          "name": "stderr",
          "text": [
            "/usr/local/lib/python3.7/dist-packages/sklearn/metrics/_classification.py:1318: UndefinedMetricWarning: Precision is ill-defined and being set to 0.0 due to no predicted samples. Use `zero_division` parameter to control this behavior.\n",
            "  _warn_prf(average, modifier, msg_start, len(result))\n"
          ]
        }
      ]
    },
    {
      "cell_type": "markdown",
      "source": [
        "Note that, while our dummy classifier showed a precision of 91.29%, it showed a 0.00% precision and recall. That happened because our model has **no** true positives, and was not able to detect any fraudulent transaction. Thus, in fact, the dummy classifier is a very bad fraud detection method, and the accuracy is not a good metric to evaluate the model when our data is very unbalanced."
      ],
      "metadata": {
        "id": "dXsTK9UKEMV0"
      }
    },
    {
      "cell_type": "markdown",
      "source": [
        "To finish things off, let's plot the precision-recall curve for the dummy classifier:"
      ],
      "metadata": {
        "id": "OvvxR6XsEwyL"
      }
    },
    {
      "cell_type": "code",
      "source": [
        "y_pred_proba = dummy_clf.predict_proba(X_test)[::, 1]\n",
        "prcr, recr, threshold = metrics.precision_recall_curve(y_test, y_pred_proba)\n",
        "auc = metrics.auc(recr, prcr)\n",
        "\n",
        "no_skill = y_test[y_test == 1].shape[0] / y_test.shape[0]\n",
        "\n",
        "fig = plt.figure(figsize = (12, 8))\n",
        "\n",
        "plt.plot(recr, prcr, label = 'Dummy classifier, AUC = '+str(auc))\n",
        "plt.plot([0, 1], [no_skill, no_skill], color = 'r', linestyle='--', label = 'No skill')\n",
        "plt.legend(loc = 'best')\n",
        "\n",
        "plt.xlabel('Recall')\n",
        "plt.ylabel('Precision')\n",
        "\n",
        "plt.plot([0, 1, 1], [1, 1, 0], color = 'g', lw = 2, linestyle = '--', label = 'Perfect model')"
      ],
      "metadata": {
        "colab": {
          "base_uri": "https://localhost:8080/",
          "height": 515
        },
        "id": "57htZ2IqEDHm",
        "outputId": "567dab33-5c19-4f23-861f-2d59ad3cbe9a"
      },
      "execution_count": 214,
      "outputs": [
        {
          "output_type": "execute_result",
          "data": {
            "text/plain": [
              "[<matplotlib.lines.Line2D at 0x7fa4d9f67250>]"
            ]
          },
          "metadata": {},
          "execution_count": 214
        },
        {
          "output_type": "display_data",
          "data": {
            "text/plain": [
              "<Figure size 864x576 with 1 Axes>"
            ],
            "image/png": "[encoded data removed]"
          },
          "metadata": {
            "needs_background": "light"
          }
        }
      ]
    },
    {
      "cell_type": "markdown",
      "source": [
        "The precision-recall curve shows that our model is very poor, showing an Area Under the Curve (AUC) of 0.54355, and being very far from the perfect model. "
      ],
      "metadata": {
        "id": "6CGyD9SoE8Q2"
      }
    },
    {
      "cell_type": "markdown",
      "source": [
        "Now, let's add these precision metrics into a dataframe and let's move to the next model:"
      ],
      "metadata": {
        "id": "53QW3cGGJO8f"
      }
    },
    {
      "cell_type": "code",
      "source": [
        "df_metrics = pd.DataFrame( {'acc' : acc, 'prc' : prc, 'rec' : rec, 'f1s' : f1s, 'auc' : auc }, index = ['Dummy classifier'] )\n",
        "df_metrics"
      ],
      "metadata": {
        "colab": {
          "base_uri": "https://localhost:8080/",
          "height": 81
        },
        "id": "gpY5O67rJ2e1",
        "outputId": "6e39a38f-fb6f-4179-c02b-3429b5fbfb4c"
      },
      "execution_count": 215,
      "outputs": [
        {
          "output_type": "execute_result",
          "data": {
            "text/plain": [
              "                     acc  prc  rec  f1s      auc\n",
              "Dummy classifier  0.9129  0.0  0.0  0.0  0.54355"
            ],
            "text/html": [
              "\n",
              "  <div id=\"df-bbb42e23-baac-4d5d-98be-96c68d79b5c7\">\n",
              "    <div class=\"colab-df-container\">\n",
              "      <div>\n",
              "<style scoped>\n",
              "    .dataframe tbody tr th:only-of-type {\n",
              "        vertical-align: middle;\n",
              "    }\n",
              "\n",
              "    .dataframe tbody tr th {\n",
              "        vertical-align: top;\n",
              "    }\n",
              "\n",
              "    .dataframe thead th {\n",
              "        text-align: right;\n",
              "    }\n",
              "</style>\n",
              "<table border=\"1\" class=\"dataframe\">\n",
              "  <thead>\n",
              "    <tr style=\"text-align: right;\">\n",
              "      <th></th>\n",
              "      <th>acc</th>\n",
              "      <th>prc</th>\n",
              "      <th>rec</th>\n",
              "      <th>f1s</th>\n",
              "      <th>auc</th>\n",
              "    </tr>\n",
              "  </thead>\n",
              "  <tbody>\n",
              "    <tr>\n",
              "      <th>Dummy classifier</th>\n",
              "      <td>0.9129</td>\n",
              "      <td>0.0</td>\n",
              "      <td>0.0</td>\n",
              "      <td>0.0</td>\n",
              "      <td>0.54355</td>\n",
              "    </tr>\n",
              "  </tbody>\n",
              "</table>\n",
              "</div>\n",
              "      <button class=\"colab-df-convert\" onclick=\"convertToInteractive('df-bbb42e23-baac-4d5d-98be-96c68d79b5c7')\"\n",
              "              title=\"Convert this dataframe to an interactive table.\"\n",
              "              style=\"display:none;\">\n",
              "        \n",
              "  <svg xmlns=\"http://www.w3.org/2000/svg\" height=\"24px\"viewBox=\"0 0 24 24\"\n",
              "       width=\"24px\">\n",
              "    <path d=\"M0 0h24v24H0V0z\" fill=\"none\"/>\n",
              "    <path d=\"M18.56 5.44l.94 2.06.94-2.06 2.06-.94-2.06-.94-.94-2.06-.94 2.06-2.06.94zm-11 1L8.5 8.5l.94-2.06 2.06-.94-2.06-.94L8.5 2.5l-.94 2.06-2.06.94zm10 10l.94 2.06.94-2.06 2.06-.94-2.06-.94-.94-2.06-.94 2.06-2.06.94z\"/><path d=\"M17.41 7.96l-1.37-1.37c-.4-.4-.92-.59-1.43-.59-.52 0-1.04.2-1.43.59L10.3 9.45l-7.72 7.72c-.78.78-.78 2.05 0 2.83L4 21.41c.39.39.9.59 1.41.59.51 0 1.02-.2 1.41-.59l7.78-7.78 2.81-2.81c.8-.78.8-2.07 0-2.86zM5.41 20L4 18.59l7.72-7.72 1.47 1.35L5.41 20z\"/>\n",
              "  </svg>\n",
              "      </button>\n",
              "      \n",
              "  <style>\n",
              "    .colab-df-container {\n",
              "      display:flex;\n",
              "      flex-wrap:wrap;\n",
              "      gap: 12px;\n",
              "    }\n",
              "\n",
              "    .colab-df-convert {\n",
              "      background-color: #E8F0FE;\n",
              "      border: none;\n",
              "      border-radius: 50%;\n",
              "      cursor: pointer;\n",
              "      display: none;\n",
              "      fill: #1967D2;\n",
              "      height: 32px;\n",
              "      padding: 0 0 0 0;\n",
              "      width: 32px;\n",
              "    }\n",
              "\n",
              "    .colab-df-convert:hover {\n",
              "      background-color: #E2EBFA;\n",
              "      box-shadow: 0px 1px 2px rgba(60, 64, 67, 0.3), 0px 1px 3px 1px rgba(60, 64, 67, 0.15);\n",
              "      fill: #174EA6;\n",
              "    }\n",
              "\n",
              "    [theme=dark] .colab-df-convert {\n",
              "      background-color: #3B4455;\n",
              "      fill: #D2E3FC;\n",
              "    }\n",
              "\n",
              "    [theme=dark] .colab-df-convert:hover {\n",
              "      background-color: #434B5C;\n",
              "      box-shadow: 0px 1px 3px 1px rgba(0, 0, 0, 0.15);\n",
              "      filter: drop-shadow(0px 1px 2px rgba(0, 0, 0, 0.3));\n",
              "      fill: #FFFFFF;\n",
              "    }\n",
              "  </style>\n",
              "\n",
              "      <script>\n",
              "        const buttonEl =\n",
              "          document.querySelector('#df-bbb42e23-baac-4d5d-98be-96c68d79b5c7 button.colab-df-convert');\n",
              "        buttonEl.style.display =\n",
              "          google.colab.kernel.accessAllowed ? 'block' : 'none';\n",
              "\n",
              "        async function convertToInteractive(key) {\n",
              "          const element = document.querySelector('#df-bbb42e23-baac-4d5d-98be-96c68d79b5c7');\n",
              "          const dataTable =\n",
              "            await google.colab.kernel.invokeFunction('convertToInteractive',\n",
              "                                                     [key], {});\n",
              "          if (!dataTable) return;\n",
              "\n",
              "          const docLinkHtml = 'Like what you see? Visit the ' +\n",
              "            '<a target=\"_blank\" href=https://colab.research.google.com/notebooks/data_table.ipynb>data table notebook</a>'\n",
              "            + ' to learn more about interactive tables.';\n",
              "          element.innerHTML = '';\n",
              "          dataTable['output_type'] = 'display_data';\n",
              "          await google.colab.output.renderOutput(dataTable, element);\n",
              "          const docLink = document.createElement('div');\n",
              "          docLink.innerHTML = docLinkHtml;\n",
              "          element.appendChild(docLink);\n",
              "        }\n",
              "      </script>\n",
              "    </div>\n",
              "  </div>\n",
              "  "
            ]
          },
          "metadata": {},
          "execution_count": 215
        }
      ]
    },
    {
      "cell_type": "markdown",
      "source": [
        "## Logistic Regression\n",
        "\n",
        "Now, let's try another simple, yet much more powerful, model: the logistic regression. Since our dataset is very unbalanced, we may use the ```class_weigth``` parameter. We will make it so that the weight for each fraud data is equal to:\n",
        "\n",
        "\\begin{equation}\n",
        "w = \\dfrac{n_0}{n_1}\n",
        "\\end{equation}\n",
        "\n",
        "where $n_0$ is the number of samples from class 0 (non-frauds) and $n_1$ is the number of samples from class 1 (frauds). Thus, we can do:"
      ],
      "metadata": {
        "id": "I1PDCXidGouA"
      }
    },
    {
      "cell_type": "code",
      "source": [
        "n_0 = y_train[y_train == 0].shape[0]\n",
        "n_1 = y_train[y_train == 1].shape[0]\n",
        "w = n_0/n_1\n",
        "\n",
        "print(f'w = {round(w, 2)}')"
      ],
      "metadata": {
        "colab": {
          "base_uri": "https://localhost:8080/"
        },
        "id": "H0mfbpDdHfjf",
        "outputId": "26afb90b-e037-4e45-8b9b-da7c3b3408a2"
      },
      "execution_count": 216,
      "outputs": [
        {
          "output_type": "stream",
          "name": "stdout",
          "text": [
            "w = 10.11\n"
          ]
        }
      ]
    },
    {
      "cell_type": "markdown",
      "source": [
        "Thus, we will give a weight of 10.11 for each fraudulent data. Thus, we can fit the Logistic Regression model using:"
      ],
      "metadata": {
        "id": "Hq6eLQ5GIK_t"
      }
    },
    {
      "cell_type": "code",
      "source": [
        "model_LogReg = LogisticRegression(class_weight = {0 : 1, 1 : w}, random_state = SEED)\n",
        "\n",
        "model_LogReg.fit(X_train, y_train)"
      ],
      "metadata": {
        "colab": {
          "base_uri": "https://localhost:8080/"
        },
        "id": "i5Wh-Fw1ITNW",
        "outputId": "5ba846d7-adf4-4ddd-8ea3-9647fe5e008b"
      },
      "execution_count": 217,
      "outputs": [
        {
          "output_type": "execute_result",
          "data": {
            "text/plain": [
              "LogisticRegression(class_weight={0: 1, 1: 10.11111111111111}, random_state=42)"
            ]
          },
          "metadata": {},
          "execution_count": 217
        }
      ]
    },
    {
      "cell_type": "markdown",
      "source": [
        "Now, let's get the prediction in the test sample and get the confusion matrix for our new model:"
      ],
      "metadata": {
        "id": "Xap9LfSNG3df"
      }
    },
    {
      "cell_type": "code",
      "source": [
        "y_pred = model_LogReg.predict(X_test)\n",
        "\n",
        "cm = confusion_matrix(y_test, y_pred)\n",
        "disp = ConfusionMatrixDisplay(confusion_matrix = cm)\n",
        "disp.plot(values_format = 'd')"
      ],
      "metadata": {
        "colab": {
          "base_uri": "https://localhost:8080/",
          "height": 297
        },
        "id": "1nSIVg7sG2Bn",
        "outputId": "e6980660-576f-49cb-a0ba-756aa900886a"
      },
      "execution_count": 218,
      "outputs": [
        {
          "output_type": "execute_result",
          "data": {
            "text/plain": [
              "<sklearn.metrics._plot.confusion_matrix.ConfusionMatrixDisplay at 0x7fa4d9f64650>"
            ]
          },
          "metadata": {},
          "execution_count": 218
        },
        {
          "output_type": "display_data",
          "data": {
            "text/plain": [
              "<Figure size 432x288 with 2 Axes>"
            ],
            "image/png": "[encoded data removed]"
          },
          "metadata": {
            "needs_background": "light"
          }
        }
      ]
    },
    {
      "cell_type": "markdown",
      "source": [
        "Now, we got 7738 True Negatives, 782 True Positives, 1391 False Positives, and 89 False Negatives. Let's evaluate our metrics:"
      ],
      "metadata": {
        "id": "qjxILrKJI2tq"
      }
    },
    {
      "cell_type": "code",
      "source": [
        "acc = round(metrics.accuracy_score(y_test, y_pred), 4)\n",
        "prc = round(metrics.precision_score(y_test, y_pred), 4)\n",
        "rec = round(metrics.recall_score(y_test, y_pred), 4)\n",
        "f1s = round(metrics.f1_score(y_test, y_pred), 4)\n",
        "\n",
        "print(f\"Accuracy  : {acc}\")\n",
        "print(f\"Precision : {prc}\")\n",
        "print(f\"Recall    : {rec}\")\n",
        "print(f\"F1        : {f1s}\")"
      ],
      "metadata": {
        "colab": {
          "base_uri": "https://localhost:8080/"
        },
        "id": "zZ9O1CSHHI0B",
        "outputId": "4a7fa871-4b4c-4e88-efe6-f5eaba6e7d69"
      },
      "execution_count": 219,
      "outputs": [
        {
          "output_type": "stream",
          "name": "stdout",
          "text": [
            "Accuracy  : 0.852\n",
            "Precision : 0.3599\n",
            "Recall    : 0.8978\n",
            "F1        : 0.5138\n"
          ]
        }
      ]
    },
    {
      "cell_type": "markdown",
      "source": [
        "Now, using a very simple model, we managed to achieve a recall of 89.78%. That means that we were able to detect 89.78% of the fraudulent transactions in our test set. That's very good. However, notice that our accuracy lowered. Since accuracy is not as important for problems with a very unbalanced dataset, this is ok. However, our precision is also not very high still. \n",
        "\n",
        "When we use class weight, our model may end up \"thinking\" that our prioritized class is much more frequent in the dataset. Then, it may end up having a lot of false positives. In fact, we have more false positives than true positives in our model.\n",
        "\n",
        "At the same time, from the 9129 non-fraudulent entries, only 1391 were predicted to be frauds (15.23%). Also, since it is very important for our company to predict fraudulent transactions (due to the high value involved in these), it means that recall is far more important than precision (even though both are important to evaluate a given fraud detection model).\n",
        "\n",
        "We can understand more about the trade-off between precision and recall by the precision-recall curve:"
      ],
      "metadata": {
        "id": "VWmInQWEJ8w-"
      }
    },
    {
      "cell_type": "code",
      "source": [
        "y_pred_proba = model_LogReg.predict_proba(X_test)[::, 1]\n",
        "prcr, recr, threshold = metrics.precision_recall_curve(y_test, y_pred_proba)\n",
        "auc = metrics.auc(recr, prcr)\n",
        "\n",
        "no_skill = y_test[y_test == 1].shape[0] / y_test.shape[0]\n",
        "\n",
        "fig = plt.figure(figsize = (12, 8))\n",
        "\n",
        "plt.plot(recr, prcr, label = 'Logistic Regression, AUC = '+str(auc))\n",
        "plt.plot([0, 1], [no_skill, no_skill], color = 'r', linestyle='--', label = 'No skill')\n",
        "\n",
        "plt.plot(rec, prc, 'b', marker = 11, markersize = 10)\n",
        "\n",
        "plt.legend(loc = 'best')\n",
        "\n",
        "plt.xlabel('Recall')\n",
        "plt.ylabel('Precision')\n",
        "\n",
        "plt.plot([0, 1, 1], [1, 1, 0], color = 'g', lw = 2, linestyle = '--', label = 'Perfect model')"
      ],
      "metadata": {
        "colab": {
          "base_uri": "https://localhost:8080/",
          "height": 515
        },
        "id": "ZYVeWtblJ8IG",
        "outputId": "736e466f-434c-4204-8303-94e389c2b47f"
      },
      "execution_count": 220,
      "outputs": [
        {
          "output_type": "execute_result",
          "data": {
            "text/plain": [
              "[<matplotlib.lines.Line2D at 0x7fa4d9ebf910>]"
            ]
          },
          "metadata": {},
          "execution_count": 220
        },
        {
          "output_type": "display_data",
          "data": {
            "text/plain": [
              "<Figure size 864x576 with 1 Axes>"
            ],
            "image/png": "[encoded data removed]"
          },
          "metadata": {
            "needs_background": "light"
          }
        }
      ]
    },
    {
      "cell_type": "markdown",
      "source": [
        "The precision-recall curve shows different pairs precision-recall for different probability thresholds. The point evaluated before is shown as a blue triangle, which corresponds to the default threshold (0.5). Note that we can actually change the threshold to \"optimize\" recall and precision. However, there is a trade-off here: when we increase precision, we often reduce recall, and when we increase recall, we often reduce precision. \n",
        "\n",
        "In this project, we will attempt to optimize our threshold by maximizing recall. However, we will require that our model has at least a precision of 50%, which means that, from the predicted frauds, at least 50% are real frauds. \n",
        "\n",
        "For that end, we will define a new metric, where:\n",
        "\n",
        "\\begin{equation}\n",
        "M_{PR} = R \\text{, if $P \\geq P_t$}\n",
        "\\end{equation}\n",
        "\n",
        "\\begin{equation}\n",
        "M_{PR} = 0 \\text{, otherwise}\n",
        "\\end{equation}\n",
        "\n",
        "where, in this project, $P_t = 0.5$. Thus, we can do:"
      ],
      "metadata": {
        "id": "u9COxw51Ljdx"
      }
    },
    {
      "cell_type": "code",
      "source": [
        "Pt = 0.5"
      ],
      "metadata": {
        "id": "nI0A9YzIOaMv"
      },
      "execution_count": 221,
      "outputs": []
    },
    {
      "cell_type": "code",
      "source": [
        "def calc_MPR(R, P, Pt):\n",
        "  return R if (P >= Pt) else 0"
      ],
      "metadata": {
        "id": "WgoDR0IkK1CN"
      },
      "execution_count": 222,
      "outputs": []
    },
    {
      "cell_type": "code",
      "source": [
        "def calc_MPR_list(Rlist, Plist, Pt):\n",
        "  return [calc_MPR(Rlist[i], Plist[i], Pt) for i in range(len(Rlist))]"
      ],
      "metadata": {
        "id": "kjLHVKFMN_3_"
      },
      "execution_count": 223,
      "outputs": []
    },
    {
      "cell_type": "code",
      "source": [
        "def calc_opt_threshold(Tlist, Mlist, Plist):\n",
        "  max_index = np.where(Mlist == np.amax(Mlist))\n",
        "\n",
        "  if isinstance(max_index, tuple):                            # This condition serves to check if there are multiple entries with the same \n",
        "     Plist_tmp = Plist[max_index]                             #  M_{PR} and, if so, it gets the entry with the higher precision.\n",
        "     max_ind_prc = np.where(Plist_tmp == np.amax(Plist_tmp))                                  \n",
        "     max_index = max_index[0][max_ind_prc]\n",
        "\n",
        "  return (Tlist[max_index][0], np.amax(Mlist))"
      ],
      "metadata": {
        "id": "RdfOolmGOiPn"
      },
      "execution_count": 224,
      "outputs": []
    },
    {
      "cell_type": "markdown",
      "source": [
        "Nice! Now, let's get the optimal threshold for our Logistic Regression model:"
      ],
      "metadata": {
        "id": "NISKS0YcNxU-"
      }
    },
    {
      "cell_type": "code",
      "source": [
        "mprr = calc_MPR_list(recr, prcr, Pt)"
      ],
      "metadata": {
        "id": "CILIGnEWNuFZ"
      },
      "execution_count": 225,
      "outputs": []
    },
    {
      "cell_type": "code",
      "source": [
        "opt_thresh, opt_mpr = calc_opt_threshold(threshold, mprr, prcr)\n",
        "\n",
        "print(f'The optimum threshold is {round(opt_thresh, 2)} (guarantees a precision of 50%).')"
      ],
      "metadata": {
        "colab": {
          "base_uri": "https://localhost:8080/"
        },
        "id": "DicDkFKcObXu",
        "outputId": "8f9f7d23-91c2-4ef4-90d2-30bcfbd31b9f"
      },
      "execution_count": 226,
      "outputs": [
        {
          "output_type": "stream",
          "name": "stdout",
          "text": [
            "The optimum threshold is 0.72 (guarantees a precision of 50%).\n"
          ]
        }
      ]
    },
    {
      "cell_type": "markdown",
      "source": [
        "Nice! Now, let's try to get the confusion matrix for this threshold. First, let's define a function to predict the classes for a given threshold:"
      ],
      "metadata": {
        "id": "WPpeXj-xRGXm"
      }
    },
    {
      "cell_type": "code",
      "source": [
        "def pred_threshold(model, X, t):\n",
        "  y_prob = model.predict_proba(X)[::, 1]\n",
        "  y_pred = []\n",
        "  for i in range(len(y_prob)):\n",
        "    y_pred.append(0 if (y_prob[i] < t) else 1)\n",
        "\n",
        "  return (y_pred, y_prob)"
      ],
      "metadata": {
        "id": "_X4_NzrLOv-G"
      },
      "execution_count": 227,
      "outputs": []
    },
    {
      "cell_type": "markdown",
      "source": [
        "Now, let's get the confusion matrix:"
      ],
      "metadata": {
        "id": "6kBi08NqRqMy"
      }
    },
    {
      "cell_type": "code",
      "source": [
        "(y_pred_t, y_prob) = pred_threshold(model_LogReg, X_test, opt_thresh)\n",
        "\n",
        "cm = confusion_matrix(y_test, y_pred_t)\n",
        "disp = ConfusionMatrixDisplay(confusion_matrix = cm)\n",
        "disp.plot(values_format = 'd')"
      ],
      "metadata": {
        "colab": {
          "base_uri": "https://localhost:8080/",
          "height": 297
        },
        "id": "-rurF45hRoiU",
        "outputId": "3d4d97e5-dd0d-4583-aca4-9aeb9c2048d8"
      },
      "execution_count": 228,
      "outputs": [
        {
          "output_type": "execute_result",
          "data": {
            "text/plain": [
              "<sklearn.metrics._plot.confusion_matrix.ConfusionMatrixDisplay at 0x7fa4d9edbe10>"
            ]
          },
          "metadata": {},
          "execution_count": 228
        },
        {
          "output_type": "display_data",
          "data": {
            "text/plain": [
              "<Figure size 432x288 with 2 Axes>"
            ],
            "image/png": "[encoded data removed]"
          },
          "metadata": {
            "needs_background": "light"
          }
        }
      ]
    },
    {
      "cell_type": "markdown",
      "source": [
        "And let's evaluate our metrics:"
      ],
      "metadata": {
        "id": "CEZMg5XpVAV2"
      }
    },
    {
      "cell_type": "code",
      "source": [
        "acc = round(metrics.accuracy_score(y_test, y_pred_t), 4)\n",
        "prc = round(metrics.precision_score(y_test, y_pred_t), 4)\n",
        "rec = round(metrics.recall_score(y_test, y_pred_t), 4)\n",
        "f1s = round(metrics.f1_score(y_test, y_pred_t), 4)\n",
        "\n",
        "print(f\"Accuracy  : {acc}\")\n",
        "print(f\"Precision : {prc}\")\n",
        "print(f\"Recall    : {rec}\")\n",
        "print(f\"F1        : {f1s}\")"
      ],
      "metadata": {
        "colab": {
          "base_uri": "https://localhost:8080/"
        },
        "id": "KGV3WfSFR2YE",
        "outputId": "daa19098-fdcd-4d15-e359-84b1ebbdd592"
      },
      "execution_count": 229,
      "outputs": [
        {
          "output_type": "stream",
          "name": "stdout",
          "text": [
            "Accuracy  : 0.9131\n",
            "Precision : 0.5007\n",
            "Recall    : 0.7842\n",
            "F1        : 0.6112\n"
          ]
        }
      ]
    },
    {
      "cell_type": "markdown",
      "source": [
        "Now, our accuracy and precision increased (when compared to the first logistic regression confusion matrix). This time, we can consider that, at least, half the frauds our model is predicting are, indeed, frauds. However, at the same time, the recall decreased. That is expected: since we increased our threshold (from 0.50 to 0.72), our model we detect less frauds. \n",
        "\n",
        "Nice! Now, we have defined a minimum precision for our model, and a way to optimize our prediction probability threshold (in a way that we maximize recall and guarantee at least a 50% precision). Let's add this information to the dataframe:"
      ],
      "metadata": {
        "id": "_wgVHxrMVGF4"
      }
    },
    {
      "cell_type": "code",
      "source": [
        "df_metrics.loc['Dummy classifier', 'mpr']       = df_metrics.loc['Dummy classifier', 'rec']\n",
        "df_metrics.loc['Dummy classifier', 'threshold'] = 0.50"
      ],
      "metadata": {
        "id": "3aGGdhINWek_"
      },
      "execution_count": 230,
      "outputs": []
    },
    {
      "cell_type": "code",
      "source": [
        "df_metrics.loc['Logistic Regression'] = [acc, prc, rec, f1s, auc, opt_mpr, opt_thresh]"
      ],
      "metadata": {
        "id": "E8y8JkufVFdF"
      },
      "execution_count": 231,
      "outputs": []
    },
    {
      "cell_type": "code",
      "source": [
        "df_metrics"
      ],
      "metadata": {
        "colab": {
          "base_uri": "https://localhost:8080/",
          "height": 112
        },
        "id": "KbFOYICgXbH3",
        "outputId": "fe59943e-f9ed-4c86-fd80-864530a3a2f6"
      },
      "execution_count": 232,
      "outputs": [
        {
          "output_type": "execute_result",
          "data": {
            "text/plain": [
              "                        acc     prc     rec     f1s       auc       mpr  \\\n",
              "Dummy classifier     0.9129  0.0000  0.0000  0.0000  0.543550  0.000000   \n",
              "Logistic Regression  0.9131  0.5007  0.7842  0.6112  0.718377  0.784156   \n",
              "\n",
              "                     threshold  \n",
              "Dummy classifier      0.500000  \n",
              "Logistic Regression   0.715873  "
            ],
            "text/html": [
              "\n",
              "  <div id=\"df-5c47177b-6987-433a-b829-19917d906dfb\">\n",
              "    <div class=\"colab-df-container\">\n",
              "      <div>\n",
              "<style scoped>\n",
              "    .dataframe tbody tr th:only-of-type {\n",
              "        vertical-align: middle;\n",
              "    }\n",
              "\n",
              "    .dataframe tbody tr th {\n",
              "        vertical-align: top;\n",
              "    }\n",
              "\n",
              "    .dataframe thead th {\n",
              "        text-align: right;\n",
              "    }\n",
              "</style>\n",
              "<table border=\"1\" class=\"dataframe\">\n",
              "  <thead>\n",
              "    <tr style=\"text-align: right;\">\n",
              "      <th></th>\n",
              "      <th>acc</th>\n",
              "      <th>prc</th>\n",
              "      <th>rec</th>\n",
              "      <th>f1s</th>\n",
              "      <th>auc</th>\n",
              "      <th>mpr</th>\n",
              "      <th>threshold</th>\n",
              "    </tr>\n",
              "  </thead>\n",
              "  <tbody>\n",
              "    <tr>\n",
              "      <th>Dummy classifier</th>\n",
              "      <td>0.9129</td>\n",
              "      <td>0.0000</td>\n",
              "      <td>0.0000</td>\n",
              "      <td>0.0000</td>\n",
              "      <td>0.543550</td>\n",
              "      <td>0.000000</td>\n",
              "      <td>0.500000</td>\n",
              "    </tr>\n",
              "    <tr>\n",
              "      <th>Logistic Regression</th>\n",
              "      <td>0.9131</td>\n",
              "      <td>0.5007</td>\n",
              "      <td>0.7842</td>\n",
              "      <td>0.6112</td>\n",
              "      <td>0.718377</td>\n",
              "      <td>0.784156</td>\n",
              "      <td>0.715873</td>\n",
              "    </tr>\n",
              "  </tbody>\n",
              "</table>\n",
              "</div>\n",
              "      <button class=\"colab-df-convert\" onclick=\"convertToInteractive('df-5c47177b-6987-433a-b829-19917d906dfb')\"\n",
              "              title=\"Convert this dataframe to an interactive table.\"\n",
              "              style=\"display:none;\">\n",
              "        \n",
              "  <svg xmlns=\"http://www.w3.org/2000/svg\" height=\"24px\"viewBox=\"0 0 24 24\"\n",
              "       width=\"24px\">\n",
              "    <path d=\"M0 0h24v24H0V0z\" fill=\"none\"/>\n",
              "    <path d=\"M18.56 5.44l.94 2.06.94-2.06 2.06-.94-2.06-.94-.94-2.06-.94 2.06-2.06.94zm-11 1L8.5 8.5l.94-2.06 2.06-.94-2.06-.94L8.5 2.5l-.94 2.06-2.06.94zm10 10l.94 2.06.94-2.06 2.06-.94-2.06-.94-.94-2.06-.94 2.06-2.06.94z\"/><path d=\"M17.41 7.96l-1.37-1.37c-.4-.4-.92-.59-1.43-.59-.52 0-1.04.2-1.43.59L10.3 9.45l-7.72 7.72c-.78.78-.78 2.05 0 2.83L4 21.41c.39.39.9.59 1.41.59.51 0 1.02-.2 1.41-.59l7.78-7.78 2.81-2.81c.8-.78.8-2.07 0-2.86zM5.41 20L4 18.59l7.72-7.72 1.47 1.35L5.41 20z\"/>\n",
              "  </svg>\n",
              "      </button>\n",
              "      \n",
              "  <style>\n",
              "    .colab-df-container {\n",
              "      display:flex;\n",
              "      flex-wrap:wrap;\n",
              "      gap: 12px;\n",
              "    }\n",
              "\n",
              "    .colab-df-convert {\n",
              "      background-color: #E8F0FE;\n",
              "      border: none;\n",
              "      border-radius: 50%;\n",
              "      cursor: pointer;\n",
              "      display: none;\n",
              "      fill: #1967D2;\n",
              "      height: 32px;\n",
              "      padding: 0 0 0 0;\n",
              "      width: 32px;\n",
              "    }\n",
              "\n",
              "    .colab-df-convert:hover {\n",
              "      background-color: #E2EBFA;\n",
              "      box-shadow: 0px 1px 2px rgba(60, 64, 67, 0.3), 0px 1px 3px 1px rgba(60, 64, 67, 0.15);\n",
              "      fill: #174EA6;\n",
              "    }\n",
              "\n",
              "    [theme=dark] .colab-df-convert {\n",
              "      background-color: #3B4455;\n",
              "      fill: #D2E3FC;\n",
              "    }\n",
              "\n",
              "    [theme=dark] .colab-df-convert:hover {\n",
              "      background-color: #434B5C;\n",
              "      box-shadow: 0px 1px 3px 1px rgba(0, 0, 0, 0.15);\n",
              "      filter: drop-shadow(0px 1px 2px rgba(0, 0, 0, 0.3));\n",
              "      fill: #FFFFFF;\n",
              "    }\n",
              "  </style>\n",
              "\n",
              "      <script>\n",
              "        const buttonEl =\n",
              "          document.querySelector('#df-5c47177b-6987-433a-b829-19917d906dfb button.colab-df-convert');\n",
              "        buttonEl.style.display =\n",
              "          google.colab.kernel.accessAllowed ? 'block' : 'none';\n",
              "\n",
              "        async function convertToInteractive(key) {\n",
              "          const element = document.querySelector('#df-5c47177b-6987-433a-b829-19917d906dfb');\n",
              "          const dataTable =\n",
              "            await google.colab.kernel.invokeFunction('convertToInteractive',\n",
              "                                                     [key], {});\n",
              "          if (!dataTable) return;\n",
              "\n",
              "          const docLinkHtml = 'Like what you see? Visit the ' +\n",
              "            '<a target=\"_blank\" href=https://colab.research.google.com/notebooks/data_table.ipynb>data table notebook</a>'\n",
              "            + ' to learn more about interactive tables.';\n",
              "          element.innerHTML = '';\n",
              "          dataTable['output_type'] = 'display_data';\n",
              "          await google.colab.output.renderOutput(dataTable, element);\n",
              "          const docLink = document.createElement('div');\n",
              "          docLink.innerHTML = docLinkHtml;\n",
              "          element.appendChild(docLink);\n",
              "        }\n",
              "      </script>\n",
              "    </div>\n",
              "  </div>\n",
              "  "
            ]
          },
          "metadata": {},
          "execution_count": 232
        }
      ]
    },
    {
      "cell_type": "markdown",
      "source": [
        "Now, let's try to fit other models, and see if we can improve upon our logistic regression."
      ],
      "metadata": {
        "id": "6gMJmUyUWK4l"
      }
    },
    {
      "cell_type": "markdown",
      "source": [
        "## Testing out more robust models\n",
        "\n",
        "This time, we will try to use other modeling criteria, namely:\n",
        "\n",
        "*   Decision tree\n",
        "*   Random forest\n",
        "*   Gradient boosting\n",
        "*   Catboost\n",
        "*   XGBoost\n",
        "\n",
        "Also, we will try to optimize the $M_{PR}$ for these models, trying to guarantee a minimum precision of 50%. First, let's define a user-defined function to get the metrics that we need:\n",
        "\n"
      ],
      "metadata": {
        "id": "a13hmsSYXeh2"
      }
    },
    {
      "cell_type": "code",
      "source": [
        "def GetMetrics(model, X_test, y_test):\n",
        "  y_pred_proba = model.predict_proba(X_test)[::, 1]\n",
        "  prcr, recr, threshold = metrics.precision_recall_curve(y_test, y_pred_proba)\n",
        "  auc = metrics.auc(recr, prcr)\n",
        "\n",
        "  mprr = calc_MPR_list(recr, prcr, Pt)\n",
        "  opt_thresh, opt_mpr = calc_opt_threshold(threshold, mprr, prcr)\n",
        "  y_pred_t, y_pred_proba = pred_threshold(model, X_test, opt_thresh)\n",
        "\n",
        "  acc = round(metrics.accuracy_score(y_test, y_pred_t), 4)\n",
        "  prc = round(metrics.precision_score(y_test, y_pred_t), 4)\n",
        "  rec = round(metrics.recall_score(y_test, y_pred_t), 4)\n",
        "  f1s = round(metrics.f1_score(y_test, y_pred_t), 4)\n",
        "\n",
        "  return [acc, prc, rec, f1s, auc, opt_mpr, opt_thresh]"
      ],
      "metadata": {
        "id": "lV44gETBZ9Fw"
      },
      "execution_count": 239,
      "outputs": []
    },
    {
      "cell_type": "markdown",
      "source": [
        "Now, let's instance our models:"
      ],
      "metadata": {
        "id": "7DeS7PL_Z7Qx"
      }
    },
    {
      "cell_type": "code",
      "source": [
        "model_DcTree = DecisionTreeClassifier(class_weight = {0 : 1, 1 : w}, max_depth = 5, random_state = SEED)\n",
        "model_RndFor = RandomForestClassifier(class_weight = {0 : 1, 1 : w}, max_depth = 5, random_state = SEED)\n",
        "model_GrdBst = GradientBoostingClassifier(random_state = SEED)\n",
        "model_CatBst = CatBoostClassifier(class_weights = [1, w], verbose = False, random_state = SEED)\n",
        "model_XtGBst = XGBClassifier(class_weight = {0 : 1, 1 : w}, seed = SEED)\n",
        "\n",
        "models = [model_DcTree, model_RndFor, model_GrdBst, model_CatBst, model_XtGBst]"
      ],
      "metadata": {
        "id": "yf_dBNz-YMan"
      },
      "execution_count": 240,
      "outputs": []
    },
    {
      "cell_type": "markdown",
      "source": [
        "Note that the Gradient Boosting Classifier has no class weight. Due to how the model works, it actually does not need to correct class imbalance via this parameter.\n",
        "\n",
        "https://towardsdatascience.com/practical-tips-for-class-imbalance-in-binary-classification-6ee29bcdb8a7\n",
        "\n",
        "Now, to fit our models and get the metrics and optimal threshold, we can do:"
      ],
      "metadata": {
        "id": "KawWhCziY4cP"
      }
    },
    {
      "cell_type": "code",
      "source": [
        "for model in models:\n",
        "\n",
        "  print('-'*30)\n",
        "  print('Model ' + model.__class__.__name__)\n",
        "  print('-'*30)\n",
        "\n",
        "  print('Training...')\n",
        "  model.fit(X_train, y_train)\n",
        "\n",
        "  print('Evaluating metrics...')\n",
        "  df_metrics.loc[model.__class__.__name__] = GetMetrics(model, X_test, y_test)\n",
        "\n",
        "  print('Done.')"
      ],
      "metadata": {
        "colab": {
          "base_uri": "https://localhost:8080/"
        },
        "id": "2x3MpxY9Ygto",
        "outputId": "38fd4da7-55d3-46d5-e070-6842d6a9221c"
      },
      "execution_count": 241,
      "outputs": [
        {
          "output_type": "stream",
          "name": "stdout",
          "text": [
            "------------------------------\n",
            "Model DecisionTreeClassifier\n",
            "------------------------------\n",
            "Training...\n",
            "Evaluating metrics...\n",
            "Done.\n",
            "------------------------------\n",
            "Model RandomForestClassifier\n",
            "------------------------------\n",
            "Training...\n",
            "Evaluating metrics...\n",
            "Done.\n",
            "------------------------------\n",
            "Model GradientBoostingClassifier\n",
            "------------------------------\n",
            "Training...\n",
            "Evaluating metrics...\n",
            "Done.\n",
            "------------------------------\n",
            "Model CatBoostClassifier\n",
            "------------------------------\n",
            "Training...\n",
            "Evaluating metrics...\n",
            "Done.\n",
            "------------------------------\n",
            "Model XGBClassifier\n",
            "------------------------------\n",
            "Training...\n",
            "Evaluating metrics...\n",
            "Done.\n"
          ]
        }
      ]
    },
    {
      "cell_type": "markdown",
      "source": [
        "Nice! Now, let's see the metrics for each model:"
      ],
      "metadata": {
        "id": "Hqhwbpi1bbsx"
      }
    },
    {
      "cell_type": "code",
      "source": [
        "df_metrics.sort_values(by = ['mpr', 'prc'], ascending = [False, False])"
      ],
      "metadata": {
        "colab": {
          "base_uri": "https://localhost:8080/",
          "height": 269
        },
        "id": "ZLMO223vbRmn",
        "outputId": "7d0f190b-34a9-42d9-af2f-716253e89bf1"
      },
      "execution_count": 244,
      "outputs": [
        {
          "output_type": "execute_result",
          "data": {
            "text/plain": [
              "                               acc     prc     rec     f1s       auc  \\\n",
              "CatBoostClassifier          0.9987  0.9853  1.0000  0.9926  0.999740   \n",
              "RandomForestClassifier      0.9850  0.8531  1.0000  0.9207  0.999723   \n",
              "XGBClassifier               0.9361  0.5768  1.0000  0.7316  0.999374   \n",
              "GradientBoostingClassifier  0.9983  0.9819  0.9989  0.9903  0.999376   \n",
              "DecisionTreeClassifier      0.9953  0.9498  0.9989  0.9737  0.999048   \n",
              "Logistic Regression         0.9131  0.5007  0.7842  0.6112  0.718377   \n",
              "Dummy classifier            0.9129  0.0000  0.0000  0.0000  0.543550   \n",
              "\n",
              "                                 mpr  threshold  \n",
              "CatBoostClassifier          1.000000   0.827503  \n",
              "RandomForestClassifier      1.000000   0.358197  \n",
              "XGBClassifier               1.000000   0.007901  \n",
              "GradientBoostingClassifier  0.998852   0.351154  \n",
              "DecisionTreeClassifier      0.998852   0.612382  \n",
              "Logistic Regression         0.784156   0.715873  \n",
              "Dummy classifier            0.000000   0.500000  "
            ],
            "text/html": [
              "\n",
              "  <div id=\"df-db83129e-5f36-48fe-bc06-5e2f8c83b3b3\">\n",
              "    <div class=\"colab-df-container\">\n",
              "      <div>\n",
              "<style scoped>\n",
              "    .dataframe tbody tr th:only-of-type {\n",
              "        vertical-align: middle;\n",
              "    }\n",
              "\n",
              "    .dataframe tbody tr th {\n",
              "        vertical-align: top;\n",
              "    }\n",
              "\n",
              "    .dataframe thead th {\n",
              "        text-align: right;\n",
              "    }\n",
              "</style>\n",
              "<table border=\"1\" class=\"dataframe\">\n",
              "  <thead>\n",
              "    <tr style=\"text-align: right;\">\n",
              "      <th></th>\n",
              "      <th>acc</th>\n",
              "      <th>prc</th>\n",
              "      <th>rec</th>\n",
              "      <th>f1s</th>\n",
              "      <th>auc</th>\n",
              "      <th>mpr</th>\n",
              "      <th>threshold</th>\n",
              "    </tr>\n",
              "  </thead>\n",
              "  <tbody>\n",
              "    <tr>\n",
              "      <th>CatBoostClassifier</th>\n",
              "      <td>0.9987</td>\n",
              "      <td>0.9853</td>\n",
              "      <td>1.0000</td>\n",
              "      <td>0.9926</td>\n",
              "      <td>0.999740</td>\n",
              "      <td>1.000000</td>\n",
              "      <td>0.827503</td>\n",
              "    </tr>\n",
              "    <tr>\n",
              "      <th>RandomForestClassifier</th>\n",
              "      <td>0.9850</td>\n",
              "      <td>0.8531</td>\n",
              "      <td>1.0000</td>\n",
              "      <td>0.9207</td>\n",
              "      <td>0.999723</td>\n",
              "      <td>1.000000</td>\n",
              "      <td>0.358197</td>\n",
              "    </tr>\n",
              "    <tr>\n",
              "      <th>XGBClassifier</th>\n",
              "      <td>0.9361</td>\n",
              "      <td>0.5768</td>\n",
              "      <td>1.0000</td>\n",
              "      <td>0.7316</td>\n",
              "      <td>0.999374</td>\n",
              "      <td>1.000000</td>\n",
              "      <td>0.007901</td>\n",
              "    </tr>\n",
              "    <tr>\n",
              "      <th>GradientBoostingClassifier</th>\n",
              "      <td>0.9983</td>\n",
              "      <td>0.9819</td>\n",
              "      <td>0.9989</td>\n",
              "      <td>0.9903</td>\n",
              "      <td>0.999376</td>\n",
              "      <td>0.998852</td>\n",
              "      <td>0.351154</td>\n",
              "    </tr>\n",
              "    <tr>\n",
              "      <th>DecisionTreeClassifier</th>\n",
              "      <td>0.9953</td>\n",
              "      <td>0.9498</td>\n",
              "      <td>0.9989</td>\n",
              "      <td>0.9737</td>\n",
              "      <td>0.999048</td>\n",
              "      <td>0.998852</td>\n",
              "      <td>0.612382</td>\n",
              "    </tr>\n",
              "    <tr>\n",
              "      <th>Logistic Regression</th>\n",
              "      <td>0.9131</td>\n",
              "      <td>0.5007</td>\n",
              "      <td>0.7842</td>\n",
              "      <td>0.6112</td>\n",
              "      <td>0.718377</td>\n",
              "      <td>0.784156</td>\n",
              "      <td>0.715873</td>\n",
              "    </tr>\n",
              "    <tr>\n",
              "      <th>Dummy classifier</th>\n",
              "      <td>0.9129</td>\n",
              "      <td>0.0000</td>\n",
              "      <td>0.0000</td>\n",
              "      <td>0.0000</td>\n",
              "      <td>0.543550</td>\n",
              "      <td>0.000000</td>\n",
              "      <td>0.500000</td>\n",
              "    </tr>\n",
              "  </tbody>\n",
              "</table>\n",
              "</div>\n",
              "      <button class=\"colab-df-convert\" onclick=\"convertToInteractive('df-db83129e-5f36-48fe-bc06-5e2f8c83b3b3')\"\n",
              "              title=\"Convert this dataframe to an interactive table.\"\n",
              "              style=\"display:none;\">\n",
              "        \n",
              "  <svg xmlns=\"http://www.w3.org/2000/svg\" height=\"24px\"viewBox=\"0 0 24 24\"\n",
              "       width=\"24px\">\n",
              "    <path d=\"M0 0h24v24H0V0z\" fill=\"none\"/>\n",
              "    <path d=\"M18.56 5.44l.94 2.06.94-2.06 2.06-.94-2.06-.94-.94-2.06-.94 2.06-2.06.94zm-11 1L8.5 8.5l.94-2.06 2.06-.94-2.06-.94L8.5 2.5l-.94 2.06-2.06.94zm10 10l.94 2.06.94-2.06 2.06-.94-2.06-.94-.94-2.06-.94 2.06-2.06.94z\"/><path d=\"M17.41 7.96l-1.37-1.37c-.4-.4-.92-.59-1.43-.59-.52 0-1.04.2-1.43.59L10.3 9.45l-7.72 7.72c-.78.78-.78 2.05 0 2.83L4 21.41c.39.39.9.59 1.41.59.51 0 1.02-.2 1.41-.59l7.78-7.78 2.81-2.81c.8-.78.8-2.07 0-2.86zM5.41 20L4 18.59l7.72-7.72 1.47 1.35L5.41 20z\"/>\n",
              "  </svg>\n",
              "      </button>\n",
              "      \n",
              "  <style>\n",
              "    .colab-df-container {\n",
              "      display:flex;\n",
              "      flex-wrap:wrap;\n",
              "      gap: 12px;\n",
              "    }\n",
              "\n",
              "    .colab-df-convert {\n",
              "      background-color: #E8F0FE;\n",
              "      border: none;\n",
              "      border-radius: 50%;\n",
              "      cursor: pointer;\n",
              "      display: none;\n",
              "      fill: #1967D2;\n",
              "      height: 32px;\n",
              "      padding: 0 0 0 0;\n",
              "      width: 32px;\n",
              "    }\n",
              "\n",
              "    .colab-df-convert:hover {\n",
              "      background-color: #E2EBFA;\n",
              "      box-shadow: 0px 1px 2px rgba(60, 64, 67, 0.3), 0px 1px 3px 1px rgba(60, 64, 67, 0.15);\n",
              "      fill: #174EA6;\n",
              "    }\n",
              "\n",
              "    [theme=dark] .colab-df-convert {\n",
              "      background-color: #3B4455;\n",
              "      fill: #D2E3FC;\n",
              "    }\n",
              "\n",
              "    [theme=dark] .colab-df-convert:hover {\n",
              "      background-color: #434B5C;\n",
              "      box-shadow: 0px 1px 3px 1px rgba(0, 0, 0, 0.15);\n",
              "      filter: drop-shadow(0px 1px 2px rgba(0, 0, 0, 0.3));\n",
              "      fill: #FFFFFF;\n",
              "    }\n",
              "  </style>\n",
              "\n",
              "      <script>\n",
              "        const buttonEl =\n",
              "          document.querySelector('#df-db83129e-5f36-48fe-bc06-5e2f8c83b3b3 button.colab-df-convert');\n",
              "        buttonEl.style.display =\n",
              "          google.colab.kernel.accessAllowed ? 'block' : 'none';\n",
              "\n",
              "        async function convertToInteractive(key) {\n",
              "          const element = document.querySelector('#df-db83129e-5f36-48fe-bc06-5e2f8c83b3b3');\n",
              "          const dataTable =\n",
              "            await google.colab.kernel.invokeFunction('convertToInteractive',\n",
              "                                                     [key], {});\n",
              "          if (!dataTable) return;\n",
              "\n",
              "          const docLinkHtml = 'Like what you see? Visit the ' +\n",
              "            '<a target=\"_blank\" href=https://colab.research.google.com/notebooks/data_table.ipynb>data table notebook</a>'\n",
              "            + ' to learn more about interactive tables.';\n",
              "          element.innerHTML = '';\n",
              "          dataTable['output_type'] = 'display_data';\n",
              "          await google.colab.output.renderOutput(dataTable, element);\n",
              "          const docLink = document.createElement('div');\n",
              "          docLink.innerHTML = docLinkHtml;\n",
              "          element.appendChild(docLink);\n",
              "        }\n",
              "      </script>\n",
              "    </div>\n",
              "  </div>\n",
              "  "
            ]
          },
          "metadata": {},
          "execution_count": 244
        }
      ]
    },
    {
      "cell_type": "markdown",
      "source": [
        "Nice! Our Catboost classifier managed to get a 100% recall, while also achieving a precision of 98.53%! That's really good! Notice that optimization of the threshold was very important for our model, as the optimal threshold was 0.8275 (very different from the default 0.50).\n",
        "\n",
        "So, let's fit our model once again, and let's take a look at the confusion matrix and to the precision-recall curve:"
      ],
      "metadata": {
        "id": "sJpXfuSZbyn5"
      }
    },
    {
      "cell_type": "code",
      "source": [
        "opt_thresh = df_metrics.loc[model_CatBst.__class__.__name__, 'threshold']\n",
        "\n",
        "model_CatBst.fit(X_train, y_train)\n",
        "y_pred_t, y_pred_proba = pred_threshold(model_CatBst, X_test, opt_thresh)\n",
        "\n",
        "cm = confusion_matrix(y_test, y_pred_t)\n",
        "disp = ConfusionMatrixDisplay(confusion_matrix = cm)\n",
        "disp.plot(values_format = 'd')"
      ],
      "metadata": {
        "colab": {
          "base_uri": "https://localhost:8080/",
          "height": 297
        },
        "id": "UuevP30ubh2p",
        "outputId": "93d063f3-543a-4949-98bb-5c772efd1362"
      },
      "execution_count": 245,
      "outputs": [
        {
          "output_type": "execute_result",
          "data": {
            "text/plain": [
              "<sklearn.metrics._plot.confusion_matrix.ConfusionMatrixDisplay at 0x7fa4d9d7b290>"
            ]
          },
          "metadata": {},
          "execution_count": 245
        },
        {
          "output_type": "display_data",
          "data": {
            "text/plain": [
              "<Figure size 432x288 with 2 Axes>"
            ],
            "image/png": "[encoded data removed]"
          },
          "metadata": {
            "needs_background": "light"
          }
        }
      ]
    },
    {
      "cell_type": "markdown",
      "source": [
        "So, using Catboost, we have 9116 True Negatives, 871 True Positives, 13 False Positives and 0 False Negatives! We managed to detect ALL frauds from the test set, and, from the non-fraudulent set, only 0.14% were incorrectly guessed as frauds."
      ],
      "metadata": {
        "id": "UA7LmR11c_jm"
      }
    },
    {
      "cell_type": "code",
      "source": [
        "y_pred_proba = model_CatBst.predict_proba(X_test)[::, 1]\n",
        "prcr, recr, threshold = metrics.precision_recall_curve(y_test, y_pred_proba)\n",
        "auc = metrics.auc(recr, prcr)\n",
        "\n",
        "no_skill = y_test[y_test == 1].shape[0] / y_test.shape[0]\n",
        "\n",
        "fig = plt.figure(figsize = (12, 8))\n",
        "\n",
        "plt.plot(recr, prcr, label = 'Catboost, AUC = '+str(auc))\n",
        "plt.plot([0, 1], [no_skill, no_skill], color = 'r', linestyle='--', label = 'No skill')\n",
        "\n",
        "plt.legend(loc = 'best')\n",
        "\n",
        "plt.xlabel('Recall')\n",
        "plt.ylabel('Precision')\n",
        "\n",
        "plt.plot([0, 1, 1], [1, 1, 0], color = 'g', lw = 2, linestyle = '--', label = 'Perfect model')"
      ],
      "metadata": {
        "colab": {
          "base_uri": "https://localhost:8080/",
          "height": 515
        },
        "id": "RWitWELccpZc",
        "outputId": "9dcf02ae-77a3-4ddc-d773-5cf59a18e69a"
      },
      "execution_count": 247,
      "outputs": [
        {
          "output_type": "execute_result",
          "data": {
            "text/plain": [
              "[<matplotlib.lines.Line2D at 0x7fa4d9387f10>]"
            ]
          },
          "metadata": {},
          "execution_count": 247
        },
        {
          "output_type": "display_data",
          "data": {
            "text/plain": [
              "<Figure size 864x576 with 1 Axes>"
            ],
            "image/png": "[encoded data removed]"
          },
          "metadata": {
            "needs_background": "light"
          }
        }
      ]
    },
    {
      "cell_type": "markdown",
      "source": [
        "So, our Catboost model is **VERY** close to the perfect model. That's very good for us."
      ],
      "metadata": {
        "id": "dmoW8LZLc351"
      }
    },
    {
      "cell_type": "markdown",
      "source": [
        "## Model optimization\n",
        "\n",
        "So, our Catboost model actually showed an outstanding result for our data. However, maybe we are able to improve it even more. For that end, let's test different parameters through a randomized grid.\n",
        "\n",
        "First, let's define the parameter grid:"
      ],
      "metadata": {
        "id": "wJgUAtMedwW-"
      }
    },
    {
      "cell_type": "code",
      "source": [
        "learning_rate  = [0.01, 0.1, 0.3, 0.5, 1]                      # Learning rate\n",
        "max_depth      = [3, 6, 9, 12]                                 # Max depth of each tree  \n",
        "l2_leaf_reg    = [0.1, 1.0, 3.0, 10.0, 50.0]                   # Regularization term (L2 norm) \n",
        "n_estimators   = [100, 500, 1000, 5000]                        # Number of estimators  \n",
        "loss_function  = ['Logloss', 'CrossEntropy']                   # Loss function metric used for training\n",
        "bootstrap_type = ['Bayesian', 'Bernoulli', 'MVS']              # Method for sampling the weights of objects  "
      ],
      "metadata": {
        "id": "-ohfvtYhdvvK"
      },
      "execution_count": 263,
      "outputs": []
    },
    {
      "cell_type": "markdown",
      "source": [
        "These are just some of the possible Catboost parameters. We can find more in:\n",
        "\n",
        "https://catboost.ai/en/docs/references/training-parameters/\n",
        "\n",
        "Now, we will build $n = 20$ models using parameters from the grid (picked at random). Then, we will evaluate the metrics for each of those models."
      ],
      "metadata": {
        "id": "j4SCpqOpeI6f"
      }
    },
    {
      "cell_type": "code",
      "source": [
        "n_models = 20\n",
        "\n",
        "results_df = pd.DataFrame(columns = ['learning_rate', 'max_depth', 'l2_leaf_reg', 'n_estimators', 'loss_function', 'bootstrap_type', 'dict', \n",
        "                                     'acc', 'prc', 'rec', 'f1s', 'auc', 'mrp', 'threshold'])\n",
        "\n",
        "model_list  = []\n",
        "\n",
        "for i in range(n_models):\n",
        "  lr    = random.choice(learning_rate)\n",
        "  md    = random.choice(max_depth)\n",
        "  l     = random.choice(l2_leaf_reg)\n",
        "  n_est = random.choice(n_estimators)\n",
        "  lf    = random.choice(loss_function)\n",
        "  btype = random.choice(bootstrap_type)\n",
        "  params_dict = {'learning_rate' : lr, 'max_depth' : md, 'l2_leaf_reg' : l, 'n_estimators' : n_est, 'loss_function' : lf, 'bootstrap_type' : btype}\n",
        "  params_list = [lr, md, l, n_est, lf, btype, params_dict]\n",
        "\n",
        "  cat = CatBoostClassifier(**params_dict, verbose = False, random_state = SEED)\n",
        "\n",
        "  print('-'*30)\n",
        "  print('Model ' + cat.__class__.__name__ + ' ' + str(i + 1))\n",
        "  print('-'*30)\n",
        "\n",
        "  print('Training...')\n",
        "  cat.fit(X_train, y_train)\n",
        "\n",
        "  print('Evaluating metrics...')\n",
        "  cat_metrics = GetMetrics(cat, X_test, y_test)\n",
        "\n",
        "  print('Saving...')\n",
        "  results_df.loc[i] = [*params_list, *cat_metrics]\n",
        "\n",
        "  print('Done.')"
      ],
      "metadata": {
        "colab": {
          "base_uri": "https://localhost:8080/"
        },
        "id": "nvkUz_mkfOi5",
        "outputId": "d1f3c2f9-58e2-45bf-8319-0cdffcc5d3da"
      },
      "execution_count": 264,
      "outputs": [
        {
          "output_type": "stream",
          "name": "stdout",
          "text": [
            "------------------------------\n",
            "Model CatBoostClassifier 1\n",
            "------------------------------\n",
            "Training...\n",
            "Evaluating metrics...\n",
            "Saving...\n",
            "Done.\n",
            "------------------------------\n",
            "Model CatBoostClassifier 2\n",
            "------------------------------\n",
            "Training...\n",
            "Evaluating metrics...\n",
            "Saving...\n",
            "Done.\n",
            "------------------------------\n",
            "Model CatBoostClassifier 3\n",
            "------------------------------\n",
            "Training...\n",
            "Evaluating metrics...\n",
            "Saving...\n",
            "Done.\n",
            "------------------------------\n",
            "Model CatBoostClassifier 4\n",
            "------------------------------\n",
            "Training...\n",
            "Evaluating metrics...\n",
            "Saving...\n",
            "Done.\n",
            "------------------------------\n",
            "Model CatBoostClassifier 5\n",
            "------------------------------\n",
            "Training...\n",
            "Evaluating metrics...\n",
            "Saving...\n",
            "Done.\n",
            "------------------------------\n",
            "Model CatBoostClassifier 6\n",
            "------------------------------\n",
            "Training...\n",
            "Evaluating metrics...\n",
            "Saving...\n",
            "Done.\n",
            "------------------------------\n",
            "Model CatBoostClassifier 7\n",
            "------------------------------\n",
            "Training...\n",
            "Evaluating metrics...\n",
            "Saving...\n",
            "Done.\n",
            "------------------------------\n",
            "Model CatBoostClassifier 8\n",
            "------------------------------\n",
            "Training...\n",
            "Evaluating metrics...\n",
            "Saving...\n",
            "Done.\n",
            "------------------------------\n",
            "Model CatBoostClassifier 9\n",
            "------------------------------\n",
            "Training...\n",
            "Evaluating metrics...\n",
            "Saving...\n",
            "Done.\n",
            "------------------------------\n",
            "Model CatBoostClassifier 10\n",
            "------------------------------\n",
            "Training...\n",
            "Evaluating metrics...\n",
            "Saving...\n",
            "Done.\n",
            "------------------------------\n",
            "Model CatBoostClassifier 11\n",
            "------------------------------\n",
            "Training...\n",
            "Evaluating metrics...\n",
            "Saving...\n",
            "Done.\n",
            "------------------------------\n",
            "Model CatBoostClassifier 12\n",
            "------------------------------\n",
            "Training...\n",
            "Evaluating metrics...\n",
            "Saving...\n",
            "Done.\n",
            "------------------------------\n",
            "Model CatBoostClassifier 13\n",
            "------------------------------\n",
            "Training...\n",
            "Evaluating metrics...\n",
            "Saving...\n",
            "Done.\n",
            "------------------------------\n",
            "Model CatBoostClassifier 14\n",
            "------------------------------\n",
            "Training...\n",
            "Evaluating metrics...\n",
            "Saving...\n",
            "Done.\n",
            "------------------------------\n",
            "Model CatBoostClassifier 15\n",
            "------------------------------\n",
            "Training...\n",
            "Evaluating metrics...\n",
            "Saving...\n",
            "Done.\n",
            "------------------------------\n",
            "Model CatBoostClassifier 16\n",
            "------------------------------\n",
            "Training...\n",
            "Evaluating metrics...\n",
            "Saving...\n",
            "Done.\n",
            "------------------------------\n",
            "Model CatBoostClassifier 17\n",
            "------------------------------\n",
            "Training...\n",
            "Evaluating metrics...\n",
            "Saving...\n",
            "Done.\n",
            "------------------------------\n",
            "Model CatBoostClassifier 18\n",
            "------------------------------\n",
            "Training...\n",
            "Evaluating metrics...\n",
            "Saving...\n",
            "Done.\n",
            "------------------------------\n",
            "Model CatBoostClassifier 19\n",
            "------------------------------\n",
            "Training...\n",
            "Evaluating metrics...\n",
            "Saving...\n",
            "Done.\n",
            "------------------------------\n",
            "Model CatBoostClassifier 20\n",
            "------------------------------\n",
            "Training...\n",
            "Evaluating metrics...\n",
            "Saving...\n",
            "Done.\n"
          ]
        }
      ]
    },
    {
      "cell_type": "code",
      "source": [
        "results_df.sort_values(by = ['mrp', 'prc'], ascending = [False, False]).head(1)"
      ],
      "metadata": {
        "colab": {
          "base_uri": "https://localhost:8080/",
          "height": 142
        },
        "id": "DQ3R1eqXhE86",
        "outputId": "04a1b608-2f1a-49eb-87a5-eb16b353d593"
      },
      "execution_count": 272,
      "outputs": [
        {
          "output_type": "execute_result",
          "data": {
            "text/plain": [
              "   learning_rate max_depth  l2_leaf_reg n_estimators loss_function  \\\n",
              "1            0.5         9          1.0          500  CrossEntropy   \n",
              "\n",
              "  bootstrap_type                                               dict     acc  \\\n",
              "1      Bernoulli  {'learning_rate': 0.5, 'max_depth': 9, 'l2_lea...  0.9988   \n",
              "\n",
              "      prc  rec     f1s       auc  mrp  threshold  \n",
              "1  0.9864  1.0  0.9932  0.999664  1.0   0.141596  "
            ],
            "text/html": [
              "\n",
              "  <div id=\"df-36f9f1cf-4ead-454d-89c8-ea83fa8b2c4f\">\n",
              "    <div class=\"colab-df-container\">\n",
              "      <div>\n",
              "<style scoped>\n",
              "    .dataframe tbody tr th:only-of-type {\n",
              "        vertical-align: middle;\n",
              "    }\n",
              "\n",
              "    .dataframe tbody tr th {\n",
              "        vertical-align: top;\n",
              "    }\n",
              "\n",
              "    .dataframe thead th {\n",
              "        text-align: right;\n",
              "    }\n",
              "</style>\n",
              "<table border=\"1\" class=\"dataframe\">\n",
              "  <thead>\n",
              "    <tr style=\"text-align: right;\">\n",
              "      <th></th>\n",
              "      <th>learning_rate</th>\n",
              "      <th>max_depth</th>\n",
              "      <th>l2_leaf_reg</th>\n",
              "      <th>n_estimators</th>\n",
              "      <th>loss_function</th>\n",
              "      <th>bootstrap_type</th>\n",
              "      <th>dict</th>\n",
              "      <th>acc</th>\n",
              "      <th>prc</th>\n",
              "      <th>rec</th>\n",
              "      <th>f1s</th>\n",
              "      <th>auc</th>\n",
              "      <th>mrp</th>\n",
              "      <th>threshold</th>\n",
              "    </tr>\n",
              "  </thead>\n",
              "  <tbody>\n",
              "    <tr>\n",
              "      <th>1</th>\n",
              "      <td>0.5</td>\n",
              "      <td>9</td>\n",
              "      <td>1.0</td>\n",
              "      <td>500</td>\n",
              "      <td>CrossEntropy</td>\n",
              "      <td>Bernoulli</td>\n",
              "      <td>{'learning_rate': 0.5, 'max_depth': 9, 'l2_lea...</td>\n",
              "      <td>0.9988</td>\n",
              "      <td>0.9864</td>\n",
              "      <td>1.0</td>\n",
              "      <td>0.9932</td>\n",
              "      <td>0.999664</td>\n",
              "      <td>1.0</td>\n",
              "      <td>0.141596</td>\n",
              "    </tr>\n",
              "  </tbody>\n",
              "</table>\n",
              "</div>\n",
              "      <button class=\"colab-df-convert\" onclick=\"convertToInteractive('df-36f9f1cf-4ead-454d-89c8-ea83fa8b2c4f')\"\n",
              "              title=\"Convert this dataframe to an interactive table.\"\n",
              "              style=\"display:none;\">\n",
              "        \n",
              "  <svg xmlns=\"http://www.w3.org/2000/svg\" height=\"24px\"viewBox=\"0 0 24 24\"\n",
              "       width=\"24px\">\n",
              "    <path d=\"M0 0h24v24H0V0z\" fill=\"none\"/>\n",
              "    <path d=\"M18.56 5.44l.94 2.06.94-2.06 2.06-.94-2.06-.94-.94-2.06-.94 2.06-2.06.94zm-11 1L8.5 8.5l.94-2.06 2.06-.94-2.06-.94L8.5 2.5l-.94 2.06-2.06.94zm10 10l.94 2.06.94-2.06 2.06-.94-2.06-.94-.94-2.06-.94 2.06-2.06.94z\"/><path d=\"M17.41 7.96l-1.37-1.37c-.4-.4-.92-.59-1.43-.59-.52 0-1.04.2-1.43.59L10.3 9.45l-7.72 7.72c-.78.78-.78 2.05 0 2.83L4 21.41c.39.39.9.59 1.41.59.51 0 1.02-.2 1.41-.59l7.78-7.78 2.81-2.81c.8-.78.8-2.07 0-2.86zM5.41 20L4 18.59l7.72-7.72 1.47 1.35L5.41 20z\"/>\n",
              "  </svg>\n",
              "      </button>\n",
              "      \n",
              "  <style>\n",
              "    .colab-df-container {\n",
              "      display:flex;\n",
              "      flex-wrap:wrap;\n",
              "      gap: 12px;\n",
              "    }\n",
              "\n",
              "    .colab-df-convert {\n",
              "      background-color: #E8F0FE;\n",
              "      border: none;\n",
              "      border-radius: 50%;\n",
              "      cursor: pointer;\n",
              "      display: none;\n",
              "      fill: #1967D2;\n",
              "      height: 32px;\n",
              "      padding: 0 0 0 0;\n",
              "      width: 32px;\n",
              "    }\n",
              "\n",
              "    .colab-df-convert:hover {\n",
              "      background-color: #E2EBFA;\n",
              "      box-shadow: 0px 1px 2px rgba(60, 64, 67, 0.3), 0px 1px 3px 1px rgba(60, 64, 67, 0.15);\n",
              "      fill: #174EA6;\n",
              "    }\n",
              "\n",
              "    [theme=dark] .colab-df-convert {\n",
              "      background-color: #3B4455;\n",
              "      fill: #D2E3FC;\n",
              "    }\n",
              "\n",
              "    [theme=dark] .colab-df-convert:hover {\n",
              "      background-color: #434B5C;\n",
              "      box-shadow: 0px 1px 3px 1px rgba(0, 0, 0, 0.15);\n",
              "      filter: drop-shadow(0px 1px 2px rgba(0, 0, 0, 0.3));\n",
              "      fill: #FFFFFF;\n",
              "    }\n",
              "  </style>\n",
              "\n",
              "      <script>\n",
              "        const buttonEl =\n",
              "          document.querySelector('#df-36f9f1cf-4ead-454d-89c8-ea83fa8b2c4f button.colab-df-convert');\n",
              "        buttonEl.style.display =\n",
              "          google.colab.kernel.accessAllowed ? 'block' : 'none';\n",
              "\n",
              "        async function convertToInteractive(key) {\n",
              "          const element = document.querySelector('#df-36f9f1cf-4ead-454d-89c8-ea83fa8b2c4f');\n",
              "          const dataTable =\n",
              "            await google.colab.kernel.invokeFunction('convertToInteractive',\n",
              "                                                     [key], {});\n",
              "          if (!dataTable) return;\n",
              "\n",
              "          const docLinkHtml = 'Like what you see? Visit the ' +\n",
              "            '<a target=\"_blank\" href=https://colab.research.google.com/notebooks/data_table.ipynb>data table notebook</a>'\n",
              "            + ' to learn more about interactive tables.';\n",
              "          element.innerHTML = '';\n",
              "          dataTable['output_type'] = 'display_data';\n",
              "          await google.colab.output.renderOutput(dataTable, element);\n",
              "          const docLink = document.createElement('div');\n",
              "          docLink.innerHTML = docLinkHtml;\n",
              "          element.appendChild(docLink);\n",
              "        }\n",
              "      </script>\n",
              "    </div>\n",
              "  </div>\n",
              "  "
            ]
          },
          "metadata": {},
          "execution_count": 272
        }
      ]
    },
    {
      "cell_type": "markdown",
      "source": [
        "So, in our best model, we actually managed to find a precision *slightly* better than the default model: 98.64%. Well, let's train it again, and take a look at the confusion matrix:"
      ],
      "metadata": {
        "id": "QGRhbPRlzN_H"
      }
    },
    {
      "cell_type": "code",
      "source": [
        "best_index = results_df.sort_values(by = ['mrp', 'prc'], ascending = [False, False]).index[0]\n",
        "model_params = results_df.loc[best_index, 'dict']\n",
        "opt_thresh   = results_df.loc[best_index, 'threshold']\n",
        "\n",
        "model_CatBst_opt = CatBoostClassifier(**model_params, verbose = False, random_state = SEED)\n",
        "model_CatBst_opt.fit(X_train, y_train)"
      ],
      "metadata": {
        "colab": {
          "base_uri": "https://localhost:8080/"
        },
        "id": "Cr8KYkd1tqVJ",
        "outputId": "4c8b0788-e536-4d8b-da00-4eff36507af6"
      },
      "execution_count": 276,
      "outputs": [
        {
          "output_type": "execute_result",
          "data": {
            "text/plain": [
              "<catboost.core.CatBoostClassifier at 0x7fa4d9316990>"
            ]
          },
          "metadata": {},
          "execution_count": 276
        }
      ]
    },
    {
      "cell_type": "code",
      "source": [
        "y_pred_t, y_pred_proba = pred_threshold(model_CatBst_opt, X_test, opt_thresh)\n",
        "\n",
        "cm = confusion_matrix(y_test, y_pred_t)\n",
        "disp = ConfusionMatrixDisplay(confusion_matrix = cm)\n",
        "disp.plot(values_format = 'd')"
      ],
      "metadata": {
        "colab": {
          "base_uri": "https://localhost:8080/",
          "height": 297
        },
        "id": "sXtezBGqzh8G",
        "outputId": "cc6285da-0bfd-4888-e1e8-82f78f89942f"
      },
      "execution_count": 277,
      "outputs": [
        {
          "output_type": "execute_result",
          "data": {
            "text/plain": [
              "<sklearn.metrics._plot.confusion_matrix.ConfusionMatrixDisplay at 0x7fa4d9316090>"
            ]
          },
          "metadata": {},
          "execution_count": 277
        },
        {
          "output_type": "display_data",
          "data": {
            "text/plain": [
              "<Figure size 432x288 with 2 Axes>"
            ],
            "image/png": "[encoded data removed]"
          },
          "metadata": {
            "needs_background": "light"
          }
        }
      ]
    },
    {
      "cell_type": "markdown",
      "source": [
        "So, basically, the difference from this model to the previous one is that this has only 12 False Positives instead of 13. Not a big difference, but an improvement after all. The precision-recall curve is also very similar from the previous curve:"
      ],
      "metadata": {
        "id": "46nBolBC0HP2"
      }
    },
    {
      "cell_type": "code",
      "source": [
        "y_pred_proba = model_CatBst_opt.predict_proba(X_test)[::, 1]\n",
        "prcr, recr, threshold = metrics.precision_recall_curve(y_test, y_pred_proba)\n",
        "auc = metrics.auc(recr, prcr)\n",
        "\n",
        "no_skill = y_test[y_test == 1].shape[0] / y_test.shape[0]\n",
        "\n",
        "fig = plt.figure(figsize = (12, 8))\n",
        "\n",
        "plt.plot(recr, prcr, label = 'Catboost, AUC = '+str(auc))\n",
        "plt.plot([0, 1], [no_skill, no_skill], color = 'r', linestyle='--', label = 'No skill')\n",
        "\n",
        "plt.legend(loc = 'best')\n",
        "\n",
        "plt.xlabel('Recall')\n",
        "plt.ylabel('Precision')\n",
        "\n",
        "plt.plot([0, 1, 1], [1, 1, 0], color = 'g', lw = 2, linestyle = '--', label = 'Perfect model')"
      ],
      "metadata": {
        "colab": {
          "base_uri": "https://localhost:8080/",
          "height": 515
        },
        "id": "3cTX2sJX0EL8",
        "outputId": "ab0bdbd5-16c3-486d-9995-2e765b86199a"
      },
      "execution_count": 278,
      "outputs": [
        {
          "output_type": "execute_result",
          "data": {
            "text/plain": [
              "[<matplotlib.lines.Line2D at 0x7fa4d91d1450>]"
            ]
          },
          "metadata": {},
          "execution_count": 278
        },
        {
          "output_type": "display_data",
          "data": {
            "text/plain": [
              "<Figure size 864x576 with 1 Axes>"
            ],
            "image/png": "[encoded data removed]"
          },
          "metadata": {
            "needs_background": "light"
          }
        }
      ]
    },
    {
      "cell_type": "markdown",
      "source": [
        "# Deployment\n",
        "\n",
        "After defining a optimum model, we can deploy it. First, let's use pickle to serialize it, so we can save it in a file:"
      ],
      "metadata": {
        "id": "jicDuzI-0rQE"
      }
    },
    {
      "cell_type": "code",
      "source": [
        "output = open('FraudDetect_CreditCard_OptCatBoost.sav', 'wb')\n",
        "pickle.dump( model_CatBst_opt, output )\n",
        "output.close( )"
      ],
      "metadata": {
        "id": "sUzjdh070dNO"
      },
      "execution_count": 279,
      "outputs": []
    },
    {
      "cell_type": "markdown",
      "source": [
        "Thus, if we want to use the model in other application, we don't have to train it again. We can simply do:"
      ],
      "metadata": {
        "id": "AeeUg9iI0291"
      }
    },
    {
      "cell_type": "code",
      "source": [
        "serialized_model = open('FraudDetect_CreditCard_OptCatBoost.sav', 'rb')\n",
        "CatBst_model = pickle.load(serialized_model)\n",
        "serialized_model.close( )"
      ],
      "metadata": {
        "id": "ougipIxC1Tui"
      },
      "execution_count": 280,
      "outputs": []
    },
    {
      "cell_type": "markdown",
      "source": [
        "Nice! Now, to finish things up, let's just build an interactive simulator, so that one may \"play\" with our new model:"
      ],
      "metadata": {
        "id": "dFK63Bjo1eOX"
      }
    },
    {
      "cell_type": "code",
      "source": [
        "distance_home   = widgets.FloatText(description = 'Dist. home (km): ')\n",
        "distance_last   = widgets.FloatText(description = 'Dist. last (km): ')\n",
        "transaction_val = widgets.FloatText(description = 'Value: ')\n",
        "same_seller     = widgets.RadioButtons(description = 'Same seller?', options = ['No', 'Yes'])\n",
        "physical        = widgets.RadioButtons(description = 'Physical card?', options = ['No', 'Yes'])\n",
        "password        = widgets.RadioButtons(description = 'Password?', options = ['No', 'Yes'])\n",
        "online          = widgets.RadioButtons(description = 'On-line?', options = ['No', 'Yes'])\n",
        "\n",
        "button = widgets.Button(description = 'Detect')\n",
        "\n",
        "left  = VBox([distance_home, distance_last, transaction_val])\n",
        "med   = VBox([same_seller, physical])\n",
        "right = VBox([password, online])\n",
        "inputs = HBox([left, med, right])"
      ],
      "metadata": {
        "id": "G1TMTcQD1c6O"
      },
      "execution_count": 297,
      "outputs": []
    },
    {
      "cell_type": "code",
      "source": [
        "def detect(sender):\n",
        "  d_home = float(distance_home.value)\n",
        "  d_last = float(distance_last.value)\n",
        "  value  = float(transaction_val.value)\n",
        "\n",
        "  same_str = str(same_seller.value)\n",
        "  phys_str = str(physical.value)\n",
        "  pswd_str = str(password.value)\n",
        "  onln_str = str(online.value)\n",
        "\n",
        "  same = 1 if (same_str == 'Yes') else 0\n",
        "  phys = 1 if (phys_str == 'Yes') else 0\n",
        "  pswd = 1 if (pswd_str == 'Yes') else 0\n",
        "  onln = 1 if (onln_str == 'Yes') else 0\n",
        "\n",
        "  X_v = pd.DataFrame( {'Distance_home' : d_home, 'Distance_last_transaction' : d_last, 'Transaction_value' : value,\n",
        "                       'Same_seller' : same, 'Physical_card' : phys, 'Password' : pswd, 'Online' : onln}, index = [0] )\n",
        "  \n",
        "  y_pred, y_prob = pred_threshold(CatBst_model, X_v, opt_thresh)\n",
        "\n",
        "  if y_pred == 0:\n",
        "    print(f'Transaction is not fraudulent (Probability of {round(y_prob[0]*100, 2)}%, threshold of {round(opt_thresh*100, 2)}%).')\n",
        "  else:\n",
        "    print(f'Transaction is fraudulent (Probability of {round(y_prob[0]*100, 2)}%, threshold of {round(opt_thresh*100, 2)}%).')"
      ],
      "metadata": {
        "id": "dARmdxd42jv_"
      },
      "execution_count": 298,
      "outputs": []
    },
    {
      "cell_type": "code",
      "source": [
        "button.on_click(detect)"
      ],
      "metadata": {
        "id": "ofZxkrUt1u9F"
      },
      "execution_count": 299,
      "outputs": []
    },
    {
      "cell_type": "code",
      "source": [
        "display(inputs, button)"
      ],
      "metadata": {
        "colab": {
          "base_uri": "https://localhost:8080/",
          "height": 176,
          "referenced_widgets": [
            "8e3c1cc7a51942bb836d0e717997041d",
            "53a5712484944b00b615fbe874d4b0e6",
            "9c2208fc8c224f52aa1364f602e0730b",
            "7038824ced5f4853a1f4def291925526",
            "888d09769ac14ae393d975f534f9bbed",
            "cf7b418fbbf04293a664db916e0c560a",
            "b43dd923970044229440138edfaa1ada",
            "81edc5e4dba0479b9cc2814da1327831",
            "4c2f7512de9f4314a58ce629d1a55faa",
            "7f9f43c2b4f54917b99e381e7229fd3c",
            "5a7b3a58f03b4984b53c221410dbd1a3",
            "469749139a214ae99983ac83876f8e37",
            "5b44c13070944abda4b88de9d4779b59",
            "9f77babc37fb4f4cbb623f293ee6b11c",
            "8d51a3cb248949bc8036adc43ccec3ac",
            "db15a98be933432984d1179202e6ec32",
            "2a927156980f4aa09a2973971c4fccef",
            "a79338c0b8cd428c9a33b28f60288360",
            "3c729652bc514af6954b2b357bb790e0",
            "1527aa307ead4ed99c385d781e23d3ad",
            "b358775a710e4628b84a69a8d2191086",
            "f6d69cfbbaa04e65a1ea080fee49ee5f",
            "5d70c553744f40118d18dcb1b7c78f49",
            "0991f17eed8742c9b2df9e8b53938ba6",
            "030e22d6859045f5902e3f43afc44656",
            "a15b3fa814eb4475b667774c9c30f922",
            "69d4fd4e729c4f2ab3ec3e041de3a24a",
            "786f8cae8706407c926549dbc12826ad",
            "54404f096a1642968d2fd0446c92e0e6",
            "f56dfc1e7ed649199f482271091b0a8e",
            "b54a0f42b2534341bf94315d35c89bd4",
            "bbda0e4c90b9477da91e8cc7495c199f"
          ]
        },
        "id": "t872qGPq5H09",
        "outputId": "391d0587-d80f-44d7-97d8-b84308de94b9"
      },
      "execution_count": 300,
      "outputs": [
        {
          "output_type": "display_data",
          "data": {
            "text/plain": [
              "HBox(children=(VBox(children=(FloatText(value=0.0, description='Dist. home (km): '), FloatText(value=0.0, desc…"
            ],
            "application/vnd.jupyter.widget-view+json": {
              "version_major": 2,
              "version_minor": 0,
              "model_id": "8e3c1cc7a51942bb836d0e717997041d"
            }
          },
          "metadata": {}
        },
        {
          "output_type": "display_data",
          "data": {
            "text/plain": [
              "Button(description='Detect', style=ButtonStyle())"
            ],
            "application/vnd.jupyter.widget-view+json": {
              "version_major": 2,
              "version_minor": 0,
              "model_id": "f56dfc1e7ed649199f482271091b0a8e"
            }
          },
          "metadata": {}
        }
      ]
    },
    {
      "cell_type": "markdown",
      "source": [
        "Nice! Now, one can test our model from Python for different inputs!"
      ],
      "metadata": {
        "id": "wv6oVOHK5MY0"
      }
    },
    {
      "cell_type": "markdown",
      "source": [
        "# Final recommendations\n",
        "\n",
        "In this project, we managed to build a very strong fraud detection model for transactions via Credit Card. Considering the test set, our model showed a recall of 100%, which means that we were able to detect **ALL** fraudulent transactions in our test set. Also, the model showed a precision of 98.64%, which means that 98.64% of the predicted frauds are, indeed, frauds. That means that we can heavily rely on our model.\n",
        "\n",
        "Now, we have to use the model to bring value to our business. Thus, we can propose some actions based on the model characteristics, as well as based on the data itself. These recommendations are stated in the following:\n",
        "\n",
        "* Usually, fraudulent transactions involve more money than usual transactions. Thus, we really should try to identify fraudulent high-value transactions. These are likely related to transactions without passwords or online transactions. \n",
        "* Since our model has a very high recall, we can rely on our model to detect frauds. However, note that some transactions that our model thinks are fraudulent are, in fact, not fraudulent. If our model thinks a transaction is fraudulent, we have to deny the transaction and ask for some validation from the user. After the validation is given, we can decide if we allow the transaction or not.\n",
        "* Some validation procedures can be: captchas, require a password if possible (if a password was not used), confirmation of the transaction via credit card app, make a call to the call center to allow the transaction. These actions can be implemented to reduce the headache from the customers who have to deal with an undesirable \"block\".\n",
        "\n",
        "These are important recommendations for the company and may be used to guide further implementations in the service.\n"
      ],
      "metadata": {
        "id": "mfv9uFf15RBo"
      }
    }
  ]
}