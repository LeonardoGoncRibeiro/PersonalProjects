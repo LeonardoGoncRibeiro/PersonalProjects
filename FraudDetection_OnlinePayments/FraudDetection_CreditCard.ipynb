{
  "nbformat": 4,
  "nbformat_minor": 0,
  "metadata": {
    "colab": {
      "name": "FraudDetection_CreditCard.ipynb",
      "provenance": [],
      "collapsed_sections": [],
      "toc_visible": true,
      "authorship_tag": "ABX9TyPtGPiYn2qx44Bv9PlnpUm2",
      "include_colab_link": true
    },
    "kernelspec": {
      "name": "python3",
      "display_name": "Python 3"
    },
    "language_info": {
      "name": "python"
    },
    "widgets": {
      "application/vnd.jupyter.widget-state+json": {
        "f0648820bfb44a55af2b349109d610de": {
          "model_module": "@jupyter-widgets/controls",
          "model_name": "HBoxModel",
          "model_module_version": "1.5.0",
          "state": {
            "_dom_classes": [],
            "_model_module": "@jupyter-widgets/controls",
            "_model_module_version": "1.5.0",
            "_model_name": "HBoxModel",
            "_view_count": null,
            "_view_module": "@jupyter-widgets/controls",
            "_view_module_version": "1.5.0",
            "_view_name": "HBoxView",
            "box_style": "",
            "children": [
              "IPY_MODEL_aa2927d102784f8395bd0d274c9599a6",
              "IPY_MODEL_c9e3e5b8e60b41889044e32526c8f554",
              "IPY_MODEL_04e307c40f38483e9a34ef73cd0e25a3"
            ],
            "layout": "IPY_MODEL_d78eae1bdc2e47e0b489d03430d84994"
          }
        },
        "aa2927d102784f8395bd0d274c9599a6": {
          "model_module": "@jupyter-widgets/controls",
          "model_name": "VBoxModel",
          "model_module_version": "1.5.0",
          "state": {
            "_dom_classes": [],
            "_model_module": "@jupyter-widgets/controls",
            "_model_module_version": "1.5.0",
            "_model_name": "VBoxModel",
            "_view_count": null,
            "_view_module": "@jupyter-widgets/controls",
            "_view_module_version": "1.5.0",
            "_view_name": "VBoxView",
            "box_style": "",
            "children": [
              "IPY_MODEL_92e754ced1144b7d9a9563b9de52515e",
              "IPY_MODEL_dd41a6a4fe9a401488f00ebb0305865e",
              "IPY_MODEL_e62c1556feb444f88a88262bfb2bded9"
            ],
            "layout": "IPY_MODEL_5e5d0d73382a45c5adfe99530a49abce"
          }
        },
        "c9e3e5b8e60b41889044e32526c8f554": {
          "model_module": "@jupyter-widgets/controls",
          "model_name": "VBoxModel",
          "model_module_version": "1.5.0",
          "state": {
            "_dom_classes": [],
            "_model_module": "@jupyter-widgets/controls",
            "_model_module_version": "1.5.0",
            "_model_name": "VBoxModel",
            "_view_count": null,
            "_view_module": "@jupyter-widgets/controls",
            "_view_module_version": "1.5.0",
            "_view_name": "VBoxView",
            "box_style": "",
            "children": [
              "IPY_MODEL_40bf8c1f37cb42c5a336e14b77e5986b",
              "IPY_MODEL_d169e5f4169a4636b5852e63d21b6b6d"
            ],
            "layout": "IPY_MODEL_8c10da72eb0043ae8b3a5f9c56410513"
          }
        },
        "04e307c40f38483e9a34ef73cd0e25a3": {
          "model_module": "@jupyter-widgets/controls",
          "model_name": "VBoxModel",
          "model_module_version": "1.5.0",
          "state": {
            "_dom_classes": [],
            "_model_module": "@jupyter-widgets/controls",
            "_model_module_version": "1.5.0",
            "_model_name": "VBoxModel",
            "_view_count": null,
            "_view_module": "@jupyter-widgets/controls",
            "_view_module_version": "1.5.0",
            "_view_name": "VBoxView",
            "box_style": "",
            "children": [
              "IPY_MODEL_c652148d1ae944c08cb2a1ec871b534a",
              "IPY_MODEL_ffccd5b41cd444d492002a99debceac7"
            ],
            "layout": "IPY_MODEL_36de82c7f6c94f5fa7479a6e9aecfbe3"
          }
        },
        "d78eae1bdc2e47e0b489d03430d84994": {
          "model_module": "@jupyter-widgets/base",
          "model_name": "LayoutModel",
          "model_module_version": "1.2.0",
          "state": {
            "_model_module": "@jupyter-widgets/base",
            "_model_module_version": "1.2.0",
            "_model_name": "LayoutModel",
            "_view_count": null,
            "_view_module": "@jupyter-widgets/base",
            "_view_module_version": "1.2.0",
            "_view_name": "LayoutView",
            "align_content": null,
            "align_items": null,
            "align_self": null,
            "border": null,
            "bottom": null,
            "display": null,
            "flex": null,
            "flex_flow": null,
            "grid_area": null,
            "grid_auto_columns": null,
            "grid_auto_flow": null,
            "grid_auto_rows": null,
            "grid_column": null,
            "grid_gap": null,
            "grid_row": null,
            "grid_template_areas": null,
            "grid_template_columns": null,
            "grid_template_rows": null,
            "height": null,
            "justify_content": null,
            "justify_items": null,
            "left": null,
            "margin": null,
            "max_height": null,
            "max_width": null,
            "min_height": null,
            "min_width": null,
            "object_fit": null,
            "object_position": null,
            "order": null,
            "overflow": null,
            "overflow_x": null,
            "overflow_y": null,
            "padding": null,
            "right": null,
            "top": null,
            "visibility": null,
            "width": null
          }
        },
        "92e754ced1144b7d9a9563b9de52515e": {
          "model_module": "@jupyter-widgets/controls",
          "model_name": "FloatTextModel",
          "model_module_version": "1.5.0",
          "state": {
            "_dom_classes": [],
            "_model_module": "@jupyter-widgets/controls",
            "_model_module_version": "1.5.0",
            "_model_name": "FloatTextModel",
            "_view_count": null,
            "_view_module": "@jupyter-widgets/controls",
            "_view_module_version": "1.5.0",
            "_view_name": "FloatTextView",
            "continuous_update": false,
            "description": "Dist. home (km): ",
            "description_tooltip": null,
            "disabled": false,
            "layout": "IPY_MODEL_30148159331849de8c7ae29f2d280154",
            "step": null,
            "style": "IPY_MODEL_8250fd6b78364c37a55a7faa9414885c",
            "value": 10
          }
        },
        "dd41a6a4fe9a401488f00ebb0305865e": {
          "model_module": "@jupyter-widgets/controls",
          "model_name": "FloatTextModel",
          "model_module_version": "1.5.0",
          "state": {
            "_dom_classes": [],
            "_model_module": "@jupyter-widgets/controls",
            "_model_module_version": "1.5.0",
            "_model_name": "FloatTextModel",
            "_view_count": null,
            "_view_module": "@jupyter-widgets/controls",
            "_view_module_version": "1.5.0",
            "_view_name": "FloatTextView",
            "continuous_update": false,
            "description": "Dist. last (km): ",
            "description_tooltip": null,
            "disabled": false,
            "layout": "IPY_MODEL_0a6f4a43ab1149ff95724065322ac5ac",
            "step": null,
            "style": "IPY_MODEL_96d7121469a1444085f0687134b7ac1e",
            "value": 20
          }
        },
        "e62c1556feb444f88a88262bfb2bded9": {
          "model_module": "@jupyter-widgets/controls",
          "model_name": "FloatTextModel",
          "model_module_version": "1.5.0",
          "state": {
            "_dom_classes": [],
            "_model_module": "@jupyter-widgets/controls",
            "_model_module_version": "1.5.0",
            "_model_name": "FloatTextModel",
            "_view_count": null,
            "_view_module": "@jupyter-widgets/controls",
            "_view_module_version": "1.5.0",
            "_view_name": "FloatTextView",
            "continuous_update": false,
            "description": "Value: ",
            "description_tooltip": null,
            "disabled": false,
            "layout": "IPY_MODEL_48842b2484904416ba533c7bb4faade6",
            "step": null,
            "style": "IPY_MODEL_a1466fba409e46a8ac82d0a307ed0780",
            "value": 100
          }
        },
        "5e5d0d73382a45c5adfe99530a49abce": {
          "model_module": "@jupyter-widgets/base",
          "model_name": "LayoutModel",
          "model_module_version": "1.2.0",
          "state": {
            "_model_module": "@jupyter-widgets/base",
            "_model_module_version": "1.2.0",
            "_model_name": "LayoutModel",
            "_view_count": null,
            "_view_module": "@jupyter-widgets/base",
            "_view_module_version": "1.2.0",
            "_view_name": "LayoutView",
            "align_content": null,
            "align_items": null,
            "align_self": null,
            "border": null,
            "bottom": null,
            "display": null,
            "flex": null,
            "flex_flow": null,
            "grid_area": null,
            "grid_auto_columns": null,
            "grid_auto_flow": null,
            "grid_auto_rows": null,
            "grid_column": null,
            "grid_gap": null,
            "grid_row": null,
            "grid_template_areas": null,
            "grid_template_columns": null,
            "grid_template_rows": null,
            "height": null,
            "justify_content": null,
            "justify_items": null,
            "left": null,
            "margin": null,
            "max_height": null,
            "max_width": null,
            "min_height": null,
            "min_width": null,
            "object_fit": null,
            "object_position": null,
            "order": null,
            "overflow": null,
            "overflow_x": null,
            "overflow_y": null,
            "padding": null,
            "right": null,
            "top": null,
            "visibility": null,
            "width": null
          }
        },
        "40bf8c1f37cb42c5a336e14b77e5986b": {
          "model_module": "@jupyter-widgets/controls",
          "model_name": "RadioButtonsModel",
          "model_module_version": "1.5.0",
          "state": {
            "_dom_classes": [],
            "_model_module": "@jupyter-widgets/controls",
            "_model_module_version": "1.5.0",
            "_model_name": "RadioButtonsModel",
            "_options_labels": [
              "No",
              "Yes"
            ],
            "_view_count": null,
            "_view_module": "@jupyter-widgets/controls",
            "_view_module_version": "1.5.0",
            "_view_name": "RadioButtonsView",
            "description": "Same seller?",
            "description_tooltip": null,
            "disabled": false,
            "index": 0,
            "layout": "IPY_MODEL_47cb1d2a8a64442a88301961f13f7b3f",
            "style": "IPY_MODEL_ee94ef49f90b4665a3d98eafecf7fff5"
          }
        },
        "d169e5f4169a4636b5852e63d21b6b6d": {
          "model_module": "@jupyter-widgets/controls",
          "model_name": "RadioButtonsModel",
          "model_module_version": "1.5.0",
          "state": {
            "_dom_classes": [],
            "_model_module": "@jupyter-widgets/controls",
            "_model_module_version": "1.5.0",
            "_model_name": "RadioButtonsModel",
            "_options_labels": [
              "No",
              "Yes"
            ],
            "_view_count": null,
            "_view_module": "@jupyter-widgets/controls",
            "_view_module_version": "1.5.0",
            "_view_name": "RadioButtonsView",
            "description": "Physical card?",
            "description_tooltip": null,
            "disabled": false,
            "index": 1,
            "layout": "IPY_MODEL_12d6b05873464905a9d4bc6e68403e62",
            "style": "IPY_MODEL_0d59b8f19f37456cb76f4a3742793ea7"
          }
        },
        "8c10da72eb0043ae8b3a5f9c56410513": {
          "model_module": "@jupyter-widgets/base",
          "model_name": "LayoutModel",
          "model_module_version": "1.2.0",
          "state": {
            "_model_module": "@jupyter-widgets/base",
            "_model_module_version": "1.2.0",
            "_model_name": "LayoutModel",
            "_view_count": null,
            "_view_module": "@jupyter-widgets/base",
            "_view_module_version": "1.2.0",
            "_view_name": "LayoutView",
            "align_content": null,
            "align_items": null,
            "align_self": null,
            "border": null,
            "bottom": null,
            "display": null,
            "flex": null,
            "flex_flow": null,
            "grid_area": null,
            "grid_auto_columns": null,
            "grid_auto_flow": null,
            "grid_auto_rows": null,
            "grid_column": null,
            "grid_gap": null,
            "grid_row": null,
            "grid_template_areas": null,
            "grid_template_columns": null,
            "grid_template_rows": null,
            "height": null,
            "justify_content": null,
            "justify_items": null,
            "left": null,
            "margin": null,
            "max_height": null,
            "max_width": null,
            "min_height": null,
            "min_width": null,
            "object_fit": null,
            "object_position": null,
            "order": null,
            "overflow": null,
            "overflow_x": null,
            "overflow_y": null,
            "padding": null,
            "right": null,
            "top": null,
            "visibility": null,
            "width": null
          }
        },
        "c652148d1ae944c08cb2a1ec871b534a": {
          "model_module": "@jupyter-widgets/controls",
          "model_name": "RadioButtonsModel",
          "model_module_version": "1.5.0",
          "state": {
            "_dom_classes": [],
            "_model_module": "@jupyter-widgets/controls",
            "_model_module_version": "1.5.0",
            "_model_name": "RadioButtonsModel",
            "_options_labels": [
              "No",
              "Yes"
            ],
            "_view_count": null,
            "_view_module": "@jupyter-widgets/controls",
            "_view_module_version": "1.5.0",
            "_view_name": "RadioButtonsView",
            "description": "Password?",
            "description_tooltip": null,
            "disabled": false,
            "index": 1,
            "layout": "IPY_MODEL_10da99a3b91f45ca810c3198e8c2fb57",
            "style": "IPY_MODEL_538207c0f8984db398055fd04988c448"
          }
        },
        "ffccd5b41cd444d492002a99debceac7": {
          "model_module": "@jupyter-widgets/controls",
          "model_name": "RadioButtonsModel",
          "model_module_version": "1.5.0",
          "state": {
            "_dom_classes": [],
            "_model_module": "@jupyter-widgets/controls",
            "_model_module_version": "1.5.0",
            "_model_name": "RadioButtonsModel",
            "_options_labels": [
              "No",
              "Yes"
            ],
            "_view_count": null,
            "_view_module": "@jupyter-widgets/controls",
            "_view_module_version": "1.5.0",
            "_view_name": "RadioButtonsView",
            "description": "On-line?",
            "description_tooltip": null,
            "disabled": false,
            "index": 0,
            "layout": "IPY_MODEL_a65fb1e9d2b54479adc48f235873a0ad",
            "style": "IPY_MODEL_5f1a0d66ae364875a651b2ac309840d8"
          }
        },
        "36de82c7f6c94f5fa7479a6e9aecfbe3": {
          "model_module": "@jupyter-widgets/base",
          "model_name": "LayoutModel",
          "model_module_version": "1.2.0",
          "state": {
            "_model_module": "@jupyter-widgets/base",
            "_model_module_version": "1.2.0",
            "_model_name": "LayoutModel",
            "_view_count": null,
            "_view_module": "@jupyter-widgets/base",
            "_view_module_version": "1.2.0",
            "_view_name": "LayoutView",
            "align_content": null,
            "align_items": null,
            "align_self": null,
            "border": null,
            "bottom": null,
            "display": null,
            "flex": null,
            "flex_flow": null,
            "grid_area": null,
            "grid_auto_columns": null,
            "grid_auto_flow": null,
            "grid_auto_rows": null,
            "grid_column": null,
            "grid_gap": null,
            "grid_row": null,
            "grid_template_areas": null,
            "grid_template_columns": null,
            "grid_template_rows": null,
            "height": null,
            "justify_content": null,
            "justify_items": null,
            "left": null,
            "margin": null,
            "max_height": null,
            "max_width": null,
            "min_height": null,
            "min_width": null,
            "object_fit": null,
            "object_position": null,
            "order": null,
            "overflow": null,
            "overflow_x": null,
            "overflow_y": null,
            "padding": null,
            "right": null,
            "top": null,
            "visibility": null,
            "width": null
          }
        },
        "30148159331849de8c7ae29f2d280154": {
          "model_module": "@jupyter-widgets/base",
          "model_name": "LayoutModel",
          "model_module_version": "1.2.0",
          "state": {
            "_model_module": "@jupyter-widgets/base",
            "_model_module_version": "1.2.0",
            "_model_name": "LayoutModel",
            "_view_count": null,
            "_view_module": "@jupyter-widgets/base",
            "_view_module_version": "1.2.0",
            "_view_name": "LayoutView",
            "align_content": null,
            "align_items": null,
            "align_self": null,
            "border": null,
            "bottom": null,
            "display": null,
            "flex": null,
            "flex_flow": null,
            "grid_area": null,
            "grid_auto_columns": null,
            "grid_auto_flow": null,
            "grid_auto_rows": null,
            "grid_column": null,
            "grid_gap": null,
            "grid_row": null,
            "grid_template_areas": null,
            "grid_template_columns": null,
            "grid_template_rows": null,
            "height": null,
            "justify_content": null,
            "justify_items": null,
            "left": null,
            "margin": null,
            "max_height": null,
            "max_width": null,
            "min_height": null,
            "min_width": null,
            "object_fit": null,
            "object_position": null,
            "order": null,
            "overflow": null,
            "overflow_x": null,
            "overflow_y": null,
            "padding": null,
            "right": null,
            "top": null,
            "visibility": null,
            "width": null
          }
        },
        "8250fd6b78364c37a55a7faa9414885c": {
          "model_module": "@jupyter-widgets/controls",
          "model_name": "DescriptionStyleModel",
          "model_module_version": "1.5.0",
          "state": {
            "_model_module": "@jupyter-widgets/controls",
            "_model_module_version": "1.5.0",
            "_model_name": "DescriptionStyleModel",
            "_view_count": null,
            "_view_module": "@jupyter-widgets/base",
            "_view_module_version": "1.2.0",
            "_view_name": "StyleView",
            "description_width": ""
          }
        },
        "0a6f4a43ab1149ff95724065322ac5ac": {
          "model_module": "@jupyter-widgets/base",
          "model_name": "LayoutModel",
          "model_module_version": "1.2.0",
          "state": {
            "_model_module": "@jupyter-widgets/base",
            "_model_module_version": "1.2.0",
            "_model_name": "LayoutModel",
            "_view_count": null,
            "_view_module": "@jupyter-widgets/base",
            "_view_module_version": "1.2.0",
            "_view_name": "LayoutView",
            "align_content": null,
            "align_items": null,
            "align_self": null,
            "border": null,
            "bottom": null,
            "display": null,
            "flex": null,
            "flex_flow": null,
            "grid_area": null,
            "grid_auto_columns": null,
            "grid_auto_flow": null,
            "grid_auto_rows": null,
            "grid_column": null,
            "grid_gap": null,
            "grid_row": null,
            "grid_template_areas": null,
            "grid_template_columns": null,
            "grid_template_rows": null,
            "height": null,
            "justify_content": null,
            "justify_items": null,
            "left": null,
            "margin": null,
            "max_height": null,
            "max_width": null,
            "min_height": null,
            "min_width": null,
            "object_fit": null,
            "object_position": null,
            "order": null,
            "overflow": null,
            "overflow_x": null,
            "overflow_y": null,
            "padding": null,
            "right": null,
            "top": null,
            "visibility": null,
            "width": null
          }
        },
        "96d7121469a1444085f0687134b7ac1e": {
          "model_module": "@jupyter-widgets/controls",
          "model_name": "DescriptionStyleModel",
          "model_module_version": "1.5.0",
          "state": {
            "_model_module": "@jupyter-widgets/controls",
            "_model_module_version": "1.5.0",
            "_model_name": "DescriptionStyleModel",
            "_view_count": null,
            "_view_module": "@jupyter-widgets/base",
            "_view_module_version": "1.2.0",
            "_view_name": "StyleView",
            "description_width": ""
          }
        },
        "48842b2484904416ba533c7bb4faade6": {
          "model_module": "@jupyter-widgets/base",
          "model_name": "LayoutModel",
          "model_module_version": "1.2.0",
          "state": {
            "_model_module": "@jupyter-widgets/base",
            "_model_module_version": "1.2.0",
            "_model_name": "LayoutModel",
            "_view_count": null,
            "_view_module": "@jupyter-widgets/base",
            "_view_module_version": "1.2.0",
            "_view_name": "LayoutView",
            "align_content": null,
            "align_items": null,
            "align_self": null,
            "border": null,
            "bottom": null,
            "display": null,
            "flex": null,
            "flex_flow": null,
            "grid_area": null,
            "grid_auto_columns": null,
            "grid_auto_flow": null,
            "grid_auto_rows": null,
            "grid_column": null,
            "grid_gap": null,
            "grid_row": null,
            "grid_template_areas": null,
            "grid_template_columns": null,
            "grid_template_rows": null,
            "height": null,
            "justify_content": null,
            "justify_items": null,
            "left": null,
            "margin": null,
            "max_height": null,
            "max_width": null,
            "min_height": null,
            "min_width": null,
            "object_fit": null,
            "object_position": null,
            "order": null,
            "overflow": null,
            "overflow_x": null,
            "overflow_y": null,
            "padding": null,
            "right": null,
            "top": null,
            "visibility": null,
            "width": null
          }
        },
        "a1466fba409e46a8ac82d0a307ed0780": {
          "model_module": "@jupyter-widgets/controls",
          "model_name": "DescriptionStyleModel",
          "model_module_version": "1.5.0",
          "state": {
            "_model_module": "@jupyter-widgets/controls",
            "_model_module_version": "1.5.0",
            "_model_name": "DescriptionStyleModel",
            "_view_count": null,
            "_view_module": "@jupyter-widgets/base",
            "_view_module_version": "1.2.0",
            "_view_name": "StyleView",
            "description_width": ""
          }
        },
        "47cb1d2a8a64442a88301961f13f7b3f": {
          "model_module": "@jupyter-widgets/base",
          "model_name": "LayoutModel",
          "model_module_version": "1.2.0",
          "state": {
            "_model_module": "@jupyter-widgets/base",
            "_model_module_version": "1.2.0",
            "_model_name": "LayoutModel",
            "_view_count": null,
            "_view_module": "@jupyter-widgets/base",
            "_view_module_version": "1.2.0",
            "_view_name": "LayoutView",
            "align_content": null,
            "align_items": null,
            "align_self": null,
            "border": null,
            "bottom": null,
            "display": null,
            "flex": null,
            "flex_flow": null,
            "grid_area": null,
            "grid_auto_columns": null,
            "grid_auto_flow": null,
            "grid_auto_rows": null,
            "grid_column": null,
            "grid_gap": null,
            "grid_row": null,
            "grid_template_areas": null,
            "grid_template_columns": null,
            "grid_template_rows": null,
            "height": null,
            "justify_content": null,
            "justify_items": null,
            "left": null,
            "margin": null,
            "max_height": null,
            "max_width": null,
            "min_height": null,
            "min_width": null,
            "object_fit": null,
            "object_position": null,
            "order": null,
            "overflow": null,
            "overflow_x": null,
            "overflow_y": null,
            "padding": null,
            "right": null,
            "top": null,
            "visibility": null,
            "width": null
          }
        },
        "ee94ef49f90b4665a3d98eafecf7fff5": {
          "model_module": "@jupyter-widgets/controls",
          "model_name": "DescriptionStyleModel",
          "model_module_version": "1.5.0",
          "state": {
            "_model_module": "@jupyter-widgets/controls",
            "_model_module_version": "1.5.0",
            "_model_name": "DescriptionStyleModel",
            "_view_count": null,
            "_view_module": "@jupyter-widgets/base",
            "_view_module_version": "1.2.0",
            "_view_name": "StyleView",
            "description_width": ""
          }
        },
        "12d6b05873464905a9d4bc6e68403e62": {
          "model_module": "@jupyter-widgets/base",
          "model_name": "LayoutModel",
          "model_module_version": "1.2.0",
          "state": {
            "_model_module": "@jupyter-widgets/base",
            "_model_module_version": "1.2.0",
            "_model_name": "LayoutModel",
            "_view_count": null,
            "_view_module": "@jupyter-widgets/base",
            "_view_module_version": "1.2.0",
            "_view_name": "LayoutView",
            "align_content": null,
            "align_items": null,
            "align_self": null,
            "border": null,
            "bottom": null,
            "display": null,
            "flex": null,
            "flex_flow": null,
            "grid_area": null,
            "grid_auto_columns": null,
            "grid_auto_flow": null,
            "grid_auto_rows": null,
            "grid_column": null,
            "grid_gap": null,
            "grid_row": null,
            "grid_template_areas": null,
            "grid_template_columns": null,
            "grid_template_rows": null,
            "height": null,
            "justify_content": null,
            "justify_items": null,
            "left": null,
            "margin": null,
            "max_height": null,
            "max_width": null,
            "min_height": null,
            "min_width": null,
            "object_fit": null,
            "object_position": null,
            "order": null,
            "overflow": null,
            "overflow_x": null,
            "overflow_y": null,
            "padding": null,
            "right": null,
            "top": null,
            "visibility": null,
            "width": null
          }
        },
        "0d59b8f19f37456cb76f4a3742793ea7": {
          "model_module": "@jupyter-widgets/controls",
          "model_name": "DescriptionStyleModel",
          "model_module_version": "1.5.0",
          "state": {
            "_model_module": "@jupyter-widgets/controls",
            "_model_module_version": "1.5.0",
            "_model_name": "DescriptionStyleModel",
            "_view_count": null,
            "_view_module": "@jupyter-widgets/base",
            "_view_module_version": "1.2.0",
            "_view_name": "StyleView",
            "description_width": ""
          }
        },
        "10da99a3b91f45ca810c3198e8c2fb57": {
          "model_module": "@jupyter-widgets/base",
          "model_name": "LayoutModel",
          "model_module_version": "1.2.0",
          "state": {
            "_model_module": "@jupyter-widgets/base",
            "_model_module_version": "1.2.0",
            "_model_name": "LayoutModel",
            "_view_count": null,
            "_view_module": "@jupyter-widgets/base",
            "_view_module_version": "1.2.0",
            "_view_name": "LayoutView",
            "align_content": null,
            "align_items": null,
            "align_self": null,
            "border": null,
            "bottom": null,
            "display": null,
            "flex": null,
            "flex_flow": null,
            "grid_area": null,
            "grid_auto_columns": null,
            "grid_auto_flow": null,
            "grid_auto_rows": null,
            "grid_column": null,
            "grid_gap": null,
            "grid_row": null,
            "grid_template_areas": null,
            "grid_template_columns": null,
            "grid_template_rows": null,
            "height": null,
            "justify_content": null,
            "justify_items": null,
            "left": null,
            "margin": null,
            "max_height": null,
            "max_width": null,
            "min_height": null,
            "min_width": null,
            "object_fit": null,
            "object_position": null,
            "order": null,
            "overflow": null,
            "overflow_x": null,
            "overflow_y": null,
            "padding": null,
            "right": null,
            "top": null,
            "visibility": null,
            "width": null
          }
        },
        "538207c0f8984db398055fd04988c448": {
          "model_module": "@jupyter-widgets/controls",
          "model_name": "DescriptionStyleModel",
          "model_module_version": "1.5.0",
          "state": {
            "_model_module": "@jupyter-widgets/controls",
            "_model_module_version": "1.5.0",
            "_model_name": "DescriptionStyleModel",
            "_view_count": null,
            "_view_module": "@jupyter-widgets/base",
            "_view_module_version": "1.2.0",
            "_view_name": "StyleView",
            "description_width": ""
          }
        },
        "a65fb1e9d2b54479adc48f235873a0ad": {
          "model_module": "@jupyter-widgets/base",
          "model_name": "LayoutModel",
          "model_module_version": "1.2.0",
          "state": {
            "_model_module": "@jupyter-widgets/base",
            "_model_module_version": "1.2.0",
            "_model_name": "LayoutModel",
            "_view_count": null,
            "_view_module": "@jupyter-widgets/base",
            "_view_module_version": "1.2.0",
            "_view_name": "LayoutView",
            "align_content": null,
            "align_items": null,
            "align_self": null,
            "border": null,
            "bottom": null,
            "display": null,
            "flex": null,
            "flex_flow": null,
            "grid_area": null,
            "grid_auto_columns": null,
            "grid_auto_flow": null,
            "grid_auto_rows": null,
            "grid_column": null,
            "grid_gap": null,
            "grid_row": null,
            "grid_template_areas": null,
            "grid_template_columns": null,
            "grid_template_rows": null,
            "height": null,
            "justify_content": null,
            "justify_items": null,
            "left": null,
            "margin": null,
            "max_height": null,
            "max_width": null,
            "min_height": null,
            "min_width": null,
            "object_fit": null,
            "object_position": null,
            "order": null,
            "overflow": null,
            "overflow_x": null,
            "overflow_y": null,
            "padding": null,
            "right": null,
            "top": null,
            "visibility": null,
            "width": null
          }
        },
        "5f1a0d66ae364875a651b2ac309840d8": {
          "model_module": "@jupyter-widgets/controls",
          "model_name": "DescriptionStyleModel",
          "model_module_version": "1.5.0",
          "state": {
            "_model_module": "@jupyter-widgets/controls",
            "_model_module_version": "1.5.0",
            "_model_name": "DescriptionStyleModel",
            "_view_count": null,
            "_view_module": "@jupyter-widgets/base",
            "_view_module_version": "1.2.0",
            "_view_name": "StyleView",
            "description_width": ""
          }
        },
        "53c7dc8f8e364c77821de3adfbd239b4": {
          "model_module": "@jupyter-widgets/controls",
          "model_name": "ButtonModel",
          "model_module_version": "1.5.0",
          "state": {
            "_dom_classes": [],
            "_model_module": "@jupyter-widgets/controls",
            "_model_module_version": "1.5.0",
            "_model_name": "ButtonModel",
            "_view_count": null,
            "_view_module": "@jupyter-widgets/controls",
            "_view_module_version": "1.5.0",
            "_view_name": "ButtonView",
            "button_style": "",
            "description": "Detect",
            "disabled": false,
            "icon": "",
            "layout": "IPY_MODEL_7a08d0409eb341b7bdbda51db8c68c32",
            "style": "IPY_MODEL_830ae015a71845eca7aac4e1112f3171",
            "tooltip": ""
          }
        },
        "7a08d0409eb341b7bdbda51db8c68c32": {
          "model_module": "@jupyter-widgets/base",
          "model_name": "LayoutModel",
          "model_module_version": "1.2.0",
          "state": {
            "_model_module": "@jupyter-widgets/base",
            "_model_module_version": "1.2.0",
            "_model_name": "LayoutModel",
            "_view_count": null,
            "_view_module": "@jupyter-widgets/base",
            "_view_module_version": "1.2.0",
            "_view_name": "LayoutView",
            "align_content": null,
            "align_items": null,
            "align_self": null,
            "border": null,
            "bottom": null,
            "display": null,
            "flex": null,
            "flex_flow": null,
            "grid_area": null,
            "grid_auto_columns": null,
            "grid_auto_flow": null,
            "grid_auto_rows": null,
            "grid_column": null,
            "grid_gap": null,
            "grid_row": null,
            "grid_template_areas": null,
            "grid_template_columns": null,
            "grid_template_rows": null,
            "height": null,
            "justify_content": null,
            "justify_items": null,
            "left": null,
            "margin": null,
            "max_height": null,
            "max_width": null,
            "min_height": null,
            "min_width": null,
            "object_fit": null,
            "object_position": null,
            "order": null,
            "overflow": null,
            "overflow_x": null,
            "overflow_y": null,
            "padding": null,
            "right": null,
            "top": null,
            "visibility": null,
            "width": null
          }
        },
        "830ae015a71845eca7aac4e1112f3171": {
          "model_module": "@jupyter-widgets/controls",
          "model_name": "ButtonStyleModel",
          "model_module_version": "1.5.0",
          "state": {
            "_model_module": "@jupyter-widgets/controls",
            "_model_module_version": "1.5.0",
            "_model_name": "ButtonStyleModel",
            "_view_count": null,
            "_view_module": "@jupyter-widgets/base",
            "_view_module_version": "1.2.0",
            "_view_name": "StyleView",
            "button_color": null,
            "font_weight": ""
          }
        }
      }
    }
  },
  "cells": [
    {
      "cell_type": "markdown",
      "metadata": {
        "id": "view-in-github",
        "colab_type": "text"
      },
      "source": [
        "<a href=\"https://colab.research.google.com/github/LeonardoGoncRibeiro/PersonalProjects/blob/main/FraudDetection_OnlinePayments/FraudDetection_CreditCard.ipynb\" target=\"_parent\"><img src=\"https://colab.research.google.com/assets/colab-badge.svg\" alt=\"Open In Colab\"/></a>"
      ]
    },
    {
      "cell_type": "markdown",
      "source": [
        "# Fraud Detection: Credit Card\n",
        "\n",
        "In this file, I will build a fraud detection algorithm for payments via credit cards. Fraud detection algorithms allow us to predict a probability of a given event being fraudulent, given some input parameters, and, thus, understand if more validation is necessary to conduct the transaction. To that end, we will go through the following steps:\n",
        "\n",
        "1.   Data collection\n",
        "2.   Data cleaning\n",
        "3.   Data exploration and analysis\n",
        "4.   Data modeling and model optimization\n",
        "5.   Deployment\n",
        "\n",
        "First, let's download and import the packages which will be used in this project.\n"
      ],
      "metadata": {
        "id": "pdaCxEWt8Eq_"
      }
    },
    {
      "cell_type": "code",
      "source": [
        "# Catboost model\n",
        "\n",
        "!pip install catboost --quiet"
      ],
      "metadata": {
        "id": "u2muswp1Ccfx"
      },
      "execution_count": 4,
      "outputs": []
    },
    {
      "cell_type": "code",
      "execution_count": 5,
      "metadata": {
        "id": "OgaJCnIj8ApR"
      },
      "outputs": [],
      "source": [
        "import pandas as pd                                           # Data collection and manipulation\n",
        "import numpy as np                                            # Work with arrays\n",
        "import random                                                 # For randomized operations\n",
        "\n",
        "import matplotlib.pyplot as plt                               # Data visualization\n",
        "import seaborn as sns                                         # Data visualization\n",
        "%matplotlib inline\n",
        "\n",
        "from scipy.stats import normaltest                            # Normality test\n",
        "from scipy.stats import mannwhitneyu                          # Mann-whitney test\n",
        "\n",
        "# Modeling\n",
        "\n",
        "from sklearn.model_selection import train_test_split          # Train-test split\n",
        "\n",
        "from sklearn.dummy import DummyClassifier                     # Dummy classifier\n",
        "from sklearn.linear_model import LogisticRegression           # Logistic regression\n",
        "from sklearn.tree import DecisionTreeClassifier               # Decision tree\n",
        "from sklearn.ensemble import RandomForestClassifier           # Random forest\n",
        "from sklearn.ensemble import GradientBoostingClassifier       # Gradient boosting\n",
        "from xgboost import XGBClassifier                             # XGBoost\n",
        "from catboost import CatBoostClassifier                       # Catboost\n",
        "\n",
        "# Model validation\n",
        "\n",
        "from sklearn import metrics                                   # Metrics for comparing different models\n",
        "from sklearn.metrics import confusion_matrix                  # Confusion matrix\n",
        "from sklearn.metrics import ConfusionMatrixDisplay            # Confusion matrix plot\n",
        "\n",
        "# Model deploy\n",
        "\n",
        "import pickle                                                 # Model serialization\n",
        "from ipywidgets import widgets, HBox, VBox                    # Interactive simulator\n",
        "from IPython.display import display                           # Simulator display"
      ]
    },
    {
      "cell_type": "markdown",
      "source": [
        "So, let's start with the data collection."
      ],
      "metadata": {
        "id": "EhbZbn6Y8b1-"
      }
    },
    {
      "cell_type": "markdown",
      "source": [
        "# Data collection\n",
        "\n",
        "In this project, we will use a dataset for credit card payments:"
      ],
      "metadata": {
        "id": "JrE2OjzK8eg0"
      }
    },
    {
      "cell_type": "code",
      "source": [
        "raw_df = pd.read_csv('Dataset_CreditCard_Fraud.csv', sep = ';')\n",
        "\n",
        "raw_df.columns = ['Distance_home', 'Distance_last_transaction', 'Transaction_value', 'Same_seller', 'Physical_card', 'Password', 'Online', 'Fraud']"
      ],
      "metadata": {
        "id": "wdjnij5r8ULa"
      },
      "execution_count": 6,
      "outputs": []
    },
    {
      "cell_type": "code",
      "source": [
        "raw_df.head( )"
      ],
      "metadata": {
        "colab": {
          "base_uri": "https://localhost:8080/",
          "height": 206
        },
        "id": "MVueLOLj9Idp",
        "outputId": "d2bb68df-1197-4aa0-ecf9-9a8a5b72faa8"
      },
      "execution_count": 7,
      "outputs": [
        {
          "output_type": "execute_result",
          "data": {
            "text/plain": [
              "   Distance_home  Distance_last_transaction  Transaction_value  Same_seller  \\\n",
              "0      17.801691                   1.296368             466.36            1   \n",
              "1       5.005299                   1.889715             514.60            1   \n",
              "2      15.615760                   1.126043             837.69            1   \n",
              "3      78.065387                   0.535579             342.12            1   \n",
              "4      35.042909                   0.073558            1103.91            1   \n",
              "\n",
              "   Physical_card  Password  Online  Fraud  \n",
              "0              0         1       1      0  \n",
              "1              0         0       1      0  \n",
              "2              1         0       1      0  \n",
              "3              1         0       1      0  \n",
              "4              0         0       1      0  "
            ],
            "text/html": [
              "\n",
              "  <div id=\"df-8d77b153-e2bc-431c-b5e9-4c65f4fe154a\">\n",
              "    <div class=\"colab-df-container\">\n",
              "      <div>\n",
              "<style scoped>\n",
              "    .dataframe tbody tr th:only-of-type {\n",
              "        vertical-align: middle;\n",
              "    }\n",
              "\n",
              "    .dataframe tbody tr th {\n",
              "        vertical-align: top;\n",
              "    }\n",
              "\n",
              "    .dataframe thead th {\n",
              "        text-align: right;\n",
              "    }\n",
              "</style>\n",
              "<table border=\"1\" class=\"dataframe\">\n",
              "  <thead>\n",
              "    <tr style=\"text-align: right;\">\n",
              "      <th></th>\n",
              "      <th>Distance_home</th>\n",
              "      <th>Distance_last_transaction</th>\n",
              "      <th>Transaction_value</th>\n",
              "      <th>Same_seller</th>\n",
              "      <th>Physical_card</th>\n",
              "      <th>Password</th>\n",
              "      <th>Online</th>\n",
              "      <th>Fraud</th>\n",
              "    </tr>\n",
              "  </thead>\n",
              "  <tbody>\n",
              "    <tr>\n",
              "      <th>0</th>\n",
              "      <td>17.801691</td>\n",
              "      <td>1.296368</td>\n",
              "      <td>466.36</td>\n",
              "      <td>1</td>\n",
              "      <td>0</td>\n",
              "      <td>1</td>\n",
              "      <td>1</td>\n",
              "      <td>0</td>\n",
              "    </tr>\n",
              "    <tr>\n",
              "      <th>1</th>\n",
              "      <td>5.005299</td>\n",
              "      <td>1.889715</td>\n",
              "      <td>514.60</td>\n",
              "      <td>1</td>\n",
              "      <td>0</td>\n",
              "      <td>0</td>\n",
              "      <td>1</td>\n",
              "      <td>0</td>\n",
              "    </tr>\n",
              "    <tr>\n",
              "      <th>2</th>\n",
              "      <td>15.615760</td>\n",
              "      <td>1.126043</td>\n",
              "      <td>837.69</td>\n",
              "      <td>1</td>\n",
              "      <td>1</td>\n",
              "      <td>0</td>\n",
              "      <td>1</td>\n",
              "      <td>0</td>\n",
              "    </tr>\n",
              "    <tr>\n",
              "      <th>3</th>\n",
              "      <td>78.065387</td>\n",
              "      <td>0.535579</td>\n",
              "      <td>342.12</td>\n",
              "      <td>1</td>\n",
              "      <td>1</td>\n",
              "      <td>0</td>\n",
              "      <td>1</td>\n",
              "      <td>0</td>\n",
              "    </tr>\n",
              "    <tr>\n",
              "      <th>4</th>\n",
              "      <td>35.042909</td>\n",
              "      <td>0.073558</td>\n",
              "      <td>1103.91</td>\n",
              "      <td>1</td>\n",
              "      <td>0</td>\n",
              "      <td>0</td>\n",
              "      <td>1</td>\n",
              "      <td>0</td>\n",
              "    </tr>\n",
              "  </tbody>\n",
              "</table>\n",
              "</div>\n",
              "      <button class=\"colab-df-convert\" onclick=\"convertToInteractive('df-8d77b153-e2bc-431c-b5e9-4c65f4fe154a')\"\n",
              "              title=\"Convert this dataframe to an interactive table.\"\n",
              "              style=\"display:none;\">\n",
              "        \n",
              "  <svg xmlns=\"http://www.w3.org/2000/svg\" height=\"24px\"viewBox=\"0 0 24 24\"\n",
              "       width=\"24px\">\n",
              "    <path d=\"M0 0h24v24H0V0z\" fill=\"none\"/>\n",
              "    <path d=\"M18.56 5.44l.94 2.06.94-2.06 2.06-.94-2.06-.94-.94-2.06-.94 2.06-2.06.94zm-11 1L8.5 8.5l.94-2.06 2.06-.94-2.06-.94L8.5 2.5l-.94 2.06-2.06.94zm10 10l.94 2.06.94-2.06 2.06-.94-2.06-.94-.94-2.06-.94 2.06-2.06.94z\"/><path d=\"M17.41 7.96l-1.37-1.37c-.4-.4-.92-.59-1.43-.59-.52 0-1.04.2-1.43.59L10.3 9.45l-7.72 7.72c-.78.78-.78 2.05 0 2.83L4 21.41c.39.39.9.59 1.41.59.51 0 1.02-.2 1.41-.59l7.78-7.78 2.81-2.81c.8-.78.8-2.07 0-2.86zM5.41 20L4 18.59l7.72-7.72 1.47 1.35L5.41 20z\"/>\n",
              "  </svg>\n",
              "      </button>\n",
              "      \n",
              "  <style>\n",
              "    .colab-df-container {\n",
              "      display:flex;\n",
              "      flex-wrap:wrap;\n",
              "      gap: 12px;\n",
              "    }\n",
              "\n",
              "    .colab-df-convert {\n",
              "      background-color: #E8F0FE;\n",
              "      border: none;\n",
              "      border-radius: 50%;\n",
              "      cursor: pointer;\n",
              "      display: none;\n",
              "      fill: #1967D2;\n",
              "      height: 32px;\n",
              "      padding: 0 0 0 0;\n",
              "      width: 32px;\n",
              "    }\n",
              "\n",
              "    .colab-df-convert:hover {\n",
              "      background-color: #E2EBFA;\n",
              "      box-shadow: 0px 1px 2px rgba(60, 64, 67, 0.3), 0px 1px 3px 1px rgba(60, 64, 67, 0.15);\n",
              "      fill: #174EA6;\n",
              "    }\n",
              "\n",
              "    [theme=dark] .colab-df-convert {\n",
              "      background-color: #3B4455;\n",
              "      fill: #D2E3FC;\n",
              "    }\n",
              "\n",
              "    [theme=dark] .colab-df-convert:hover {\n",
              "      background-color: #434B5C;\n",
              "      box-shadow: 0px 1px 3px 1px rgba(0, 0, 0, 0.15);\n",
              "      filter: drop-shadow(0px 1px 2px rgba(0, 0, 0, 0.3));\n",
              "      fill: #FFFFFF;\n",
              "    }\n",
              "  </style>\n",
              "\n",
              "      <script>\n",
              "        const buttonEl =\n",
              "          document.querySelector('#df-8d77b153-e2bc-431c-b5e9-4c65f4fe154a button.colab-df-convert');\n",
              "        buttonEl.style.display =\n",
              "          google.colab.kernel.accessAllowed ? 'block' : 'none';\n",
              "\n",
              "        async function convertToInteractive(key) {\n",
              "          const element = document.querySelector('#df-8d77b153-e2bc-431c-b5e9-4c65f4fe154a');\n",
              "          const dataTable =\n",
              "            await google.colab.kernel.invokeFunction('convertToInteractive',\n",
              "                                                     [key], {});\n",
              "          if (!dataTable) return;\n",
              "\n",
              "          const docLinkHtml = 'Like what you see? Visit the ' +\n",
              "            '<a target=\"_blank\" href=https://colab.research.google.com/notebooks/data_table.ipynb>data table notebook</a>'\n",
              "            + ' to learn more about interactive tables.';\n",
              "          element.innerHTML = '';\n",
              "          dataTable['output_type'] = 'display_data';\n",
              "          await google.colab.output.renderOutput(dataTable, element);\n",
              "          const docLink = document.createElement('div');\n",
              "          docLink.innerHTML = docLinkHtml;\n",
              "          element.appendChild(docLink);\n",
              "        }\n",
              "      </script>\n",
              "    </div>\n",
              "  </div>\n",
              "  "
            ]
          },
          "metadata": {},
          "execution_count": 7
        }
      ]
    },
    {
      "cell_type": "markdown",
      "source": [
        "In this dataset, we have information about a given transaction, mainly:\n",
        "\n",
        "*   Distance_home: The distance from the buyer's home.\n",
        "*   Distance_last_transaction: The distance from the last transaction.\n",
        "*   Transaction_value: The transaction value.\n",
        "\n",
        "Also, we have some boolean features, which state:\n",
        "\n",
        "*   Same_seller: If the transaction is being performed with the same seller.\n",
        "*   Physical_card: If the physical card is being used.\n",
        "*   Password: If the user is inserting the password.\n",
        "*   Online: If the user is buying something online.\n",
        "\n",
        "And, of course, the target feature:\n",
        "\n",
        "*   Fraud: If the transaction is fraudulent.\n",
        "\n"
      ],
      "metadata": {
        "id": "Y6upD6ZK9SjG"
      }
    },
    {
      "cell_type": "markdown",
      "source": [
        "Note that we have 50,000 entries in our dataset:"
      ],
      "metadata": {
        "id": "LG6GQn0VAh4l"
      }
    },
    {
      "cell_type": "code",
      "source": [
        "raw_df.shape"
      ],
      "metadata": {
        "colab": {
          "base_uri": "https://localhost:8080/"
        },
        "id": "3SmVvL7G9JSn",
        "outputId": "be15e634-a84a-404b-dd5f-565f80408133"
      },
      "execution_count": 8,
      "outputs": [
        {
          "output_type": "execute_result",
          "data": {
            "text/plain": [
              "(50000, 8)"
            ]
          },
          "metadata": {},
          "execution_count": 8
        }
      ]
    },
    {
      "cell_type": "markdown",
      "source": [
        "Now, let's start cleaning our data:"
      ],
      "metadata": {
        "id": "x3Qq8t-sAxz-"
      }
    },
    {
      "cell_type": "markdown",
      "source": [
        "# Data cleaning\n",
        "\n",
        "So, let's clean our dataset. First, let's see if we have any null value:"
      ],
      "metadata": {
        "id": "mLa4RPVVA0dm"
      }
    },
    {
      "cell_type": "code",
      "source": [
        "raw_df.isnull( ).sum( )"
      ],
      "metadata": {
        "colab": {
          "base_uri": "https://localhost:8080/"
        },
        "id": "YKTYbgsKAs1R",
        "outputId": "6011b52a-9efc-48da-b2e3-86f3508951a0"
      },
      "execution_count": 9,
      "outputs": [
        {
          "output_type": "execute_result",
          "data": {
            "text/plain": [
              "Distance_home                0\n",
              "Distance_last_transaction    0\n",
              "Transaction_value            0\n",
              "Same_seller                  0\n",
              "Physical_card                0\n",
              "Password                     0\n",
              "Online                       0\n",
              "Fraud                        0\n",
              "dtype: int64"
            ]
          },
          "metadata": {},
          "execution_count": 9
        }
      ]
    },
    {
      "cell_type": "markdown",
      "source": [
        "Nice! We have no null value in our dataframe. Now, let's see if we have any duplicated entry:"
      ],
      "metadata": {
        "id": "ztMQNYtJBAGH"
      }
    },
    {
      "cell_type": "code",
      "source": [
        "raw_df.duplicated( ).sum( )"
      ],
      "metadata": {
        "colab": {
          "base_uri": "https://localhost:8080/"
        },
        "id": "DBA9kD-xA-UY",
        "outputId": "a98c25a7-29c2-49ff-939a-9901747d81c7"
      },
      "execution_count": 10,
      "outputs": [
        {
          "output_type": "execute_result",
          "data": {
            "text/plain": [
              "0"
            ]
          },
          "metadata": {},
          "execution_count": 10
        }
      ]
    },
    {
      "cell_type": "markdown",
      "source": [
        "Nice! Also, no duplicated entry. \n",
        "\n",
        "Now, let's see if we have any strange entry. First, all of our boolean features should only have two possible values: 0 and 1. Let's see if that is the case for all boolean features:"
      ],
      "metadata": {
        "id": "K12P4qHrBN8Y"
      }
    },
    {
      "cell_type": "code",
      "source": [
        "bool_cols = ['Same_seller', 'Physical_card', 'Password', 'Online', 'Fraud']\n",
        "\n",
        "for bc in bool_cols:\n",
        "  print('-'*30)\n",
        "  print(bc)\n",
        "  print('-'*30)\n",
        "  for i in range(len(raw_df[bc].unique( ))):\n",
        "    print('Unique value number ' + str(i + 1) + ' - ' + str(raw_df[bc].unique( )[i]))"
      ],
      "metadata": {
        "colab": {
          "base_uri": "https://localhost:8080/"
        },
        "id": "wrnX2vZYBHQ9",
        "outputId": "b34f5c1a-87f0-4455-83e9-e9900f5dbfc2"
      },
      "execution_count": 11,
      "outputs": [
        {
          "output_type": "stream",
          "name": "stdout",
          "text": [
            "------------------------------\n",
            "Same_seller\n",
            "------------------------------\n",
            "Unique value number 1 - 1\n",
            "Unique value number 2 - 0\n",
            "------------------------------\n",
            "Physical_card\n",
            "------------------------------\n",
            "Unique value number 1 - 0\n",
            "Unique value number 2 - 1\n",
            "------------------------------\n",
            "Password\n",
            "------------------------------\n",
            "Unique value number 1 - 1\n",
            "Unique value number 2 - 0\n",
            "------------------------------\n",
            "Online\n",
            "------------------------------\n",
            "Unique value number 1 - 1\n",
            "Unique value number 2 - 0\n",
            "------------------------------\n",
            "Fraud\n",
            "------------------------------\n",
            "Unique value number 1 - 0\n",
            "Unique value number 2 - 1\n"
          ]
        }
      ]
    },
    {
      "cell_type": "markdown",
      "source": [
        "Nice! All features have only two possible values (0 and 1), as expected. Now, let's see if we have any strange values in our continuous features:"
      ],
      "metadata": {
        "id": "WHIZolQkCGW3"
      }
    },
    {
      "cell_type": "code",
      "source": [
        "cont_cols = ['Distance_home', 'Distance_last_transaction', 'Transaction_value']\n",
        "\n",
        "raw_df[cont_cols].describe( )"
      ],
      "metadata": {
        "colab": {
          "base_uri": "https://localhost:8080/",
          "height": 300
        },
        "id": "5AkXbFZsBg_J",
        "outputId": "384c44d8-439c-49ff-c6f1-f2e3c27e6081"
      },
      "execution_count": 12,
      "outputs": [
        {
          "output_type": "execute_result",
          "data": {
            "text/plain": [
              "       Distance_home  Distance_last_transaction  Transaction_value\n",
              "count   50000.000000               50000.000000       50000.000000\n",
              "mean       26.732037                   5.037710        1838.540043\n",
              "std        69.287903                  21.657879        2836.469831\n",
              "min         0.038379                   0.000338           8.950000\n",
              "25%         3.897788                   0.296896         477.595000\n",
              "50%        10.061194                   0.999128        1002.075000\n",
              "75%        25.845679                   3.326717        2097.670000\n",
              "max      5797.972589                1400.098234      126294.930000"
            ],
            "text/html": [
              "\n",
              "  <div id=\"df-ac47d4ac-3008-45a5-9fe2-f6f00e3d15ec\">\n",
              "    <div class=\"colab-df-container\">\n",
              "      <div>\n",
              "<style scoped>\n",
              "    .dataframe tbody tr th:only-of-type {\n",
              "        vertical-align: middle;\n",
              "    }\n",
              "\n",
              "    .dataframe tbody tr th {\n",
              "        vertical-align: top;\n",
              "    }\n",
              "\n",
              "    .dataframe thead th {\n",
              "        text-align: right;\n",
              "    }\n",
              "</style>\n",
              "<table border=\"1\" class=\"dataframe\">\n",
              "  <thead>\n",
              "    <tr style=\"text-align: right;\">\n",
              "      <th></th>\n",
              "      <th>Distance_home</th>\n",
              "      <th>Distance_last_transaction</th>\n",
              "      <th>Transaction_value</th>\n",
              "    </tr>\n",
              "  </thead>\n",
              "  <tbody>\n",
              "    <tr>\n",
              "      <th>count</th>\n",
              "      <td>50000.000000</td>\n",
              "      <td>50000.000000</td>\n",
              "      <td>50000.000000</td>\n",
              "    </tr>\n",
              "    <tr>\n",
              "      <th>mean</th>\n",
              "      <td>26.732037</td>\n",
              "      <td>5.037710</td>\n",
              "      <td>1838.540043</td>\n",
              "    </tr>\n",
              "    <tr>\n",
              "      <th>std</th>\n",
              "      <td>69.287903</td>\n",
              "      <td>21.657879</td>\n",
              "      <td>2836.469831</td>\n",
              "    </tr>\n",
              "    <tr>\n",
              "      <th>min</th>\n",
              "      <td>0.038379</td>\n",
              "      <td>0.000338</td>\n",
              "      <td>8.950000</td>\n",
              "    </tr>\n",
              "    <tr>\n",
              "      <th>25%</th>\n",
              "      <td>3.897788</td>\n",
              "      <td>0.296896</td>\n",
              "      <td>477.595000</td>\n",
              "    </tr>\n",
              "    <tr>\n",
              "      <th>50%</th>\n",
              "      <td>10.061194</td>\n",
              "      <td>0.999128</td>\n",
              "      <td>1002.075000</td>\n",
              "    </tr>\n",
              "    <tr>\n",
              "      <th>75%</th>\n",
              "      <td>25.845679</td>\n",
              "      <td>3.326717</td>\n",
              "      <td>2097.670000</td>\n",
              "    </tr>\n",
              "    <tr>\n",
              "      <th>max</th>\n",
              "      <td>5797.972589</td>\n",
              "      <td>1400.098234</td>\n",
              "      <td>126294.930000</td>\n",
              "    </tr>\n",
              "  </tbody>\n",
              "</table>\n",
              "</div>\n",
              "      <button class=\"colab-df-convert\" onclick=\"convertToInteractive('df-ac47d4ac-3008-45a5-9fe2-f6f00e3d15ec')\"\n",
              "              title=\"Convert this dataframe to an interactive table.\"\n",
              "              style=\"display:none;\">\n",
              "        \n",
              "  <svg xmlns=\"http://www.w3.org/2000/svg\" height=\"24px\"viewBox=\"0 0 24 24\"\n",
              "       width=\"24px\">\n",
              "    <path d=\"M0 0h24v24H0V0z\" fill=\"none\"/>\n",
              "    <path d=\"M18.56 5.44l.94 2.06.94-2.06 2.06-.94-2.06-.94-.94-2.06-.94 2.06-2.06.94zm-11 1L8.5 8.5l.94-2.06 2.06-.94-2.06-.94L8.5 2.5l-.94 2.06-2.06.94zm10 10l.94 2.06.94-2.06 2.06-.94-2.06-.94-.94-2.06-.94 2.06-2.06.94z\"/><path d=\"M17.41 7.96l-1.37-1.37c-.4-.4-.92-.59-1.43-.59-.52 0-1.04.2-1.43.59L10.3 9.45l-7.72 7.72c-.78.78-.78 2.05 0 2.83L4 21.41c.39.39.9.59 1.41.59.51 0 1.02-.2 1.41-.59l7.78-7.78 2.81-2.81c.8-.78.8-2.07 0-2.86zM5.41 20L4 18.59l7.72-7.72 1.47 1.35L5.41 20z\"/>\n",
              "  </svg>\n",
              "      </button>\n",
              "      \n",
              "  <style>\n",
              "    .colab-df-container {\n",
              "      display:flex;\n",
              "      flex-wrap:wrap;\n",
              "      gap: 12px;\n",
              "    }\n",
              "\n",
              "    .colab-df-convert {\n",
              "      background-color: #E8F0FE;\n",
              "      border: none;\n",
              "      border-radius: 50%;\n",
              "      cursor: pointer;\n",
              "      display: none;\n",
              "      fill: #1967D2;\n",
              "      height: 32px;\n",
              "      padding: 0 0 0 0;\n",
              "      width: 32px;\n",
              "    }\n",
              "\n",
              "    .colab-df-convert:hover {\n",
              "      background-color: #E2EBFA;\n",
              "      box-shadow: 0px 1px 2px rgba(60, 64, 67, 0.3), 0px 1px 3px 1px rgba(60, 64, 67, 0.15);\n",
              "      fill: #174EA6;\n",
              "    }\n",
              "\n",
              "    [theme=dark] .colab-df-convert {\n",
              "      background-color: #3B4455;\n",
              "      fill: #D2E3FC;\n",
              "    }\n",
              "\n",
              "    [theme=dark] .colab-df-convert:hover {\n",
              "      background-color: #434B5C;\n",
              "      box-shadow: 0px 1px 3px 1px rgba(0, 0, 0, 0.15);\n",
              "      filter: drop-shadow(0px 1px 2px rgba(0, 0, 0, 0.3));\n",
              "      fill: #FFFFFF;\n",
              "    }\n",
              "  </style>\n",
              "\n",
              "      <script>\n",
              "        const buttonEl =\n",
              "          document.querySelector('#df-ac47d4ac-3008-45a5-9fe2-f6f00e3d15ec button.colab-df-convert');\n",
              "        buttonEl.style.display =\n",
              "          google.colab.kernel.accessAllowed ? 'block' : 'none';\n",
              "\n",
              "        async function convertToInteractive(key) {\n",
              "          const element = document.querySelector('#df-ac47d4ac-3008-45a5-9fe2-f6f00e3d15ec');\n",
              "          const dataTable =\n",
              "            await google.colab.kernel.invokeFunction('convertToInteractive',\n",
              "                                                     [key], {});\n",
              "          if (!dataTable) return;\n",
              "\n",
              "          const docLinkHtml = 'Like what you see? Visit the ' +\n",
              "            '<a target=\"_blank\" href=https://colab.research.google.com/notebooks/data_table.ipynb>data table notebook</a>'\n",
              "            + ' to learn more about interactive tables.';\n",
              "          element.innerHTML = '';\n",
              "          dataTable['output_type'] = 'display_data';\n",
              "          await google.colab.output.renderOutput(dataTable, element);\n",
              "          const docLink = document.createElement('div');\n",
              "          docLink.innerHTML = docLinkHtml;\n",
              "          element.appendChild(docLink);\n",
              "        }\n",
              "      </script>\n",
              "    </div>\n",
              "  </div>\n",
              "  "
            ]
          },
          "metadata": {},
          "execution_count": 12
        }
      ]
    },
    {
      "cell_type": "markdown",
      "source": [
        "The mean distance from home is 26.73 km, and the max is 5797.97 km. These values seem to be correct, as one might expect to see these distances. A similar argument can be made regarding the other features. \n",
        "\n",
        "Now, let's continue our study by exploring and analyzing our data through some visualization methods."
      ],
      "metadata": {
        "id": "5SIk96EdCjMO"
      }
    },
    {
      "cell_type": "markdown",
      "source": [
        "# Data exploration and analysis\n",
        "\n",
        "The first thing we are going to do is build a function to draw a countplot with information about the percentage from the total. We can do that using:"
      ],
      "metadata": {
        "id": "7cTSptLsDK5m"
      }
    },
    {
      "cell_type": "code",
      "source": [
        "def plot_perc(feature, dataset):\n",
        "  plt.figure(figsize = (16, 6))\n",
        "  g = sns.countplot(x = feature, data = dataset, orient = 'h')\n",
        "\n",
        "  g.set_ylabel('Count', fontsize = 18)\n",
        "\n",
        "  sizes = []\n",
        "  for p in g.patches:\n",
        "    height = p.get_height( )\n",
        "    sizes.append(height)\n",
        "    g.text(p.get_x( ) + p.get_width( )*0.2, \n",
        "           height, \n",
        "           '{:1.2f}%'.format(height/len(dataset)*100),\n",
        "           ha = 'center', va = 'bottom', fontsize = 12)\n",
        "    \n",
        "  g.set_ylim(0, max(sizes)*1.1)"
      ],
      "metadata": {
        "id": "XooZsQeLCe7k"
      },
      "execution_count": 13,
      "outputs": []
    },
    {
      "cell_type": "markdown",
      "source": [
        "Nice! Now, let's compare the number of fraudulent and non-fraudulent data:"
      ],
      "metadata": {
        "id": "YNu6BK_vDktn"
      }
    },
    {
      "cell_type": "code",
      "source": [
        "plot_perc('Fraud', raw_df)"
      ],
      "metadata": {
        "colab": {
          "base_uri": "https://localhost:8080/",
          "height": 392
        },
        "id": "lI56gjLCDkCa",
        "outputId": "7cbcca16-4aa4-4da2-b35a-28f3074adb3c"
      },
      "execution_count": 14,
      "outputs": [
        {
          "output_type": "display_data",
          "data": {
            "text/plain": [
              "<Figure size 1152x432 with 1 Axes>"
            ],
            "image/png": "[encoded data removed]"
          },
          "metadata": {
            "needs_background": "light"
          }
        }
      ]
    },
    {
      "cell_type": "markdown",
      "source": [
        "So, our fraudulent data corresponds to almost 9% of our dataset. Even though this isn't a very low number, our dataset is still very unbalanced. Now, let's try to understand how is the occurrence of fraud related to the other features. Let's create a new user-defined function:"
      ],
      "metadata": {
        "id": "eX-82r2DD1PG"
      }
    },
    {
      "cell_type": "code",
      "source": [
        "def plot_perc_compare(feature, feature_hue, dataset):\n",
        "  plt.figure(figsize = (16, 6))\n",
        "  g = sns.countplot(x = feature, hue = feature_hue, data = dataset, orient = 'h')\n",
        "\n",
        "  g.set_ylabel('Count', fontsize = 18)\n",
        "\n",
        "  sizes = []\n",
        "  for p in g.patches:\n",
        "    height = p.get_height( )\n",
        "    sizes.append(height)\n",
        "    g.text(p.get_x( ) + p.get_width( )*0.2, \n",
        "           height, \n",
        "           '{:1.2f}%'.format(height/len(dataset)*100),\n",
        "           ha = 'center', va = 'bottom', fontsize = 12)\n",
        "    \n",
        "  g.set_ylim(0, max(sizes)*1.1)"
      ],
      "metadata": {
        "id": "kuvLAYx6D0A7"
      },
      "execution_count": 15,
      "outputs": []
    },
    {
      "cell_type": "markdown",
      "source": [
        "Now, let's see how many of these frauds come from online transactions:"
      ],
      "metadata": {
        "id": "Oiuwln8jEMHA"
      }
    },
    {
      "cell_type": "code",
      "source": [
        "plot_perc_compare('Fraud', 'Online', raw_df)"
      ],
      "metadata": {
        "colab": {
          "base_uri": "https://localhost:8080/",
          "height": 388
        },
        "id": "CFKd1MKiEP1T",
        "outputId": "19ab78f8-c7f4-4cc0-a099-e6edfc4b60b6"
      },
      "execution_count": 16,
      "outputs": [
        {
          "output_type": "display_data",
          "data": {
            "text/plain": [
              "<Figure size 1152x432 with 1 Axes>"
            ],
            "image/png": "[encoded data removed]"
          },
          "metadata": {
            "needs_background": "light"
          }
        }
      ]
    },
    {
      "cell_type": "markdown",
      "source": [
        "So, in the non-fraudulent data, the number of online transactions is higher. However, they are fairly close: 34.63% of the transactions are not online, while 56.43% of the transactions are online.\n",
        "\n",
        "However, when we look at the fraudulent data, we see that almost ALL of the frauds occur in online transactions. \n",
        "\n",
        "Nice. We already know that we have to be careful when dealing with online transactions. Now, let's see a similar graph, but know related to the input of a password:"
      ],
      "metadata": {
        "id": "-tSIuqheEZ9Z"
      }
    },
    {
      "cell_type": "code",
      "source": [
        "plot_perc_compare('Fraud', 'Password', raw_df)"
      ],
      "metadata": {
        "colab": {
          "base_uri": "https://localhost:8080/",
          "height": 388
        },
        "id": "6mg18SK-ERDU",
        "outputId": "8ee422d2-4add-4279-e788-56edf11cde2e"
      },
      "execution_count": 17,
      "outputs": [
        {
          "output_type": "display_data",
          "data": {
            "text/plain": [
              "<Figure size 1152x432 with 1 Axes>"
            ],
            "image/png": "[encoded data removed]"
          },
          "metadata": {
            "needs_background": "light"
          }
        }
      ]
    },
    {
      "cell_type": "markdown",
      "source": [
        "Here, notice that almost all transactions are performed with using the password. That being said, again, almost ALL fraudulent transactions did not require the password input. Again, that is a very important insight for our company.\n",
        "\n",
        "Now, let's see how making the transaction using a physical card affects frauds:"
      ],
      "metadata": {
        "id": "4GxEVGdoFHK5"
      }
    },
    {
      "cell_type": "code",
      "source": [
        "plot_perc_compare('Fraud', 'Physical_card', raw_df)"
      ],
      "metadata": {
        "colab": {
          "base_uri": "https://localhost:8080/",
          "height": 388
        },
        "id": "7hS4VCUAFEbu",
        "outputId": "d45182e5-86f2-4a9a-9b18-9cbebd98cbb4"
      },
      "execution_count": 18,
      "outputs": [
        {
          "output_type": "display_data",
          "data": {
            "text/plain": [
              "<Figure size 1152x432 with 1 Axes>"
            ],
            "image/png": "[encoded data removed]"
          },
          "metadata": {
            "needs_background": "light"
          }
        }
      ]
    },
    {
      "cell_type": "markdown",
      "source": [
        "So, more frauds occur with no physical card. However, a similar ratio is seem in the non-fraudulent data. So, it is hard to say that this feature is very important to us now. \n",
        "\n",
        "Finally, let's analyze the final boolean feature, and understand how buying from the same seller affects fraud occurrence:"
      ],
      "metadata": {
        "id": "NGO7dIQiN8GB"
      }
    },
    {
      "cell_type": "code",
      "source": [
        "plot_perc_compare('Fraud', 'Same_seller', raw_df)"
      ],
      "metadata": {
        "colab": {
          "base_uri": "https://localhost:8080/",
          "height": 388
        },
        "id": "IvlKLRwKN5dl",
        "outputId": "fc394496-7447-4430-c81a-86f0f9da3cb9"
      },
      "execution_count": 19,
      "outputs": [
        {
          "output_type": "display_data",
          "data": {
            "text/plain": [
              "<Figure size 1152x432 with 1 Axes>"
            ],
            "image/png": "[encoded data removed]"
          },
          "metadata": {
            "needs_background": "light"
          }
        }
      ]
    },
    {
      "cell_type": "markdown",
      "source": [
        "Again, similar to the previous feature, the distribution for fraudulent and non-fraudulent data is very similar. "
      ],
      "metadata": {
        "id": "5_sc69E0PPaS"
      }
    },
    {
      "cell_type": "markdown",
      "source": [
        "Now, let's look at the continuous features. First, let's draw a boxplot for the transaction value:"
      ],
      "metadata": {
        "id": "ID3nFEO7PYK7"
      }
    },
    {
      "cell_type": "code",
      "source": [
        "sns.boxplot(x = 'Fraud', y = 'Transaction_value', data = raw_df)"
      ],
      "metadata": {
        "colab": {
          "base_uri": "https://localhost:8080/",
          "height": 297
        },
        "id": "tbyPWJG6PNrO",
        "outputId": "2c1691c0-5434-4485-faae-90572d311c19"
      },
      "execution_count": 20,
      "outputs": [
        {
          "output_type": "execute_result",
          "data": {
            "text/plain": [
              "<matplotlib.axes._subplots.AxesSubplot at 0x7fbd737e6d50>"
            ]
          },
          "metadata": {},
          "execution_count": 20
        },
        {
          "output_type": "display_data",
          "data": {
            "text/plain": [
              "<Figure size 432x288 with 1 Axes>"
            ],
            "image/png": "[encoded data removed]"
          },
          "metadata": {
            "needs_background": "light"
          }
        }
      ]
    },
    {
      "cell_type": "markdown",
      "source": [
        "Since data is very right-skewed, it is actually hard to see the comparison. However, we can not that fraudulent transactions often have a higher amount. In fact, all transactions with amount higher than 80000 were fraudulent! That is an important conclusion for us. \n",
        "\n",
        "Now, let's see a different feature: the distance to the buyer's home:"
      ],
      "metadata": {
        "id": "Q77FZ6gZPnbb"
      }
    },
    {
      "cell_type": "code",
      "source": [
        "sns.boxplot(x = 'Fraud', y = 'Distance_home', data = raw_df)"
      ],
      "metadata": {
        "colab": {
          "base_uri": "https://localhost:8080/",
          "height": 298
        },
        "id": "nO4fzFfJPlH9",
        "outputId": "710656aa-17cb-4dd0-8d9f-0bf641afcf02"
      },
      "execution_count": 21,
      "outputs": [
        {
          "output_type": "execute_result",
          "data": {
            "text/plain": [
              "<matplotlib.axes._subplots.AxesSubplot at 0x7fbd73765f10>"
            ]
          },
          "metadata": {},
          "execution_count": 21
        },
        {
          "output_type": "display_data",
          "data": {
            "text/plain": [
              "<Figure size 432x288 with 1 Axes>"
            ],
            "image/png": "[encoded data removed]"
          },
          "metadata": {
            "needs_background": "light"
          }
        }
      ]
    },
    {
      "cell_type": "markdown",
      "source": [
        "This one is a little harder to understand. Let's use a describe to see the values:"
      ],
      "metadata": {
        "id": "7-05sKmTQNUy"
      }
    },
    {
      "cell_type": "code",
      "source": [
        "group_fraud = raw_df.groupby('Fraud')\n",
        "\n",
        "group_fraud['Distance_home'].describe( )"
      ],
      "metadata": {
        "colab": {
          "base_uri": "https://localhost:8080/",
          "height": 143
        },
        "id": "QMqKWJhCQImq",
        "outputId": "51d5ecfc-2f11-4f1c-d384-63bc7731e13b"
      },
      "execution_count": 22,
      "outputs": [
        {
          "output_type": "execute_result",
          "data": {
            "text/plain": [
              "         count       mean         std       min       25%        50%  \\\n",
              "Fraud                                                                  \n",
              "0      45529.0  22.972069   60.516632  0.038379  3.866950   9.780600   \n",
              "1       4471.0  65.020471  121.605785  0.067886  4.520484  15.068831   \n",
              "\n",
              "              75%          max  \n",
              "Fraud                           \n",
              "0       24.280399  5797.972589  \n",
              "1      101.380199  2033.498174  "
            ],
            "text/html": [
              "\n",
              "  <div id=\"df-655b3dff-fdf8-4158-9c59-de9a91947aa5\">\n",
              "    <div class=\"colab-df-container\">\n",
              "      <div>\n",
              "<style scoped>\n",
              "    .dataframe tbody tr th:only-of-type {\n",
              "        vertical-align: middle;\n",
              "    }\n",
              "\n",
              "    .dataframe tbody tr th {\n",
              "        vertical-align: top;\n",
              "    }\n",
              "\n",
              "    .dataframe thead th {\n",
              "        text-align: right;\n",
              "    }\n",
              "</style>\n",
              "<table border=\"1\" class=\"dataframe\">\n",
              "  <thead>\n",
              "    <tr style=\"text-align: right;\">\n",
              "      <th></th>\n",
              "      <th>count</th>\n",
              "      <th>mean</th>\n",
              "      <th>std</th>\n",
              "      <th>min</th>\n",
              "      <th>25%</th>\n",
              "      <th>50%</th>\n",
              "      <th>75%</th>\n",
              "      <th>max</th>\n",
              "    </tr>\n",
              "    <tr>\n",
              "      <th>Fraud</th>\n",
              "      <th></th>\n",
              "      <th></th>\n",
              "      <th></th>\n",
              "      <th></th>\n",
              "      <th></th>\n",
              "      <th></th>\n",
              "      <th></th>\n",
              "      <th></th>\n",
              "    </tr>\n",
              "  </thead>\n",
              "  <tbody>\n",
              "    <tr>\n",
              "      <th>0</th>\n",
              "      <td>45529.0</td>\n",
              "      <td>22.972069</td>\n",
              "      <td>60.516632</td>\n",
              "      <td>0.038379</td>\n",
              "      <td>3.866950</td>\n",
              "      <td>9.780600</td>\n",
              "      <td>24.280399</td>\n",
              "      <td>5797.972589</td>\n",
              "    </tr>\n",
              "    <tr>\n",
              "      <th>1</th>\n",
              "      <td>4471.0</td>\n",
              "      <td>65.020471</td>\n",
              "      <td>121.605785</td>\n",
              "      <td>0.067886</td>\n",
              "      <td>4.520484</td>\n",
              "      <td>15.068831</td>\n",
              "      <td>101.380199</td>\n",
              "      <td>2033.498174</td>\n",
              "    </tr>\n",
              "  </tbody>\n",
              "</table>\n",
              "</div>\n",
              "      <button class=\"colab-df-convert\" onclick=\"convertToInteractive('df-655b3dff-fdf8-4158-9c59-de9a91947aa5')\"\n",
              "              title=\"Convert this dataframe to an interactive table.\"\n",
              "              style=\"display:none;\">\n",
              "        \n",
              "  <svg xmlns=\"http://www.w3.org/2000/svg\" height=\"24px\"viewBox=\"0 0 24 24\"\n",
              "       width=\"24px\">\n",
              "    <path d=\"M0 0h24v24H0V0z\" fill=\"none\"/>\n",
              "    <path d=\"M18.56 5.44l.94 2.06.94-2.06 2.06-.94-2.06-.94-.94-2.06-.94 2.06-2.06.94zm-11 1L8.5 8.5l.94-2.06 2.06-.94-2.06-.94L8.5 2.5l-.94 2.06-2.06.94zm10 10l.94 2.06.94-2.06 2.06-.94-2.06-.94-.94-2.06-.94 2.06-2.06.94z\"/><path d=\"M17.41 7.96l-1.37-1.37c-.4-.4-.92-.59-1.43-.59-.52 0-1.04.2-1.43.59L10.3 9.45l-7.72 7.72c-.78.78-.78 2.05 0 2.83L4 21.41c.39.39.9.59 1.41.59.51 0 1.02-.2 1.41-.59l7.78-7.78 2.81-2.81c.8-.78.8-2.07 0-2.86zM5.41 20L4 18.59l7.72-7.72 1.47 1.35L5.41 20z\"/>\n",
              "  </svg>\n",
              "      </button>\n",
              "      \n",
              "  <style>\n",
              "    .colab-df-container {\n",
              "      display:flex;\n",
              "      flex-wrap:wrap;\n",
              "      gap: 12px;\n",
              "    }\n",
              "\n",
              "    .colab-df-convert {\n",
              "      background-color: #E8F0FE;\n",
              "      border: none;\n",
              "      border-radius: 50%;\n",
              "      cursor: pointer;\n",
              "      display: none;\n",
              "      fill: #1967D2;\n",
              "      height: 32px;\n",
              "      padding: 0 0 0 0;\n",
              "      width: 32px;\n",
              "    }\n",
              "\n",
              "    .colab-df-convert:hover {\n",
              "      background-color: #E2EBFA;\n",
              "      box-shadow: 0px 1px 2px rgba(60, 64, 67, 0.3), 0px 1px 3px 1px rgba(60, 64, 67, 0.15);\n",
              "      fill: #174EA6;\n",
              "    }\n",
              "\n",
              "    [theme=dark] .colab-df-convert {\n",
              "      background-color: #3B4455;\n",
              "      fill: #D2E3FC;\n",
              "    }\n",
              "\n",
              "    [theme=dark] .colab-df-convert:hover {\n",
              "      background-color: #434B5C;\n",
              "      box-shadow: 0px 1px 3px 1px rgba(0, 0, 0, 0.15);\n",
              "      filter: drop-shadow(0px 1px 2px rgba(0, 0, 0, 0.3));\n",
              "      fill: #FFFFFF;\n",
              "    }\n",
              "  </style>\n",
              "\n",
              "      <script>\n",
              "        const buttonEl =\n",
              "          document.querySelector('#df-655b3dff-fdf8-4158-9c59-de9a91947aa5 button.colab-df-convert');\n",
              "        buttonEl.style.display =\n",
              "          google.colab.kernel.accessAllowed ? 'block' : 'none';\n",
              "\n",
              "        async function convertToInteractive(key) {\n",
              "          const element = document.querySelector('#df-655b3dff-fdf8-4158-9c59-de9a91947aa5');\n",
              "          const dataTable =\n",
              "            await google.colab.kernel.invokeFunction('convertToInteractive',\n",
              "                                                     [key], {});\n",
              "          if (!dataTable) return;\n",
              "\n",
              "          const docLinkHtml = 'Like what you see? Visit the ' +\n",
              "            '<a target=\"_blank\" href=https://colab.research.google.com/notebooks/data_table.ipynb>data table notebook</a>'\n",
              "            + ' to learn more about interactive tables.';\n",
              "          element.innerHTML = '';\n",
              "          dataTable['output_type'] = 'display_data';\n",
              "          await google.colab.output.renderOutput(dataTable, element);\n",
              "          const docLink = document.createElement('div');\n",
              "          docLink.innerHTML = docLinkHtml;\n",
              "          element.appendChild(docLink);\n",
              "        }\n",
              "      </script>\n",
              "    </div>\n",
              "  </div>\n",
              "  "
            ]
          },
          "metadata": {},
          "execution_count": 22
        }
      ]
    },
    {
      "cell_type": "markdown",
      "source": [
        "So, by looking at the mean, it seems that fraudulent transactions have a higher distance from home. However, note that we have some very far transactions that are not fraudulent! A very similar thing occurs when we analyze the distance from the previous transaction:"
      ],
      "metadata": {
        "id": "woniH147QhMM"
      }
    },
    {
      "cell_type": "code",
      "source": [
        "sns.boxplot(x = 'Fraud', y = 'Distance_last_transaction', data = raw_df)"
      ],
      "metadata": {
        "colab": {
          "base_uri": "https://localhost:8080/",
          "height": 297
        },
        "id": "0Dt81OHxQ7gc",
        "outputId": "b0c32a1e-def1-45fb-aecd-ede3301bb205"
      },
      "execution_count": 23,
      "outputs": [
        {
          "output_type": "execute_result",
          "data": {
            "text/plain": [
              "<matplotlib.axes._subplots.AxesSubplot at 0x7fbd7366e050>"
            ]
          },
          "metadata": {},
          "execution_count": 23
        },
        {
          "output_type": "display_data",
          "data": {
            "text/plain": [
              "<Figure size 432x288 with 1 Axes>"
            ],
            "image/png": "[encoded data removed]"
          },
          "metadata": {
            "needs_background": "light"
          }
        }
      ]
    },
    {
      "cell_type": "code",
      "source": [
        "group_fraud['Distance_last_transaction'].describe( )"
      ],
      "metadata": {
        "colab": {
          "base_uri": "https://localhost:8080/",
          "height": 143
        },
        "id": "ZF3Ec0qyQd_K",
        "outputId": "b69017ee-828d-4519-c732-a12b29dbb2ef"
      },
      "execution_count": 24,
      "outputs": [
        {
          "output_type": "execute_result",
          "data": {
            "text/plain": [
              "         count       mean        std       min       25%       50%       75%  \\\n",
              "Fraud                                                                          \n",
              "0      45529.0   4.288774  17.142865  0.000338  0.292787  0.981444  3.238316   \n",
              "1       4471.0  12.664263  46.793033  0.001733  0.347318  1.198794  4.391936   \n",
              "\n",
              "               max  \n",
              "Fraud               \n",
              "0      1400.098234  \n",
              "1      1070.617532  "
            ],
            "text/html": [
              "\n",
              "  <div id=\"df-c90cbb20-f0e8-4153-8364-b9bd190d067b\">\n",
              "    <div class=\"colab-df-container\">\n",
              "      <div>\n",
              "<style scoped>\n",
              "    .dataframe tbody tr th:only-of-type {\n",
              "        vertical-align: middle;\n",
              "    }\n",
              "\n",
              "    .dataframe tbody tr th {\n",
              "        vertical-align: top;\n",
              "    }\n",
              "\n",
              "    .dataframe thead th {\n",
              "        text-align: right;\n",
              "    }\n",
              "</style>\n",
              "<table border=\"1\" class=\"dataframe\">\n",
              "  <thead>\n",
              "    <tr style=\"text-align: right;\">\n",
              "      <th></th>\n",
              "      <th>count</th>\n",
              "      <th>mean</th>\n",
              "      <th>std</th>\n",
              "      <th>min</th>\n",
              "      <th>25%</th>\n",
              "      <th>50%</th>\n",
              "      <th>75%</th>\n",
              "      <th>max</th>\n",
              "    </tr>\n",
              "    <tr>\n",
              "      <th>Fraud</th>\n",
              "      <th></th>\n",
              "      <th></th>\n",
              "      <th></th>\n",
              "      <th></th>\n",
              "      <th></th>\n",
              "      <th></th>\n",
              "      <th></th>\n",
              "      <th></th>\n",
              "    </tr>\n",
              "  </thead>\n",
              "  <tbody>\n",
              "    <tr>\n",
              "      <th>0</th>\n",
              "      <td>45529.0</td>\n",
              "      <td>4.288774</td>\n",
              "      <td>17.142865</td>\n",
              "      <td>0.000338</td>\n",
              "      <td>0.292787</td>\n",
              "      <td>0.981444</td>\n",
              "      <td>3.238316</td>\n",
              "      <td>1400.098234</td>\n",
              "    </tr>\n",
              "    <tr>\n",
              "      <th>1</th>\n",
              "      <td>4471.0</td>\n",
              "      <td>12.664263</td>\n",
              "      <td>46.793033</td>\n",
              "      <td>0.001733</td>\n",
              "      <td>0.347318</td>\n",
              "      <td>1.198794</td>\n",
              "      <td>4.391936</td>\n",
              "      <td>1070.617532</td>\n",
              "    </tr>\n",
              "  </tbody>\n",
              "</table>\n",
              "</div>\n",
              "      <button class=\"colab-df-convert\" onclick=\"convertToInteractive('df-c90cbb20-f0e8-4153-8364-b9bd190d067b')\"\n",
              "              title=\"Convert this dataframe to an interactive table.\"\n",
              "              style=\"display:none;\">\n",
              "        \n",
              "  <svg xmlns=\"http://www.w3.org/2000/svg\" height=\"24px\"viewBox=\"0 0 24 24\"\n",
              "       width=\"24px\">\n",
              "    <path d=\"M0 0h24v24H0V0z\" fill=\"none\"/>\n",
              "    <path d=\"M18.56 5.44l.94 2.06.94-2.06 2.06-.94-2.06-.94-.94-2.06-.94 2.06-2.06.94zm-11 1L8.5 8.5l.94-2.06 2.06-.94-2.06-.94L8.5 2.5l-.94 2.06-2.06.94zm10 10l.94 2.06.94-2.06 2.06-.94-2.06-.94-.94-2.06-.94 2.06-2.06.94z\"/><path d=\"M17.41 7.96l-1.37-1.37c-.4-.4-.92-.59-1.43-.59-.52 0-1.04.2-1.43.59L10.3 9.45l-7.72 7.72c-.78.78-.78 2.05 0 2.83L4 21.41c.39.39.9.59 1.41.59.51 0 1.02-.2 1.41-.59l7.78-7.78 2.81-2.81c.8-.78.8-2.07 0-2.86zM5.41 20L4 18.59l7.72-7.72 1.47 1.35L5.41 20z\"/>\n",
              "  </svg>\n",
              "      </button>\n",
              "      \n",
              "  <style>\n",
              "    .colab-df-container {\n",
              "      display:flex;\n",
              "      flex-wrap:wrap;\n",
              "      gap: 12px;\n",
              "    }\n",
              "\n",
              "    .colab-df-convert {\n",
              "      background-color: #E8F0FE;\n",
              "      border: none;\n",
              "      border-radius: 50%;\n",
              "      cursor: pointer;\n",
              "      display: none;\n",
              "      fill: #1967D2;\n",
              "      height: 32px;\n",
              "      padding: 0 0 0 0;\n",
              "      width: 32px;\n",
              "    }\n",
              "\n",
              "    .colab-df-convert:hover {\n",
              "      background-color: #E2EBFA;\n",
              "      box-shadow: 0px 1px 2px rgba(60, 64, 67, 0.3), 0px 1px 3px 1px rgba(60, 64, 67, 0.15);\n",
              "      fill: #174EA6;\n",
              "    }\n",
              "\n",
              "    [theme=dark] .colab-df-convert {\n",
              "      background-color: #3B4455;\n",
              "      fill: #D2E3FC;\n",
              "    }\n",
              "\n",
              "    [theme=dark] .colab-df-convert:hover {\n",
              "      background-color: #434B5C;\n",
              "      box-shadow: 0px 1px 3px 1px rgba(0, 0, 0, 0.15);\n",
              "      filter: drop-shadow(0px 1px 2px rgba(0, 0, 0, 0.3));\n",
              "      fill: #FFFFFF;\n",
              "    }\n",
              "  </style>\n",
              "\n",
              "      <script>\n",
              "        const buttonEl =\n",
              "          document.querySelector('#df-c90cbb20-f0e8-4153-8364-b9bd190d067b button.colab-df-convert');\n",
              "        buttonEl.style.display =\n",
              "          google.colab.kernel.accessAllowed ? 'block' : 'none';\n",
              "\n",
              "        async function convertToInteractive(key) {\n",
              "          const element = document.querySelector('#df-c90cbb20-f0e8-4153-8364-b9bd190d067b');\n",
              "          const dataTable =\n",
              "            await google.colab.kernel.invokeFunction('convertToInteractive',\n",
              "                                                     [key], {});\n",
              "          if (!dataTable) return;\n",
              "\n",
              "          const docLinkHtml = 'Like what you see? Visit the ' +\n",
              "            '<a target=\"_blank\" href=https://colab.research.google.com/notebooks/data_table.ipynb>data table notebook</a>'\n",
              "            + ' to learn more about interactive tables.';\n",
              "          element.innerHTML = '';\n",
              "          dataTable['output_type'] = 'display_data';\n",
              "          await google.colab.output.renderOutput(dataTable, element);\n",
              "          const docLink = document.createElement('div');\n",
              "          docLink.innerHTML = docLinkHtml;\n",
              "          element.appendChild(docLink);\n",
              "        }\n",
              "      </script>\n",
              "    </div>\n",
              "  </div>\n",
              "  "
            ]
          },
          "metadata": {},
          "execution_count": 24
        }
      ]
    },
    {
      "cell_type": "markdown",
      "source": [
        "To be more sure, here, we can use a Mann-Whitney test. In this test, we check if the data has the same distribution. It is usually used as a non-parametric test for the comparison between means of two datasets. So, we can do:"
      ],
      "metadata": {
        "id": "B89fQrX6Q6oi"
      }
    },
    {
      "cell_type": "code",
      "source": [
        "df_frauds   = raw_df.query('Fraud == 1')\n",
        "df_nofrauds = raw_df.query('Fraud == 0')"
      ],
      "metadata": {
        "id": "VsuhE3ssSSsL"
      },
      "execution_count": 25,
      "outputs": []
    },
    {
      "cell_type": "markdown",
      "source": [
        "So, we will test if:\n",
        "\n",
        "\\begin{equation}\n",
        "H_0 : \\text{Group 1 does not present lower values ($\\mu_1 \\geq \\mu_2$).}\n",
        "\\end{equation}\n",
        "\n",
        "\\begin{equation}\n",
        "H_1 : \\text{Group 1 usually presents lower values ($\\mu_1 <\\mu_2$).}\n",
        "\\end{equation}\n",
        "\n",
        "where subscript $1$ refers to the non-fraudulent data and $2$ to the fraudulent data."
      ],
      "metadata": {
        "id": "Vv5d3RDOSaVM"
      }
    },
    {
      "cell_type": "code",
      "source": [
        "mannwhitneyu(df_nofrauds.Transaction_value, df_frauds.Transaction_value, alternative = 'less')"
      ],
      "metadata": {
        "colab": {
          "base_uri": "https://localhost:8080/"
        },
        "id": "Yi50uDG8Q5GN",
        "outputId": "88ac8ad9-b3d5-479d-9f7d-b3546daee0b1"
      },
      "execution_count": 26,
      "outputs": [
        {
          "output_type": "execute_result",
          "data": {
            "text/plain": [
              "MannwhitneyuResult(statistic=30455479.0, pvalue=0.0)"
            ]
          },
          "metadata": {},
          "execution_count": 26
        }
      ]
    },
    {
      "cell_type": "markdown",
      "source": [
        "So, since the $p$-value is 0, we can say that, indeed, transaction values are higher in the fraud set. Now, let's test the same thing for the other features:"
      ],
      "metadata": {
        "id": "FvUkpuOoTHk6"
      }
    },
    {
      "cell_type": "code",
      "source": [
        "mannwhitneyu(df_nofrauds.Distance_home, df_frauds.Distance_home, alternative = 'less')"
      ],
      "metadata": {
        "colab": {
          "base_uri": "https://localhost:8080/"
        },
        "id": "rVrznW61S9QL",
        "outputId": "7ce31599-30cf-424c-aa27-922e26abded4"
      },
      "execution_count": 27,
      "outputs": [
        {
          "output_type": "execute_result",
          "data": {
            "text/plain": [
              "MannwhitneyuResult(statistic=82938441.0, pvalue=2.52395664173379e-93)"
            ]
          },
          "metadata": {},
          "execution_count": 27
        }
      ]
    },
    {
      "cell_type": "code",
      "source": [
        "mannwhitneyu(df_nofrauds.Distance_last_transaction, df_frauds.Distance_last_transaction, alternative = 'less')"
      ],
      "metadata": {
        "colab": {
          "base_uri": "https://localhost:8080/"
        },
        "id": "efzqeiTYTVAH",
        "outputId": "dd4c0900-2e88-4487-df3e-bc7bab150e3a"
      },
      "execution_count": 28,
      "outputs": [
        {
          "output_type": "execute_result",
          "data": {
            "text/plain": [
              "MannwhitneyuResult(statistic=94037640.0, pvalue=2.1060608309234386e-17)"
            ]
          },
          "metadata": {},
          "execution_count": 28
        }
      ]
    },
    {
      "cell_type": "markdown",
      "source": [
        "Again, both of our $p$-values were very low! So, we can say that distances are higher for the fraudulent set."
      ],
      "metadata": {
        "id": "WwA2YAdjTZYU"
      }
    },
    {
      "cell_type": "markdown",
      "source": [
        "Finally, let's see the histogram from each of our continuous features:"
      ],
      "metadata": {
        "id": "PI0GICw6Tz0M"
      }
    },
    {
      "cell_type": "code",
      "source": [
        "sns.histplot(x = 'Transaction_value', data = raw_df, stat = 'density', kde = 'True')"
      ],
      "metadata": {
        "colab": {
          "base_uri": "https://localhost:8080/",
          "height": 298
        },
        "id": "w1nUnoyhTYOw",
        "outputId": "2d8b3cf2-13e3-47cd-9d67-5d4912c6e748"
      },
      "execution_count": 29,
      "outputs": [
        {
          "output_type": "execute_result",
          "data": {
            "text/plain": [
              "<matplotlib.axes._subplots.AxesSubplot at 0x7fbd735aae50>"
            ]
          },
          "metadata": {},
          "execution_count": 29
        },
        {
          "output_type": "display_data",
          "data": {
            "text/plain": [
              "<Figure size 432x288 with 1 Axes>"
            ],
            "image/png": "[encoded data removed]"
          },
          "metadata": {
            "needs_background": "light"
          }
        }
      ]
    },
    {
      "cell_type": "code",
      "source": [
        "sns.histplot(x = 'Distance_home', data = raw_df, stat = 'density', kde = 'True')"
      ],
      "metadata": {
        "colab": {
          "base_uri": "https://localhost:8080/",
          "height": 298
        },
        "id": "XHuVdsJwUQ4O",
        "outputId": "337a56ea-1d35-4759-e719-6de97ac8c18e"
      },
      "execution_count": 30,
      "outputs": [
        {
          "output_type": "execute_result",
          "data": {
            "text/plain": [
              "<matplotlib.axes._subplots.AxesSubplot at 0x7fbd711e0b90>"
            ]
          },
          "metadata": {},
          "execution_count": 30
        },
        {
          "output_type": "display_data",
          "data": {
            "text/plain": [
              "<Figure size 432x288 with 1 Axes>"
            ],
            "image/png": "[encoded data removed]"
          },
          "metadata": {
            "needs_background": "light"
          }
        }
      ]
    },
    {
      "cell_type": "code",
      "source": [
        "sns.histplot(x = 'Distance_last_transaction', data = raw_df, stat = 'density', kde = 'True')"
      ],
      "metadata": {
        "colab": {
          "base_uri": "https://localhost:8080/",
          "height": 299
        },
        "id": "t0Cj0wmCUdKh",
        "outputId": "acb31034-1baf-45b3-f3b5-1fb0077775f0"
      },
      "execution_count": 31,
      "outputs": [
        {
          "output_type": "execute_result",
          "data": {
            "text/plain": [
              "<matplotlib.axes._subplots.AxesSubplot at 0x7fbd6d461a10>"
            ]
          },
          "metadata": {},
          "execution_count": 31
        },
        {
          "output_type": "display_data",
          "data": {
            "text/plain": [
              "<Figure size 432x288 with 1 Axes>"
            ],
            "image/png": "[encoded data removed]"
          },
          "metadata": {
            "needs_background": "light"
          }
        }
      ]
    },
    {
      "cell_type": "markdown",
      "source": [
        "Note that our data is **VERY** right skewed. To make it easier for our model to handle the data, we could make a transformation by taking the log of each variable:"
      ],
      "metadata": {
        "id": "DyjY0umGUg7g"
      }
    },
    {
      "cell_type": "code",
      "source": [
        "df = raw_df.copy( )\n",
        "df['Transaction_value']         = np.log(df['Transaction_value'])\n",
        "df['Distance_home']             = np.log(df['Distance_home'])\n",
        "df['Distance_last_transaction'] = np.log(df['Distance_last_transaction'])"
      ],
      "metadata": {
        "id": "Q5oBhyKsUgbv"
      },
      "execution_count": 32,
      "outputs": []
    },
    {
      "cell_type": "code",
      "source": [
        "sns.histplot(x = 'Transaction_value', data = df, stat = 'density', kde = 'True')"
      ],
      "metadata": {
        "colab": {
          "base_uri": "https://localhost:8080/",
          "height": 298
        },
        "id": "Vurw7cJDWs1i",
        "outputId": "6db00d5f-823d-4e25-9546-640bcf71b46f"
      },
      "execution_count": 33,
      "outputs": [
        {
          "output_type": "execute_result",
          "data": {
            "text/plain": [
              "<matplotlib.axes._subplots.AxesSubplot at 0x7fbd67528690>"
            ]
          },
          "metadata": {},
          "execution_count": 33
        },
        {
          "output_type": "display_data",
          "data": {
            "text/plain": [
              "<Figure size 432x288 with 1 Axes>"
            ],
            "image/png": "[encoded data removed]"
          },
          "metadata": {
            "needs_background": "light"
          }
        }
      ]
    },
    {
      "cell_type": "code",
      "source": [
        "sns.histplot(x = 'Distance_home', data = df, stat = 'density', kde = 'True')"
      ],
      "metadata": {
        "colab": {
          "base_uri": "https://localhost:8080/",
          "height": 298
        },
        "outputId": "b3996f9b-9f95-4cff-b8ed-4e5b50151447",
        "id": "EuIMte8EYsfq"
      },
      "execution_count": 34,
      "outputs": [
        {
          "output_type": "execute_result",
          "data": {
            "text/plain": [
              "<matplotlib.axes._subplots.AxesSubplot at 0x7fbd66ed0950>"
            ]
          },
          "metadata": {},
          "execution_count": 34
        },
        {
          "output_type": "display_data",
          "data": {
            "text/plain": [
              "<Figure size 432x288 with 1 Axes>"
            ],
            "image/png": "[encoded data removed]"
          },
          "metadata": {
            "needs_background": "light"
          }
        }
      ]
    },
    {
      "cell_type": "code",
      "source": [
        "sns.histplot(x = 'Distance_last_transaction', data = df, stat = 'density', kde = 'True')"
      ],
      "metadata": {
        "colab": {
          "base_uri": "https://localhost:8080/",
          "height": 298
        },
        "outputId": "1d9c0d7b-d636-4202-c2db-3e03b83d23dc",
        "id": "LOS_5wSgYsf1"
      },
      "execution_count": 35,
      "outputs": [
        {
          "output_type": "execute_result",
          "data": {
            "text/plain": [
              "<matplotlib.axes._subplots.AxesSubplot at 0x7fbd66345f90>"
            ]
          },
          "metadata": {},
          "execution_count": 35
        },
        {
          "output_type": "display_data",
          "data": {
            "text/plain": [
              "<Figure size 432x288 with 1 Axes>"
            ],
            "image/png": "[encoded data removed]"
          },
          "metadata": {
            "needs_background": "light"
          }
        }
      ]
    },
    {
      "cell_type": "markdown",
      "source": [
        "Nice! Now, our feature distribution looks a lot like a normal curve! We can even use a normality test to check it:"
      ],
      "metadata": {
        "id": "HyAQc0dQYwCv"
      }
    },
    {
      "cell_type": "markdown",
      "source": [
        "\n",
        "\n",
        "\\begin{equation}\n",
        "H_0 : \\text{Data distribution is close to a Normal.}\n",
        "\\end{equation}\n",
        "\n",
        "\\begin{equation}\n",
        "H_1 : \\text{Data does not come from a Normal.}\n",
        "\\end{equation}"
      ],
      "metadata": {
        "id": "dUH9yw_PZjbu"
      }
    },
    {
      "cell_type": "code",
      "source": [
        "normaltest(df['Transaction_value'])"
      ],
      "metadata": {
        "colab": {
          "base_uri": "https://localhost:8080/"
        },
        "id": "ERHn_GBTZivM",
        "outputId": "0cb46864-4d05-4c2f-f88e-72e0b354e7b9"
      },
      "execution_count": 36,
      "outputs": [
        {
          "output_type": "execute_result",
          "data": {
            "text/plain": [
              "NormaltestResult(statistic=1.4897330797393598, pvalue=0.47479766226952813)"
            ]
          },
          "metadata": {},
          "execution_count": 36
        }
      ]
    },
    {
      "cell_type": "code",
      "source": [
        "normaltest(df['Distance_home'])"
      ],
      "metadata": {
        "colab": {
          "base_uri": "https://localhost:8080/"
        },
        "id": "rTAgd8UJYu7l",
        "outputId": "3268f8d6-9058-46cf-d00e-3afe4989bd67"
      },
      "execution_count": 37,
      "outputs": [
        {
          "output_type": "execute_result",
          "data": {
            "text/plain": [
              "NormaltestResult(statistic=0.5177288941078586, pvalue=0.7719276530196129)"
            ]
          },
          "metadata": {},
          "execution_count": 37
        }
      ]
    },
    {
      "cell_type": "code",
      "source": [
        "normaltest(df['Distance_last_transaction'])"
      ],
      "metadata": {
        "colab": {
          "base_uri": "https://localhost:8080/"
        },
        "id": "f4e4AYqaZ7tt",
        "outputId": "38b57491-a452-48da-993b-b6e679445156"
      },
      "execution_count": 38,
      "outputs": [
        {
          "output_type": "execute_result",
          "data": {
            "text/plain": [
              "NormaltestResult(statistic=3.694239816010186, pvalue=0.1576906765797867)"
            ]
          },
          "metadata": {},
          "execution_count": 38
        }
      ]
    },
    {
      "cell_type": "markdown",
      "source": [
        "Nice! Now, all of our features \"passed\" the normality test! Now, it we be much easier to model our data."
      ],
      "metadata": {
        "id": "vvW4NpqjZ9z3"
      }
    },
    {
      "cell_type": "markdown",
      "source": [
        "Now, let's plot a scatter plot between two features, and see how this scatter plot relates to the occurrence of fraud. Since we have three continuous features, we will plot three scatter plots (3 pairs of parameters):"
      ],
      "metadata": {
        "id": "-5nk2b1ZN2Z4"
      }
    },
    {
      "cell_type": "code",
      "source": [
        "sns.scatterplot(x = 'Distance_home', y = 'Distance_last_transaction', hue = 'Fraud', data = df)"
      ],
      "metadata": {
        "colab": {
          "base_uri": "https://localhost:8080/",
          "height": 302
        },
        "id": "VnmV7j2wODjP",
        "outputId": "27126432-f6ab-49fe-fbc0-6d52a00616f4"
      },
      "execution_count": 39,
      "outputs": [
        {
          "output_type": "execute_result",
          "data": {
            "text/plain": [
              "<matplotlib.axes._subplots.AxesSubplot at 0x7fbd662e4850>"
            ]
          },
          "metadata": {},
          "execution_count": 39
        },
        {
          "output_type": "display_data",
          "data": {
            "text/plain": [
              "<Figure size 432x288 with 1 Axes>"
            ],
            "image/png": "[encoded data removed]"
          },
          "metadata": {
            "needs_background": "light"
          }
        }
      ]
    },
    {
      "cell_type": "code",
      "source": [
        "sns.scatterplot(x = 'Distance_home', y = 'Transaction_value', hue = 'Fraud', data = df)"
      ],
      "metadata": {
        "colab": {
          "base_uri": "https://localhost:8080/",
          "height": 298
        },
        "id": "3Oi0j1wXOPeI",
        "outputId": "751723be-2db7-4386-a3f2-358dcc8b32b6"
      },
      "execution_count": 40,
      "outputs": [
        {
          "output_type": "execute_result",
          "data": {
            "text/plain": [
              "<matplotlib.axes._subplots.AxesSubplot at 0x7fbd662df5d0>"
            ]
          },
          "metadata": {},
          "execution_count": 40
        },
        {
          "output_type": "display_data",
          "data": {
            "text/plain": [
              "<Figure size 432x288 with 1 Axes>"
            ],
            "image/png": "[encoded data removed]"
          },
          "metadata": {
            "needs_background": "light"
          }
        }
      ]
    },
    {
      "cell_type": "code",
      "source": [
        "sns.scatterplot(x = 'Distance_last_transaction', y = 'Transaction_value', hue = 'Fraud', data = df)"
      ],
      "metadata": {
        "colab": {
          "base_uri": "https://localhost:8080/",
          "height": 298
        },
        "id": "-AB6VmBZOPUw",
        "outputId": "104e89d8-9b14-472a-871c-1802101a2600"
      },
      "execution_count": 41,
      "outputs": [
        {
          "output_type": "execute_result",
          "data": {
            "text/plain": [
              "<matplotlib.axes._subplots.AxesSubplot at 0x7fbd680cda10>"
            ]
          },
          "metadata": {},
          "execution_count": 41
        },
        {
          "output_type": "display_data",
          "data": {
            "text/plain": [
              "<Figure size 432x288 with 1 Axes>"
            ],
            "image/png": "[encoded data removed]"
          },
          "metadata": {
            "needs_background": "light"
          }
        }
      ]
    },
    {
      "cell_type": "markdown",
      "source": [
        "Notice that, in fact, when we have higher values and distances, our frauds become more evident. However, not all transactions with high values/distances are fraudulent. Our challenge is to correctly define a model to identify this trend, and be able to differ these entries!"
      ],
      "metadata": {
        "id": "ahh5rA2cPEiP"
      }
    },
    {
      "cell_type": "markdown",
      "source": [
        "Now, let's check the correlation between our features:"
      ],
      "metadata": {
        "id": "V_7Sxvo6a8qu"
      }
    },
    {
      "cell_type": "code",
      "source": [
        "plt.figure(figsize=(12, 11))\n",
        "\n",
        "mask = np.triu(np.ones_like(df.corr(), dtype=np.bool))\n",
        "\n",
        "heatmap = sns.heatmap(df.corr(), mask=mask, vmin=-1, vmax=1, annot=True, cmap='Blues')"
      ],
      "metadata": {
        "colab": {
          "base_uri": "https://localhost:8080/",
          "height": 843
        },
        "id": "TTzyfItBZ9RD",
        "outputId": "81b90eb9-bdfa-4453-9c7d-5a3094a233fb"
      },
      "execution_count": 42,
      "outputs": [
        {
          "output_type": "stream",
          "name": "stderr",
          "text": [
            "/usr/local/lib/python3.7/dist-packages/ipykernel_launcher.py:3: DeprecationWarning: `np.bool` is a deprecated alias for the builtin `bool`. To silence this warning, use `bool` by itself. Doing this will not modify any behavior and is safe. If you specifically wanted the numpy scalar type, use `np.bool_` here.\n",
            "Deprecated in NumPy 1.20; for more details and guidance: https://numpy.org/devdocs/release/1.20.0-notes.html#deprecations\n",
            "  This is separate from the ipykernel package so we can avoid doing imports until\n"
          ]
        },
        {
          "output_type": "display_data",
          "data": {
            "text/plain": [
              "<Figure size 864x792 with 2 Axes>"
            ],
            "image/png": "[encoded data removed]"
          },
          "metadata": {
            "needs_background": "light"
          }
        }
      ]
    },
    {
      "cell_type": "markdown",
      "source": [
        "The correlation between our data seem very low. Most of our independent features have a very low correlation (which is actually good). However, our target feature also seems to have a low correlation with most other features. The correlation is higher only between transaction value and the online boolean feature. \n",
        "\n",
        "Now that we understood our data, let's go to data modeling."
      ],
      "metadata": {
        "id": "OMyNf3STcttO"
      }
    },
    {
      "cell_type": "markdown",
      "source": [
        "# Data modeling\n",
        "\n",
        "So, let's model our data to detect when frauds will occur. Let's start by splitting our dataset:"
      ],
      "metadata": {
        "id": "L0n_Q7ehBxHo"
      }
    },
    {
      "cell_type": "code",
      "source": [
        "X = df.drop('Fraud', axis = 1)   # Independent variables\n",
        "y = df.Fraud                     # Target variable\n",
        "\n",
        "SEED = 42\n",
        "\n",
        "X_train, X_test, y_train, y_test = train_test_split(X, y, test_size = 0.2, random_state = SEED)"
      ],
      "metadata": {
        "id": "3yPSJrKpC0Tm"
      },
      "execution_count": 43,
      "outputs": []
    },
    {
      "cell_type": "markdown",
      "source": [
        "Now, we will start using very simple models: first a dummy classifier, and then a simple logistic regression. Then, we will test more complex models, and see if they are able to improve upon our results."
      ],
      "metadata": {
        "id": "vXdhssszCv2H"
      }
    },
    {
      "cell_type": "markdown",
      "source": [
        "## Dummy classifier\n",
        "\n",
        "First, we will use a very simple dummy classifier, where our model always picks the most frequent class. Thus, we can do:"
      ],
      "metadata": {
        "id": "kF7BHpJvCKEO"
      }
    },
    {
      "cell_type": "code",
      "source": [
        "dummy_clf = DummyClassifier(strategy=\"most_frequent\")\n",
        "\n",
        "dummy_clf.fit(X_train, y_train)"
      ],
      "metadata": {
        "id": "bzLFrChFbOTO",
        "colab": {
          "base_uri": "https://localhost:8080/"
        },
        "outputId": "fccda4bb-41f9-4b37-e193-e8c8afd19f3c"
      },
      "execution_count": 44,
      "outputs": [
        {
          "output_type": "execute_result",
          "data": {
            "text/plain": [
              "DummyClassifier(strategy='most_frequent')"
            ]
          },
          "metadata": {},
          "execution_count": 44
        }
      ]
    },
    {
      "cell_type": "markdown",
      "source": [
        "Then, we can get the prediction on the text set using:"
      ],
      "metadata": {
        "id": "rU5moLAfDSx_"
      }
    },
    {
      "cell_type": "code",
      "source": [
        "y_pred = dummy_clf.predict(X_test)"
      ],
      "metadata": {
        "id": "Mm14fXnyDR8R"
      },
      "execution_count": 45,
      "outputs": []
    },
    {
      "cell_type": "markdown",
      "source": [
        "Now, let's evaluate some metrics for our model. For classification models, there are some very important metrics, usually related to the True Positives ($TP$), True Negatives ($TN$), False Positives ($FP$), and False Negatives ($FN$). These are:\n",
        "\n",
        "* Accuracy: The accuracy evaluates the division between correctly guessed entries, and the total number of entries.\n",
        "\n",
        "\\begin{equation}\n",
        "\\dfrac{TN + TP}{TN + TP + FN + FP}\n",
        "\\end{equation}\n",
        "\n",
        "* Precision: Precision evaluates the proportion of $TP$ in relation to the positive predictions from the model. If we have low precision, it means that there are a lot of non-frauds that our model is identifying as frauds.\n",
        "\n",
        "\\begin{equation}\n",
        "\\dfrac{TP}{TP + FP}\n",
        "\\end{equation}\n",
        "\n",
        "* Recall: Recall evaluates the proportion of $TP$ and the number of positives from the test set. If we have a lower recall, it means that we are letting many frauds pass.\n",
        "\n",
        "\\begin{equation}\n",
        "\\dfrac{TP}{TP + FN}\n",
        "\\end{equation}\n",
        "\n",
        "* F1-score: Tries to balance precision and recall. It goes from 0 to 1, and the closest it is to 1, the better.\n",
        "\n",
        "\\begin{equation}\n",
        "2 \\, \\dfrac{P \\, R}{P + R}\n",
        "\\end{equation}"
      ],
      "metadata": {
        "id": "GQKk7Vm3DbL-"
      }
    },
    {
      "cell_type": "markdown",
      "source": [
        "The number of true positives and negatives, and false positives and negatives can be taken from the confusion matrix:"
      ],
      "metadata": {
        "id": "pLho8_l-DfGQ"
      }
    },
    {
      "cell_type": "code",
      "source": [
        "cm = confusion_matrix(y_test, y_pred)\n",
        "disp = ConfusionMatrixDisplay(confusion_matrix = cm)\n",
        "disp.plot(values_format='d')"
      ],
      "metadata": {
        "colab": {
          "base_uri": "https://localhost:8080/",
          "height": 297
        },
        "id": "MVpb7zcnDXzw",
        "outputId": "a92a8115-65a6-42fb-fe80-ec5fe445b1bc"
      },
      "execution_count": 46,
      "outputs": [
        {
          "output_type": "execute_result",
          "data": {
            "text/plain": [
              "<sklearn.metrics._plot.confusion_matrix.ConfusionMatrixDisplay at 0x7fbd65f0f550>"
            ]
          },
          "metadata": {},
          "execution_count": 46
        },
        {
          "output_type": "display_data",
          "data": {
            "text/plain": [
              "<Figure size 432x288 with 2 Axes>"
            ],
            "image/png": "[encoded data removed]"
          },
          "metadata": {
            "needs_background": "light"
          }
        }
      ]
    },
    {
      "cell_type": "markdown",
      "source": [
        "Since our dummy classifier only guesses for the most frequent class, it thinks that none of our data is fraudulent. Thus, we have 9129 true negatives and 871 false negatives. Let's get the metrics for this case:"
      ],
      "metadata": {
        "id": "1XByMaWWD1ep"
      }
    },
    {
      "cell_type": "code",
      "source": [
        "acc = round(metrics.accuracy_score(y_test, y_pred), 4)\n",
        "prc = round(metrics.precision_score(y_test, y_pred), 4)\n",
        "rec = round(metrics.recall_score(y_test, y_pred), 4)\n",
        "f1s = round(metrics.f1_score(y_test, y_pred), 4)\n",
        "\n",
        "print(f\"Accuracy  : {acc}\")\n",
        "print(f\"Precision : {prc}\")\n",
        "print(f\"Recall    : {rec}\")\n",
        "print(f\"F1        : {f1s}\")"
      ],
      "metadata": {
        "colab": {
          "base_uri": "https://localhost:8080/"
        },
        "id": "DMEHZnkAD0Cn",
        "outputId": "bad6f51a-ea08-4cab-85f6-35a2b0893724"
      },
      "execution_count": 47,
      "outputs": [
        {
          "output_type": "stream",
          "name": "stdout",
          "text": [
            "Accuracy  : 0.9129\n",
            "Precision : 0.0\n",
            "Recall    : 0.0\n",
            "F1        : 0.0\n"
          ]
        },
        {
          "output_type": "stream",
          "name": "stderr",
          "text": [
            "/usr/local/lib/python3.7/dist-packages/sklearn/metrics/_classification.py:1318: UndefinedMetricWarning: Precision is ill-defined and being set to 0.0 due to no predicted samples. Use `zero_division` parameter to control this behavior.\n",
            "  _warn_prf(average, modifier, msg_start, len(result))\n"
          ]
        }
      ]
    },
    {
      "cell_type": "markdown",
      "source": [
        "Note that, while our dummy classifier showed a precision of 91.29%, it showed a 0.00% precision and recall. That happened because our model has **no** true positives, and was not able to detect any fraudulent transaction. Thus, in fact, the dummy classifier is a very bad fraud detection method, and the accuracy is not a good metric to evaluate the model when our data is very unbalanced."
      ],
      "metadata": {
        "id": "dXsTK9UKEMV0"
      }
    },
    {
      "cell_type": "markdown",
      "source": [
        "To finish things off, let's plot the precision-recall curve for the dummy classifier:"
      ],
      "metadata": {
        "id": "OvvxR6XsEwyL"
      }
    },
    {
      "cell_type": "code",
      "source": [
        "y_pred_proba = dummy_clf.predict_proba(X_test)[::, 1]\n",
        "prcr, recr, threshold = metrics.precision_recall_curve(y_test, y_pred_proba)\n",
        "auc = metrics.auc(recr, prcr)\n",
        "\n",
        "no_skill = y_test[y_test == 1].shape[0] / y_test.shape[0]\n",
        "\n",
        "fig = plt.figure(figsize = (12, 8))\n",
        "\n",
        "plt.plot(recr, prcr, label = 'Dummy classifier, AUC = '+str(auc))\n",
        "plt.plot([0, 1], [no_skill, no_skill], color = 'r', linestyle='--', label = 'No skill')\n",
        "plt.legend(loc = 'best')\n",
        "\n",
        "plt.xlabel('Recall')\n",
        "plt.ylabel('Precision')\n",
        "\n",
        "plt.plot([0, 1, 1], [1, 1, 0], color = 'g', lw = 2, linestyle = '--', label = 'Perfect model')"
      ],
      "metadata": {
        "colab": {
          "base_uri": "https://localhost:8080/",
          "height": 515
        },
        "id": "57htZ2IqEDHm",
        "outputId": "27e9637e-2438-440b-e80f-62c781180529"
      },
      "execution_count": 48,
      "outputs": [
        {
          "output_type": "execute_result",
          "data": {
            "text/plain": [
              "[<matplotlib.lines.Line2D at 0x7fbd661b8610>]"
            ]
          },
          "metadata": {},
          "execution_count": 48
        },
        {
          "output_type": "display_data",
          "data": {
            "text/plain": [
              "<Figure size 864x576 with 1 Axes>"
            ],
            "image/png": "[encoded data removed]"
          },
          "metadata": {
            "needs_background": "light"
          }
        }
      ]
    },
    {
      "cell_type": "markdown",
      "source": [
        "The precision-recall curve shows that our model is very poor, showing an Area Under the Curve (AUC) of 0.54355, and being very far from the perfect model. "
      ],
      "metadata": {
        "id": "6CGyD9SoE8Q2"
      }
    },
    {
      "cell_type": "markdown",
      "source": [
        "Now, let's add these precision metrics into a dataframe and let's move to the next model:"
      ],
      "metadata": {
        "id": "53QW3cGGJO8f"
      }
    },
    {
      "cell_type": "code",
      "source": [
        "df_metrics = pd.DataFrame( {'acc' : acc, 'prc' : prc, 'rec' : rec, 'f1s' : f1s, 'auc' : auc }, index = ['Dummy classifier'] )\n",
        "df_metrics"
      ],
      "metadata": {
        "colab": {
          "base_uri": "https://localhost:8080/",
          "height": 81
        },
        "id": "gpY5O67rJ2e1",
        "outputId": "897573dc-28b5-467f-c564-bf0159c93914"
      },
      "execution_count": 49,
      "outputs": [
        {
          "output_type": "execute_result",
          "data": {
            "text/plain": [
              "                     acc  prc  rec  f1s      auc\n",
              "Dummy classifier  0.9129  0.0  0.0  0.0  0.54355"
            ],
            "text/html": [
              "\n",
              "  <div id=\"df-905d38b1-3bf5-4ddc-b680-51baf347d49d\">\n",
              "    <div class=\"colab-df-container\">\n",
              "      <div>\n",
              "<style scoped>\n",
              "    .dataframe tbody tr th:only-of-type {\n",
              "        vertical-align: middle;\n",
              "    }\n",
              "\n",
              "    .dataframe tbody tr th {\n",
              "        vertical-align: top;\n",
              "    }\n",
              "\n",
              "    .dataframe thead th {\n",
              "        text-align: right;\n",
              "    }\n",
              "</style>\n",
              "<table border=\"1\" class=\"dataframe\">\n",
              "  <thead>\n",
              "    <tr style=\"text-align: right;\">\n",
              "      <th></th>\n",
              "      <th>acc</th>\n",
              "      <th>prc</th>\n",
              "      <th>rec</th>\n",
              "      <th>f1s</th>\n",
              "      <th>auc</th>\n",
              "    </tr>\n",
              "  </thead>\n",
              "  <tbody>\n",
              "    <tr>\n",
              "      <th>Dummy classifier</th>\n",
              "      <td>0.9129</td>\n",
              "      <td>0.0</td>\n",
              "      <td>0.0</td>\n",
              "      <td>0.0</td>\n",
              "      <td>0.54355</td>\n",
              "    </tr>\n",
              "  </tbody>\n",
              "</table>\n",
              "</div>\n",
              "      <button class=\"colab-df-convert\" onclick=\"convertToInteractive('df-905d38b1-3bf5-4ddc-b680-51baf347d49d')\"\n",
              "              title=\"Convert this dataframe to an interactive table.\"\n",
              "              style=\"display:none;\">\n",
              "        \n",
              "  <svg xmlns=\"http://www.w3.org/2000/svg\" height=\"24px\"viewBox=\"0 0 24 24\"\n",
              "       width=\"24px\">\n",
              "    <path d=\"M0 0h24v24H0V0z\" fill=\"none\"/>\n",
              "    <path d=\"M18.56 5.44l.94 2.06.94-2.06 2.06-.94-2.06-.94-.94-2.06-.94 2.06-2.06.94zm-11 1L8.5 8.5l.94-2.06 2.06-.94-2.06-.94L8.5 2.5l-.94 2.06-2.06.94zm10 10l.94 2.06.94-2.06 2.06-.94-2.06-.94-.94-2.06-.94 2.06-2.06.94z\"/><path d=\"M17.41 7.96l-1.37-1.37c-.4-.4-.92-.59-1.43-.59-.52 0-1.04.2-1.43.59L10.3 9.45l-7.72 7.72c-.78.78-.78 2.05 0 2.83L4 21.41c.39.39.9.59 1.41.59.51 0 1.02-.2 1.41-.59l7.78-7.78 2.81-2.81c.8-.78.8-2.07 0-2.86zM5.41 20L4 18.59l7.72-7.72 1.47 1.35L5.41 20z\"/>\n",
              "  </svg>\n",
              "      </button>\n",
              "      \n",
              "  <style>\n",
              "    .colab-df-container {\n",
              "      display:flex;\n",
              "      flex-wrap:wrap;\n",
              "      gap: 12px;\n",
              "    }\n",
              "\n",
              "    .colab-df-convert {\n",
              "      background-color: #E8F0FE;\n",
              "      border: none;\n",
              "      border-radius: 50%;\n",
              "      cursor: pointer;\n",
              "      display: none;\n",
              "      fill: #1967D2;\n",
              "      height: 32px;\n",
              "      padding: 0 0 0 0;\n",
              "      width: 32px;\n",
              "    }\n",
              "\n",
              "    .colab-df-convert:hover {\n",
              "      background-color: #E2EBFA;\n",
              "      box-shadow: 0px 1px 2px rgba(60, 64, 67, 0.3), 0px 1px 3px 1px rgba(60, 64, 67, 0.15);\n",
              "      fill: #174EA6;\n",
              "    }\n",
              "\n",
              "    [theme=dark] .colab-df-convert {\n",
              "      background-color: #3B4455;\n",
              "      fill: #D2E3FC;\n",
              "    }\n",
              "\n",
              "    [theme=dark] .colab-df-convert:hover {\n",
              "      background-color: #434B5C;\n",
              "      box-shadow: 0px 1px 3px 1px rgba(0, 0, 0, 0.15);\n",
              "      filter: drop-shadow(0px 1px 2px rgba(0, 0, 0, 0.3));\n",
              "      fill: #FFFFFF;\n",
              "    }\n",
              "  </style>\n",
              "\n",
              "      <script>\n",
              "        const buttonEl =\n",
              "          document.querySelector('#df-905d38b1-3bf5-4ddc-b680-51baf347d49d button.colab-df-convert');\n",
              "        buttonEl.style.display =\n",
              "          google.colab.kernel.accessAllowed ? 'block' : 'none';\n",
              "\n",
              "        async function convertToInteractive(key) {\n",
              "          const element = document.querySelector('#df-905d38b1-3bf5-4ddc-b680-51baf347d49d');\n",
              "          const dataTable =\n",
              "            await google.colab.kernel.invokeFunction('convertToInteractive',\n",
              "                                                     [key], {});\n",
              "          if (!dataTable) return;\n",
              "\n",
              "          const docLinkHtml = 'Like what you see? Visit the ' +\n",
              "            '<a target=\"_blank\" href=https://colab.research.google.com/notebooks/data_table.ipynb>data table notebook</a>'\n",
              "            + ' to learn more about interactive tables.';\n",
              "          element.innerHTML = '';\n",
              "          dataTable['output_type'] = 'display_data';\n",
              "          await google.colab.output.renderOutput(dataTable, element);\n",
              "          const docLink = document.createElement('div');\n",
              "          docLink.innerHTML = docLinkHtml;\n",
              "          element.appendChild(docLink);\n",
              "        }\n",
              "      </script>\n",
              "    </div>\n",
              "  </div>\n",
              "  "
            ]
          },
          "metadata": {},
          "execution_count": 49
        }
      ]
    },
    {
      "cell_type": "markdown",
      "source": [
        "## Logistic Regression\n",
        "\n",
        "Now, let's try another simple, yet much more powerful, model: the logistic regression. Since our dataset is very unbalanced, we may use the ```class_weigth``` parameter. We will make it so that the weight for each fraud data is equal to:\n",
        "\n",
        "\\begin{equation}\n",
        "w = \\dfrac{n_0}{n_1}\n",
        "\\end{equation}\n",
        "\n",
        "where $n_0$ is the number of samples from class 0 (non-frauds) and $n_1$ is the number of samples from class 1 (frauds). Thus, we can do:"
      ],
      "metadata": {
        "id": "I1PDCXidGouA"
      }
    },
    {
      "cell_type": "code",
      "source": [
        "n_0 = y_train[y_train == 0].shape[0]\n",
        "n_1 = y_train[y_train == 1].shape[0]\n",
        "w = n_0/n_1\n",
        "\n",
        "print(f'w = {round(w, 2)}')"
      ],
      "metadata": {
        "colab": {
          "base_uri": "https://localhost:8080/"
        },
        "id": "H0mfbpDdHfjf",
        "outputId": "345269da-9e33-4f6c-af6b-8e93dad56a6b"
      },
      "execution_count": 50,
      "outputs": [
        {
          "output_type": "stream",
          "name": "stdout",
          "text": [
            "w = 10.11\n"
          ]
        }
      ]
    },
    {
      "cell_type": "markdown",
      "source": [
        "Thus, we will give a weight of 10.11 for each fraudulent data. Thus, we can fit the Logistic Regression model using:"
      ],
      "metadata": {
        "id": "Hq6eLQ5GIK_t"
      }
    },
    {
      "cell_type": "code",
      "source": [
        "model_LogReg = LogisticRegression(class_weight = {0 : 1, 1 : w}, random_state = SEED)\n",
        "\n",
        "model_LogReg.fit(X_train, y_train)"
      ],
      "metadata": {
        "colab": {
          "base_uri": "https://localhost:8080/"
        },
        "id": "i5Wh-Fw1ITNW",
        "outputId": "35551604-3956-4f75-e8c9-0107db21972c"
      },
      "execution_count": 51,
      "outputs": [
        {
          "output_type": "execute_result",
          "data": {
            "text/plain": [
              "LogisticRegression(class_weight={0: 1, 1: 10.11111111111111}, random_state=42)"
            ]
          },
          "metadata": {},
          "execution_count": 51
        }
      ]
    },
    {
      "cell_type": "markdown",
      "source": [
        "Now, let's get the prediction in the test sample and get the confusion matrix for our new model:"
      ],
      "metadata": {
        "id": "Xap9LfSNG3df"
      }
    },
    {
      "cell_type": "code",
      "source": [
        "y_pred = model_LogReg.predict(X_test)\n",
        "\n",
        "cm = confusion_matrix(y_test, y_pred)\n",
        "disp = ConfusionMatrixDisplay(confusion_matrix = cm)\n",
        "disp.plot(values_format = 'd')"
      ],
      "metadata": {
        "colab": {
          "base_uri": "https://localhost:8080/",
          "height": 297
        },
        "id": "1nSIVg7sG2Bn",
        "outputId": "7403d1a3-f049-4d93-9e68-1c0c65c42dd7"
      },
      "execution_count": 52,
      "outputs": [
        {
          "output_type": "execute_result",
          "data": {
            "text/plain": [
              "<sklearn.metrics._plot.confusion_matrix.ConfusionMatrixDisplay at 0x7fbd661d2450>"
            ]
          },
          "metadata": {},
          "execution_count": 52
        },
        {
          "output_type": "display_data",
          "data": {
            "text/plain": [
              "<Figure size 432x288 with 2 Axes>"
            ],
            "image/png": "[encoded data removed]"
          },
          "metadata": {
            "needs_background": "light"
          }
        }
      ]
    },
    {
      "cell_type": "markdown",
      "source": [
        "Now, we got 7738 True Negatives, 782 True Positives, 1391 False Positives, and 89 False Negatives. Let's evaluate our metrics:"
      ],
      "metadata": {
        "id": "qjxILrKJI2tq"
      }
    },
    {
      "cell_type": "code",
      "source": [
        "acc = round(metrics.accuracy_score(y_test, y_pred), 4)\n",
        "prc = round(metrics.precision_score(y_test, y_pred), 4)\n",
        "rec = round(metrics.recall_score(y_test, y_pred), 4)\n",
        "f1s = round(metrics.f1_score(y_test, y_pred), 4)\n",
        "\n",
        "print(f\"Accuracy  : {acc}\")\n",
        "print(f\"Precision : {prc}\")\n",
        "print(f\"Recall    : {rec}\")\n",
        "print(f\"F1        : {f1s}\")"
      ],
      "metadata": {
        "colab": {
          "base_uri": "https://localhost:8080/"
        },
        "id": "zZ9O1CSHHI0B",
        "outputId": "e5c6995f-20fe-48f0-d407-ff0e7ba9bcd1"
      },
      "execution_count": 53,
      "outputs": [
        {
          "output_type": "stream",
          "name": "stdout",
          "text": [
            "Accuracy  : 0.852\n",
            "Precision : 0.3599\n",
            "Recall    : 0.8978\n",
            "F1        : 0.5138\n"
          ]
        }
      ]
    },
    {
      "cell_type": "markdown",
      "source": [
        "Now, using a very simple model, we managed to achieve a recall of 89.78%. That means that we were able to detect 89.78% of the fraudulent transactions in our test set. That's very good. However, notice that our accuracy lowered. Since accuracy is not as important for problems with a very unbalanced dataset, this is ok. However, our precision is also not very high still. \n",
        "\n",
        "When we use class weight, our model may end up \"thinking\" that our prioritized class is much more frequent in the dataset. Then, it may end up having a lot of false positives. In fact, we have more false positives than true positives in our model.\n",
        "\n",
        "At the same time, from the 9129 non-fraudulent entries, only 1391 were predicted to be frauds (15.23%). Also, since it is very important for our company to predict fraudulent transactions (due to the high value involved in these), it means that recall is far more important than precision (even though both are important to evaluate a given fraud detection model).\n",
        "\n",
        "We can understand more about the trade-off between precision and recall by the precision-recall curve:"
      ],
      "metadata": {
        "id": "VWmInQWEJ8w-"
      }
    },
    {
      "cell_type": "code",
      "source": [
        "y_pred_proba = model_LogReg.predict_proba(X_test)[::, 1]\n",
        "prcr, recr, threshold = metrics.precision_recall_curve(y_test, y_pred_proba)\n",
        "auc = metrics.auc(recr, prcr)\n",
        "\n",
        "no_skill = y_test[y_test == 1].shape[0] / y_test.shape[0]\n",
        "\n",
        "fig = plt.figure(figsize = (12, 8))\n",
        "\n",
        "plt.plot(recr, prcr, label = 'Logistic Regression, AUC = '+str(auc))\n",
        "plt.plot([0, 1], [no_skill, no_skill], color = 'r', linestyle='--', label = 'No skill')\n",
        "\n",
        "plt.plot(rec, prc, 'b', marker = 11, markersize = 10)\n",
        "\n",
        "plt.legend(loc = 'best')\n",
        "\n",
        "plt.xlabel('Recall')\n",
        "plt.ylabel('Precision')\n",
        "\n",
        "plt.plot([0, 1, 1], [1, 1, 0], color = 'g', lw = 2, linestyle = '--', label = 'Perfect model')"
      ],
      "metadata": {
        "colab": {
          "base_uri": "https://localhost:8080/",
          "height": 515
        },
        "id": "ZYVeWtblJ8IG",
        "outputId": "00914b77-e225-4aba-9b6a-1c52fa58819c"
      },
      "execution_count": 54,
      "outputs": [
        {
          "output_type": "execute_result",
          "data": {
            "text/plain": [
              "[<matplotlib.lines.Line2D at 0x7fbd660cc3d0>]"
            ]
          },
          "metadata": {},
          "execution_count": 54
        },
        {
          "output_type": "display_data",
          "data": {
            "text/plain": [
              "<Figure size 864x576 with 1 Axes>"
            ],
            "image/png": "[encoded data removed]"
          },
          "metadata": {
            "needs_background": "light"
          }
        }
      ]
    },
    {
      "cell_type": "markdown",
      "source": [
        "The precision-recall curve shows different pairs precision-recall for different probability thresholds. The point evaluated before is shown as a blue triangle, which corresponds to the default threshold (0.5). Note that we can actually change the threshold to \"optimize\" recall and precision. However, there is a trade-off here: when we increase precision, we often reduce recall, and when we increase recall, we often reduce precision. \n",
        "\n",
        "In this project, we will attempt to optimize our threshold by maximizing recall. However, we will require that our model has at least a precision of 50%, which means that, from the predicted frauds, at least 50% are real frauds. \n",
        "\n",
        "For that end, we will define a new metric, where:\n",
        "\n",
        "\\begin{equation}\n",
        "M_{PR} = R \\text{, if $P \\geq P_t$}\n",
        "\\end{equation}\n",
        "\n",
        "\\begin{equation}\n",
        "M_{PR} = 0 \\text{, otherwise}\n",
        "\\end{equation}\n",
        "\n",
        "where, in this project, $P_t = 0.5$. Thus, we can do:"
      ],
      "metadata": {
        "id": "u9COxw51Ljdx"
      }
    },
    {
      "cell_type": "code",
      "source": [
        "Pt = 0.5"
      ],
      "metadata": {
        "id": "nI0A9YzIOaMv"
      },
      "execution_count": 55,
      "outputs": []
    },
    {
      "cell_type": "code",
      "source": [
        "def calc_MPR(R, P, Pt):\n",
        "  return R if (P >= Pt) else 0"
      ],
      "metadata": {
        "id": "WgoDR0IkK1CN"
      },
      "execution_count": 56,
      "outputs": []
    },
    {
      "cell_type": "code",
      "source": [
        "def calc_MPR_list(Rlist, Plist, Pt):\n",
        "  return [calc_MPR(Rlist[i], Plist[i], Pt) for i in range(len(Rlist))]"
      ],
      "metadata": {
        "id": "kjLHVKFMN_3_"
      },
      "execution_count": 57,
      "outputs": []
    },
    {
      "cell_type": "code",
      "source": [
        "def calc_opt_threshold(Tlist, Mlist, Plist):\n",
        "  max_index = np.where(Mlist == np.amax(Mlist))\n",
        "\n",
        "  if isinstance(max_index, tuple):                            # This condition serves to check if there are multiple entries with the same \n",
        "     Plist_tmp = Plist[max_index]                             #  M_{PR} and, if so, it gets the entry with the higher precision.\n",
        "     max_ind_prc = np.where(Plist_tmp == np.amax(Plist_tmp))                                  \n",
        "     max_index = max_index[0][max_ind_prc]\n",
        "\n",
        "  return (Tlist[max_index][0], np.amax(Mlist))"
      ],
      "metadata": {
        "id": "RdfOolmGOiPn"
      },
      "execution_count": 58,
      "outputs": []
    },
    {
      "cell_type": "markdown",
      "source": [
        "Nice! Now, let's get the optimal threshold for our Logistic Regression model:"
      ],
      "metadata": {
        "id": "NISKS0YcNxU-"
      }
    },
    {
      "cell_type": "code",
      "source": [
        "mprr = calc_MPR_list(recr, prcr, Pt)"
      ],
      "metadata": {
        "id": "CILIGnEWNuFZ"
      },
      "execution_count": 59,
      "outputs": []
    },
    {
      "cell_type": "code",
      "source": [
        "opt_thresh, opt_mpr = calc_opt_threshold(threshold, mprr, prcr)\n",
        "\n",
        "print(f'The optimum threshold is {round(opt_thresh, 2)} (guarantees a precision of 50%).')"
      ],
      "metadata": {
        "colab": {
          "base_uri": "https://localhost:8080/"
        },
        "id": "DicDkFKcObXu",
        "outputId": "f7828953-b365-446e-e348-545151548503"
      },
      "execution_count": 60,
      "outputs": [
        {
          "output_type": "stream",
          "name": "stdout",
          "text": [
            "The optimum threshold is 0.72 (guarantees a precision of 50%).\n"
          ]
        }
      ]
    },
    {
      "cell_type": "markdown",
      "source": [
        "Nice! Now, let's try to get the confusion matrix for this threshold. First, let's define a function to predict the classes for a given threshold:"
      ],
      "metadata": {
        "id": "WPpeXj-xRGXm"
      }
    },
    {
      "cell_type": "code",
      "source": [
        "def pred_threshold(model, X, t):\n",
        "  y_prob = model.predict_proba(X)[::, 1]\n",
        "  y_pred = []\n",
        "  for i in range(len(y_prob)):\n",
        "    y_pred.append(0 if (y_prob[i] < t) else 1)\n",
        "\n",
        "  return (y_pred, y_prob)"
      ],
      "metadata": {
        "id": "_X4_NzrLOv-G"
      },
      "execution_count": 61,
      "outputs": []
    },
    {
      "cell_type": "markdown",
      "source": [
        "Now, let's get the confusion matrix:"
      ],
      "metadata": {
        "id": "6kBi08NqRqMy"
      }
    },
    {
      "cell_type": "code",
      "source": [
        "(y_pred_t, y_prob) = pred_threshold(model_LogReg, X_test, opt_thresh)\n",
        "\n",
        "cm = confusion_matrix(y_test, y_pred_t)\n",
        "disp = ConfusionMatrixDisplay(confusion_matrix = cm)\n",
        "disp.plot(values_format = 'd')"
      ],
      "metadata": {
        "colab": {
          "base_uri": "https://localhost:8080/",
          "height": 297
        },
        "id": "-rurF45hRoiU",
        "outputId": "6b9c643c-e33d-4c5e-9470-767014af3e7c"
      },
      "execution_count": 62,
      "outputs": [
        {
          "output_type": "execute_result",
          "data": {
            "text/plain": [
              "<sklearn.metrics._plot.confusion_matrix.ConfusionMatrixDisplay at 0x7fbd66125250>"
            ]
          },
          "metadata": {},
          "execution_count": 62
        },
        {
          "output_type": "display_data",
          "data": {
            "text/plain": [
              "<Figure size 432x288 with 2 Axes>"
            ],
            "image/png": "[encoded data removed]"
          },
          "metadata": {
            "needs_background": "light"
          }
        }
      ]
    },
    {
      "cell_type": "markdown",
      "source": [
        "And let's evaluate our metrics:"
      ],
      "metadata": {
        "id": "CEZMg5XpVAV2"
      }
    },
    {
      "cell_type": "code",
      "source": [
        "acc = round(metrics.accuracy_score(y_test, y_pred_t), 4)\n",
        "prc = round(metrics.precision_score(y_test, y_pred_t), 4)\n",
        "rec = round(metrics.recall_score(y_test, y_pred_t), 4)\n",
        "f1s = round(metrics.f1_score(y_test, y_pred_t), 4)\n",
        "\n",
        "print(f\"Accuracy  : {acc}\")\n",
        "print(f\"Precision : {prc}\")\n",
        "print(f\"Recall    : {rec}\")\n",
        "print(f\"F1        : {f1s}\")"
      ],
      "metadata": {
        "colab": {
          "base_uri": "https://localhost:8080/"
        },
        "id": "KGV3WfSFR2YE",
        "outputId": "4c4350fb-9e50-41c9-f172-5697434d3acd"
      },
      "execution_count": 63,
      "outputs": [
        {
          "output_type": "stream",
          "name": "stdout",
          "text": [
            "Accuracy  : 0.9131\n",
            "Precision : 0.5007\n",
            "Recall    : 0.7842\n",
            "F1        : 0.6112\n"
          ]
        }
      ]
    },
    {
      "cell_type": "markdown",
      "source": [
        "Now, our accuracy and precision increased (when compared to the first logistic regression confusion matrix). This time, we can consider that, at least, half the frauds our model is predicting are, indeed, frauds. However, at the same time, the recall decreased. That is expected: since we increased our threshold (from 0.50 to 0.72), our model we detect less frauds. \n",
        "\n",
        "Nice! Now, we have defined a minimum precision for our model, and a way to optimize our prediction probability threshold (in a way that we maximize recall and guarantee at least a 50% precision). Let's add this information to the dataframe:"
      ],
      "metadata": {
        "id": "_wgVHxrMVGF4"
      }
    },
    {
      "cell_type": "code",
      "source": [
        "df_metrics.loc['Dummy classifier', 'mpr']       = df_metrics.loc['Dummy classifier', 'rec']\n",
        "df_metrics.loc['Dummy classifier', 'threshold'] = 0.50"
      ],
      "metadata": {
        "id": "3aGGdhINWek_"
      },
      "execution_count": 64,
      "outputs": []
    },
    {
      "cell_type": "code",
      "source": [
        "df_metrics.loc['Logistic Regression'] = [acc, prc, rec, f1s, auc, opt_mpr, opt_thresh]"
      ],
      "metadata": {
        "id": "E8y8JkufVFdF"
      },
      "execution_count": 65,
      "outputs": []
    },
    {
      "cell_type": "code",
      "source": [
        "df_metrics"
      ],
      "metadata": {
        "colab": {
          "base_uri": "https://localhost:8080/",
          "height": 112
        },
        "id": "KbFOYICgXbH3",
        "outputId": "fae71cd6-e4df-4ed9-84c3-2a4e59141fa3"
      },
      "execution_count": 66,
      "outputs": [
        {
          "output_type": "execute_result",
          "data": {
            "text/plain": [
              "                        acc     prc     rec     f1s       auc       mpr  \\\n",
              "Dummy classifier     0.9129  0.0000  0.0000  0.0000  0.543550  0.000000   \n",
              "Logistic Regression  0.9131  0.5007  0.7842  0.6112  0.718377  0.784156   \n",
              "\n",
              "                     threshold  \n",
              "Dummy classifier      0.500000  \n",
              "Logistic Regression   0.715873  "
            ],
            "text/html": [
              "\n",
              "  <div id=\"df-a3351679-9ea3-49f6-bacd-72dfe6a1f872\">\n",
              "    <div class=\"colab-df-container\">\n",
              "      <div>\n",
              "<style scoped>\n",
              "    .dataframe tbody tr th:only-of-type {\n",
              "        vertical-align: middle;\n",
              "    }\n",
              "\n",
              "    .dataframe tbody tr th {\n",
              "        vertical-align: top;\n",
              "    }\n",
              "\n",
              "    .dataframe thead th {\n",
              "        text-align: right;\n",
              "    }\n",
              "</style>\n",
              "<table border=\"1\" class=\"dataframe\">\n",
              "  <thead>\n",
              "    <tr style=\"text-align: right;\">\n",
              "      <th></th>\n",
              "      <th>acc</th>\n",
              "      <th>prc</th>\n",
              "      <th>rec</th>\n",
              "      <th>f1s</th>\n",
              "      <th>auc</th>\n",
              "      <th>mpr</th>\n",
              "      <th>threshold</th>\n",
              "    </tr>\n",
              "  </thead>\n",
              "  <tbody>\n",
              "    <tr>\n",
              "      <th>Dummy classifier</th>\n",
              "      <td>0.9129</td>\n",
              "      <td>0.0000</td>\n",
              "      <td>0.0000</td>\n",
              "      <td>0.0000</td>\n",
              "      <td>0.543550</td>\n",
              "      <td>0.000000</td>\n",
              "      <td>0.500000</td>\n",
              "    </tr>\n",
              "    <tr>\n",
              "      <th>Logistic Regression</th>\n",
              "      <td>0.9131</td>\n",
              "      <td>0.5007</td>\n",
              "      <td>0.7842</td>\n",
              "      <td>0.6112</td>\n",
              "      <td>0.718377</td>\n",
              "      <td>0.784156</td>\n",
              "      <td>0.715873</td>\n",
              "    </tr>\n",
              "  </tbody>\n",
              "</table>\n",
              "</div>\n",
              "      <button class=\"colab-df-convert\" onclick=\"convertToInteractive('df-a3351679-9ea3-49f6-bacd-72dfe6a1f872')\"\n",
              "              title=\"Convert this dataframe to an interactive table.\"\n",
              "              style=\"display:none;\">\n",
              "        \n",
              "  <svg xmlns=\"http://www.w3.org/2000/svg\" height=\"24px\"viewBox=\"0 0 24 24\"\n",
              "       width=\"24px\">\n",
              "    <path d=\"M0 0h24v24H0V0z\" fill=\"none\"/>\n",
              "    <path d=\"M18.56 5.44l.94 2.06.94-2.06 2.06-.94-2.06-.94-.94-2.06-.94 2.06-2.06.94zm-11 1L8.5 8.5l.94-2.06 2.06-.94-2.06-.94L8.5 2.5l-.94 2.06-2.06.94zm10 10l.94 2.06.94-2.06 2.06-.94-2.06-.94-.94-2.06-.94 2.06-2.06.94z\"/><path d=\"M17.41 7.96l-1.37-1.37c-.4-.4-.92-.59-1.43-.59-.52 0-1.04.2-1.43.59L10.3 9.45l-7.72 7.72c-.78.78-.78 2.05 0 2.83L4 21.41c.39.39.9.59 1.41.59.51 0 1.02-.2 1.41-.59l7.78-7.78 2.81-2.81c.8-.78.8-2.07 0-2.86zM5.41 20L4 18.59l7.72-7.72 1.47 1.35L5.41 20z\"/>\n",
              "  </svg>\n",
              "      </button>\n",
              "      \n",
              "  <style>\n",
              "    .colab-df-container {\n",
              "      display:flex;\n",
              "      flex-wrap:wrap;\n",
              "      gap: 12px;\n",
              "    }\n",
              "\n",
              "    .colab-df-convert {\n",
              "      background-color: #E8F0FE;\n",
              "      border: none;\n",
              "      border-radius: 50%;\n",
              "      cursor: pointer;\n",
              "      display: none;\n",
              "      fill: #1967D2;\n",
              "      height: 32px;\n",
              "      padding: 0 0 0 0;\n",
              "      width: 32px;\n",
              "    }\n",
              "\n",
              "    .colab-df-convert:hover {\n",
              "      background-color: #E2EBFA;\n",
              "      box-shadow: 0px 1px 2px rgba(60, 64, 67, 0.3), 0px 1px 3px 1px rgba(60, 64, 67, 0.15);\n",
              "      fill: #174EA6;\n",
              "    }\n",
              "\n",
              "    [theme=dark] .colab-df-convert {\n",
              "      background-color: #3B4455;\n",
              "      fill: #D2E3FC;\n",
              "    }\n",
              "\n",
              "    [theme=dark] .colab-df-convert:hover {\n",
              "      background-color: #434B5C;\n",
              "      box-shadow: 0px 1px 3px 1px rgba(0, 0, 0, 0.15);\n",
              "      filter: drop-shadow(0px 1px 2px rgba(0, 0, 0, 0.3));\n",
              "      fill: #FFFFFF;\n",
              "    }\n",
              "  </style>\n",
              "\n",
              "      <script>\n",
              "        const buttonEl =\n",
              "          document.querySelector('#df-a3351679-9ea3-49f6-bacd-72dfe6a1f872 button.colab-df-convert');\n",
              "        buttonEl.style.display =\n",
              "          google.colab.kernel.accessAllowed ? 'block' : 'none';\n",
              "\n",
              "        async function convertToInteractive(key) {\n",
              "          const element = document.querySelector('#df-a3351679-9ea3-49f6-bacd-72dfe6a1f872');\n",
              "          const dataTable =\n",
              "            await google.colab.kernel.invokeFunction('convertToInteractive',\n",
              "                                                     [key], {});\n",
              "          if (!dataTable) return;\n",
              "\n",
              "          const docLinkHtml = 'Like what you see? Visit the ' +\n",
              "            '<a target=\"_blank\" href=https://colab.research.google.com/notebooks/data_table.ipynb>data table notebook</a>'\n",
              "            + ' to learn more about interactive tables.';\n",
              "          element.innerHTML = '';\n",
              "          dataTable['output_type'] = 'display_data';\n",
              "          await google.colab.output.renderOutput(dataTable, element);\n",
              "          const docLink = document.createElement('div');\n",
              "          docLink.innerHTML = docLinkHtml;\n",
              "          element.appendChild(docLink);\n",
              "        }\n",
              "      </script>\n",
              "    </div>\n",
              "  </div>\n",
              "  "
            ]
          },
          "metadata": {},
          "execution_count": 66
        }
      ]
    },
    {
      "cell_type": "markdown",
      "source": [
        "Now, let's try to fit other models, and see if we can improve upon our logistic regression."
      ],
      "metadata": {
        "id": "6gMJmUyUWK4l"
      }
    },
    {
      "cell_type": "markdown",
      "source": [
        "## Testing out more robust models\n",
        "\n",
        "This time, we will try to use other modeling criteria, namely:\n",
        "\n",
        "*   Decision tree\n",
        "*   Random forest\n",
        "*   Gradient boosting\n",
        "*   Catboost\n",
        "*   XGBoost\n",
        "\n",
        "Also, we will try to optimize the $M_{PR}$ for these models, trying to guarantee a minimum precision of 50%. First, let's define a user-defined function to get the metrics that we need:\n",
        "\n"
      ],
      "metadata": {
        "id": "a13hmsSYXeh2"
      }
    },
    {
      "cell_type": "code",
      "source": [
        "def GetMetrics(model, X_test, y_test):\n",
        "  y_pred_proba = model.predict_proba(X_test)[::, 1]\n",
        "  prcr, recr, threshold = metrics.precision_recall_curve(y_test, y_pred_proba)\n",
        "  auc = metrics.auc(recr, prcr)\n",
        "\n",
        "  mprr = calc_MPR_list(recr, prcr, Pt)\n",
        "  opt_thresh, opt_mpr = calc_opt_threshold(threshold, mprr, prcr)\n",
        "  y_pred_t, y_pred_proba = pred_threshold(model, X_test, opt_thresh)\n",
        "\n",
        "  acc = round(metrics.accuracy_score(y_test, y_pred_t), 4)\n",
        "  prc = round(metrics.precision_score(y_test, y_pred_t), 4)\n",
        "  rec = round(metrics.recall_score(y_test, y_pred_t), 4)\n",
        "  f1s = round(metrics.f1_score(y_test, y_pred_t), 4)\n",
        "\n",
        "  return [acc, prc, rec, f1s, auc, opt_mpr, opt_thresh]"
      ],
      "metadata": {
        "id": "lV44gETBZ9Fw"
      },
      "execution_count": 67,
      "outputs": []
    },
    {
      "cell_type": "markdown",
      "source": [
        "Now, let's instance our models:"
      ],
      "metadata": {
        "id": "7DeS7PL_Z7Qx"
      }
    },
    {
      "cell_type": "code",
      "source": [
        "model_DcTree = DecisionTreeClassifier(class_weight = {0 : 1, 1 : w}, max_depth = 5, random_state = SEED)\n",
        "model_RndFor = RandomForestClassifier(class_weight = {0 : 1, 1 : w}, max_depth = 5, random_state = SEED)\n",
        "model_GrdBst = GradientBoostingClassifier(random_state = SEED)\n",
        "model_CatBst = CatBoostClassifier(class_weights = [1, w], verbose = False, random_state = SEED)\n",
        "model_XtGBst = XGBClassifier(class_weight = {0 : 1, 1 : w}, seed = SEED)\n",
        "\n",
        "models = [model_DcTree, model_RndFor, model_GrdBst, model_CatBst, model_XtGBst]"
      ],
      "metadata": {
        "id": "yf_dBNz-YMan"
      },
      "execution_count": 68,
      "outputs": []
    },
    {
      "cell_type": "markdown",
      "source": [
        "Note that the Gradient Boosting Classifier has no class weight. Due to how the model works, it actually does not need to correct class imbalance via this parameter.\n",
        "\n",
        "https://towardsdatascience.com/practical-tips-for-class-imbalance-in-binary-classification-6ee29bcdb8a7\n",
        "\n",
        "Now, to fit our models and get the metrics and optimal threshold, we can do:"
      ],
      "metadata": {
        "id": "KawWhCziY4cP"
      }
    },
    {
      "cell_type": "code",
      "source": [
        "for model in models:\n",
        "\n",
        "  print('-'*30)\n",
        "  print('Model ' + model.__class__.__name__)\n",
        "  print('-'*30)\n",
        "\n",
        "  print('Training...')\n",
        "  model.fit(X_train, y_train)\n",
        "\n",
        "  print('Evaluating metrics...')\n",
        "  df_metrics.loc[model.__class__.__name__] = GetMetrics(model, X_test, y_test)\n",
        "\n",
        "  print('Done.')"
      ],
      "metadata": {
        "colab": {
          "base_uri": "https://localhost:8080/"
        },
        "id": "2x3MpxY9Ygto",
        "outputId": "b7b9ac09-882f-4307-9722-ecb56e48f26a"
      },
      "execution_count": 69,
      "outputs": [
        {
          "output_type": "stream",
          "name": "stdout",
          "text": [
            "------------------------------\n",
            "Model DecisionTreeClassifier\n",
            "------------------------------\n",
            "Training...\n",
            "Evaluating metrics...\n",
            "Done.\n",
            "------------------------------\n",
            "Model RandomForestClassifier\n",
            "------------------------------\n",
            "Training...\n",
            "Evaluating metrics...\n",
            "Done.\n",
            "------------------------------\n",
            "Model GradientBoostingClassifier\n",
            "------------------------------\n",
            "Training...\n",
            "Evaluating metrics...\n",
            "Done.\n",
            "------------------------------\n",
            "Model CatBoostClassifier\n",
            "------------------------------\n",
            "Training...\n",
            "Evaluating metrics...\n",
            "Done.\n",
            "------------------------------\n",
            "Model XGBClassifier\n",
            "------------------------------\n",
            "Training...\n",
            "Evaluating metrics...\n",
            "Done.\n"
          ]
        }
      ]
    },
    {
      "cell_type": "markdown",
      "source": [
        "Nice! Now, let's see the metrics for each model:"
      ],
      "metadata": {
        "id": "Hqhwbpi1bbsx"
      }
    },
    {
      "cell_type": "code",
      "source": [
        "df_metrics.sort_values(by = ['mpr', 'prc'], ascending = [False, False])"
      ],
      "metadata": {
        "colab": {
          "base_uri": "https://localhost:8080/",
          "height": 269
        },
        "id": "ZLMO223vbRmn",
        "outputId": "a81f17ce-7dde-4fd0-e33c-69b5522af525"
      },
      "execution_count": 70,
      "outputs": [
        {
          "output_type": "execute_result",
          "data": {
            "text/plain": [
              "                               acc     prc     rec     f1s       auc  \\\n",
              "CatBoostClassifier          0.9987  0.9853  1.0000  0.9926  0.999740   \n",
              "RandomForestClassifier      0.9850  0.8531  1.0000  0.9207  0.999723   \n",
              "XGBClassifier               0.9361  0.5768  1.0000  0.7316  0.999374   \n",
              "GradientBoostingClassifier  0.9983  0.9819  0.9989  0.9903  0.999376   \n",
              "DecisionTreeClassifier      0.9953  0.9498  0.9989  0.9737  0.999048   \n",
              "Logistic Regression         0.9131  0.5007  0.7842  0.6112  0.718377   \n",
              "Dummy classifier            0.9129  0.0000  0.0000  0.0000  0.543550   \n",
              "\n",
              "                                 mpr  threshold  \n",
              "CatBoostClassifier          1.000000   0.827503  \n",
              "RandomForestClassifier      1.000000   0.358197  \n",
              "XGBClassifier               1.000000   0.007901  \n",
              "GradientBoostingClassifier  0.998852   0.351154  \n",
              "DecisionTreeClassifier      0.998852   0.612382  \n",
              "Logistic Regression         0.784156   0.715873  \n",
              "Dummy classifier            0.000000   0.500000  "
            ],
            "text/html": [
              "\n",
              "  <div id=\"df-1cc48cd6-e6ad-4c30-910e-105f4fb2124c\">\n",
              "    <div class=\"colab-df-container\">\n",
              "      <div>\n",
              "<style scoped>\n",
              "    .dataframe tbody tr th:only-of-type {\n",
              "        vertical-align: middle;\n",
              "    }\n",
              "\n",
              "    .dataframe tbody tr th {\n",
              "        vertical-align: top;\n",
              "    }\n",
              "\n",
              "    .dataframe thead th {\n",
              "        text-align: right;\n",
              "    }\n",
              "</style>\n",
              "<table border=\"1\" class=\"dataframe\">\n",
              "  <thead>\n",
              "    <tr style=\"text-align: right;\">\n",
              "      <th></th>\n",
              "      <th>acc</th>\n",
              "      <th>prc</th>\n",
              "      <th>rec</th>\n",
              "      <th>f1s</th>\n",
              "      <th>auc</th>\n",
              "      <th>mpr</th>\n",
              "      <th>threshold</th>\n",
              "    </tr>\n",
              "  </thead>\n",
              "  <tbody>\n",
              "    <tr>\n",
              "      <th>CatBoostClassifier</th>\n",
              "      <td>0.9987</td>\n",
              "      <td>0.9853</td>\n",
              "      <td>1.0000</td>\n",
              "      <td>0.9926</td>\n",
              "      <td>0.999740</td>\n",
              "      <td>1.000000</td>\n",
              "      <td>0.827503</td>\n",
              "    </tr>\n",
              "    <tr>\n",
              "      <th>RandomForestClassifier</th>\n",
              "      <td>0.9850</td>\n",
              "      <td>0.8531</td>\n",
              "      <td>1.0000</td>\n",
              "      <td>0.9207</td>\n",
              "      <td>0.999723</td>\n",
              "      <td>1.000000</td>\n",
              "      <td>0.358197</td>\n",
              "    </tr>\n",
              "    <tr>\n",
              "      <th>XGBClassifier</th>\n",
              "      <td>0.9361</td>\n",
              "      <td>0.5768</td>\n",
              "      <td>1.0000</td>\n",
              "      <td>0.7316</td>\n",
              "      <td>0.999374</td>\n",
              "      <td>1.000000</td>\n",
              "      <td>0.007901</td>\n",
              "    </tr>\n",
              "    <tr>\n",
              "      <th>GradientBoostingClassifier</th>\n",
              "      <td>0.9983</td>\n",
              "      <td>0.9819</td>\n",
              "      <td>0.9989</td>\n",
              "      <td>0.9903</td>\n",
              "      <td>0.999376</td>\n",
              "      <td>0.998852</td>\n",
              "      <td>0.351154</td>\n",
              "    </tr>\n",
              "    <tr>\n",
              "      <th>DecisionTreeClassifier</th>\n",
              "      <td>0.9953</td>\n",
              "      <td>0.9498</td>\n",
              "      <td>0.9989</td>\n",
              "      <td>0.9737</td>\n",
              "      <td>0.999048</td>\n",
              "      <td>0.998852</td>\n",
              "      <td>0.612382</td>\n",
              "    </tr>\n",
              "    <tr>\n",
              "      <th>Logistic Regression</th>\n",
              "      <td>0.9131</td>\n",
              "      <td>0.5007</td>\n",
              "      <td>0.7842</td>\n",
              "      <td>0.6112</td>\n",
              "      <td>0.718377</td>\n",
              "      <td>0.784156</td>\n",
              "      <td>0.715873</td>\n",
              "    </tr>\n",
              "    <tr>\n",
              "      <th>Dummy classifier</th>\n",
              "      <td>0.9129</td>\n",
              "      <td>0.0000</td>\n",
              "      <td>0.0000</td>\n",
              "      <td>0.0000</td>\n",
              "      <td>0.543550</td>\n",
              "      <td>0.000000</td>\n",
              "      <td>0.500000</td>\n",
              "    </tr>\n",
              "  </tbody>\n",
              "</table>\n",
              "</div>\n",
              "      <button class=\"colab-df-convert\" onclick=\"convertToInteractive('df-1cc48cd6-e6ad-4c30-910e-105f4fb2124c')\"\n",
              "              title=\"Convert this dataframe to an interactive table.\"\n",
              "              style=\"display:none;\">\n",
              "        \n",
              "  <svg xmlns=\"http://www.w3.org/2000/svg\" height=\"24px\"viewBox=\"0 0 24 24\"\n",
              "       width=\"24px\">\n",
              "    <path d=\"M0 0h24v24H0V0z\" fill=\"none\"/>\n",
              "    <path d=\"M18.56 5.44l.94 2.06.94-2.06 2.06-.94-2.06-.94-.94-2.06-.94 2.06-2.06.94zm-11 1L8.5 8.5l.94-2.06 2.06-.94-2.06-.94L8.5 2.5l-.94 2.06-2.06.94zm10 10l.94 2.06.94-2.06 2.06-.94-2.06-.94-.94-2.06-.94 2.06-2.06.94z\"/><path d=\"M17.41 7.96l-1.37-1.37c-.4-.4-.92-.59-1.43-.59-.52 0-1.04.2-1.43.59L10.3 9.45l-7.72 7.72c-.78.78-.78 2.05 0 2.83L4 21.41c.39.39.9.59 1.41.59.51 0 1.02-.2 1.41-.59l7.78-7.78 2.81-2.81c.8-.78.8-2.07 0-2.86zM5.41 20L4 18.59l7.72-7.72 1.47 1.35L5.41 20z\"/>\n",
              "  </svg>\n",
              "      </button>\n",
              "      \n",
              "  <style>\n",
              "    .colab-df-container {\n",
              "      display:flex;\n",
              "      flex-wrap:wrap;\n",
              "      gap: 12px;\n",
              "    }\n",
              "\n",
              "    .colab-df-convert {\n",
              "      background-color: #E8F0FE;\n",
              "      border: none;\n",
              "      border-radius: 50%;\n",
              "      cursor: pointer;\n",
              "      display: none;\n",
              "      fill: #1967D2;\n",
              "      height: 32px;\n",
              "      padding: 0 0 0 0;\n",
              "      width: 32px;\n",
              "    }\n",
              "\n",
              "    .colab-df-convert:hover {\n",
              "      background-color: #E2EBFA;\n",
              "      box-shadow: 0px 1px 2px rgba(60, 64, 67, 0.3), 0px 1px 3px 1px rgba(60, 64, 67, 0.15);\n",
              "      fill: #174EA6;\n",
              "    }\n",
              "\n",
              "    [theme=dark] .colab-df-convert {\n",
              "      background-color: #3B4455;\n",
              "      fill: #D2E3FC;\n",
              "    }\n",
              "\n",
              "    [theme=dark] .colab-df-convert:hover {\n",
              "      background-color: #434B5C;\n",
              "      box-shadow: 0px 1px 3px 1px rgba(0, 0, 0, 0.15);\n",
              "      filter: drop-shadow(0px 1px 2px rgba(0, 0, 0, 0.3));\n",
              "      fill: #FFFFFF;\n",
              "    }\n",
              "  </style>\n",
              "\n",
              "      <script>\n",
              "        const buttonEl =\n",
              "          document.querySelector('#df-1cc48cd6-e6ad-4c30-910e-105f4fb2124c button.colab-df-convert');\n",
              "        buttonEl.style.display =\n",
              "          google.colab.kernel.accessAllowed ? 'block' : 'none';\n",
              "\n",
              "        async function convertToInteractive(key) {\n",
              "          const element = document.querySelector('#df-1cc48cd6-e6ad-4c30-910e-105f4fb2124c');\n",
              "          const dataTable =\n",
              "            await google.colab.kernel.invokeFunction('convertToInteractive',\n",
              "                                                     [key], {});\n",
              "          if (!dataTable) return;\n",
              "\n",
              "          const docLinkHtml = 'Like what you see? Visit the ' +\n",
              "            '<a target=\"_blank\" href=https://colab.research.google.com/notebooks/data_table.ipynb>data table notebook</a>'\n",
              "            + ' to learn more about interactive tables.';\n",
              "          element.innerHTML = '';\n",
              "          dataTable['output_type'] = 'display_data';\n",
              "          await google.colab.output.renderOutput(dataTable, element);\n",
              "          const docLink = document.createElement('div');\n",
              "          docLink.innerHTML = docLinkHtml;\n",
              "          element.appendChild(docLink);\n",
              "        }\n",
              "      </script>\n",
              "    </div>\n",
              "  </div>\n",
              "  "
            ]
          },
          "metadata": {},
          "execution_count": 70
        }
      ]
    },
    {
      "cell_type": "markdown",
      "source": [
        "Nice! Our Catboost classifier managed to get a 100% recall, while also achieving a precision of 98.53%! That's really good! Notice that optimization of the threshold was very important for our model, as the optimal threshold was 0.8275 (very different from the default 0.50).\n",
        "\n",
        "So, let's fit our model once again, and let's take a look at the confusion matrix and to the precision-recall curve:"
      ],
      "metadata": {
        "id": "sJpXfuSZbyn5"
      }
    },
    {
      "cell_type": "code",
      "source": [
        "opt_thresh = df_metrics.loc[model_CatBst.__class__.__name__, 'threshold']\n",
        "\n",
        "model_CatBst.fit(X_train, y_train)\n",
        "y_pred_t, y_pred_proba = pred_threshold(model_CatBst, X_test, opt_thresh)\n",
        "\n",
        "cm = confusion_matrix(y_test, y_pred_t)\n",
        "disp = ConfusionMatrixDisplay(confusion_matrix = cm)\n",
        "disp.plot(values_format = 'd')"
      ],
      "metadata": {
        "colab": {
          "base_uri": "https://localhost:8080/",
          "height": 297
        },
        "id": "UuevP30ubh2p",
        "outputId": "d19afa2c-290e-4b3b-831d-eea892f39e69"
      },
      "execution_count": 71,
      "outputs": [
        {
          "output_type": "execute_result",
          "data": {
            "text/plain": [
              "<sklearn.metrics._plot.confusion_matrix.ConfusionMatrixDisplay at 0x7fbd65fce0d0>"
            ]
          },
          "metadata": {},
          "execution_count": 71
        },
        {
          "output_type": "display_data",
          "data": {
            "text/plain": [
              "<Figure size 432x288 with 2 Axes>"
            ],
            "image/png": "[encoded data removed]"
          },
          "metadata": {
            "needs_background": "light"
          }
        }
      ]
    },
    {
      "cell_type": "markdown",
      "source": [
        "So, using Catboost, we have 9116 True Negatives, 871 True Positives, 13 False Positives and 0 False Negatives! We managed to detect ALL frauds from the test set, and, from the non-fraudulent set, only 0.14% were incorrectly guessed as frauds."
      ],
      "metadata": {
        "id": "UA7LmR11c_jm"
      }
    },
    {
      "cell_type": "code",
      "source": [
        "y_pred_proba = model_CatBst.predict_proba(X_test)[::, 1]\n",
        "prcr, recr, threshold = metrics.precision_recall_curve(y_test, y_pred_proba)\n",
        "auc = metrics.auc(recr, prcr)\n",
        "\n",
        "no_skill = y_test[y_test == 1].shape[0] / y_test.shape[0]\n",
        "\n",
        "fig = plt.figure(figsize = (12, 8))\n",
        "\n",
        "plt.plot(recr, prcr, label = 'Catboost, AUC = '+str(auc))\n",
        "plt.plot([0, 1], [no_skill, no_skill], color = 'r', linestyle='--', label = 'No skill')\n",
        "\n",
        "plt.legend(loc = 'best')\n",
        "\n",
        "plt.xlabel('Recall')\n",
        "plt.ylabel('Precision')\n",
        "\n",
        "plt.plot([0, 1, 1], [1, 1, 0], color = 'g', lw = 2, linestyle = '--', label = 'Perfect model')"
      ],
      "metadata": {
        "colab": {
          "base_uri": "https://localhost:8080/",
          "height": 515
        },
        "id": "RWitWELccpZc",
        "outputId": "54f03e62-b07f-4286-e8fc-1b51da65ede1"
      },
      "execution_count": 72,
      "outputs": [
        {
          "output_type": "execute_result",
          "data": {
            "text/plain": [
              "[<matplotlib.lines.Line2D at 0x7fbd65ee1390>]"
            ]
          },
          "metadata": {},
          "execution_count": 72
        },
        {
          "output_type": "display_data",
          "data": {
            "text/plain": [
              "<Figure size 864x576 with 1 Axes>"
            ],
            "image/png": "[encoded data removed]"
          },
          "metadata": {
            "needs_background": "light"
          }
        }
      ]
    },
    {
      "cell_type": "markdown",
      "source": [
        "So, our Catboost model is **VERY** close to the perfect model. That's very good for us."
      ],
      "metadata": {
        "id": "dmoW8LZLc351"
      }
    },
    {
      "cell_type": "markdown",
      "source": [
        "## Model optimization\n",
        "\n",
        "So, our Catboost model actually showed an outstanding result for our data. However, maybe we are able to improve it even more. For that end, let's test different parameters through a randomized grid.\n",
        "\n",
        "First, let's define the parameter grid:"
      ],
      "metadata": {
        "id": "wJgUAtMedwW-"
      }
    },
    {
      "cell_type": "code",
      "source": [
        "learning_rate  = [0.01, 0.1, 0.3, 0.5, 1]                      # Learning rate\n",
        "max_depth      = [3, 6, 9, 12]                                 # Max depth of each tree  \n",
        "l2_leaf_reg    = [0.1, 1.0, 3.0, 10.0, 50.0]                   # Regularization term (L2 norm) \n",
        "n_estimators   = [100, 500, 1000, 5000]                        # Number of estimators  \n",
        "loss_function  = ['Logloss', 'CrossEntropy']                   # Loss function metric used for training\n",
        "bootstrap_type = ['Bayesian', 'Bernoulli', 'MVS']              # Method for sampling the weights of objects  "
      ],
      "metadata": {
        "id": "-ohfvtYhdvvK"
      },
      "execution_count": 73,
      "outputs": []
    },
    {
      "cell_type": "markdown",
      "source": [
        "These are just some of the possible Catboost parameters. We can find more in:\n",
        "\n",
        "https://catboost.ai/en/docs/references/training-parameters/\n",
        "\n",
        "Now, we will build $n = 20$ models using parameters from the grid (picked at random). Then, we will evaluate the metrics for each of those models."
      ],
      "metadata": {
        "id": "j4SCpqOpeI6f"
      }
    },
    {
      "cell_type": "code",
      "source": [
        "n_models = 20\n",
        "\n",
        "results_df = pd.DataFrame(columns = ['learning_rate', 'max_depth', 'l2_leaf_reg', 'n_estimators', 'loss_function', 'bootstrap_type', 'dict', \n",
        "                                     'acc', 'prc', 'rec', 'f1s', 'auc', 'mrp', 'threshold'])\n",
        "\n",
        "model_list  = []\n",
        "\n",
        "for i in range(n_models):\n",
        "  lr    = random.choice(learning_rate)\n",
        "  md    = random.choice(max_depth)\n",
        "  l     = random.choice(l2_leaf_reg)\n",
        "  n_est = random.choice(n_estimators)\n",
        "  lf    = random.choice(loss_function)\n",
        "  btype = random.choice(bootstrap_type)\n",
        "  params_dict = {'learning_rate' : lr, 'max_depth' : md, 'l2_leaf_reg' : l, 'n_estimators' : n_est, 'loss_function' : lf, 'bootstrap_type' : btype}\n",
        "  params_list = [lr, md, l, n_est, lf, btype, params_dict]\n",
        "\n",
        "  cat = CatBoostClassifier(**params_dict, verbose = False, random_state = SEED)\n",
        "\n",
        "  print('-'*30)\n",
        "  print('Model ' + cat.__class__.__name__ + ' ' + str(i + 1))\n",
        "  print('-'*30)\n",
        "\n",
        "  print('Training...')\n",
        "  cat.fit(X_train, y_train)\n",
        "\n",
        "  print('Evaluating metrics...')\n",
        "  cat_metrics = GetMetrics(cat, X_test, y_test)\n",
        "\n",
        "  print('Saving...')\n",
        "  results_df.loc[i] = [*params_list, *cat_metrics]\n",
        "\n",
        "  print('Done.')"
      ],
      "metadata": {
        "colab": {
          "base_uri": "https://localhost:8080/"
        },
        "id": "nvkUz_mkfOi5",
        "outputId": "f50aa9a0-5421-4cdc-8fc6-f0f0546e4a51"
      },
      "execution_count": 74,
      "outputs": [
        {
          "output_type": "stream",
          "name": "stdout",
          "text": [
            "------------------------------\n",
            "Model CatBoostClassifier 1\n",
            "------------------------------\n",
            "Training...\n",
            "Evaluating metrics...\n",
            "Saving...\n",
            "Done.\n",
            "------------------------------\n",
            "Model CatBoostClassifier 2\n",
            "------------------------------\n",
            "Training...\n",
            "Evaluating metrics...\n",
            "Saving...\n",
            "Done.\n",
            "------------------------------\n",
            "Model CatBoostClassifier 3\n",
            "------------------------------\n",
            "Training...\n",
            "Evaluating metrics...\n",
            "Saving...\n",
            "Done.\n",
            "------------------------------\n",
            "Model CatBoostClassifier 4\n",
            "------------------------------\n",
            "Training...\n",
            "Evaluating metrics...\n",
            "Saving...\n",
            "Done.\n",
            "------------------------------\n",
            "Model CatBoostClassifier 5\n",
            "------------------------------\n",
            "Training...\n",
            "Evaluating metrics...\n",
            "Saving...\n",
            "Done.\n",
            "------------------------------\n",
            "Model CatBoostClassifier 6\n",
            "------------------------------\n",
            "Training...\n",
            "Evaluating metrics...\n",
            "Saving...\n",
            "Done.\n",
            "------------------------------\n",
            "Model CatBoostClassifier 7\n",
            "------------------------------\n",
            "Training...\n",
            "Evaluating metrics...\n",
            "Saving...\n",
            "Done.\n",
            "------------------------------\n",
            "Model CatBoostClassifier 8\n",
            "------------------------------\n",
            "Training...\n",
            "Evaluating metrics...\n",
            "Saving...\n",
            "Done.\n",
            "------------------------------\n",
            "Model CatBoostClassifier 9\n",
            "------------------------------\n",
            "Training...\n",
            "Evaluating metrics...\n",
            "Saving...\n",
            "Done.\n",
            "------------------------------\n",
            "Model CatBoostClassifier 10\n",
            "------------------------------\n",
            "Training...\n",
            "Evaluating metrics...\n",
            "Saving...\n",
            "Done.\n",
            "------------------------------\n",
            "Model CatBoostClassifier 11\n",
            "------------------------------\n",
            "Training...\n",
            "Evaluating metrics...\n",
            "Saving...\n",
            "Done.\n",
            "------------------------------\n",
            "Model CatBoostClassifier 12\n",
            "------------------------------\n",
            "Training...\n",
            "Evaluating metrics...\n",
            "Saving...\n",
            "Done.\n",
            "------------------------------\n",
            "Model CatBoostClassifier 13\n",
            "------------------------------\n",
            "Training...\n",
            "Evaluating metrics...\n",
            "Saving...\n",
            "Done.\n",
            "------------------------------\n",
            "Model CatBoostClassifier 14\n",
            "------------------------------\n",
            "Training...\n",
            "Evaluating metrics...\n",
            "Saving...\n",
            "Done.\n",
            "------------------------------\n",
            "Model CatBoostClassifier 15\n",
            "------------------------------\n",
            "Training...\n",
            "Evaluating metrics...\n",
            "Saving...\n",
            "Done.\n",
            "------------------------------\n",
            "Model CatBoostClassifier 16\n",
            "------------------------------\n",
            "Training...\n",
            "Evaluating metrics...\n",
            "Saving...\n",
            "Done.\n",
            "------------------------------\n",
            "Model CatBoostClassifier 17\n",
            "------------------------------\n",
            "Training...\n",
            "Evaluating metrics...\n",
            "Saving...\n",
            "Done.\n",
            "------------------------------\n",
            "Model CatBoostClassifier 18\n",
            "------------------------------\n",
            "Training...\n",
            "Evaluating metrics...\n",
            "Saving...\n",
            "Done.\n",
            "------------------------------\n",
            "Model CatBoostClassifier 19\n",
            "------------------------------\n",
            "Training...\n",
            "Evaluating metrics...\n",
            "Saving...\n",
            "Done.\n",
            "------------------------------\n",
            "Model CatBoostClassifier 20\n",
            "------------------------------\n",
            "Training...\n",
            "Evaluating metrics...\n",
            "Saving...\n",
            "Done.\n"
          ]
        }
      ]
    },
    {
      "cell_type": "code",
      "source": [
        "results_df.sort_values(by = ['mrp', 'prc'], ascending = [False, False]).head(1)"
      ],
      "metadata": {
        "colab": {
          "base_uri": "https://localhost:8080/",
          "height": 142
        },
        "id": "DQ3R1eqXhE86",
        "outputId": "1a8e05f9-4454-4e39-a659-ba513618e203"
      },
      "execution_count": 75,
      "outputs": [
        {
          "output_type": "execute_result",
          "data": {
            "text/plain": [
              "   learning_rate max_depth  l2_leaf_reg n_estimators loss_function  \\\n",
              "2            0.1        12          0.1          500  CrossEntropy   \n",
              "\n",
              "  bootstrap_type                                               dict    acc  \\\n",
              "2      Bernoulli  {'learning_rate': 0.1, 'max_depth': 12, 'l2_le...  0.999   \n",
              "\n",
              "      prc  rec     f1s      auc  mrp  threshold  \n",
              "2  0.9886  1.0  0.9943  0.99969  1.0   0.155671  "
            ],
            "text/html": [
              "\n",
              "  <div id=\"df-1d8c0b43-e26a-4f5f-bf2b-20d247b745e0\">\n",
              "    <div class=\"colab-df-container\">\n",
              "      <div>\n",
              "<style scoped>\n",
              "    .dataframe tbody tr th:only-of-type {\n",
              "        vertical-align: middle;\n",
              "    }\n",
              "\n",
              "    .dataframe tbody tr th {\n",
              "        vertical-align: top;\n",
              "    }\n",
              "\n",
              "    .dataframe thead th {\n",
              "        text-align: right;\n",
              "    }\n",
              "</style>\n",
              "<table border=\"1\" class=\"dataframe\">\n",
              "  <thead>\n",
              "    <tr style=\"text-align: right;\">\n",
              "      <th></th>\n",
              "      <th>learning_rate</th>\n",
              "      <th>max_depth</th>\n",
              "      <th>l2_leaf_reg</th>\n",
              "      <th>n_estimators</th>\n",
              "      <th>loss_function</th>\n",
              "      <th>bootstrap_type</th>\n",
              "      <th>dict</th>\n",
              "      <th>acc</th>\n",
              "      <th>prc</th>\n",
              "      <th>rec</th>\n",
              "      <th>f1s</th>\n",
              "      <th>auc</th>\n",
              "      <th>mrp</th>\n",
              "      <th>threshold</th>\n",
              "    </tr>\n",
              "  </thead>\n",
              "  <tbody>\n",
              "    <tr>\n",
              "      <th>2</th>\n",
              "      <td>0.1</td>\n",
              "      <td>12</td>\n",
              "      <td>0.1</td>\n",
              "      <td>500</td>\n",
              "      <td>CrossEntropy</td>\n",
              "      <td>Bernoulli</td>\n",
              "      <td>{'learning_rate': 0.1, 'max_depth': 12, 'l2_le...</td>\n",
              "      <td>0.999</td>\n",
              "      <td>0.9886</td>\n",
              "      <td>1.0</td>\n",
              "      <td>0.9943</td>\n",
              "      <td>0.99969</td>\n",
              "      <td>1.0</td>\n",
              "      <td>0.155671</td>\n",
              "    </tr>\n",
              "  </tbody>\n",
              "</table>\n",
              "</div>\n",
              "      <button class=\"colab-df-convert\" onclick=\"convertToInteractive('df-1d8c0b43-e26a-4f5f-bf2b-20d247b745e0')\"\n",
              "              title=\"Convert this dataframe to an interactive table.\"\n",
              "              style=\"display:none;\">\n",
              "        \n",
              "  <svg xmlns=\"http://www.w3.org/2000/svg\" height=\"24px\"viewBox=\"0 0 24 24\"\n",
              "       width=\"24px\">\n",
              "    <path d=\"M0 0h24v24H0V0z\" fill=\"none\"/>\n",
              "    <path d=\"M18.56 5.44l.94 2.06.94-2.06 2.06-.94-2.06-.94-.94-2.06-.94 2.06-2.06.94zm-11 1L8.5 8.5l.94-2.06 2.06-.94-2.06-.94L8.5 2.5l-.94 2.06-2.06.94zm10 10l.94 2.06.94-2.06 2.06-.94-2.06-.94-.94-2.06-.94 2.06-2.06.94z\"/><path d=\"M17.41 7.96l-1.37-1.37c-.4-.4-.92-.59-1.43-.59-.52 0-1.04.2-1.43.59L10.3 9.45l-7.72 7.72c-.78.78-.78 2.05 0 2.83L4 21.41c.39.39.9.59 1.41.59.51 0 1.02-.2 1.41-.59l7.78-7.78 2.81-2.81c.8-.78.8-2.07 0-2.86zM5.41 20L4 18.59l7.72-7.72 1.47 1.35L5.41 20z\"/>\n",
              "  </svg>\n",
              "      </button>\n",
              "      \n",
              "  <style>\n",
              "    .colab-df-container {\n",
              "      display:flex;\n",
              "      flex-wrap:wrap;\n",
              "      gap: 12px;\n",
              "    }\n",
              "\n",
              "    .colab-df-convert {\n",
              "      background-color: #E8F0FE;\n",
              "      border: none;\n",
              "      border-radius: 50%;\n",
              "      cursor: pointer;\n",
              "      display: none;\n",
              "      fill: #1967D2;\n",
              "      height: 32px;\n",
              "      padding: 0 0 0 0;\n",
              "      width: 32px;\n",
              "    }\n",
              "\n",
              "    .colab-df-convert:hover {\n",
              "      background-color: #E2EBFA;\n",
              "      box-shadow: 0px 1px 2px rgba(60, 64, 67, 0.3), 0px 1px 3px 1px rgba(60, 64, 67, 0.15);\n",
              "      fill: #174EA6;\n",
              "    }\n",
              "\n",
              "    [theme=dark] .colab-df-convert {\n",
              "      background-color: #3B4455;\n",
              "      fill: #D2E3FC;\n",
              "    }\n",
              "\n",
              "    [theme=dark] .colab-df-convert:hover {\n",
              "      background-color: #434B5C;\n",
              "      box-shadow: 0px 1px 3px 1px rgba(0, 0, 0, 0.15);\n",
              "      filter: drop-shadow(0px 1px 2px rgba(0, 0, 0, 0.3));\n",
              "      fill: #FFFFFF;\n",
              "    }\n",
              "  </style>\n",
              "\n",
              "      <script>\n",
              "        const buttonEl =\n",
              "          document.querySelector('#df-1d8c0b43-e26a-4f5f-bf2b-20d247b745e0 button.colab-df-convert');\n",
              "        buttonEl.style.display =\n",
              "          google.colab.kernel.accessAllowed ? 'block' : 'none';\n",
              "\n",
              "        async function convertToInteractive(key) {\n",
              "          const element = document.querySelector('#df-1d8c0b43-e26a-4f5f-bf2b-20d247b745e0');\n",
              "          const dataTable =\n",
              "            await google.colab.kernel.invokeFunction('convertToInteractive',\n",
              "                                                     [key], {});\n",
              "          if (!dataTable) return;\n",
              "\n",
              "          const docLinkHtml = 'Like what you see? Visit the ' +\n",
              "            '<a target=\"_blank\" href=https://colab.research.google.com/notebooks/data_table.ipynb>data table notebook</a>'\n",
              "            + ' to learn more about interactive tables.';\n",
              "          element.innerHTML = '';\n",
              "          dataTable['output_type'] = 'display_data';\n",
              "          await google.colab.output.renderOutput(dataTable, element);\n",
              "          const docLink = document.createElement('div');\n",
              "          docLink.innerHTML = docLinkHtml;\n",
              "          element.appendChild(docLink);\n",
              "        }\n",
              "      </script>\n",
              "    </div>\n",
              "  </div>\n",
              "  "
            ]
          },
          "metadata": {},
          "execution_count": 75
        }
      ]
    },
    {
      "cell_type": "markdown",
      "source": [
        "So, in our best model, we actually managed to find a precision *slightly* better than the default model: 98.86%. Well, let's train it again, and take a look at the confusion matrix:"
      ],
      "metadata": {
        "id": "QGRhbPRlzN_H"
      }
    },
    {
      "cell_type": "code",
      "source": [
        "best_index = results_df.sort_values(by = ['mrp', 'prc'], ascending = [False, False]).index[0]\n",
        "model_params = results_df.loc[best_index, 'dict']\n",
        "opt_thresh   = results_df.loc[best_index, 'threshold']\n",
        "\n",
        "model_CatBst_opt = CatBoostClassifier(**model_params, verbose = False, random_state = SEED)\n",
        "model_CatBst_opt.fit(X_train, y_train)"
      ],
      "metadata": {
        "colab": {
          "base_uri": "https://localhost:8080/"
        },
        "id": "Cr8KYkd1tqVJ",
        "outputId": "15891c90-e3f6-4429-edfa-1515c087f246"
      },
      "execution_count": 76,
      "outputs": [
        {
          "output_type": "execute_result",
          "data": {
            "text/plain": [
              "<catboost.core.CatBoostClassifier at 0x7fbd65e7e550>"
            ]
          },
          "metadata": {},
          "execution_count": 76
        }
      ]
    },
    {
      "cell_type": "code",
      "source": [
        "y_pred_t, y_pred_proba = pred_threshold(model_CatBst_opt, X_test, opt_thresh)\n",
        "\n",
        "cm = confusion_matrix(y_test, y_pred_t)\n",
        "disp = ConfusionMatrixDisplay(confusion_matrix = cm)\n",
        "disp.plot(values_format = 'd')"
      ],
      "metadata": {
        "colab": {
          "base_uri": "https://localhost:8080/",
          "height": 297
        },
        "id": "sXtezBGqzh8G",
        "outputId": "471df7f1-3c04-4d14-ca40-9da1362e3738"
      },
      "execution_count": 77,
      "outputs": [
        {
          "output_type": "execute_result",
          "data": {
            "text/plain": [
              "<sklearn.metrics._plot.confusion_matrix.ConfusionMatrixDisplay at 0x7fbd6b891950>"
            ]
          },
          "metadata": {},
          "execution_count": 77
        },
        {
          "output_type": "display_data",
          "data": {
            "text/plain": [
              "<Figure size 432x288 with 2 Axes>"
            ],
            "image/png": "[encoded data removed]"
          },
          "metadata": {
            "needs_background": "light"
          }
        }
      ]
    },
    {
      "cell_type": "markdown",
      "source": [
        "So, basically, the difference from this model to the previous one is that this has only 10 False Positives instead of 13. Not a big difference, but an improvement after all. The precision-recall curve is also very similar from the previous curve:"
      ],
      "metadata": {
        "id": "46nBolBC0HP2"
      }
    },
    {
      "cell_type": "code",
      "source": [
        "y_pred_proba = model_CatBst_opt.predict_proba(X_test)[::, 1]\n",
        "prcr, recr, threshold = metrics.precision_recall_curve(y_test, y_pred_proba)\n",
        "auc = metrics.auc(recr, prcr)\n",
        "\n",
        "no_skill = y_test[y_test == 1].shape[0] / y_test.shape[0]\n",
        "\n",
        "fig = plt.figure(figsize = (12, 8))\n",
        "\n",
        "plt.plot(recr, prcr, label = 'Catboost, AUC = '+str(auc))\n",
        "plt.plot([0, 1], [no_skill, no_skill], color = 'r', linestyle='--', label = 'No skill')\n",
        "\n",
        "plt.legend(loc = 'best')\n",
        "\n",
        "plt.xlabel('Recall')\n",
        "plt.ylabel('Precision')\n",
        "\n",
        "plt.plot([0, 1, 1], [1, 1, 0], color = 'g', lw = 2, linestyle = '--', label = 'Perfect model')"
      ],
      "metadata": {
        "colab": {
          "base_uri": "https://localhost:8080/",
          "height": 515
        },
        "id": "3cTX2sJX0EL8",
        "outputId": "db47fd62-11ee-441a-8eab-420a489c6bb5"
      },
      "execution_count": 78,
      "outputs": [
        {
          "output_type": "execute_result",
          "data": {
            "text/plain": [
              "[<matplotlib.lines.Line2D at 0x7fbd637f5110>]"
            ]
          },
          "metadata": {},
          "execution_count": 78
        },
        {
          "output_type": "display_data",
          "data": {
            "text/plain": [
              "<Figure size 864x576 with 1 Axes>"
            ],
            "image/png": "[encoded data removed]"
          },
          "metadata": {
            "needs_background": "light"
          }
        }
      ]
    },
    {
      "cell_type": "markdown",
      "source": [
        "# Deployment\n",
        "\n",
        "After defining a optimum model, we can deploy it. First, let's use pickle to serialize it, so we can save it in a file:"
      ],
      "metadata": {
        "id": "jicDuzI-0rQE"
      }
    },
    {
      "cell_type": "code",
      "source": [
        "output = open('FraudDetect_CreditCard_OptCatBoost.sav', 'wb')\n",
        "pickle.dump( model_CatBst_opt, output )\n",
        "output.close( )"
      ],
      "metadata": {
        "id": "sUzjdh070dNO"
      },
      "execution_count": 104,
      "outputs": []
    },
    {
      "cell_type": "markdown",
      "source": [
        "Thus, if we want to use the model in other application, we don't have to train it again. We can simply do:"
      ],
      "metadata": {
        "id": "AeeUg9iI0291"
      }
    },
    {
      "cell_type": "code",
      "source": [
        "serialized_model = open('FraudDetect_CreditCard_OptCatBoost.sav', 'rb')\n",
        "CatBst_model = pickle.load(serialized_model)\n",
        "serialized_model.close( )"
      ],
      "metadata": {
        "id": "ougipIxC1Tui"
      },
      "execution_count": 105,
      "outputs": []
    },
    {
      "cell_type": "markdown",
      "source": [
        "Nice! Now, to finish things up, let's just build an interactive simulator, so that one may \"play\" with our new model:"
      ],
      "metadata": {
        "id": "dFK63Bjo1eOX"
      }
    },
    {
      "cell_type": "code",
      "source": [
        "distance_home   = widgets.FloatText(description = 'Dist. home (km): ')\n",
        "distance_last   = widgets.FloatText(description = 'Dist. last (km): ')\n",
        "transaction_val = widgets.FloatText(description = 'Value: ')\n",
        "same_seller     = widgets.RadioButtons(description = 'Same seller?', options = ['No', 'Yes'])\n",
        "physical        = widgets.RadioButtons(description = 'Physical card?', options = ['No', 'Yes'])\n",
        "password        = widgets.RadioButtons(description = 'Password?', options = ['No', 'Yes'])\n",
        "online          = widgets.RadioButtons(description = 'On-line?', options = ['No', 'Yes'])\n",
        "\n",
        "button = widgets.Button(description = 'Detect')\n",
        "\n",
        "left  = VBox([distance_home, distance_last, transaction_val])\n",
        "med   = VBox([same_seller, physical])\n",
        "right = VBox([password, online])\n",
        "inputs = HBox([left, med, right])"
      ],
      "metadata": {
        "id": "G1TMTcQD1c6O"
      },
      "execution_count": 106,
      "outputs": []
    },
    {
      "cell_type": "code",
      "source": [
        "def detect(sender):\n",
        "  d_home = np.log(float(distance_home.value))\n",
        "  d_last = np.log(float(distance_last.value))\n",
        "  value  = np.log(float(transaction_val.value))\n",
        "\n",
        "  same_str = str(same_seller.value)\n",
        "  phys_str = str(physical.value)\n",
        "  pswd_str = str(password.value)\n",
        "  onln_str = str(online.value)\n",
        "\n",
        "  same = 1 if (same_str == 'Yes') else 0\n",
        "  phys = 1 if (phys_str == 'Yes') else 0\n",
        "  pswd = 1 if (pswd_str == 'Yes') else 0\n",
        "  onln = 1 if (onln_str == 'Yes') else 0\n",
        "\n",
        "  X_v = pd.DataFrame( {'Distance_home' : d_home, 'Distance_last_transaction' : d_last, 'Transaction_value' : value,\n",
        "                       'Same_seller' : same, 'Physical_card' : phys, 'Password' : pswd, 'Online' : onln}, index = [0] )\n",
        "  \n",
        "  y_pred, y_prob = pred_threshold(CatBst_model, X_v, opt_thresh)\n",
        "\n",
        "  if y_pred == 0:\n",
        "    print(f'Transaction is not fraudulent (Probability of {round(y_prob[0]*100, 2)}%, threshold of {round(opt_thresh*100, 2)}%).')\n",
        "  else:\n",
        "    print(f'Transaction is fraudulent (Probability of {round(y_prob[0]*100, 2)}%, threshold of {round(opt_thresh*100, 2)}%).')"
      ],
      "metadata": {
        "id": "dARmdxd42jv_"
      },
      "execution_count": 107,
      "outputs": []
    },
    {
      "cell_type": "code",
      "source": [
        "button.on_click(detect)"
      ],
      "metadata": {
        "id": "ofZxkrUt1u9F"
      },
      "execution_count": 108,
      "outputs": []
    },
    {
      "cell_type": "code",
      "source": [
        "display(inputs, button)"
      ],
      "metadata": {
        "colab": {
          "base_uri": "https://localhost:8080/",
          "height": 194,
          "referenced_widgets": [
            "f0648820bfb44a55af2b349109d610de",
            "aa2927d102784f8395bd0d274c9599a6",
            "c9e3e5b8e60b41889044e32526c8f554",
            "04e307c40f38483e9a34ef73cd0e25a3",
            "d78eae1bdc2e47e0b489d03430d84994",
            "92e754ced1144b7d9a9563b9de52515e",
            "dd41a6a4fe9a401488f00ebb0305865e",
            "e62c1556feb444f88a88262bfb2bded9",
            "5e5d0d73382a45c5adfe99530a49abce",
            "40bf8c1f37cb42c5a336e14b77e5986b",
            "d169e5f4169a4636b5852e63d21b6b6d",
            "8c10da72eb0043ae8b3a5f9c56410513",
            "c652148d1ae944c08cb2a1ec871b534a",
            "ffccd5b41cd444d492002a99debceac7",
            "36de82c7f6c94f5fa7479a6e9aecfbe3",
            "30148159331849de8c7ae29f2d280154",
            "8250fd6b78364c37a55a7faa9414885c",
            "0a6f4a43ab1149ff95724065322ac5ac",
            "96d7121469a1444085f0687134b7ac1e",
            "48842b2484904416ba533c7bb4faade6",
            "a1466fba409e46a8ac82d0a307ed0780",
            "47cb1d2a8a64442a88301961f13f7b3f",
            "ee94ef49f90b4665a3d98eafecf7fff5",
            "12d6b05873464905a9d4bc6e68403e62",
            "0d59b8f19f37456cb76f4a3742793ea7",
            "10da99a3b91f45ca810c3198e8c2fb57",
            "538207c0f8984db398055fd04988c448",
            "a65fb1e9d2b54479adc48f235873a0ad",
            "5f1a0d66ae364875a651b2ac309840d8",
            "53c7dc8f8e364c77821de3adfbd239b4",
            "7a08d0409eb341b7bdbda51db8c68c32",
            "830ae015a71845eca7aac4e1112f3171"
          ]
        },
        "id": "t872qGPq5H09",
        "outputId": "3fa16b48-1a7e-4f59-fbf9-a44f77c47db9"
      },
      "execution_count": 109,
      "outputs": [
        {
          "output_type": "display_data",
          "data": {
            "text/plain": [
              "HBox(children=(VBox(children=(FloatText(value=0.0, description='Dist. home (km): '), FloatText(value=0.0, desc…"
            ],
            "application/vnd.jupyter.widget-view+json": {
              "version_major": 2,
              "version_minor": 0,
              "model_id": "f0648820bfb44a55af2b349109d610de"
            }
          },
          "metadata": {}
        },
        {
          "output_type": "display_data",
          "data": {
            "text/plain": [
              "Button(description='Detect', style=ButtonStyle())"
            ],
            "application/vnd.jupyter.widget-view+json": {
              "version_major": 2,
              "version_minor": 0,
              "model_id": "53c7dc8f8e364c77821de3adfbd239b4"
            }
          },
          "metadata": {}
        },
        {
          "output_type": "stream",
          "name": "stdout",
          "text": [
            "Transaction is fraudulent (Probability of 0.0%, threshold of 15.57%).\n"
          ]
        }
      ]
    },
    {
      "cell_type": "markdown",
      "source": [
        "Nice! Now, one can test our model from Python for different inputs!"
      ],
      "metadata": {
        "id": "wv6oVOHK5MY0"
      }
    },
    {
      "cell_type": "markdown",
      "source": [
        "# Final recommendations\n",
        "\n",
        "In this project, we managed to build a very strong fraud detection model for transactions via Credit Card. Considering the test set, our model showed a recall of 100%, which means that we were able to detect **ALL** fraudulent transactions in our test set. Also, the model showed a precision of 98.64%, which means that 98.86% of the predicted frauds are, indeed, frauds. That means that we can heavily rely on our model.\n",
        "\n",
        "Now, we have to use the model to bring value to our business. Thus, we can propose some actions based on the model characteristics, as well as based on the data itself. These recommendations are stated in the following:\n",
        "\n",
        "* Usually, fraudulent transactions involve more money than usual transactions. Thus, we really should try to identify fraudulent high-value transactions. These are likely related to transactions without passwords or online transactions. \n",
        "* Since our model has a very high recall, we can rely on our model to detect frauds. However, note that some transactions that our model thinks are fraudulent are, in fact, not fraudulent. If our model thinks a transaction is fraudulent, we have to deny the transaction and ask for some validation from the user. After the validation is given, we can decide if we allow the transaction or not.\n",
        "* Some validation procedures can be: captchas, require a password if possible (if a password was not used), confirmation of the transaction via credit card app, make a call to the call center to allow the transaction. These actions can be implemented to reduce the headache from the customers who have to deal with an undesirable \"block\".\n",
        "\n",
        "These are important recommendations for the company and may be used to guide further implementations in the service.\n"
      ],
      "metadata": {
        "id": "mfv9uFf15RBo"
      }
    },
    {
      "cell_type": "code",
      "source": [
        ""
      ],
      "metadata": {
        "id": "UlZhcyfFGdl5"
      },
      "execution_count": null,
      "outputs": []
    }
  ]
}