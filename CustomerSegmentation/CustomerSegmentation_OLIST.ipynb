{
  "nbformat": 4,
  "nbformat_minor": 0,
  "metadata": {
    "colab": {
      "name": "CustomerSegmentation_OLIST.ipynb",
      "provenance": [],
      "collapsed_sections": [],
      "toc_visible": true,
      "authorship_tag": "ABX9TyMuHWBYQswYTHpzxj4/gJbb",
      "include_colab_link": true
    },
    "kernelspec": {
      "name": "python3",
      "display_name": "Python 3"
    },
    "language_info": {
      "name": "python"
    }
  },
  "cells": [
    {
      "cell_type": "markdown",
      "metadata": {
        "id": "view-in-github",
        "colab_type": "text"
      },
      "source": [
        "<a href=\"https://colab.research.google.com/github/LeonardoGoncRibeiro/PersonalProjects/blob/main/CustomerSegmentation/CustomerSegmentation_OLIST.ipynb\" target=\"_parent\"><img src=\"https://colab.research.google.com/assets/colab-badge.svg\" alt=\"Open In Colab\"/></a>"
      ]
    },
    {
      "cell_type": "markdown",
      "source": [
        "# Customer segmentation: using data from OLIST\n",
        "\n",
        "In this project, I will perform customer segmentation based on data from e-commerce provided by the brazilian company OLIST. This data can be found on Kaggle:\n",
        "\n",
        "https://www.kaggle.com/datasets/olistbr/brazilian-ecommerce?resource=download\n",
        "\n",
        "Here, we will perform segmentation using unsupervised learning methods (clustering). Also, we will try to use a RFM analysis, where our customers will be divided in groups based on their:\n",
        "\n",
        "* Recency: How long has it been since they last bought in our e-commerce?\n",
        "* Frequency: How many times have they bought in our e-commerce?\n",
        "* Monetary: How much have them spent in our e-commerce?\n",
        "\n",
        "First, let's import the necessary packages:\n",
        "\n"
      ],
      "metadata": {
        "id": "WEZheNafROAe"
      }
    },
    {
      "cell_type": "code",
      "execution_count": 49,
      "metadata": {
        "id": "OkwgDUW-Pc3Z"
      },
      "outputs": [],
      "source": [
        "import pandas as pd                             # Data manipulation\n",
        "import numpy as np                              # Array manipulation\n",
        "\n",
        "import matplotlib.pyplot as plt                 # Data visualization\n",
        "import seaborn as sns                           # Data visualization\n",
        "\n",
        "import datetime                                 # Manipulation of date format\n",
        "\n",
        "# Modeling\n",
        "\n",
        "from sklearn.cluster import KMeans              # KMeans algorithm for clustering data"
      ]
    },
    {
      "cell_type": "markdown",
      "source": [
        "## Data collection\n",
        "\n",
        "The data we will be using was submitted to Kaggle by OLIST, and contains information about different orders, customers and sellers. Since we will perform an RFM analysis of our customers, we only need information about the customers, the day of their orders, and the value of each order. Thus, let's get this information:"
      ],
      "metadata": {
        "id": "surgfHcFxMZ8"
      }
    },
    {
      "cell_type": "code",
      "source": [
        "orders   = pd.read_csv('olist_orders_dataset.csv')\n",
        "payments = pd.read_csv('olist_order_payments_dataset.csv')"
      ],
      "metadata": {
        "id": "uKc4Rm2fPebY"
      },
      "execution_count": 50,
      "outputs": []
    },
    {
      "cell_type": "markdown",
      "source": [
        "Let's see those dataframes:"
      ],
      "metadata": {
        "id": "nPuMBbe6yHTz"
      }
    },
    {
      "cell_type": "code",
      "source": [
        "orders.head(5)"
      ],
      "metadata": {
        "id": "gpcl4XkjQTMy",
        "colab": {
          "base_uri": "https://localhost:8080/",
          "height": 270
        },
        "outputId": "9c5bfa38-9414-41d4-cfce-8c02a389043a"
      },
      "execution_count": 51,
      "outputs": [
        {
          "output_type": "execute_result",
          "data": {
            "text/plain": [
              "                           order_id                       customer_id  \\\n",
              "0  e481f51cbdc54678b7cc49136f2d6af7  9ef432eb6251297304e76186b10a928d   \n",
              "1  53cdb2fc8bc7dce0b6741e2150273451  b0830fb4747a6c6d20dea0b8c802d7ef   \n",
              "2  47770eb9100c2d0c44946d9cf07ec65d  41ce2a54c0b03bf3443c3d931a367089   \n",
              "3  949d5b44dbf5de918fe9c16f97b45f8a  f88197465ea7920adcdbec7375364d82   \n",
              "4  ad21c59c0840e6cb83a9ceb5573f8159  8ab97904e6daea8866dbdbc4fb7aad2c   \n",
              "\n",
              "  order_status order_purchase_timestamp    order_approved_at  \\\n",
              "0    delivered      2017-10-02 10:56:33  2017-10-02 11:07:15   \n",
              "1    delivered      2018-07-24 20:41:37  2018-07-26 03:24:27   \n",
              "2    delivered      2018-08-08 08:38:49  2018-08-08 08:55:23   \n",
              "3    delivered      2017-11-18 19:28:06  2017-11-18 19:45:59   \n",
              "4    delivered      2018-02-13 21:18:39  2018-02-13 22:20:29   \n",
              "\n",
              "  order_delivered_carrier_date order_delivered_customer_date  \\\n",
              "0          2017-10-04 19:55:00           2017-10-10 21:25:13   \n",
              "1          2018-07-26 14:31:00           2018-08-07 15:27:45   \n",
              "2          2018-08-08 13:50:00           2018-08-17 18:06:29   \n",
              "3          2017-11-22 13:39:59           2017-12-02 00:28:42   \n",
              "4          2018-02-14 19:46:34           2018-02-16 18:17:02   \n",
              "\n",
              "  order_estimated_delivery_date  \n",
              "0           2017-10-18 00:00:00  \n",
              "1           2018-08-13 00:00:00  \n",
              "2           2018-09-04 00:00:00  \n",
              "3           2017-12-15 00:00:00  \n",
              "4           2018-02-26 00:00:00  "
            ],
            "text/html": [
              "\n",
              "  <div id=\"df-fb51a314-245f-415d-9106-ac9324e1bd29\">\n",
              "    <div class=\"colab-df-container\">\n",
              "      <div>\n",
              "<style scoped>\n",
              "    .dataframe tbody tr th:only-of-type {\n",
              "        vertical-align: middle;\n",
              "    }\n",
              "\n",
              "    .dataframe tbody tr th {\n",
              "        vertical-align: top;\n",
              "    }\n",
              "\n",
              "    .dataframe thead th {\n",
              "        text-align: right;\n",
              "    }\n",
              "</style>\n",
              "<table border=\"1\" class=\"dataframe\">\n",
              "  <thead>\n",
              "    <tr style=\"text-align: right;\">\n",
              "      <th></th>\n",
              "      <th>order_id</th>\n",
              "      <th>customer_id</th>\n",
              "      <th>order_status</th>\n",
              "      <th>order_purchase_timestamp</th>\n",
              "      <th>order_approved_at</th>\n",
              "      <th>order_delivered_carrier_date</th>\n",
              "      <th>order_delivered_customer_date</th>\n",
              "      <th>order_estimated_delivery_date</th>\n",
              "    </tr>\n",
              "  </thead>\n",
              "  <tbody>\n",
              "    <tr>\n",
              "      <th>0</th>\n",
              "      <td>e481f51cbdc54678b7cc49136f2d6af7</td>\n",
              "      <td>9ef432eb6251297304e76186b10a928d</td>\n",
              "      <td>delivered</td>\n",
              "      <td>2017-10-02 10:56:33</td>\n",
              "      <td>2017-10-02 11:07:15</td>\n",
              "      <td>2017-10-04 19:55:00</td>\n",
              "      <td>2017-10-10 21:25:13</td>\n",
              "      <td>2017-10-18 00:00:00</td>\n",
              "    </tr>\n",
              "    <tr>\n",
              "      <th>1</th>\n",
              "      <td>53cdb2fc8bc7dce0b6741e2150273451</td>\n",
              "      <td>b0830fb4747a6c6d20dea0b8c802d7ef</td>\n",
              "      <td>delivered</td>\n",
              "      <td>2018-07-24 20:41:37</td>\n",
              "      <td>2018-07-26 03:24:27</td>\n",
              "      <td>2018-07-26 14:31:00</td>\n",
              "      <td>2018-08-07 15:27:45</td>\n",
              "      <td>2018-08-13 00:00:00</td>\n",
              "    </tr>\n",
              "    <tr>\n",
              "      <th>2</th>\n",
              "      <td>47770eb9100c2d0c44946d9cf07ec65d</td>\n",
              "      <td>41ce2a54c0b03bf3443c3d931a367089</td>\n",
              "      <td>delivered</td>\n",
              "      <td>2018-08-08 08:38:49</td>\n",
              "      <td>2018-08-08 08:55:23</td>\n",
              "      <td>2018-08-08 13:50:00</td>\n",
              "      <td>2018-08-17 18:06:29</td>\n",
              "      <td>2018-09-04 00:00:00</td>\n",
              "    </tr>\n",
              "    <tr>\n",
              "      <th>3</th>\n",
              "      <td>949d5b44dbf5de918fe9c16f97b45f8a</td>\n",
              "      <td>f88197465ea7920adcdbec7375364d82</td>\n",
              "      <td>delivered</td>\n",
              "      <td>2017-11-18 19:28:06</td>\n",
              "      <td>2017-11-18 19:45:59</td>\n",
              "      <td>2017-11-22 13:39:59</td>\n",
              "      <td>2017-12-02 00:28:42</td>\n",
              "      <td>2017-12-15 00:00:00</td>\n",
              "    </tr>\n",
              "    <tr>\n",
              "      <th>4</th>\n",
              "      <td>ad21c59c0840e6cb83a9ceb5573f8159</td>\n",
              "      <td>8ab97904e6daea8866dbdbc4fb7aad2c</td>\n",
              "      <td>delivered</td>\n",
              "      <td>2018-02-13 21:18:39</td>\n",
              "      <td>2018-02-13 22:20:29</td>\n",
              "      <td>2018-02-14 19:46:34</td>\n",
              "      <td>2018-02-16 18:17:02</td>\n",
              "      <td>2018-02-26 00:00:00</td>\n",
              "    </tr>\n",
              "  </tbody>\n",
              "</table>\n",
              "</div>\n",
              "      <button class=\"colab-df-convert\" onclick=\"convertToInteractive('df-fb51a314-245f-415d-9106-ac9324e1bd29')\"\n",
              "              title=\"Convert this dataframe to an interactive table.\"\n",
              "              style=\"display:none;\">\n",
              "        \n",
              "  <svg xmlns=\"http://www.w3.org/2000/svg\" height=\"24px\"viewBox=\"0 0 24 24\"\n",
              "       width=\"24px\">\n",
              "    <path d=\"M0 0h24v24H0V0z\" fill=\"none\"/>\n",
              "    <path d=\"M18.56 5.44l.94 2.06.94-2.06 2.06-.94-2.06-.94-.94-2.06-.94 2.06-2.06.94zm-11 1L8.5 8.5l.94-2.06 2.06-.94-2.06-.94L8.5 2.5l-.94 2.06-2.06.94zm10 10l.94 2.06.94-2.06 2.06-.94-2.06-.94-.94-2.06-.94 2.06-2.06.94z\"/><path d=\"M17.41 7.96l-1.37-1.37c-.4-.4-.92-.59-1.43-.59-.52 0-1.04.2-1.43.59L10.3 9.45l-7.72 7.72c-.78.78-.78 2.05 0 2.83L4 21.41c.39.39.9.59 1.41.59.51 0 1.02-.2 1.41-.59l7.78-7.78 2.81-2.81c.8-.78.8-2.07 0-2.86zM5.41 20L4 18.59l7.72-7.72 1.47 1.35L5.41 20z\"/>\n",
              "  </svg>\n",
              "      </button>\n",
              "      \n",
              "  <style>\n",
              "    .colab-df-container {\n",
              "      display:flex;\n",
              "      flex-wrap:wrap;\n",
              "      gap: 12px;\n",
              "    }\n",
              "\n",
              "    .colab-df-convert {\n",
              "      background-color: #E8F0FE;\n",
              "      border: none;\n",
              "      border-radius: 50%;\n",
              "      cursor: pointer;\n",
              "      display: none;\n",
              "      fill: #1967D2;\n",
              "      height: 32px;\n",
              "      padding: 0 0 0 0;\n",
              "      width: 32px;\n",
              "    }\n",
              "\n",
              "    .colab-df-convert:hover {\n",
              "      background-color: #E2EBFA;\n",
              "      box-shadow: 0px 1px 2px rgba(60, 64, 67, 0.3), 0px 1px 3px 1px rgba(60, 64, 67, 0.15);\n",
              "      fill: #174EA6;\n",
              "    }\n",
              "\n",
              "    [theme=dark] .colab-df-convert {\n",
              "      background-color: #3B4455;\n",
              "      fill: #D2E3FC;\n",
              "    }\n",
              "\n",
              "    [theme=dark] .colab-df-convert:hover {\n",
              "      background-color: #434B5C;\n",
              "      box-shadow: 0px 1px 3px 1px rgba(0, 0, 0, 0.15);\n",
              "      filter: drop-shadow(0px 1px 2px rgba(0, 0, 0, 0.3));\n",
              "      fill: #FFFFFF;\n",
              "    }\n",
              "  </style>\n",
              "\n",
              "      <script>\n",
              "        const buttonEl =\n",
              "          document.querySelector('#df-fb51a314-245f-415d-9106-ac9324e1bd29 button.colab-df-convert');\n",
              "        buttonEl.style.display =\n",
              "          google.colab.kernel.accessAllowed ? 'block' : 'none';\n",
              "\n",
              "        async function convertToInteractive(key) {\n",
              "          const element = document.querySelector('#df-fb51a314-245f-415d-9106-ac9324e1bd29');\n",
              "          const dataTable =\n",
              "            await google.colab.kernel.invokeFunction('convertToInteractive',\n",
              "                                                     [key], {});\n",
              "          if (!dataTable) return;\n",
              "\n",
              "          const docLinkHtml = 'Like what you see? Visit the ' +\n",
              "            '<a target=\"_blank\" href=https://colab.research.google.com/notebooks/data_table.ipynb>data table notebook</a>'\n",
              "            + ' to learn more about interactive tables.';\n",
              "          element.innerHTML = '';\n",
              "          dataTable['output_type'] = 'display_data';\n",
              "          await google.colab.output.renderOutput(dataTable, element);\n",
              "          const docLink = document.createElement('div');\n",
              "          docLink.innerHTML = docLinkHtml;\n",
              "          element.appendChild(docLink);\n",
              "        }\n",
              "      </script>\n",
              "    </div>\n",
              "  </div>\n",
              "  "
            ]
          },
          "metadata": {},
          "execution_count": 51
        }
      ]
    },
    {
      "cell_type": "code",
      "source": [
        "payments.head(5)"
      ],
      "metadata": {
        "colab": {
          "base_uri": "https://localhost:8080/",
          "height": 206
        },
        "id": "zx2uAmIZyN3n",
        "outputId": "72aaa918-7959-467a-98f7-b74acf4605e8"
      },
      "execution_count": 52,
      "outputs": [
        {
          "output_type": "execute_result",
          "data": {
            "text/plain": [
              "                           order_id  payment_sequential payment_type  \\\n",
              "0  b81ef226f3fe1789b1e8b2acac839d17                   1  credit_card   \n",
              "1  a9810da82917af2d9aefd1278f1dcfa0                   1  credit_card   \n",
              "2  25e8ea4e93396b6fa0d3dd708e76c1bd                   1  credit_card   \n",
              "3  ba78997921bbcdc1373bb41e913ab953                   1  credit_card   \n",
              "4  42fdf880ba16b47b59251dd489d4441a                   1  credit_card   \n",
              "\n",
              "   payment_installments  payment_value  \n",
              "0                     8          99.33  \n",
              "1                     1          24.39  \n",
              "2                     1          65.71  \n",
              "3                     8         107.78  \n",
              "4                     2         128.45  "
            ],
            "text/html": [
              "\n",
              "  <div id=\"df-dc4381eb-627f-4471-8b53-e74f52227e9a\">\n",
              "    <div class=\"colab-df-container\">\n",
              "      <div>\n",
              "<style scoped>\n",
              "    .dataframe tbody tr th:only-of-type {\n",
              "        vertical-align: middle;\n",
              "    }\n",
              "\n",
              "    .dataframe tbody tr th {\n",
              "        vertical-align: top;\n",
              "    }\n",
              "\n",
              "    .dataframe thead th {\n",
              "        text-align: right;\n",
              "    }\n",
              "</style>\n",
              "<table border=\"1\" class=\"dataframe\">\n",
              "  <thead>\n",
              "    <tr style=\"text-align: right;\">\n",
              "      <th></th>\n",
              "      <th>order_id</th>\n",
              "      <th>payment_sequential</th>\n",
              "      <th>payment_type</th>\n",
              "      <th>payment_installments</th>\n",
              "      <th>payment_value</th>\n",
              "    </tr>\n",
              "  </thead>\n",
              "  <tbody>\n",
              "    <tr>\n",
              "      <th>0</th>\n",
              "      <td>b81ef226f3fe1789b1e8b2acac839d17</td>\n",
              "      <td>1</td>\n",
              "      <td>credit_card</td>\n",
              "      <td>8</td>\n",
              "      <td>99.33</td>\n",
              "    </tr>\n",
              "    <tr>\n",
              "      <th>1</th>\n",
              "      <td>a9810da82917af2d9aefd1278f1dcfa0</td>\n",
              "      <td>1</td>\n",
              "      <td>credit_card</td>\n",
              "      <td>1</td>\n",
              "      <td>24.39</td>\n",
              "    </tr>\n",
              "    <tr>\n",
              "      <th>2</th>\n",
              "      <td>25e8ea4e93396b6fa0d3dd708e76c1bd</td>\n",
              "      <td>1</td>\n",
              "      <td>credit_card</td>\n",
              "      <td>1</td>\n",
              "      <td>65.71</td>\n",
              "    </tr>\n",
              "    <tr>\n",
              "      <th>3</th>\n",
              "      <td>ba78997921bbcdc1373bb41e913ab953</td>\n",
              "      <td>1</td>\n",
              "      <td>credit_card</td>\n",
              "      <td>8</td>\n",
              "      <td>107.78</td>\n",
              "    </tr>\n",
              "    <tr>\n",
              "      <th>4</th>\n",
              "      <td>42fdf880ba16b47b59251dd489d4441a</td>\n",
              "      <td>1</td>\n",
              "      <td>credit_card</td>\n",
              "      <td>2</td>\n",
              "      <td>128.45</td>\n",
              "    </tr>\n",
              "  </tbody>\n",
              "</table>\n",
              "</div>\n",
              "      <button class=\"colab-df-convert\" onclick=\"convertToInteractive('df-dc4381eb-627f-4471-8b53-e74f52227e9a')\"\n",
              "              title=\"Convert this dataframe to an interactive table.\"\n",
              "              style=\"display:none;\">\n",
              "        \n",
              "  <svg xmlns=\"http://www.w3.org/2000/svg\" height=\"24px\"viewBox=\"0 0 24 24\"\n",
              "       width=\"24px\">\n",
              "    <path d=\"M0 0h24v24H0V0z\" fill=\"none\"/>\n",
              "    <path d=\"M18.56 5.44l.94 2.06.94-2.06 2.06-.94-2.06-.94-.94-2.06-.94 2.06-2.06.94zm-11 1L8.5 8.5l.94-2.06 2.06-.94-2.06-.94L8.5 2.5l-.94 2.06-2.06.94zm10 10l.94 2.06.94-2.06 2.06-.94-2.06-.94-.94-2.06-.94 2.06-2.06.94z\"/><path d=\"M17.41 7.96l-1.37-1.37c-.4-.4-.92-.59-1.43-.59-.52 0-1.04.2-1.43.59L10.3 9.45l-7.72 7.72c-.78.78-.78 2.05 0 2.83L4 21.41c.39.39.9.59 1.41.59.51 0 1.02-.2 1.41-.59l7.78-7.78 2.81-2.81c.8-.78.8-2.07 0-2.86zM5.41 20L4 18.59l7.72-7.72 1.47 1.35L5.41 20z\"/>\n",
              "  </svg>\n",
              "      </button>\n",
              "      \n",
              "  <style>\n",
              "    .colab-df-container {\n",
              "      display:flex;\n",
              "      flex-wrap:wrap;\n",
              "      gap: 12px;\n",
              "    }\n",
              "\n",
              "    .colab-df-convert {\n",
              "      background-color: #E8F0FE;\n",
              "      border: none;\n",
              "      border-radius: 50%;\n",
              "      cursor: pointer;\n",
              "      display: none;\n",
              "      fill: #1967D2;\n",
              "      height: 32px;\n",
              "      padding: 0 0 0 0;\n",
              "      width: 32px;\n",
              "    }\n",
              "\n",
              "    .colab-df-convert:hover {\n",
              "      background-color: #E2EBFA;\n",
              "      box-shadow: 0px 1px 2px rgba(60, 64, 67, 0.3), 0px 1px 3px 1px rgba(60, 64, 67, 0.15);\n",
              "      fill: #174EA6;\n",
              "    }\n",
              "\n",
              "    [theme=dark] .colab-df-convert {\n",
              "      background-color: #3B4455;\n",
              "      fill: #D2E3FC;\n",
              "    }\n",
              "\n",
              "    [theme=dark] .colab-df-convert:hover {\n",
              "      background-color: #434B5C;\n",
              "      box-shadow: 0px 1px 3px 1px rgba(0, 0, 0, 0.15);\n",
              "      filter: drop-shadow(0px 1px 2px rgba(0, 0, 0, 0.3));\n",
              "      fill: #FFFFFF;\n",
              "    }\n",
              "  </style>\n",
              "\n",
              "      <script>\n",
              "        const buttonEl =\n",
              "          document.querySelector('#df-dc4381eb-627f-4471-8b53-e74f52227e9a button.colab-df-convert');\n",
              "        buttonEl.style.display =\n",
              "          google.colab.kernel.accessAllowed ? 'block' : 'none';\n",
              "\n",
              "        async function convertToInteractive(key) {\n",
              "          const element = document.querySelector('#df-dc4381eb-627f-4471-8b53-e74f52227e9a');\n",
              "          const dataTable =\n",
              "            await google.colab.kernel.invokeFunction('convertToInteractive',\n",
              "                                                     [key], {});\n",
              "          if (!dataTable) return;\n",
              "\n",
              "          const docLinkHtml = 'Like what you see? Visit the ' +\n",
              "            '<a target=\"_blank\" href=https://colab.research.google.com/notebooks/data_table.ipynb>data table notebook</a>'\n",
              "            + ' to learn more about interactive tables.';\n",
              "          element.innerHTML = '';\n",
              "          dataTable['output_type'] = 'display_data';\n",
              "          await google.colab.output.renderOutput(dataTable, element);\n",
              "          const docLink = document.createElement('div');\n",
              "          docLink.innerHTML = docLinkHtml;\n",
              "          element.appendChild(docLink);\n",
              "        }\n",
              "      </script>\n",
              "    </div>\n",
              "  </div>\n",
              "  "
            ]
          },
          "metadata": {},
          "execution_count": 52
        }
      ]
    },
    {
      "cell_type": "markdown",
      "source": [
        "Both dataframes bring information about orders. For a given order_id, the first one defines the customer, the order_status, and when the order was made. The second brings information about the order value, payments installments, and payment type. "
      ],
      "metadata": {
        "id": "CHCzqqplyQgz"
      }
    },
    {
      "cell_type": "markdown",
      "source": [
        "# Data cleaning\n",
        "\n",
        "So, let's look a little closer at our data sets. First, the orders dataset. Let's check its size, and if it has any null value:"
      ],
      "metadata": {
        "id": "Q_9MjJn88FRC"
      }
    },
    {
      "cell_type": "code",
      "source": [
        "print(f\"Number of orders: {orders.shape[0]}\")"
      ],
      "metadata": {
        "colab": {
          "base_uri": "https://localhost:8080/"
        },
        "id": "GKrO17CB8WY7",
        "outputId": "7003faac-9285-4bef-b399-2d6364a0e521"
      },
      "execution_count": 53,
      "outputs": [
        {
          "output_type": "stream",
          "name": "stdout",
          "text": [
            "Number of orders: 99441\n"
          ]
        }
      ]
    },
    {
      "cell_type": "code",
      "source": [
        "orders.isnull( ).sum( )"
      ],
      "metadata": {
        "colab": {
          "base_uri": "https://localhost:8080/"
        },
        "id": "8uFOiL2W8dhL",
        "outputId": "b47e044d-2d56-4321-e1ac-8e77f6181eb3"
      },
      "execution_count": 54,
      "outputs": [
        {
          "output_type": "execute_result",
          "data": {
            "text/plain": [
              "order_id                            0\n",
              "customer_id                         0\n",
              "order_status                        0\n",
              "order_purchase_timestamp            0\n",
              "order_approved_at                 160\n",
              "order_delivered_carrier_date     1783\n",
              "order_delivered_customer_date    2965\n",
              "order_estimated_delivery_date       0\n",
              "dtype: int64"
            ]
          },
          "metadata": {},
          "execution_count": 54
        }
      ]
    },
    {
      "cell_type": "markdown",
      "source": [
        "So, we have some null values in the columns which state the day of the order approval and delivers. Well, if the order was never delivered, these columns can, indeed, be null. Let's check the order_status column:"
      ],
      "metadata": {
        "id": "3F57n-_t8VY-"
      }
    },
    {
      "cell_type": "code",
      "source": [
        "orders.order_status.unique( )"
      ],
      "metadata": {
        "colab": {
          "base_uri": "https://localhost:8080/"
        },
        "id": "nGdUGd9T8zF-",
        "outputId": "2710b402-e575-48f3-b91f-41b6ad9537bd"
      },
      "execution_count": 55,
      "outputs": [
        {
          "output_type": "execute_result",
          "data": {
            "text/plain": [
              "array(['delivered', 'invoiced', 'shipped', 'processing', 'unavailable',\n",
              "       'canceled', 'created', 'approved'], dtype=object)"
            ]
          },
          "metadata": {},
          "execution_count": 55
        }
      ]
    },
    {
      "cell_type": "markdown",
      "source": [
        "Note that there are multiple order status. For instance, for canceled or invoiced orders, it is expected that we have no deliver date. Let's update our dataframe, keeping only the orders that were delivered:"
      ],
      "metadata": {
        "id": "zmoQBOR_82LD"
      }
    },
    {
      "cell_type": "code",
      "source": [
        "orders = orders.query(\"order_status == 'delivered'\")"
      ],
      "metadata": {
        "id": "jCFERvVi9FpH"
      },
      "execution_count": 56,
      "outputs": []
    },
    {
      "cell_type": "markdown",
      "source": [
        "Now, let's check again the number of orders, and if it has any null values:"
      ],
      "metadata": {
        "id": "KKdgY9Co9KWz"
      }
    },
    {
      "cell_type": "code",
      "source": [
        "print(f\"Number of orders: {orders.shape[0]}\")"
      ],
      "metadata": {
        "colab": {
          "base_uri": "https://localhost:8080/"
        },
        "id": "3TRAABjR9O71",
        "outputId": "c2ea0ae6-305c-4bb2-e92c-f36a74413ad9"
      },
      "execution_count": 57,
      "outputs": [
        {
          "output_type": "stream",
          "name": "stdout",
          "text": [
            "Number of orders: 96478\n"
          ]
        }
      ]
    },
    {
      "cell_type": "code",
      "source": [
        "orders.isnull( ).sum( )"
      ],
      "metadata": {
        "colab": {
          "base_uri": "https://localhost:8080/"
        },
        "id": "XbHZYW369O49",
        "outputId": "fd9216b6-b7fd-4e58-a43a-e657804d4857"
      },
      "execution_count": 58,
      "outputs": [
        {
          "output_type": "execute_result",
          "data": {
            "text/plain": [
              "order_id                          0\n",
              "customer_id                       0\n",
              "order_status                      0\n",
              "order_purchase_timestamp          0\n",
              "order_approved_at                14\n",
              "order_delivered_carrier_date      2\n",
              "order_delivered_customer_date     8\n",
              "order_estimated_delivery_date     0\n",
              "dtype: int64"
            ]
          },
          "metadata": {},
          "execution_count": 58
        }
      ]
    },
    {
      "cell_type": "markdown",
      "source": [
        "We did lost some entries, but not much. Also, it seems that we still have some null values, even when filtering for the delivered orders. However, note that these columns with null values will not be used for our RFM analysis. So, let's drop the unimportant columns:"
      ],
      "metadata": {
        "id": "ZEhhkkd29TMN"
      }
    },
    {
      "cell_type": "code",
      "source": [
        "orders = orders[['order_id', 'customer_id', 'order_status', 'order_purchase_timestamp']]"
      ],
      "metadata": {
        "id": "utVMzdzu9ruz"
      },
      "execution_count": 59,
      "outputs": []
    },
    {
      "cell_type": "markdown",
      "source": [
        "Nice! Now, let's see if we have any duplicated entry:"
      ],
      "metadata": {
        "id": "g8HCgD_1965j"
      }
    },
    {
      "cell_type": "code",
      "source": [
        "orders.duplicated( ).sum( )"
      ],
      "metadata": {
        "colab": {
          "base_uri": "https://localhost:8080/"
        },
        "id": "jphjm6Jm99wk",
        "outputId": "039392da-1a98-4ad6-8306-4dbec7410c79"
      },
      "execution_count": 60,
      "outputs": [
        {
          "output_type": "execute_result",
          "data": {
            "text/plain": [
              "0"
            ]
          },
          "metadata": {},
          "execution_count": 60
        }
      ]
    },
    {
      "cell_type": "markdown",
      "source": [
        "Great! No duplicated entry. "
      ],
      "metadata": {
        "id": "zfBVltEd-Afs"
      }
    },
    {
      "cell_type": "markdown",
      "source": [
        "Now, let's look at the payments dataframe. First, let's see the number of entries and if there is any null entry:"
      ],
      "metadata": {
        "id": "zdqNEhHoZDpy"
      }
    },
    {
      "cell_type": "code",
      "source": [
        "print(f\"Number of payments: {payments.shape[0]}\")"
      ],
      "metadata": {
        "colab": {
          "base_uri": "https://localhost:8080/"
        },
        "id": "4O6HsSbr-JRy",
        "outputId": "6c81233e-9c76-48fa-b7e2-8e5de29c4b23"
      },
      "execution_count": 61,
      "outputs": [
        {
          "output_type": "stream",
          "name": "stdout",
          "text": [
            "Number of payments: 103886\n"
          ]
        }
      ]
    },
    {
      "cell_type": "code",
      "source": [
        "payments.isnull( ).sum( )"
      ],
      "metadata": {
        "colab": {
          "base_uri": "https://localhost:8080/"
        },
        "id": "eVWJ8A5J-OU6",
        "outputId": "19ae8351-9456-4223-abe3-e988cc5ebbc2"
      },
      "execution_count": 62,
      "outputs": [
        {
          "output_type": "execute_result",
          "data": {
            "text/plain": [
              "order_id                0\n",
              "payment_sequential      0\n",
              "payment_type            0\n",
              "payment_installments    0\n",
              "payment_value           0\n",
              "dtype: int64"
            ]
          },
          "metadata": {},
          "execution_count": 62
        }
      ]
    },
    {
      "cell_type": "markdown",
      "source": [
        "Here, we have 103886 payments, and no null values. Great! Once again, let's get only the information we really need:"
      ],
      "metadata": {
        "id": "VuQBd83g-TLE"
      }
    },
    {
      "cell_type": "code",
      "source": [
        "payments = payments[['order_id', 'payment_sequential', 'payment_value']]"
      ],
      "metadata": {
        "id": "z3paGVou-vaD"
      },
      "execution_count": 63,
      "outputs": []
    },
    {
      "cell_type": "markdown",
      "source": [
        "Now, let's look for duplicated entries:"
      ],
      "metadata": {
        "id": "BC2Z83Y4-pAD"
      }
    },
    {
      "cell_type": "code",
      "source": [
        "payments.duplicated( ).sum( )"
      ],
      "metadata": {
        "colab": {
          "base_uri": "https://localhost:8080/"
        },
        "id": "y24Zveov-e3U",
        "outputId": "5b920402-bc0c-4f80-c625-78f8af335566"
      },
      "execution_count": 64,
      "outputs": [
        {
          "output_type": "execute_result",
          "data": {
            "text/plain": [
              "0"
            ]
          },
          "metadata": {},
          "execution_count": 64
        }
      ]
    },
    {
      "cell_type": "markdown",
      "source": [
        "Nice! Note that the 'payment_sequential' column serves to collect data for sequential payments, when, for the same order, one wishes to perform multiple payments. Let's actually drop this feature, and get the sum of the value for the same order:"
      ],
      "metadata": {
        "id": "0soibCRy_i_T"
      }
    },
    {
      "cell_type": "code",
      "source": [
        "order_payments = payments.groupby('order_id')\n",
        "\n",
        "payments = order_payments.sum( )['payment_value'].to_frame( ).reset_index( )\n",
        "\n",
        "payments.head( )"
      ],
      "metadata": {
        "colab": {
          "base_uri": "https://localhost:8080/",
          "height": 206
        },
        "id": "QV4qJAgx_Is0",
        "outputId": "b1a2e85d-3706-4bf1-a8f1-a1c479515769"
      },
      "execution_count": 65,
      "outputs": [
        {
          "output_type": "execute_result",
          "data": {
            "text/plain": [
              "                           order_id  payment_value\n",
              "0  00010242fe8c5a6d1ba2dd792cb16214          72.19\n",
              "1  00018f77f2f0320c557190d7a144bdd3         259.83\n",
              "2  000229ec398224ef6ca0657da4fc703e         216.87\n",
              "3  00024acbcdf0a6daa1e931b038114c75          25.78\n",
              "4  00042b26cf59d7ce69dfabb4e55b4fd9         218.04"
            ],
            "text/html": [
              "\n",
              "  <div id=\"df-cdb43ea4-1f9e-4f5c-9474-59916d694645\">\n",
              "    <div class=\"colab-df-container\">\n",
              "      <div>\n",
              "<style scoped>\n",
              "    .dataframe tbody tr th:only-of-type {\n",
              "        vertical-align: middle;\n",
              "    }\n",
              "\n",
              "    .dataframe tbody tr th {\n",
              "        vertical-align: top;\n",
              "    }\n",
              "\n",
              "    .dataframe thead th {\n",
              "        text-align: right;\n",
              "    }\n",
              "</style>\n",
              "<table border=\"1\" class=\"dataframe\">\n",
              "  <thead>\n",
              "    <tr style=\"text-align: right;\">\n",
              "      <th></th>\n",
              "      <th>order_id</th>\n",
              "      <th>payment_value</th>\n",
              "    </tr>\n",
              "  </thead>\n",
              "  <tbody>\n",
              "    <tr>\n",
              "      <th>0</th>\n",
              "      <td>00010242fe8c5a6d1ba2dd792cb16214</td>\n",
              "      <td>72.19</td>\n",
              "    </tr>\n",
              "    <tr>\n",
              "      <th>1</th>\n",
              "      <td>00018f77f2f0320c557190d7a144bdd3</td>\n",
              "      <td>259.83</td>\n",
              "    </tr>\n",
              "    <tr>\n",
              "      <th>2</th>\n",
              "      <td>000229ec398224ef6ca0657da4fc703e</td>\n",
              "      <td>216.87</td>\n",
              "    </tr>\n",
              "    <tr>\n",
              "      <th>3</th>\n",
              "      <td>00024acbcdf0a6daa1e931b038114c75</td>\n",
              "      <td>25.78</td>\n",
              "    </tr>\n",
              "    <tr>\n",
              "      <th>4</th>\n",
              "      <td>00042b26cf59d7ce69dfabb4e55b4fd9</td>\n",
              "      <td>218.04</td>\n",
              "    </tr>\n",
              "  </tbody>\n",
              "</table>\n",
              "</div>\n",
              "      <button class=\"colab-df-convert\" onclick=\"convertToInteractive('df-cdb43ea4-1f9e-4f5c-9474-59916d694645')\"\n",
              "              title=\"Convert this dataframe to an interactive table.\"\n",
              "              style=\"display:none;\">\n",
              "        \n",
              "  <svg xmlns=\"http://www.w3.org/2000/svg\" height=\"24px\"viewBox=\"0 0 24 24\"\n",
              "       width=\"24px\">\n",
              "    <path d=\"M0 0h24v24H0V0z\" fill=\"none\"/>\n",
              "    <path d=\"M18.56 5.44l.94 2.06.94-2.06 2.06-.94-2.06-.94-.94-2.06-.94 2.06-2.06.94zm-11 1L8.5 8.5l.94-2.06 2.06-.94-2.06-.94L8.5 2.5l-.94 2.06-2.06.94zm10 10l.94 2.06.94-2.06 2.06-.94-2.06-.94-.94-2.06-.94 2.06-2.06.94z\"/><path d=\"M17.41 7.96l-1.37-1.37c-.4-.4-.92-.59-1.43-.59-.52 0-1.04.2-1.43.59L10.3 9.45l-7.72 7.72c-.78.78-.78 2.05 0 2.83L4 21.41c.39.39.9.59 1.41.59.51 0 1.02-.2 1.41-.59l7.78-7.78 2.81-2.81c.8-.78.8-2.07 0-2.86zM5.41 20L4 18.59l7.72-7.72 1.47 1.35L5.41 20z\"/>\n",
              "  </svg>\n",
              "      </button>\n",
              "      \n",
              "  <style>\n",
              "    .colab-df-container {\n",
              "      display:flex;\n",
              "      flex-wrap:wrap;\n",
              "      gap: 12px;\n",
              "    }\n",
              "\n",
              "    .colab-df-convert {\n",
              "      background-color: #E8F0FE;\n",
              "      border: none;\n",
              "      border-radius: 50%;\n",
              "      cursor: pointer;\n",
              "      display: none;\n",
              "      fill: #1967D2;\n",
              "      height: 32px;\n",
              "      padding: 0 0 0 0;\n",
              "      width: 32px;\n",
              "    }\n",
              "\n",
              "    .colab-df-convert:hover {\n",
              "      background-color: #E2EBFA;\n",
              "      box-shadow: 0px 1px 2px rgba(60, 64, 67, 0.3), 0px 1px 3px 1px rgba(60, 64, 67, 0.15);\n",
              "      fill: #174EA6;\n",
              "    }\n",
              "\n",
              "    [theme=dark] .colab-df-convert {\n",
              "      background-color: #3B4455;\n",
              "      fill: #D2E3FC;\n",
              "    }\n",
              "\n",
              "    [theme=dark] .colab-df-convert:hover {\n",
              "      background-color: #434B5C;\n",
              "      box-shadow: 0px 1px 3px 1px rgba(0, 0, 0, 0.15);\n",
              "      filter: drop-shadow(0px 1px 2px rgba(0, 0, 0, 0.3));\n",
              "      fill: #FFFFFF;\n",
              "    }\n",
              "  </style>\n",
              "\n",
              "      <script>\n",
              "        const buttonEl =\n",
              "          document.querySelector('#df-cdb43ea4-1f9e-4f5c-9474-59916d694645 button.colab-df-convert');\n",
              "        buttonEl.style.display =\n",
              "          google.colab.kernel.accessAllowed ? 'block' : 'none';\n",
              "\n",
              "        async function convertToInteractive(key) {\n",
              "          const element = document.querySelector('#df-cdb43ea4-1f9e-4f5c-9474-59916d694645');\n",
              "          const dataTable =\n",
              "            await google.colab.kernel.invokeFunction('convertToInteractive',\n",
              "                                                     [key], {});\n",
              "          if (!dataTable) return;\n",
              "\n",
              "          const docLinkHtml = 'Like what you see? Visit the ' +\n",
              "            '<a target=\"_blank\" href=https://colab.research.google.com/notebooks/data_table.ipynb>data table notebook</a>'\n",
              "            + ' to learn more about interactive tables.';\n",
              "          element.innerHTML = '';\n",
              "          dataTable['output_type'] = 'display_data';\n",
              "          await google.colab.output.renderOutput(dataTable, element);\n",
              "          const docLink = document.createElement('div');\n",
              "          docLink.innerHTML = docLinkHtml;\n",
              "          element.appendChild(docLink);\n",
              "        }\n",
              "      </script>\n",
              "    </div>\n",
              "  </div>\n",
              "  "
            ]
          },
          "metadata": {},
          "execution_count": 65
        }
      ]
    },
    {
      "cell_type": "markdown",
      "source": [
        "Great! Again, let's check if we have any duplicated entry:"
      ],
      "metadata": {
        "id": "nvGodXJUAWEG"
      }
    },
    {
      "cell_type": "code",
      "source": [
        "payments.duplicated( ).sum( )"
      ],
      "metadata": {
        "colab": {
          "base_uri": "https://localhost:8080/"
        },
        "id": "U-czkP8VAZID",
        "outputId": "52ebcac7-89e7-4f85-df47-69566a8b4182"
      },
      "execution_count": 66,
      "outputs": [
        {
          "output_type": "execute_result",
          "data": {
            "text/plain": [
              "0"
            ]
          },
          "metadata": {},
          "execution_count": 66
        }
      ]
    },
    {
      "cell_type": "markdown",
      "source": [
        "Finally, let's see the number of entries we ended up with:"
      ],
      "metadata": {
        "id": "C1aXuKCyAbQE"
      }
    },
    {
      "cell_type": "code",
      "source": [
        "print(f\"Number of payments: {payments.shape[0]}\")"
      ],
      "metadata": {
        "colab": {
          "base_uri": "https://localhost:8080/"
        },
        "id": "yDRUJozFAd27",
        "outputId": "e6b85063-8a88-43ab-f761-e83b94505749"
      },
      "execution_count": 67,
      "outputs": [
        {
          "output_type": "stream",
          "name": "stdout",
          "text": [
            "Number of payments: 99440\n"
          ]
        }
      ]
    },
    {
      "cell_type": "markdown",
      "source": [
        "So, here, we have 99440 entries, which is almost the same as the number of entries in the first orders dataframe (99441). The difference here might be due to an error when collecting data, which is understandable. Finally, let's merge these two dataframes:"
      ],
      "metadata": {
        "id": "iQv1miujAkDL"
      }
    },
    {
      "cell_type": "code",
      "source": [
        "df = orders.merge(payments, how = 'left', left_on = 'order_id', right_on = 'order_id')\n",
        "df.head(5)"
      ],
      "metadata": {
        "colab": {
          "base_uri": "https://localhost:8080/",
          "height": 206
        },
        "id": "QBhCtBuSyPns",
        "outputId": "556efd28-b896-4dca-a756-d4f0cc5230b5"
      },
      "execution_count": 68,
      "outputs": [
        {
          "output_type": "execute_result",
          "data": {
            "text/plain": [
              "                           order_id                       customer_id  \\\n",
              "0  e481f51cbdc54678b7cc49136f2d6af7  9ef432eb6251297304e76186b10a928d   \n",
              "1  53cdb2fc8bc7dce0b6741e2150273451  b0830fb4747a6c6d20dea0b8c802d7ef   \n",
              "2  47770eb9100c2d0c44946d9cf07ec65d  41ce2a54c0b03bf3443c3d931a367089   \n",
              "3  949d5b44dbf5de918fe9c16f97b45f8a  f88197465ea7920adcdbec7375364d82   \n",
              "4  ad21c59c0840e6cb83a9ceb5573f8159  8ab97904e6daea8866dbdbc4fb7aad2c   \n",
              "\n",
              "  order_status order_purchase_timestamp  payment_value  \n",
              "0    delivered      2017-10-02 10:56:33          38.71  \n",
              "1    delivered      2018-07-24 20:41:37         141.46  \n",
              "2    delivered      2018-08-08 08:38:49         179.12  \n",
              "3    delivered      2017-11-18 19:28:06          72.20  \n",
              "4    delivered      2018-02-13 21:18:39          28.62  "
            ],
            "text/html": [
              "\n",
              "  <div id=\"df-1eba0e32-208f-4da1-9cb0-8066662f2c11\">\n",
              "    <div class=\"colab-df-container\">\n",
              "      <div>\n",
              "<style scoped>\n",
              "    .dataframe tbody tr th:only-of-type {\n",
              "        vertical-align: middle;\n",
              "    }\n",
              "\n",
              "    .dataframe tbody tr th {\n",
              "        vertical-align: top;\n",
              "    }\n",
              "\n",
              "    .dataframe thead th {\n",
              "        text-align: right;\n",
              "    }\n",
              "</style>\n",
              "<table border=\"1\" class=\"dataframe\">\n",
              "  <thead>\n",
              "    <tr style=\"text-align: right;\">\n",
              "      <th></th>\n",
              "      <th>order_id</th>\n",
              "      <th>customer_id</th>\n",
              "      <th>order_status</th>\n",
              "      <th>order_purchase_timestamp</th>\n",
              "      <th>payment_value</th>\n",
              "    </tr>\n",
              "  </thead>\n",
              "  <tbody>\n",
              "    <tr>\n",
              "      <th>0</th>\n",
              "      <td>e481f51cbdc54678b7cc49136f2d6af7</td>\n",
              "      <td>9ef432eb6251297304e76186b10a928d</td>\n",
              "      <td>delivered</td>\n",
              "      <td>2017-10-02 10:56:33</td>\n",
              "      <td>38.71</td>\n",
              "    </tr>\n",
              "    <tr>\n",
              "      <th>1</th>\n",
              "      <td>53cdb2fc8bc7dce0b6741e2150273451</td>\n",
              "      <td>b0830fb4747a6c6d20dea0b8c802d7ef</td>\n",
              "      <td>delivered</td>\n",
              "      <td>2018-07-24 20:41:37</td>\n",
              "      <td>141.46</td>\n",
              "    </tr>\n",
              "    <tr>\n",
              "      <th>2</th>\n",
              "      <td>47770eb9100c2d0c44946d9cf07ec65d</td>\n",
              "      <td>41ce2a54c0b03bf3443c3d931a367089</td>\n",
              "      <td>delivered</td>\n",
              "      <td>2018-08-08 08:38:49</td>\n",
              "      <td>179.12</td>\n",
              "    </tr>\n",
              "    <tr>\n",
              "      <th>3</th>\n",
              "      <td>949d5b44dbf5de918fe9c16f97b45f8a</td>\n",
              "      <td>f88197465ea7920adcdbec7375364d82</td>\n",
              "      <td>delivered</td>\n",
              "      <td>2017-11-18 19:28:06</td>\n",
              "      <td>72.20</td>\n",
              "    </tr>\n",
              "    <tr>\n",
              "      <th>4</th>\n",
              "      <td>ad21c59c0840e6cb83a9ceb5573f8159</td>\n",
              "      <td>8ab97904e6daea8866dbdbc4fb7aad2c</td>\n",
              "      <td>delivered</td>\n",
              "      <td>2018-02-13 21:18:39</td>\n",
              "      <td>28.62</td>\n",
              "    </tr>\n",
              "  </tbody>\n",
              "</table>\n",
              "</div>\n",
              "      <button class=\"colab-df-convert\" onclick=\"convertToInteractive('df-1eba0e32-208f-4da1-9cb0-8066662f2c11')\"\n",
              "              title=\"Convert this dataframe to an interactive table.\"\n",
              "              style=\"display:none;\">\n",
              "        \n",
              "  <svg xmlns=\"http://www.w3.org/2000/svg\" height=\"24px\"viewBox=\"0 0 24 24\"\n",
              "       width=\"24px\">\n",
              "    <path d=\"M0 0h24v24H0V0z\" fill=\"none\"/>\n",
              "    <path d=\"M18.56 5.44l.94 2.06.94-2.06 2.06-.94-2.06-.94-.94-2.06-.94 2.06-2.06.94zm-11 1L8.5 8.5l.94-2.06 2.06-.94-2.06-.94L8.5 2.5l-.94 2.06-2.06.94zm10 10l.94 2.06.94-2.06 2.06-.94-2.06-.94-.94-2.06-.94 2.06-2.06.94z\"/><path d=\"M17.41 7.96l-1.37-1.37c-.4-.4-.92-.59-1.43-.59-.52 0-1.04.2-1.43.59L10.3 9.45l-7.72 7.72c-.78.78-.78 2.05 0 2.83L4 21.41c.39.39.9.59 1.41.59.51 0 1.02-.2 1.41-.59l7.78-7.78 2.81-2.81c.8-.78.8-2.07 0-2.86zM5.41 20L4 18.59l7.72-7.72 1.47 1.35L5.41 20z\"/>\n",
              "  </svg>\n",
              "      </button>\n",
              "      \n",
              "  <style>\n",
              "    .colab-df-container {\n",
              "      display:flex;\n",
              "      flex-wrap:wrap;\n",
              "      gap: 12px;\n",
              "    }\n",
              "\n",
              "    .colab-df-convert {\n",
              "      background-color: #E8F0FE;\n",
              "      border: none;\n",
              "      border-radius: 50%;\n",
              "      cursor: pointer;\n",
              "      display: none;\n",
              "      fill: #1967D2;\n",
              "      height: 32px;\n",
              "      padding: 0 0 0 0;\n",
              "      width: 32px;\n",
              "    }\n",
              "\n",
              "    .colab-df-convert:hover {\n",
              "      background-color: #E2EBFA;\n",
              "      box-shadow: 0px 1px 2px rgba(60, 64, 67, 0.3), 0px 1px 3px 1px rgba(60, 64, 67, 0.15);\n",
              "      fill: #174EA6;\n",
              "    }\n",
              "\n",
              "    [theme=dark] .colab-df-convert {\n",
              "      background-color: #3B4455;\n",
              "      fill: #D2E3FC;\n",
              "    }\n",
              "\n",
              "    [theme=dark] .colab-df-convert:hover {\n",
              "      background-color: #434B5C;\n",
              "      box-shadow: 0px 1px 3px 1px rgba(0, 0, 0, 0.15);\n",
              "      filter: drop-shadow(0px 1px 2px rgba(0, 0, 0, 0.3));\n",
              "      fill: #FFFFFF;\n",
              "    }\n",
              "  </style>\n",
              "\n",
              "      <script>\n",
              "        const buttonEl =\n",
              "          document.querySelector('#df-1eba0e32-208f-4da1-9cb0-8066662f2c11 button.colab-df-convert');\n",
              "        buttonEl.style.display =\n",
              "          google.colab.kernel.accessAllowed ? 'block' : 'none';\n",
              "\n",
              "        async function convertToInteractive(key) {\n",
              "          const element = document.querySelector('#df-1eba0e32-208f-4da1-9cb0-8066662f2c11');\n",
              "          const dataTable =\n",
              "            await google.colab.kernel.invokeFunction('convertToInteractive',\n",
              "                                                     [key], {});\n",
              "          if (!dataTable) return;\n",
              "\n",
              "          const docLinkHtml = 'Like what you see? Visit the ' +\n",
              "            '<a target=\"_blank\" href=https://colab.research.google.com/notebooks/data_table.ipynb>data table notebook</a>'\n",
              "            + ' to learn more about interactive tables.';\n",
              "          element.innerHTML = '';\n",
              "          dataTable['output_type'] = 'display_data';\n",
              "          await google.colab.output.renderOutput(dataTable, element);\n",
              "          const docLink = document.createElement('div');\n",
              "          docLink.innerHTML = docLinkHtml;\n",
              "          element.appendChild(docLink);\n",
              "        }\n",
              "      </script>\n",
              "    </div>\n",
              "  </div>\n",
              "  "
            ]
          },
          "metadata": {},
          "execution_count": 68
        }
      ]
    },
    {
      "cell_type": "markdown",
      "source": [
        "Nice! It seems to have worked. Finally, let's, once again, look at the number of entries and if we have any missing value or duplicated entries. Here, we will use the info( ) method:"
      ],
      "metadata": {
        "id": "1JdnjutJy22N"
      }
    },
    {
      "cell_type": "code",
      "source": [
        "df.info( )"
      ],
      "metadata": {
        "colab": {
          "base_uri": "https://localhost:8080/"
        },
        "id": "D9rWmlEHBCk3",
        "outputId": "2e550605-e80a-4094-cb7b-6110094d52f3"
      },
      "execution_count": 69,
      "outputs": [
        {
          "output_type": "stream",
          "name": "stdout",
          "text": [
            "<class 'pandas.core.frame.DataFrame'>\n",
            "Int64Index: 96478 entries, 0 to 96477\n",
            "Data columns (total 5 columns):\n",
            " #   Column                    Non-Null Count  Dtype  \n",
            "---  ------                    --------------  -----  \n",
            " 0   order_id                  96478 non-null  object \n",
            " 1   customer_id               96478 non-null  object \n",
            " 2   order_status              96478 non-null  object \n",
            " 3   order_purchase_timestamp  96478 non-null  object \n",
            " 4   payment_value             96477 non-null  float64\n",
            "dtypes: float64(1), object(4)\n",
            "memory usage: 4.4+ MB\n"
          ]
        }
      ]
    },
    {
      "cell_type": "code",
      "source": [
        "df.duplicated( ).sum( )"
      ],
      "metadata": {
        "colab": {
          "base_uri": "https://localhost:8080/"
        },
        "id": "8lxhs9iQCWwk",
        "outputId": "a97a1a7e-3884-468d-fcbe-cc794c244204"
      },
      "execution_count": 70,
      "outputs": [
        {
          "output_type": "execute_result",
          "data": {
            "text/plain": [
              "0"
            ]
          },
          "metadata": {},
          "execution_count": 70
        }
      ]
    },
    {
      "cell_type": "markdown",
      "source": [
        "Actually, we have a missing value in the payment_value column. Let's simply drop this value, which is probably related to that missing order that was not in the payments dataframe:"
      ],
      "metadata": {
        "id": "WumxLtpuBID0"
      }
    },
    {
      "cell_type": "code",
      "source": [
        "df.dropna(inplace = True)"
      ],
      "metadata": {
        "id": "MizEbVlXCRWT"
      },
      "execution_count": 71,
      "outputs": []
    },
    {
      "cell_type": "markdown",
      "source": [
        "Nice! Note that the info( ) method also has information about the type of each column. The order_purchase_timestamp is of type object, even though it should be of type datetime. Thus, let's fix this:"
      ],
      "metadata": {
        "id": "jDd5W_YACUIm"
      }
    },
    {
      "cell_type": "code",
      "source": [
        "df.order_purchase_timestamp = pd.to_datetime(df.order_purchase_timestamp)"
      ],
      "metadata": {
        "id": "sNTKvS0iZhPD"
      },
      "execution_count": 72,
      "outputs": []
    },
    {
      "cell_type": "markdown",
      "source": [
        "\n",
        "\n",
        "Finally, let's start performing the RFM analysis. So, for RFM, we need to find indicators for Recency, Frequency, and Monetary. Then, we need to cluster al customers in each indicator. Finally, we will be able to determine which type of customer we are dealing with, and what is the best approach to tackle them. "
      ],
      "metadata": {
        "id": "UfoAnFqIZglz"
      }
    },
    {
      "cell_type": "markdown",
      "source": [
        "# Recency\n",
        "\n",
        "First, we will start with recency. For recency, we will get how many days it has passed since the customers last bought. Since our dataset is not from today, we will first get the maximum order date in our dataset:"
      ],
      "metadata": {
        "id": "sDMeP-VVCg_E"
      }
    },
    {
      "cell_type": "code",
      "source": [
        "max_day = df.order_purchase_timestamp.max( )\n",
        "max_day"
      ],
      "metadata": {
        "colab": {
          "base_uri": "https://localhost:8080/"
        },
        "id": "3VLvcix1YzvM",
        "outputId": "30389f30-d639-49bd-8b7e-b0d2e08b553e"
      },
      "execution_count": 73,
      "outputs": [
        {
          "output_type": "execute_result",
          "data": {
            "text/plain": [
              "Timestamp('2018-08-29 15:00:37')"
            ]
          },
          "metadata": {},
          "execution_count": 73
        }
      ]
    },
    {
      "cell_type": "markdown",
      "source": [
        "So, the maximum order date is 2018-8-29. Now, let's build our recency indicator:"
      ],
      "metadata": {
        "id": "Wjikb1bJZwRh"
      }
    },
    {
      "cell_type": "code",
      "source": [
        "group_by_customer = df.groupby('customer_id')                 # Grouping by customers\n",
        "df_recency        = group_by_customer.max( )['order_purchase_timestamp'].reset_index( )"
      ],
      "metadata": {
        "id": "fpfyGWZcZ-Gq"
      },
      "execution_count": 74,
      "outputs": []
    },
    {
      "cell_type": "code",
      "source": [
        "df_recency['Recency'] = (max_day - df_recency.order_purchase_timestamp).dt.days"
      ],
      "metadata": {
        "id": "cf_d4b8kaWEC"
      },
      "execution_count": 75,
      "outputs": []
    },
    {
      "cell_type": "markdown",
      "source": [
        "Now, let's take a look at our indicator. Let's use describe( ) to understand how our values for recency are distributed:"
      ],
      "metadata": {
        "id": "W8RObW9Jbyta"
      }
    },
    {
      "cell_type": "code",
      "source": [
        "df_recency.Recency.describe( )"
      ],
      "metadata": {
        "colab": {
          "base_uri": "https://localhost:8080/"
        },
        "id": "cfhTJdZrb2XQ",
        "outputId": "4059548a-07a9-4d74-af97-16a3af18012a"
      },
      "execution_count": 76,
      "outputs": [
        {
          "output_type": "execute_result",
          "data": {
            "text/plain": [
              "count    96477.000000\n",
              "mean       239.116453\n",
              "std        152.830149\n",
              "min          0.000000\n",
              "25%        115.000000\n",
              "50%        220.000000\n",
              "75%        349.000000\n",
              "max        695.000000\n",
              "Name: Recency, dtype: float64"
            ]
          },
          "metadata": {},
          "execution_count": 76
        }
      ]
    },
    {
      "cell_type": "markdown",
      "source": [
        "So, on average, our customers have passed 239 days without buying in our e-commerce. Let's plot a histogram to get a better sense of the distribution of our data:"
      ],
      "metadata": {
        "id": "H8RkZK5ZcBwC"
      }
    },
    {
      "cell_type": "code",
      "source": [
        "plt.figure(figsize = (16, 8))\n",
        "\n",
        "sns.histplot(df_recency.Recency, stat = 'density', kde = True, bins = 30)"
      ],
      "metadata": {
        "colab": {
          "base_uri": "https://localhost:8080/",
          "height": 517
        },
        "id": "lkABFA4JcUT1",
        "outputId": "20e1f277-36d0-47fc-bc53-4f9a73c54b5b"
      },
      "execution_count": 77,
      "outputs": [
        {
          "output_type": "execute_result",
          "data": {
            "text/plain": [
              "<matplotlib.axes._subplots.AxesSubplot at 0x7f65298dd8d0>"
            ]
          },
          "metadata": {},
          "execution_count": 77
        },
        {
          "output_type": "display_data",
          "data": {
            "text/plain": [
              "<Figure size 1152x576 with 1 Axes>"
            ],
            "image/png": "[encoded data removed]"
          },
          "metadata": {
            "needs_background": "light"
          }
        }
      ]
    },
    {
      "cell_type": "markdown",
      "source": [
        "So, we have a higher concentration in the left side. Very few people have spent more than 2 years without buying in our e-commerce again.\n",
        "\n",
        "Now, before we jump to the next topic, let's get a new dataframe with data for recency:"
      ],
      "metadata": {
        "id": "w0xWjviQcknw"
      }
    },
    {
      "cell_type": "code",
      "source": [
        "df_tmp = df_recency.Recency.copy( ).to_frame( )"
      ],
      "metadata": {
        "id": "tz39ueBZp1ms"
      },
      "execution_count": 78,
      "outputs": []
    },
    {
      "cell_type": "markdown",
      "source": [
        "## Clustering recency\n",
        "\n",
        "So, to cluster our data, we will use a $k$-means algorithm. First, to get the number of clusters, we will use the elbow rule. \n",
        "\n",
        "https://en.wikipedia.org/wiki/Elbow_method_(clustering)#:~:text=In%20cluster%20analysis%2C%20the%20elbow,number%20of%20clusters%20to%20use.\n",
        "\n",
        "So, let's test 10 different $K$, and evaluate the WCSS (Within-Cluster Sum of Squares). First, we will define a function to get the WCSS:"
      ],
      "metadata": {
        "id": "IpxmbwYYoi-U"
      }
    },
    {
      "cell_type": "code",
      "source": [
        "def calc_wcss(data, k_init, k_end):\n",
        "  wcss = []\n",
        "  for k in range(k_init, k_end + 1):\n",
        "    kmeans = KMeans(n_clusters = k)\n",
        "    kmeans.fit(X = data)\n",
        "    wcss.append(kmeans.inertia_)\n",
        "  return wcss"
      ],
      "metadata": {
        "id": "icslsEmrpC_y"
      },
      "execution_count": 79,
      "outputs": []
    },
    {
      "cell_type": "markdown",
      "source": [
        "Now, let's evaluate the WCSS for $K$ from 1 to 10:"
      ],
      "metadata": {
        "id": "SlvHl0xkpTja"
      }
    },
    {
      "cell_type": "code",
      "source": [
        "sum_squares = calc_wcss(df_tmp.values, 1, 10)"
      ],
      "metadata": {
        "id": "u9TgBjAXpOwk"
      },
      "execution_count": 80,
      "outputs": []
    },
    {
      "cell_type": "markdown",
      "source": [
        "Now, let's plot the WCSS:"
      ],
      "metadata": {
        "id": "DVi3H7Y2q2L6"
      }
    },
    {
      "cell_type": "code",
      "source": [
        "plt.figure(figsize = (10, 5))\n",
        "plt.plot(range(1, 11), sum_squares)\n",
        "\n",
        "plt.xlabel('$K$')"
      ],
      "metadata": {
        "colab": {
          "base_uri": "https://localhost:8080/",
          "height": 365
        },
        "id": "GXlA0troq5Zy",
        "outputId": "3fc9457a-0fd5-4eec-a8a8-0b28708361e6"
      },
      "execution_count": 81,
      "outputs": [
        {
          "output_type": "execute_result",
          "data": {
            "text/plain": [
              "Text(0.5, 0, '$K$')"
            ]
          },
          "metadata": {},
          "execution_count": 81
        },
        {
          "output_type": "display_data",
          "data": {
            "text/plain": [
              "<Figure size 720x360 with 1 Axes>"
            ],
            "image/png": "[encoded data removed]"
          },
          "metadata": {
            "needs_background": "light"
          }
        }
      ]
    },
    {
      "cell_type": "markdown",
      "source": [
        "By the elbow rule, the best point seems to be $K = 3$. However, we can get a better sense by using a mathematical formula:\n",
        "\n",
        "\\begin{equation}\n",
        "d(a_1, a_n, a_i) = \\dfrac{|(y_n - y_1) \\, x_i - (x_n - x_1) \\, y_i + x_n \\, y_1 + y_n \\, x_1|}{\\sqrt{(y_n - y_1)^2 + (x_n - x_1)^2}}\n",
        "\\end{equation}\n",
        "\n",
        "where $a_1$ is related to the first point, $a_n$ is related to the final point, and $a_i$ is related to the $i$-th point. Point $i$ which shows the higher $d$ is chosen as the number of clusters. So, let's do it:"
      ],
      "metadata": {
        "id": "bij6MXa5q8LF"
      }
    },
    {
      "cell_type": "code",
      "source": [
        "def dist_cluster(a1, an, ai):\n",
        "  x1, y1 = a1\n",
        "  xn, yn = an\n",
        "  xi, yi = ai\n",
        "\n",
        "  num = abs( (yn - y1)*xi - (xn - x1)*yi + xn*y1 + yn*x1 )\n",
        "  den = np.sqrt( (yn - y1)**2 + (xn - x1)**2 )\n",
        "  d = num/den\n",
        "\n",
        "  return d"
      ],
      "metadata": {
        "id": "iFeNh8aLrJq8"
      },
      "execution_count": 82,
      "outputs": []
    },
    {
      "cell_type": "code",
      "source": [
        "x = list(range(1, 11))\n",
        "y = sum_squares\n",
        "\n",
        "d_list = []\n",
        "\n",
        "a1 = (x[0], y[0])\n",
        "an = (x[-1], y[-1])\n",
        "\n",
        "for i in range(10):\n",
        "  ai = (x[i], y[i])\n",
        "  d = dist_cluster(a1, an, ai)\n",
        "  d_list.append(d)"
      ],
      "metadata": {
        "id": "rKtDCKGRrSgr"
      },
      "execution_count": 83,
      "outputs": []
    },
    {
      "cell_type": "markdown",
      "source": [
        "Now, we simply get the point with the highest $d$:"
      ],
      "metadata": {
        "id": "E1W93ksWrWoT"
      }
    },
    {
      "cell_type": "code",
      "source": [
        "K_opt = d_list.index(max(d_list)) + 1\n",
        "K_opt"
      ],
      "metadata": {
        "colab": {
          "base_uri": "https://localhost:8080/"
        },
        "id": "b1BsXxaNrbFq",
        "outputId": "ebb5e3b9-467d-4e24-f688-f67fdee29a58"
      },
      "execution_count": 84,
      "outputs": [
        {
          "output_type": "execute_result",
          "data": {
            "text/plain": [
              "3"
            ]
          },
          "metadata": {},
          "execution_count": 84
        }
      ]
    },
    {
      "cell_type": "markdown",
      "source": [
        "which is, indeed, for $K = 3$. Nice! Let's just create a new user defined function to do all of that:"
      ],
      "metadata": {
        "id": "EyXnvzEvrcCU"
      }
    },
    {
      "cell_type": "code",
      "source": [
        "def GetKopt(data, k_init, k_end):\n",
        "  sum_squares = calc_wcss(data, k_init, k_end)\n",
        "\n",
        "  x = list(range(k_init, k_end + 1))\n",
        "  y = sum_squares\n",
        "\n",
        "  d_list = []\n",
        "\n",
        "  a1 = (x[0], y[0])\n",
        "  an = (x[-1], y[-1])\n",
        "\n",
        "  for i in range(k_end - k_init + 1):\n",
        "    ai = (x[i], y[i])\n",
        "    d = dist_cluster(a1, an, ai)\n",
        "    d_list.append(d)\n",
        "\n",
        "  return d_list.index(max(d_list)) + k_init"
      ],
      "metadata": {
        "id": "Mtn3EoojrjIO"
      },
      "execution_count": 85,
      "outputs": []
    },
    {
      "cell_type": "markdown",
      "source": [
        "So, now, we may simply do:"
      ],
      "metadata": {
        "id": "x_YDh7eksQxr"
      }
    },
    {
      "cell_type": "code",
      "source": [
        "GetKopt(df_tmp, 1, 10)"
      ],
      "metadata": {
        "colab": {
          "base_uri": "https://localhost:8080/"
        },
        "id": "f8hSsKHmsSgh",
        "outputId": "a1d6be6d-87e0-47ca-d6a5-3b847d3047eb"
      },
      "execution_count": 86,
      "outputs": [
        {
          "output_type": "execute_result",
          "data": {
            "text/plain": [
              "3"
            ]
          },
          "metadata": {},
          "execution_count": 86
        }
      ]
    },
    {
      "cell_type": "markdown",
      "source": [
        "Great! For the next indicators, we we simply use this function. Now, let's continue with recency. We have already pointed out that the optimum number of clusters here is $3$. So, let's cluster our data:"
      ],
      "metadata": {
        "id": "rGH-zlagsckU"
      }
    },
    {
      "cell_type": "code",
      "source": [
        "kmeans = KMeans(n_clusters = 3)\n",
        "kmeans.fit(X = df_tmp)"
      ],
      "metadata": {
        "colab": {
          "base_uri": "https://localhost:8080/"
        },
        "id": "FJWjHWH2srXG",
        "outputId": "098b5598-f6fd-4156-e64c-f57ee08c6aa4"
      },
      "execution_count": 87,
      "outputs": [
        {
          "output_type": "execute_result",
          "data": {
            "text/plain": [
              "KMeans(n_clusters=3)"
            ]
          },
          "metadata": {},
          "execution_count": 87
        }
      ]
    },
    {
      "cell_type": "markdown",
      "source": [
        "Now, let's add the information about the clusters to our dataframe:"
      ],
      "metadata": {
        "id": "I_2y4EAss0oE"
      }
    },
    {
      "cell_type": "code",
      "source": [
        "df_recency['Cluster_Recency'] = kmeans.labels_"
      ],
      "metadata": {
        "id": "ncLHRygYszKc"
      },
      "execution_count": 88,
      "outputs": []
    },
    {
      "cell_type": "code",
      "source": [
        "df_recency.head( )"
      ],
      "metadata": {
        "colab": {
          "base_uri": "https://localhost:8080/",
          "height": 206
        },
        "id": "Qe4gTz_utB7T",
        "outputId": "f70b8de9-a2d6-4dea-b997-73388d933b5e"
      },
      "execution_count": 89,
      "outputs": [
        {
          "output_type": "execute_result",
          "data": {
            "text/plain": [
              "                        customer_id order_purchase_timestamp  Recency  \\\n",
              "0  00012a2ce6f8dcda20d059ce98491703      2017-11-14 16:08:26      287   \n",
              "1  000161a058600d5901f007fab4c27140      2017-07-16 09:40:32      409   \n",
              "2  0001fd6190edaaf884bcaf3d49edf079      2017-02-28 11:06:43      547   \n",
              "3  0002414f95344307404f0ace7a26f1d5      2017-08-16 13:09:20      378   \n",
              "4  000379cdec625522490c315e70c7a9fb      2018-04-02 13:42:17      149   \n",
              "\n",
              "   Cluster_Recency  \n",
              "0                2  \n",
              "1                1  \n",
              "2                1  \n",
              "3                1  \n",
              "4                0  "
            ],
            "text/html": [
              "\n",
              "  <div id=\"df-338f9872-5890-426f-9d02-4cfefc869dfe\">\n",
              "    <div class=\"colab-df-container\">\n",
              "      <div>\n",
              "<style scoped>\n",
              "    .dataframe tbody tr th:only-of-type {\n",
              "        vertical-align: middle;\n",
              "    }\n",
              "\n",
              "    .dataframe tbody tr th {\n",
              "        vertical-align: top;\n",
              "    }\n",
              "\n",
              "    .dataframe thead th {\n",
              "        text-align: right;\n",
              "    }\n",
              "</style>\n",
              "<table border=\"1\" class=\"dataframe\">\n",
              "  <thead>\n",
              "    <tr style=\"text-align: right;\">\n",
              "      <th></th>\n",
              "      <th>customer_id</th>\n",
              "      <th>order_purchase_timestamp</th>\n",
              "      <th>Recency</th>\n",
              "      <th>Cluster_Recency</th>\n",
              "    </tr>\n",
              "  </thead>\n",
              "  <tbody>\n",
              "    <tr>\n",
              "      <th>0</th>\n",
              "      <td>00012a2ce6f8dcda20d059ce98491703</td>\n",
              "      <td>2017-11-14 16:08:26</td>\n",
              "      <td>287</td>\n",
              "      <td>2</td>\n",
              "    </tr>\n",
              "    <tr>\n",
              "      <th>1</th>\n",
              "      <td>000161a058600d5901f007fab4c27140</td>\n",
              "      <td>2017-07-16 09:40:32</td>\n",
              "      <td>409</td>\n",
              "      <td>1</td>\n",
              "    </tr>\n",
              "    <tr>\n",
              "      <th>2</th>\n",
              "      <td>0001fd6190edaaf884bcaf3d49edf079</td>\n",
              "      <td>2017-02-28 11:06:43</td>\n",
              "      <td>547</td>\n",
              "      <td>1</td>\n",
              "    </tr>\n",
              "    <tr>\n",
              "      <th>3</th>\n",
              "      <td>0002414f95344307404f0ace7a26f1d5</td>\n",
              "      <td>2017-08-16 13:09:20</td>\n",
              "      <td>378</td>\n",
              "      <td>1</td>\n",
              "    </tr>\n",
              "    <tr>\n",
              "      <th>4</th>\n",
              "      <td>000379cdec625522490c315e70c7a9fb</td>\n",
              "      <td>2018-04-02 13:42:17</td>\n",
              "      <td>149</td>\n",
              "      <td>0</td>\n",
              "    </tr>\n",
              "  </tbody>\n",
              "</table>\n",
              "</div>\n",
              "      <button class=\"colab-df-convert\" onclick=\"convertToInteractive('df-338f9872-5890-426f-9d02-4cfefc869dfe')\"\n",
              "              title=\"Convert this dataframe to an interactive table.\"\n",
              "              style=\"display:none;\">\n",
              "        \n",
              "  <svg xmlns=\"http://www.w3.org/2000/svg\" height=\"24px\"viewBox=\"0 0 24 24\"\n",
              "       width=\"24px\">\n",
              "    <path d=\"M0 0h24v24H0V0z\" fill=\"none\"/>\n",
              "    <path d=\"M18.56 5.44l.94 2.06.94-2.06 2.06-.94-2.06-.94-.94-2.06-.94 2.06-2.06.94zm-11 1L8.5 8.5l.94-2.06 2.06-.94-2.06-.94L8.5 2.5l-.94 2.06-2.06.94zm10 10l.94 2.06.94-2.06 2.06-.94-2.06-.94-.94-2.06-.94 2.06-2.06.94z\"/><path d=\"M17.41 7.96l-1.37-1.37c-.4-.4-.92-.59-1.43-.59-.52 0-1.04.2-1.43.59L10.3 9.45l-7.72 7.72c-.78.78-.78 2.05 0 2.83L4 21.41c.39.39.9.59 1.41.59.51 0 1.02-.2 1.41-.59l7.78-7.78 2.81-2.81c.8-.78.8-2.07 0-2.86zM5.41 20L4 18.59l7.72-7.72 1.47 1.35L5.41 20z\"/>\n",
              "  </svg>\n",
              "      </button>\n",
              "      \n",
              "  <style>\n",
              "    .colab-df-container {\n",
              "      display:flex;\n",
              "      flex-wrap:wrap;\n",
              "      gap: 12px;\n",
              "    }\n",
              "\n",
              "    .colab-df-convert {\n",
              "      background-color: #E8F0FE;\n",
              "      border: none;\n",
              "      border-radius: 50%;\n",
              "      cursor: pointer;\n",
              "      display: none;\n",
              "      fill: #1967D2;\n",
              "      height: 32px;\n",
              "      padding: 0 0 0 0;\n",
              "      width: 32px;\n",
              "    }\n",
              "\n",
              "    .colab-df-convert:hover {\n",
              "      background-color: #E2EBFA;\n",
              "      box-shadow: 0px 1px 2px rgba(60, 64, 67, 0.3), 0px 1px 3px 1px rgba(60, 64, 67, 0.15);\n",
              "      fill: #174EA6;\n",
              "    }\n",
              "\n",
              "    [theme=dark] .colab-df-convert {\n",
              "      background-color: #3B4455;\n",
              "      fill: #D2E3FC;\n",
              "    }\n",
              "\n",
              "    [theme=dark] .colab-df-convert:hover {\n",
              "      background-color: #434B5C;\n",
              "      box-shadow: 0px 1px 3px 1px rgba(0, 0, 0, 0.15);\n",
              "      filter: drop-shadow(0px 1px 2px rgba(0, 0, 0, 0.3));\n",
              "      fill: #FFFFFF;\n",
              "    }\n",
              "  </style>\n",
              "\n",
              "      <script>\n",
              "        const buttonEl =\n",
              "          document.querySelector('#df-338f9872-5890-426f-9d02-4cfefc869dfe button.colab-df-convert');\n",
              "        buttonEl.style.display =\n",
              "          google.colab.kernel.accessAllowed ? 'block' : 'none';\n",
              "\n",
              "        async function convertToInteractive(key) {\n",
              "          const element = document.querySelector('#df-338f9872-5890-426f-9d02-4cfefc869dfe');\n",
              "          const dataTable =\n",
              "            await google.colab.kernel.invokeFunction('convertToInteractive',\n",
              "                                                     [key], {});\n",
              "          if (!dataTable) return;\n",
              "\n",
              "          const docLinkHtml = 'Like what you see? Visit the ' +\n",
              "            '<a target=\"_blank\" href=https://colab.research.google.com/notebooks/data_table.ipynb>data table notebook</a>'\n",
              "            + ' to learn more about interactive tables.';\n",
              "          element.innerHTML = '';\n",
              "          dataTable['output_type'] = 'display_data';\n",
              "          await google.colab.output.renderOutput(dataTable, element);\n",
              "          const docLink = document.createElement('div');\n",
              "          docLink.innerHTML = docLinkHtml;\n",
              "          element.appendChild(docLink);\n",
              "        }\n",
              "      </script>\n",
              "    </div>\n",
              "  </div>\n",
              "  "
            ]
          },
          "metadata": {},
          "execution_count": 89
        }
      ]
    },
    {
      "cell_type": "markdown",
      "source": [
        "Finally, let's group our data by cluster, and let's see a description of the grouped data:"
      ],
      "metadata": {
        "id": "GscfNUVHtEij"
      }
    },
    {
      "cell_type": "code",
      "source": [
        "df_recency_clustered = df_recency.groupby('Cluster_Recency')\n",
        "\n",
        "df_recency_clustered.describe( )['Recency']"
      ],
      "metadata": {
        "colab": {
          "base_uri": "https://localhost:8080/",
          "height": 175
        },
        "id": "zZIbYQTWtJjC",
        "outputId": "d4e42f4b-d98e-4686-b8a1-2cef9b9dce3f"
      },
      "execution_count": 90,
      "outputs": [
        {
          "output_type": "execute_result",
          "data": {
            "text/plain": [
              "                   count        mean        std    min    25%    50%    75%  \\\n",
              "Cluster_Recency                                                               \n",
              "0                36906.0   87.205793  49.871324    0.0   40.0   88.0  131.0   \n",
              "1                23118.0  456.843326  68.755419  356.0  399.0  449.0  508.0   \n",
              "2                36453.0  254.835459  51.247994  172.0  210.0  257.0  292.0   \n",
              "\n",
              "                   max  \n",
              "Cluster_Recency         \n",
              "0                171.0  \n",
              "1                695.0  \n",
              "2                355.0  "
            ],
            "text/html": [
              "\n",
              "  <div id=\"df-35e43450-4387-4c66-b255-767c238c8390\">\n",
              "    <div class=\"colab-df-container\">\n",
              "      <div>\n",
              "<style scoped>\n",
              "    .dataframe tbody tr th:only-of-type {\n",
              "        vertical-align: middle;\n",
              "    }\n",
              "\n",
              "    .dataframe tbody tr th {\n",
              "        vertical-align: top;\n",
              "    }\n",
              "\n",
              "    .dataframe thead th {\n",
              "        text-align: right;\n",
              "    }\n",
              "</style>\n",
              "<table border=\"1\" class=\"dataframe\">\n",
              "  <thead>\n",
              "    <tr style=\"text-align: right;\">\n",
              "      <th></th>\n",
              "      <th>count</th>\n",
              "      <th>mean</th>\n",
              "      <th>std</th>\n",
              "      <th>min</th>\n",
              "      <th>25%</th>\n",
              "      <th>50%</th>\n",
              "      <th>75%</th>\n",
              "      <th>max</th>\n",
              "    </tr>\n",
              "    <tr>\n",
              "      <th>Cluster_Recency</th>\n",
              "      <th></th>\n",
              "      <th></th>\n",
              "      <th></th>\n",
              "      <th></th>\n",
              "      <th></th>\n",
              "      <th></th>\n",
              "      <th></th>\n",
              "      <th></th>\n",
              "    </tr>\n",
              "  </thead>\n",
              "  <tbody>\n",
              "    <tr>\n",
              "      <th>0</th>\n",
              "      <td>36906.0</td>\n",
              "      <td>87.205793</td>\n",
              "      <td>49.871324</td>\n",
              "      <td>0.0</td>\n",
              "      <td>40.0</td>\n",
              "      <td>88.0</td>\n",
              "      <td>131.0</td>\n",
              "      <td>171.0</td>\n",
              "    </tr>\n",
              "    <tr>\n",
              "      <th>1</th>\n",
              "      <td>23118.0</td>\n",
              "      <td>456.843326</td>\n",
              "      <td>68.755419</td>\n",
              "      <td>356.0</td>\n",
              "      <td>399.0</td>\n",
              "      <td>449.0</td>\n",
              "      <td>508.0</td>\n",
              "      <td>695.0</td>\n",
              "    </tr>\n",
              "    <tr>\n",
              "      <th>2</th>\n",
              "      <td>36453.0</td>\n",
              "      <td>254.835459</td>\n",
              "      <td>51.247994</td>\n",
              "      <td>172.0</td>\n",
              "      <td>210.0</td>\n",
              "      <td>257.0</td>\n",
              "      <td>292.0</td>\n",
              "      <td>355.0</td>\n",
              "    </tr>\n",
              "  </tbody>\n",
              "</table>\n",
              "</div>\n",
              "      <button class=\"colab-df-convert\" onclick=\"convertToInteractive('df-35e43450-4387-4c66-b255-767c238c8390')\"\n",
              "              title=\"Convert this dataframe to an interactive table.\"\n",
              "              style=\"display:none;\">\n",
              "        \n",
              "  <svg xmlns=\"http://www.w3.org/2000/svg\" height=\"24px\"viewBox=\"0 0 24 24\"\n",
              "       width=\"24px\">\n",
              "    <path d=\"M0 0h24v24H0V0z\" fill=\"none\"/>\n",
              "    <path d=\"M18.56 5.44l.94 2.06.94-2.06 2.06-.94-2.06-.94-.94-2.06-.94 2.06-2.06.94zm-11 1L8.5 8.5l.94-2.06 2.06-.94-2.06-.94L8.5 2.5l-.94 2.06-2.06.94zm10 10l.94 2.06.94-2.06 2.06-.94-2.06-.94-.94-2.06-.94 2.06-2.06.94z\"/><path d=\"M17.41 7.96l-1.37-1.37c-.4-.4-.92-.59-1.43-.59-.52 0-1.04.2-1.43.59L10.3 9.45l-7.72 7.72c-.78.78-.78 2.05 0 2.83L4 21.41c.39.39.9.59 1.41.59.51 0 1.02-.2 1.41-.59l7.78-7.78 2.81-2.81c.8-.78.8-2.07 0-2.86zM5.41 20L4 18.59l7.72-7.72 1.47 1.35L5.41 20z\"/>\n",
              "  </svg>\n",
              "      </button>\n",
              "      \n",
              "  <style>\n",
              "    .colab-df-container {\n",
              "      display:flex;\n",
              "      flex-wrap:wrap;\n",
              "      gap: 12px;\n",
              "    }\n",
              "\n",
              "    .colab-df-convert {\n",
              "      background-color: #E8F0FE;\n",
              "      border: none;\n",
              "      border-radius: 50%;\n",
              "      cursor: pointer;\n",
              "      display: none;\n",
              "      fill: #1967D2;\n",
              "      height: 32px;\n",
              "      padding: 0 0 0 0;\n",
              "      width: 32px;\n",
              "    }\n",
              "\n",
              "    .colab-df-convert:hover {\n",
              "      background-color: #E2EBFA;\n",
              "      box-shadow: 0px 1px 2px rgba(60, 64, 67, 0.3), 0px 1px 3px 1px rgba(60, 64, 67, 0.15);\n",
              "      fill: #174EA6;\n",
              "    }\n",
              "\n",
              "    [theme=dark] .colab-df-convert {\n",
              "      background-color: #3B4455;\n",
              "      fill: #D2E3FC;\n",
              "    }\n",
              "\n",
              "    [theme=dark] .colab-df-convert:hover {\n",
              "      background-color: #434B5C;\n",
              "      box-shadow: 0px 1px 3px 1px rgba(0, 0, 0, 0.15);\n",
              "      filter: drop-shadow(0px 1px 2px rgba(0, 0, 0, 0.3));\n",
              "      fill: #FFFFFF;\n",
              "    }\n",
              "  </style>\n",
              "\n",
              "      <script>\n",
              "        const buttonEl =\n",
              "          document.querySelector('#df-35e43450-4387-4c66-b255-767c238c8390 button.colab-df-convert');\n",
              "        buttonEl.style.display =\n",
              "          google.colab.kernel.accessAllowed ? 'block' : 'none';\n",
              "\n",
              "        async function convertToInteractive(key) {\n",
              "          const element = document.querySelector('#df-35e43450-4387-4c66-b255-767c238c8390');\n",
              "          const dataTable =\n",
              "            await google.colab.kernel.invokeFunction('convertToInteractive',\n",
              "                                                     [key], {});\n",
              "          if (!dataTable) return;\n",
              "\n",
              "          const docLinkHtml = 'Like what you see? Visit the ' +\n",
              "            '<a target=\"_blank\" href=https://colab.research.google.com/notebooks/data_table.ipynb>data table notebook</a>'\n",
              "            + ' to learn more about interactive tables.';\n",
              "          element.innerHTML = '';\n",
              "          dataTable['output_type'] = 'display_data';\n",
              "          await google.colab.output.renderOutput(dataTable, element);\n",
              "          const docLink = document.createElement('div');\n",
              "          docLink.innerHTML = docLinkHtml;\n",
              "          element.appendChild(docLink);\n",
              "        }\n",
              "      </script>\n",
              "    </div>\n",
              "  </div>\n",
              "  "
            ]
          },
          "metadata": {},
          "execution_count": 90
        }
      ]
    },
    {
      "cell_type": "markdown",
      "source": [
        "So, by looking at the mean, we see that the cluster 0 has the lowest mean, and 1 has the highest. We actually want our clusters to go from 1 to 3, 1 being the highest mean (worst recency), and 3 being the lowest (best recency). Thus, we can do:"
      ],
      "metadata": {
        "id": "6_303qeutXj5"
      }
    },
    {
      "cell_type": "code",
      "source": [
        "ordered_cluster = df_recency_clustered.mean( )['Recency'].to_frame( ).sort_values('Recency', ascending = False).reset_index( )\n",
        "\n",
        "map_dict = {}\n",
        "\n",
        "for i in range(ordered_cluster.shape[0]):\n",
        "  old_val = ordered_cluster.Cluster_Recency[i]\n",
        "  new_val = ordered_cluster.index[i]\n",
        "  map_dict[old_val] = new_val + 1"
      ],
      "metadata": {
        "id": "zgqp4ooytmjC"
      },
      "execution_count": 91,
      "outputs": []
    },
    {
      "cell_type": "markdown",
      "source": [
        "Thus, we are going to map our clusters as:"
      ],
      "metadata": {
        "id": "ShS-9VIHwJFH"
      }
    },
    {
      "cell_type": "code",
      "source": [
        "map_dict"
      ],
      "metadata": {
        "colab": {
          "base_uri": "https://localhost:8080/"
        },
        "id": "gUE58v2sv0s9",
        "outputId": "f3820ca4-82c5-4e76-9fc6-94ee4f3ba33d"
      },
      "execution_count": 92,
      "outputs": [
        {
          "output_type": "execute_result",
          "data": {
            "text/plain": [
              "{0: 3, 1: 1, 2: 2}"
            ]
          },
          "metadata": {},
          "execution_count": 92
        }
      ]
    },
    {
      "cell_type": "markdown",
      "source": [
        "Cluster 0 will be renamed to 3, and clusters 1 and 2 will keep their names. Before, applying the map, let's create another user-defined function:"
      ],
      "metadata": {
        "id": "31V3wuwwwL1M"
      }
    },
    {
      "cell_type": "code",
      "source": [
        "def RenameClusters(df, cluster_name, var_name, is_asc):\n",
        "  df_clustered = df.groupby(cluster_name)\n",
        "  ordered_cluster = df_clustered.mean( )[var_name].to_frame( ).sort_values(var_name, ascending = is_asc).reset_index( )\n",
        "\n",
        "  map_dict = {}\n",
        "\n",
        "  for i in range(ordered_cluster.shape[0]):\n",
        "    old_val = ordered_cluster[cluster_name][i]\n",
        "    new_val = ordered_cluster.index[i]\n",
        "    map_dict[old_val] = new_val + 1\n",
        "\n",
        "  df[cluster_name] = df[cluster_name].map(map_dict)"
      ],
      "metadata": {
        "id": "pFiiTBp6wWmK"
      },
      "execution_count": 93,
      "outputs": []
    },
    {
      "cell_type": "markdown",
      "source": [
        "Now, let's use the user-defined function, and check if the clusters were correctly renamed:"
      ],
      "metadata": {
        "id": "_X6qfFG6w-ws"
      }
    },
    {
      "cell_type": "code",
      "source": [
        "RenameClusters(df_recency, 'Cluster_Recency', 'Recency', False)"
      ],
      "metadata": {
        "id": "UbKPzNFfxEdz"
      },
      "execution_count": 94,
      "outputs": []
    },
    {
      "cell_type": "code",
      "source": [
        "df_recency.head( )"
      ],
      "metadata": {
        "colab": {
          "base_uri": "https://localhost:8080/",
          "height": 206
        },
        "id": "if8ialSgxOKx",
        "outputId": "5798fcd4-4375-4a3a-b56d-861813fb1eee"
      },
      "execution_count": 95,
      "outputs": [
        {
          "output_type": "execute_result",
          "data": {
            "text/plain": [
              "                        customer_id order_purchase_timestamp  Recency  \\\n",
              "0  00012a2ce6f8dcda20d059ce98491703      2017-11-14 16:08:26      287   \n",
              "1  000161a058600d5901f007fab4c27140      2017-07-16 09:40:32      409   \n",
              "2  0001fd6190edaaf884bcaf3d49edf079      2017-02-28 11:06:43      547   \n",
              "3  0002414f95344307404f0ace7a26f1d5      2017-08-16 13:09:20      378   \n",
              "4  000379cdec625522490c315e70c7a9fb      2018-04-02 13:42:17      149   \n",
              "\n",
              "   Cluster_Recency  \n",
              "0                2  \n",
              "1                1  \n",
              "2                1  \n",
              "3                1  \n",
              "4                3  "
            ],
            "text/html": [
              "\n",
              "  <div id=\"df-ec36a769-e2a8-4f87-9b0f-50319e57b3f0\">\n",
              "    <div class=\"colab-df-container\">\n",
              "      <div>\n",
              "<style scoped>\n",
              "    .dataframe tbody tr th:only-of-type {\n",
              "        vertical-align: middle;\n",
              "    }\n",
              "\n",
              "    .dataframe tbody tr th {\n",
              "        vertical-align: top;\n",
              "    }\n",
              "\n",
              "    .dataframe thead th {\n",
              "        text-align: right;\n",
              "    }\n",
              "</style>\n",
              "<table border=\"1\" class=\"dataframe\">\n",
              "  <thead>\n",
              "    <tr style=\"text-align: right;\">\n",
              "      <th></th>\n",
              "      <th>customer_id</th>\n",
              "      <th>order_purchase_timestamp</th>\n",
              "      <th>Recency</th>\n",
              "      <th>Cluster_Recency</th>\n",
              "    </tr>\n",
              "  </thead>\n",
              "  <tbody>\n",
              "    <tr>\n",
              "      <th>0</th>\n",
              "      <td>00012a2ce6f8dcda20d059ce98491703</td>\n",
              "      <td>2017-11-14 16:08:26</td>\n",
              "      <td>287</td>\n",
              "      <td>2</td>\n",
              "    </tr>\n",
              "    <tr>\n",
              "      <th>1</th>\n",
              "      <td>000161a058600d5901f007fab4c27140</td>\n",
              "      <td>2017-07-16 09:40:32</td>\n",
              "      <td>409</td>\n",
              "      <td>1</td>\n",
              "    </tr>\n",
              "    <tr>\n",
              "      <th>2</th>\n",
              "      <td>0001fd6190edaaf884bcaf3d49edf079</td>\n",
              "      <td>2017-02-28 11:06:43</td>\n",
              "      <td>547</td>\n",
              "      <td>1</td>\n",
              "    </tr>\n",
              "    <tr>\n",
              "      <th>3</th>\n",
              "      <td>0002414f95344307404f0ace7a26f1d5</td>\n",
              "      <td>2017-08-16 13:09:20</td>\n",
              "      <td>378</td>\n",
              "      <td>1</td>\n",
              "    </tr>\n",
              "    <tr>\n",
              "      <th>4</th>\n",
              "      <td>000379cdec625522490c315e70c7a9fb</td>\n",
              "      <td>2018-04-02 13:42:17</td>\n",
              "      <td>149</td>\n",
              "      <td>3</td>\n",
              "    </tr>\n",
              "  </tbody>\n",
              "</table>\n",
              "</div>\n",
              "      <button class=\"colab-df-convert\" onclick=\"convertToInteractive('df-ec36a769-e2a8-4f87-9b0f-50319e57b3f0')\"\n",
              "              title=\"Convert this dataframe to an interactive table.\"\n",
              "              style=\"display:none;\">\n",
              "        \n",
              "  <svg xmlns=\"http://www.w3.org/2000/svg\" height=\"24px\"viewBox=\"0 0 24 24\"\n",
              "       width=\"24px\">\n",
              "    <path d=\"M0 0h24v24H0V0z\" fill=\"none\"/>\n",
              "    <path d=\"M18.56 5.44l.94 2.06.94-2.06 2.06-.94-2.06-.94-.94-2.06-.94 2.06-2.06.94zm-11 1L8.5 8.5l.94-2.06 2.06-.94-2.06-.94L8.5 2.5l-.94 2.06-2.06.94zm10 10l.94 2.06.94-2.06 2.06-.94-2.06-.94-.94-2.06-.94 2.06-2.06.94z\"/><path d=\"M17.41 7.96l-1.37-1.37c-.4-.4-.92-.59-1.43-.59-.52 0-1.04.2-1.43.59L10.3 9.45l-7.72 7.72c-.78.78-.78 2.05 0 2.83L4 21.41c.39.39.9.59 1.41.59.51 0 1.02-.2 1.41-.59l7.78-7.78 2.81-2.81c.8-.78.8-2.07 0-2.86zM5.41 20L4 18.59l7.72-7.72 1.47 1.35L5.41 20z\"/>\n",
              "  </svg>\n",
              "      </button>\n",
              "      \n",
              "  <style>\n",
              "    .colab-df-container {\n",
              "      display:flex;\n",
              "      flex-wrap:wrap;\n",
              "      gap: 12px;\n",
              "    }\n",
              "\n",
              "    .colab-df-convert {\n",
              "      background-color: #E8F0FE;\n",
              "      border: none;\n",
              "      border-radius: 50%;\n",
              "      cursor: pointer;\n",
              "      display: none;\n",
              "      fill: #1967D2;\n",
              "      height: 32px;\n",
              "      padding: 0 0 0 0;\n",
              "      width: 32px;\n",
              "    }\n",
              "\n",
              "    .colab-df-convert:hover {\n",
              "      background-color: #E2EBFA;\n",
              "      box-shadow: 0px 1px 2px rgba(60, 64, 67, 0.3), 0px 1px 3px 1px rgba(60, 64, 67, 0.15);\n",
              "      fill: #174EA6;\n",
              "    }\n",
              "\n",
              "    [theme=dark] .colab-df-convert {\n",
              "      background-color: #3B4455;\n",
              "      fill: #D2E3FC;\n",
              "    }\n",
              "\n",
              "    [theme=dark] .colab-df-convert:hover {\n",
              "      background-color: #434B5C;\n",
              "      box-shadow: 0px 1px 3px 1px rgba(0, 0, 0, 0.15);\n",
              "      filter: drop-shadow(0px 1px 2px rgba(0, 0, 0, 0.3));\n",
              "      fill: #FFFFFF;\n",
              "    }\n",
              "  </style>\n",
              "\n",
              "      <script>\n",
              "        const buttonEl =\n",
              "          document.querySelector('#df-ec36a769-e2a8-4f87-9b0f-50319e57b3f0 button.colab-df-convert');\n",
              "        buttonEl.style.display =\n",
              "          google.colab.kernel.accessAllowed ? 'block' : 'none';\n",
              "\n",
              "        async function convertToInteractive(key) {\n",
              "          const element = document.querySelector('#df-ec36a769-e2a8-4f87-9b0f-50319e57b3f0');\n",
              "          const dataTable =\n",
              "            await google.colab.kernel.invokeFunction('convertToInteractive',\n",
              "                                                     [key], {});\n",
              "          if (!dataTable) return;\n",
              "\n",
              "          const docLinkHtml = 'Like what you see? Visit the ' +\n",
              "            '<a target=\"_blank\" href=https://colab.research.google.com/notebooks/data_table.ipynb>data table notebook</a>'\n",
              "            + ' to learn more about interactive tables.';\n",
              "          element.innerHTML = '';\n",
              "          dataTable['output_type'] = 'display_data';\n",
              "          await google.colab.output.renderOutput(dataTable, element);\n",
              "          const docLink = document.createElement('div');\n",
              "          docLink.innerHTML = docLinkHtml;\n",
              "          element.appendChild(docLink);\n",
              "        }\n",
              "      </script>\n",
              "    </div>\n",
              "  </div>\n",
              "  "
            ]
          },
          "metadata": {},
          "execution_count": 95
        }
      ]
    },
    {
      "cell_type": "markdown",
      "source": [
        "It seems that our renaming has worked! Let's check it by getting the mean of each cluster once again:"
      ],
      "metadata": {
        "id": "4fRwh6sgxUSJ"
      }
    },
    {
      "cell_type": "code",
      "source": [
        "df_recency.groupby('Cluster_Recency')['Recency'].mean( )"
      ],
      "metadata": {
        "colab": {
          "base_uri": "https://localhost:8080/"
        },
        "id": "sXlXK3e-xd-J",
        "outputId": "c0f96c91-a32e-46f3-c84b-9ded4c65e4f9"
      },
      "execution_count": 96,
      "outputs": [
        {
          "output_type": "execute_result",
          "data": {
            "text/plain": [
              "Cluster_Recency\n",
              "1    456.843326\n",
              "2    254.835459\n",
              "3     87.205793\n",
              "Name: Recency, dtype: float64"
            ]
          },
          "metadata": {},
          "execution_count": 96
        }
      ]
    },
    {
      "cell_type": "markdown",
      "source": [
        "Nice! Note that cluster 3 has the lowest recency, and cluster 1 has the highest recency! Let's store the important information in a new dataframe:"
      ],
      "metadata": {
        "id": "3O3UEj_axkNZ"
      }
    },
    {
      "cell_type": "code",
      "source": [
        "df_customers = df_recency[['customer_id', 'Recency', 'Cluster_Recency']]"
      ],
      "metadata": {
        "id": "5C5qpR9Wxpms"
      },
      "execution_count": 97,
      "outputs": []
    },
    {
      "cell_type": "markdown",
      "source": [
        "Now, let's go to the next indicators. We have some very useful user-defined functions to speed-up the process."
      ],
      "metadata": {
        "id": "D5cbZW_kxo-D"
      }
    },
    {
      "cell_type": "markdown",
      "source": [
        "# Frequency\n",
        "\n",
        "Now, let's make a similar thing with frequency. First, let's define a indicator for frequency, which will be the number of orders made by a given user. We can get this by:"
      ],
      "metadata": {
        "id": "Y4kMHgCUCi9l"
      }
    },
    {
      "cell_type": "code",
      "source": [
        "df_frequency = group_by_customer.count( )['order_purchase_timestamp'].reset_index( )\n",
        "df_frequency.columns = [['customer_id', 'Frequency']]"
      ],
      "metadata": {
        "id": "aK1heSXSx0la"
      },
      "execution_count": 108,
      "outputs": []
    },
    {
      "cell_type": "markdown",
      "source": [
        "Let's take a look at the unique values:"
      ],
      "metadata": {
        "id": "d3LexsUVytq1"
      }
    },
    {
      "cell_type": "code",
      "source": [
        "df_frequency.iloc[:, 1].unique( )"
      ],
      "metadata": {
        "colab": {
          "base_uri": "https://localhost:8080/"
        },
        "id": "qAmygqHtywLY",
        "outputId": "24d82433-fe31-4435-cc15-cab71bed6732"
      },
      "execution_count": 118,
      "outputs": [
        {
          "output_type": "execute_result",
          "data": {
            "text/plain": [
              "array([1])"
            ]
          },
          "metadata": {},
          "execution_count": 118
        }
      ]
    },
    {
      "cell_type": "markdown",
      "source": [
        "So, actually, all of our customers only bought once. This is likely due to an error when anonymizing the customers, where the company probably set different customer ids to the same customers. Thus, we can't really get the frequency of each customer. Thus, we will not perform this analysis here."
      ],
      "metadata": {
        "id": "ApEC5OcPzevT"
      }
    },
    {
      "cell_type": "markdown",
      "source": [
        "# Monetary\n",
        "\n",
        "Since we were not able to analyze frequency, let's go straight to monetary. Here, we need to understand how much each customer has spent in our company. To evaluate the amount of money spent by each customer, we can do:"
      ],
      "metadata": {
        "id": "mUcLj9QoClvz"
      }
    },
    {
      "cell_type": "code",
      "source": [
        "df_monetary = group_by_customer.sum( )['payment_value'].reset_index( )\n",
        "df_monetary.columns = ['customer_id', 'Monetary']"
      ],
      "metadata": {
        "id": "vIsowyY50SAS"
      },
      "execution_count": 124,
      "outputs": []
    },
    {
      "cell_type": "markdown",
      "source": [
        "Great! Now, let's try to cluster our data. First, to get the optimal $K$:"
      ],
      "metadata": {
        "id": "UW7mKMRi01XS"
      }
    },
    {
      "cell_type": "code",
      "source": [
        "df_tmp = df_monetary.Monetary.to_frame( )"
      ],
      "metadata": {
        "id": "7GhFoJlo1HEC"
      },
      "execution_count": 128,
      "outputs": []
    },
    {
      "cell_type": "code",
      "source": [
        "GetKopt(df_tmp, 1, 10)"
      ],
      "metadata": {
        "colab": {
          "base_uri": "https://localhost:8080/"
        },
        "id": "e0_iXUuP1BUA",
        "outputId": "b6cec6d1-5546-484e-e6dc-3ae3f57183c5"
      },
      "execution_count": 129,
      "outputs": [
        {
          "output_type": "execute_result",
          "data": {
            "text/plain": [
              "3"
            ]
          },
          "metadata": {},
          "execution_count": 129
        }
      ]
    },
    {
      "cell_type": "markdown",
      "source": [
        "Nice! We got $K = 3$, which is the same value as the recency indicator. Now, let's cluster our data:"
      ],
      "metadata": {
        "id": "XjI0ryDs1TLy"
      }
    },
    {
      "cell_type": "code",
      "source": [
        "kmeans = KMeans(n_clusters = 3)\n",
        "kmeans.fit(X = df_tmp)"
      ],
      "metadata": {
        "colab": {
          "base_uri": "https://localhost:8080/"
        },
        "id": "cwaV4g3O1e4E",
        "outputId": "91d3dd4b-1c0b-4130-c149-2fb3976de646"
      },
      "execution_count": 130,
      "outputs": [
        {
          "output_type": "execute_result",
          "data": {
            "text/plain": [
              "KMeans(n_clusters=3)"
            ]
          },
          "metadata": {},
          "execution_count": 130
        }
      ]
    },
    {
      "cell_type": "markdown",
      "source": [
        "Finally, we will add this information to the monetary dataframe:"
      ],
      "metadata": {
        "id": "nel1vZhp1hsZ"
      }
    },
    {
      "cell_type": "code",
      "source": [
        "df_monetary['Cluster_Monetary'] = kmeans.labels_"
      ],
      "metadata": {
        "id": "djIz1WCa1g9X"
      },
      "execution_count": 131,
      "outputs": []
    },
    {
      "cell_type": "markdown",
      "source": [
        "Great! Now, let's use a describe( ) function to understand our clusters:"
      ],
      "metadata": {
        "id": "2Rh05oqH1u4S"
      }
    },
    {
      "cell_type": "code",
      "source": [
        "df_monetary.groupby('Cluster_Monetary').mean( )['Monetary']"
      ],
      "metadata": {
        "colab": {
          "base_uri": "https://localhost:8080/"
        },
        "id": "Oc6if2eJ1rW5",
        "outputId": "34c461a6-8d09-487b-e1fe-898704e44261"
      },
      "execution_count": 133,
      "outputs": [
        {
          "output_type": "execute_result",
          "data": {
            "text/plain": [
              "Cluster_Monetary\n",
              "0     109.530270\n",
              "1     491.516333\n",
              "2    1714.086896\n",
              "Name: Monetary, dtype: float64"
            ]
          },
          "metadata": {},
          "execution_count": 133
        }
      ]
    },
    {
      "cell_type": "markdown",
      "source": [
        "So, the cluster actually seems to be in the correct order (cluster 0 spends less, cluster 2 spends more). However, we need to update the cluster number (to 1, 2, and 3, as used for recency). So, we can use our user-defined function:"
      ],
      "metadata": {
        "id": "7qwb93F315bR"
      }
    },
    {
      "cell_type": "code",
      "source": [
        "RenameClusters(df_monetary, 'Cluster_Monetary', 'Monetary', True)"
      ],
      "metadata": {
        "id": "NFvJ4g-O2MzQ"
      },
      "execution_count": 134,
      "outputs": []
    },
    {
      "cell_type": "code",
      "source": [
        "df_monetary.groupby('Cluster_Monetary').mean( )['Monetary']"
      ],
      "metadata": {
        "colab": {
          "base_uri": "https://localhost:8080/"
        },
        "id": "yuMjmNLa2R24",
        "outputId": "2937dbd7-4957-41af-c1f9-5ba73103403d"
      },
      "execution_count": 135,
      "outputs": [
        {
          "output_type": "execute_result",
          "data": {
            "text/plain": [
              "Cluster_Monetary\n",
              "1     109.530270\n",
              "2     491.516333\n",
              "3    1714.086896\n",
              "Name: Monetary, dtype: float64"
            ]
          },
          "metadata": {},
          "execution_count": 135
        }
      ]
    },
    {
      "cell_type": "markdown",
      "source": [
        "Great! Now everything seems correct. Finally, let's add the information to our customers dataframe:"
      ],
      "metadata": {
        "id": "Txtcb6OV2TuM"
      }
    },
    {
      "cell_type": "code",
      "source": [
        "df_customers = df_customers.merge(df_monetary, how = 'left', left_on = 'customer_id', right_on = 'customer_id')"
      ],
      "metadata": {
        "id": "vWBLh3In2aq2"
      },
      "execution_count": 137,
      "outputs": []
    },
    {
      "cell_type": "code",
      "source": [
        "df_customers.head( )"
      ],
      "metadata": {
        "colab": {
          "base_uri": "https://localhost:8080/",
          "height": 206
        },
        "id": "9S-uCQjR2qsB",
        "outputId": "e334aa47-d85a-4aff-fc72-585a02e3ee24"
      },
      "execution_count": 139,
      "outputs": [
        {
          "output_type": "execute_result",
          "data": {
            "text/plain": [
              "                        customer_id  Recency  Cluster_Recency  Monetary  \\\n",
              "0  00012a2ce6f8dcda20d059ce98491703      287                2    114.74   \n",
              "1  000161a058600d5901f007fab4c27140      409                1     67.41   \n",
              "2  0001fd6190edaaf884bcaf3d49edf079      547                1    195.42   \n",
              "3  0002414f95344307404f0ace7a26f1d5      378                1    179.35   \n",
              "4  000379cdec625522490c315e70c7a9fb      149                3    107.01   \n",
              "\n",
              "   Cluster_Monetary  \n",
              "0                 1  \n",
              "1                 1  \n",
              "2                 1  \n",
              "3                 1  \n",
              "4                 1  "
            ],
            "text/html": [
              "\n",
              "  <div id=\"df-f01e9a5a-2e03-4d37-9cd7-182d741e494f\">\n",
              "    <div class=\"colab-df-container\">\n",
              "      <div>\n",
              "<style scoped>\n",
              "    .dataframe tbody tr th:only-of-type {\n",
              "        vertical-align: middle;\n",
              "    }\n",
              "\n",
              "    .dataframe tbody tr th {\n",
              "        vertical-align: top;\n",
              "    }\n",
              "\n",
              "    .dataframe thead th {\n",
              "        text-align: right;\n",
              "    }\n",
              "</style>\n",
              "<table border=\"1\" class=\"dataframe\">\n",
              "  <thead>\n",
              "    <tr style=\"text-align: right;\">\n",
              "      <th></th>\n",
              "      <th>customer_id</th>\n",
              "      <th>Recency</th>\n",
              "      <th>Cluster_Recency</th>\n",
              "      <th>Monetary</th>\n",
              "      <th>Cluster_Monetary</th>\n",
              "    </tr>\n",
              "  </thead>\n",
              "  <tbody>\n",
              "    <tr>\n",
              "      <th>0</th>\n",
              "      <td>00012a2ce6f8dcda20d059ce98491703</td>\n",
              "      <td>287</td>\n",
              "      <td>2</td>\n",
              "      <td>114.74</td>\n",
              "      <td>1</td>\n",
              "    </tr>\n",
              "    <tr>\n",
              "      <th>1</th>\n",
              "      <td>000161a058600d5901f007fab4c27140</td>\n",
              "      <td>409</td>\n",
              "      <td>1</td>\n",
              "      <td>67.41</td>\n",
              "      <td>1</td>\n",
              "    </tr>\n",
              "    <tr>\n",
              "      <th>2</th>\n",
              "      <td>0001fd6190edaaf884bcaf3d49edf079</td>\n",
              "      <td>547</td>\n",
              "      <td>1</td>\n",
              "      <td>195.42</td>\n",
              "      <td>1</td>\n",
              "    </tr>\n",
              "    <tr>\n",
              "      <th>3</th>\n",
              "      <td>0002414f95344307404f0ace7a26f1d5</td>\n",
              "      <td>378</td>\n",
              "      <td>1</td>\n",
              "      <td>179.35</td>\n",
              "      <td>1</td>\n",
              "    </tr>\n",
              "    <tr>\n",
              "      <th>4</th>\n",
              "      <td>000379cdec625522490c315e70c7a9fb</td>\n",
              "      <td>149</td>\n",
              "      <td>3</td>\n",
              "      <td>107.01</td>\n",
              "      <td>1</td>\n",
              "    </tr>\n",
              "  </tbody>\n",
              "</table>\n",
              "</div>\n",
              "      <button class=\"colab-df-convert\" onclick=\"convertToInteractive('df-f01e9a5a-2e03-4d37-9cd7-182d741e494f')\"\n",
              "              title=\"Convert this dataframe to an interactive table.\"\n",
              "              style=\"display:none;\">\n",
              "        \n",
              "  <svg xmlns=\"http://www.w3.org/2000/svg\" height=\"24px\"viewBox=\"0 0 24 24\"\n",
              "       width=\"24px\">\n",
              "    <path d=\"M0 0h24v24H0V0z\" fill=\"none\"/>\n",
              "    <path d=\"M18.56 5.44l.94 2.06.94-2.06 2.06-.94-2.06-.94-.94-2.06-.94 2.06-2.06.94zm-11 1L8.5 8.5l.94-2.06 2.06-.94-2.06-.94L8.5 2.5l-.94 2.06-2.06.94zm10 10l.94 2.06.94-2.06 2.06-.94-2.06-.94-.94-2.06-.94 2.06-2.06.94z\"/><path d=\"M17.41 7.96l-1.37-1.37c-.4-.4-.92-.59-1.43-.59-.52 0-1.04.2-1.43.59L10.3 9.45l-7.72 7.72c-.78.78-.78 2.05 0 2.83L4 21.41c.39.39.9.59 1.41.59.51 0 1.02-.2 1.41-.59l7.78-7.78 2.81-2.81c.8-.78.8-2.07 0-2.86zM5.41 20L4 18.59l7.72-7.72 1.47 1.35L5.41 20z\"/>\n",
              "  </svg>\n",
              "      </button>\n",
              "      \n",
              "  <style>\n",
              "    .colab-df-container {\n",
              "      display:flex;\n",
              "      flex-wrap:wrap;\n",
              "      gap: 12px;\n",
              "    }\n",
              "\n",
              "    .colab-df-convert {\n",
              "      background-color: #E8F0FE;\n",
              "      border: none;\n",
              "      border-radius: 50%;\n",
              "      cursor: pointer;\n",
              "      display: none;\n",
              "      fill: #1967D2;\n",
              "      height: 32px;\n",
              "      padding: 0 0 0 0;\n",
              "      width: 32px;\n",
              "    }\n",
              "\n",
              "    .colab-df-convert:hover {\n",
              "      background-color: #E2EBFA;\n",
              "      box-shadow: 0px 1px 2px rgba(60, 64, 67, 0.3), 0px 1px 3px 1px rgba(60, 64, 67, 0.15);\n",
              "      fill: #174EA6;\n",
              "    }\n",
              "\n",
              "    [theme=dark] .colab-df-convert {\n",
              "      background-color: #3B4455;\n",
              "      fill: #D2E3FC;\n",
              "    }\n",
              "\n",
              "    [theme=dark] .colab-df-convert:hover {\n",
              "      background-color: #434B5C;\n",
              "      box-shadow: 0px 1px 3px 1px rgba(0, 0, 0, 0.15);\n",
              "      filter: drop-shadow(0px 1px 2px rgba(0, 0, 0, 0.3));\n",
              "      fill: #FFFFFF;\n",
              "    }\n",
              "  </style>\n",
              "\n",
              "      <script>\n",
              "        const buttonEl =\n",
              "          document.querySelector('#df-f01e9a5a-2e03-4d37-9cd7-182d741e494f button.colab-df-convert');\n",
              "        buttonEl.style.display =\n",
              "          google.colab.kernel.accessAllowed ? 'block' : 'none';\n",
              "\n",
              "        async function convertToInteractive(key) {\n",
              "          const element = document.querySelector('#df-f01e9a5a-2e03-4d37-9cd7-182d741e494f');\n",
              "          const dataTable =\n",
              "            await google.colab.kernel.invokeFunction('convertToInteractive',\n",
              "                                                     [key], {});\n",
              "          if (!dataTable) return;\n",
              "\n",
              "          const docLinkHtml = 'Like what you see? Visit the ' +\n",
              "            '<a target=\"_blank\" href=https://colab.research.google.com/notebooks/data_table.ipynb>data table notebook</a>'\n",
              "            + ' to learn more about interactive tables.';\n",
              "          element.innerHTML = '';\n",
              "          dataTable['output_type'] = 'display_data';\n",
              "          await google.colab.output.renderOutput(dataTable, element);\n",
              "          const docLink = document.createElement('div');\n",
              "          docLink.innerHTML = docLinkHtml;\n",
              "          element.appendChild(docLink);\n",
              "        }\n",
              "      </script>\n",
              "    </div>\n",
              "  </div>\n",
              "  "
            ]
          },
          "metadata": {},
          "execution_count": 139
        }
      ]
    },
    {
      "cell_type": "markdown",
      "source": [
        "Now, our dataframe has information about the cluster for Recency and Monetary. Note that we did not consider frequency here, since all of our 'customer_id' only showed once in our dataframe."
      ],
      "metadata": {
        "id": "HVx8RDoT2uZw"
      }
    },
    {
      "cell_type": "markdown",
      "source": [
        "# Performing our segmentation\n",
        "\n",
        "So, let's perform our segmentation based on Recency and Monetary indicators. Basically, we will create different customer classes based on their clusters for recency and monetary (R, M). These classes will be:\n",
        "\n",
        "*   (1, 1) - Lost customers;\n",
        "*   (2, 1) - About to sleep;\n",
        "*   (3, 1) - Recent users;\n",
        "*   (1, 2) - Hibernating;\n",
        "*   (1, 3) - Can't lose them;\n",
        "*   (2, 2) - Needs attention;\n",
        "*   (2, 3) - Potential loyalist;\n",
        "*   (3, 2) - Loyal customers;\n",
        "*   (3, 3) - Champions.\n",
        "\n",
        "So, let's create a function to perform this segmentation:\n",
        "\n"
      ],
      "metadata": {
        "id": "QW1KzP9RCnH-"
      }
    },
    {
      "cell_type": "code",
      "source": [
        "def CustomerSegmentation(x):\n",
        "  R = x['Cluster_Recency']\n",
        "  M = x['Cluster_Monetary']\n",
        "\n",
        "  if (R == 1) and (M == 1):\n",
        "    return 'Lost customers'\n",
        "  elif (R == 2) and (M == 1):\n",
        "    return 'About to sleep'\n",
        "  elif (R == 3) and (M == 1):\n",
        "    return 'Recent users'\n",
        "  elif (R == 1) and (M == 2):\n",
        "    return 'Hibernating'\n",
        "  elif (R == 1) and (M == 3):\n",
        "    return 'Cant lose them'\n",
        "  elif (R == 2) and (M == 2):\n",
        "    return 'Needs attention'\n",
        "  elif (R == 2) and (M == 3):\n",
        "    return 'Potential loyalist'\n",
        "  elif (R == 3) and (M == 2):\n",
        "    return 'Loyal'\n",
        "  elif (R == 3) and (M == 3):\n",
        "    return 'Champions'"
      ],
      "metadata": {
        "id": "oo0HO-Xf4zna"
      },
      "execution_count": 140,
      "outputs": []
    },
    {
      "cell_type": "markdown",
      "source": [
        "Now, let's apply the segmentation to our dataframe:"
      ],
      "metadata": {
        "id": "V_8OLUxU5i0g"
      }
    },
    {
      "cell_type": "code",
      "source": [
        "df_customers['Segmentation'] = df_customers.apply(CustomerSegmentation, axis = 1)"
      ],
      "metadata": {
        "id": "HxbRHd0g5lYj"
      },
      "execution_count": 141,
      "outputs": []
    },
    {
      "cell_type": "code",
      "source": [
        "df_customers.head( )"
      ],
      "metadata": {
        "colab": {
          "base_uri": "https://localhost:8080/",
          "height": 206
        },
        "id": "wCDqGjtP5r44",
        "outputId": "7a94edb9-db25-4123-819e-74ae16917e45"
      },
      "execution_count": 142,
      "outputs": [
        {
          "output_type": "execute_result",
          "data": {
            "text/plain": [
              "                        customer_id  Recency  Cluster_Recency  Monetary  \\\n",
              "0  00012a2ce6f8dcda20d059ce98491703      287                2    114.74   \n",
              "1  000161a058600d5901f007fab4c27140      409                1     67.41   \n",
              "2  0001fd6190edaaf884bcaf3d49edf079      547                1    195.42   \n",
              "3  0002414f95344307404f0ace7a26f1d5      378                1    179.35   \n",
              "4  000379cdec625522490c315e70c7a9fb      149                3    107.01   \n",
              "\n",
              "   Cluster_Monetary    Segmentation  \n",
              "0                 1  About to sleep  \n",
              "1                 1  Lost customers  \n",
              "2                 1  Lost customers  \n",
              "3                 1  Lost customers  \n",
              "4                 1    Recent users  "
            ],
            "text/html": [
              "\n",
              "  <div id=\"df-9e2fdab8-4241-4dc9-9903-1595d253d593\">\n",
              "    <div class=\"colab-df-container\">\n",
              "      <div>\n",
              "<style scoped>\n",
              "    .dataframe tbody tr th:only-of-type {\n",
              "        vertical-align: middle;\n",
              "    }\n",
              "\n",
              "    .dataframe tbody tr th {\n",
              "        vertical-align: top;\n",
              "    }\n",
              "\n",
              "    .dataframe thead th {\n",
              "        text-align: right;\n",
              "    }\n",
              "</style>\n",
              "<table border=\"1\" class=\"dataframe\">\n",
              "  <thead>\n",
              "    <tr style=\"text-align: right;\">\n",
              "      <th></th>\n",
              "      <th>customer_id</th>\n",
              "      <th>Recency</th>\n",
              "      <th>Cluster_Recency</th>\n",
              "      <th>Monetary</th>\n",
              "      <th>Cluster_Monetary</th>\n",
              "      <th>Segmentation</th>\n",
              "    </tr>\n",
              "  </thead>\n",
              "  <tbody>\n",
              "    <tr>\n",
              "      <th>0</th>\n",
              "      <td>00012a2ce6f8dcda20d059ce98491703</td>\n",
              "      <td>287</td>\n",
              "      <td>2</td>\n",
              "      <td>114.74</td>\n",
              "      <td>1</td>\n",
              "      <td>About to sleep</td>\n",
              "    </tr>\n",
              "    <tr>\n",
              "      <th>1</th>\n",
              "      <td>000161a058600d5901f007fab4c27140</td>\n",
              "      <td>409</td>\n",
              "      <td>1</td>\n",
              "      <td>67.41</td>\n",
              "      <td>1</td>\n",
              "      <td>Lost customers</td>\n",
              "    </tr>\n",
              "    <tr>\n",
              "      <th>2</th>\n",
              "      <td>0001fd6190edaaf884bcaf3d49edf079</td>\n",
              "      <td>547</td>\n",
              "      <td>1</td>\n",
              "      <td>195.42</td>\n",
              "      <td>1</td>\n",
              "      <td>Lost customers</td>\n",
              "    </tr>\n",
              "    <tr>\n",
              "      <th>3</th>\n",
              "      <td>0002414f95344307404f0ace7a26f1d5</td>\n",
              "      <td>378</td>\n",
              "      <td>1</td>\n",
              "      <td>179.35</td>\n",
              "      <td>1</td>\n",
              "      <td>Lost customers</td>\n",
              "    </tr>\n",
              "    <tr>\n",
              "      <th>4</th>\n",
              "      <td>000379cdec625522490c315e70c7a9fb</td>\n",
              "      <td>149</td>\n",
              "      <td>3</td>\n",
              "      <td>107.01</td>\n",
              "      <td>1</td>\n",
              "      <td>Recent users</td>\n",
              "    </tr>\n",
              "  </tbody>\n",
              "</table>\n",
              "</div>\n",
              "      <button class=\"colab-df-convert\" onclick=\"convertToInteractive('df-9e2fdab8-4241-4dc9-9903-1595d253d593')\"\n",
              "              title=\"Convert this dataframe to an interactive table.\"\n",
              "              style=\"display:none;\">\n",
              "        \n",
              "  <svg xmlns=\"http://www.w3.org/2000/svg\" height=\"24px\"viewBox=\"0 0 24 24\"\n",
              "       width=\"24px\">\n",
              "    <path d=\"M0 0h24v24H0V0z\" fill=\"none\"/>\n",
              "    <path d=\"M18.56 5.44l.94 2.06.94-2.06 2.06-.94-2.06-.94-.94-2.06-.94 2.06-2.06.94zm-11 1L8.5 8.5l.94-2.06 2.06-.94-2.06-.94L8.5 2.5l-.94 2.06-2.06.94zm10 10l.94 2.06.94-2.06 2.06-.94-2.06-.94-.94-2.06-.94 2.06-2.06.94z\"/><path d=\"M17.41 7.96l-1.37-1.37c-.4-.4-.92-.59-1.43-.59-.52 0-1.04.2-1.43.59L10.3 9.45l-7.72 7.72c-.78.78-.78 2.05 0 2.83L4 21.41c.39.39.9.59 1.41.59.51 0 1.02-.2 1.41-.59l7.78-7.78 2.81-2.81c.8-.78.8-2.07 0-2.86zM5.41 20L4 18.59l7.72-7.72 1.47 1.35L5.41 20z\"/>\n",
              "  </svg>\n",
              "      </button>\n",
              "      \n",
              "  <style>\n",
              "    .colab-df-container {\n",
              "      display:flex;\n",
              "      flex-wrap:wrap;\n",
              "      gap: 12px;\n",
              "    }\n",
              "\n",
              "    .colab-df-convert {\n",
              "      background-color: #E8F0FE;\n",
              "      border: none;\n",
              "      border-radius: 50%;\n",
              "      cursor: pointer;\n",
              "      display: none;\n",
              "      fill: #1967D2;\n",
              "      height: 32px;\n",
              "      padding: 0 0 0 0;\n",
              "      width: 32px;\n",
              "    }\n",
              "\n",
              "    .colab-df-convert:hover {\n",
              "      background-color: #E2EBFA;\n",
              "      box-shadow: 0px 1px 2px rgba(60, 64, 67, 0.3), 0px 1px 3px 1px rgba(60, 64, 67, 0.15);\n",
              "      fill: #174EA6;\n",
              "    }\n",
              "\n",
              "    [theme=dark] .colab-df-convert {\n",
              "      background-color: #3B4455;\n",
              "      fill: #D2E3FC;\n",
              "    }\n",
              "\n",
              "    [theme=dark] .colab-df-convert:hover {\n",
              "      background-color: #434B5C;\n",
              "      box-shadow: 0px 1px 3px 1px rgba(0, 0, 0, 0.15);\n",
              "      filter: drop-shadow(0px 1px 2px rgba(0, 0, 0, 0.3));\n",
              "      fill: #FFFFFF;\n",
              "    }\n",
              "  </style>\n",
              "\n",
              "      <script>\n",
              "        const buttonEl =\n",
              "          document.querySelector('#df-9e2fdab8-4241-4dc9-9903-1595d253d593 button.colab-df-convert');\n",
              "        buttonEl.style.display =\n",
              "          google.colab.kernel.accessAllowed ? 'block' : 'none';\n",
              "\n",
              "        async function convertToInteractive(key) {\n",
              "          const element = document.querySelector('#df-9e2fdab8-4241-4dc9-9903-1595d253d593');\n",
              "          const dataTable =\n",
              "            await google.colab.kernel.invokeFunction('convertToInteractive',\n",
              "                                                     [key], {});\n",
              "          if (!dataTable) return;\n",
              "\n",
              "          const docLinkHtml = 'Like what you see? Visit the ' +\n",
              "            '<a target=\"_blank\" href=https://colab.research.google.com/notebooks/data_table.ipynb>data table notebook</a>'\n",
              "            + ' to learn more about interactive tables.';\n",
              "          element.innerHTML = '';\n",
              "          dataTable['output_type'] = 'display_data';\n",
              "          await google.colab.output.renderOutput(dataTable, element);\n",
              "          const docLink = document.createElement('div');\n",
              "          docLink.innerHTML = docLinkHtml;\n",
              "          element.appendChild(docLink);\n",
              "        }\n",
              "      </script>\n",
              "    </div>\n",
              "  </div>\n",
              "  "
            ]
          },
          "metadata": {},
          "execution_count": 142
        }
      ]
    },
    {
      "cell_type": "markdown",
      "source": [
        "Nice! It seems to have worked. Let's get the number of customers in each segmentation type:"
      ],
      "metadata": {
        "id": "tbRoLtix5wJM"
      }
    },
    {
      "cell_type": "code",
      "source": [
        "df_customers.groupby('Segmentation').count( )['customer_id']"
      ],
      "metadata": {
        "colab": {
          "base_uri": "https://localhost:8080/"
        },
        "id": "vWRJ7gom54vw",
        "outputId": "0ed954a8-45b6-4c89-b901-3e3fb13b15d7"
      },
      "execution_count": 144,
      "outputs": [
        {
          "output_type": "execute_result",
          "data": {
            "text/plain": [
              "Segmentation\n",
              "About to sleep        32810\n",
              "Cant lose them          236\n",
              "Champions               375\n",
              "Hibernating            2143\n",
              "Lost customers        20739\n",
              "Loyal                  3478\n",
              "Needs attention        3368\n",
              "Potential loyalist      275\n",
              "Recent users          33053\n",
              "Name: customer_id, dtype: int64"
            ]
          },
          "metadata": {},
          "execution_count": 144
        }
      ]
    },
    {
      "cell_type": "markdown",
      "source": [
        "So, most of our customers are in the \"Lost customers\", \"About to sleep, and \"Can't lose them\" segments, which are related to the lower monetary value. Also, we have 375 champions, which have spent a lot of money very recently. Let's try to visualize our segments:"
      ],
      "metadata": {
        "id": "lF6f3b7u6EKQ"
      }
    },
    {
      "cell_type": "code",
      "source": [
        "plt.figure(figsize = (16, 8))\n",
        "\n",
        "sns.scatterplot(x = 'Recency', y = 'Monetary', hue = 'Segmentation', data = df_customers)\n",
        "plt.legend(fontsize = 14)"
      ],
      "metadata": {
        "colab": {
          "base_uri": "https://localhost:8080/",
          "height": 515
        },
        "id": "Byc3HC8-7CBA",
        "outputId": "f548d740-c886-4dc7-d97b-3409a3adf549"
      },
      "execution_count": 152,
      "outputs": [
        {
          "output_type": "execute_result",
          "data": {
            "text/plain": [
              "<matplotlib.legend.Legend at 0x7f651e980e10>"
            ]
          },
          "metadata": {},
          "execution_count": 152
        },
        {
          "output_type": "display_data",
          "data": {
            "text/plain": [
              "<Figure size 1152x576 with 1 Axes>"
            ],
            "image/png": "[encoded data removed]"
          },
          "metadata": {
            "needs_background": "light"
          }
        }
      ]
    },
    {
      "cell_type": "markdown",
      "source": [
        "So, this graph makes our segments very clear. Here, we see that champions often show a higher monetary value and a lower recency. At the opposite spectrum, lost customers show a very high recency, and a very low monetary value."
      ],
      "metadata": {
        "id": "-xEyOQso7od6"
      }
    },
    {
      "cell_type": "markdown",
      "source": [
        "# Final recommendations\n",
        "\n",
        "In this project, we perform the RFM analysis to segmentate our customers. Here, we used a dataset from OLIST to separate our customers based on Recency, Frequency, and Monetary. For Recency, we evaluated how many days have passed since each customer's last purchase. For Frequency, we tried to obtain the number of orders for each customer. However, we soon noticed that, in our dataset, all customers only had 1 order. Thus, we could not work with frequency. Then, for Monetary, we evaluated the amount of money spent by each customer. \n",
        "\n",
        "Finally, we performed our customer segmentation based on Frequency and Monetary. Thus, we defined 9 classes in total, based on their clusters. As a recommendation, our company could make marketing campaigns for each segment:\n",
        "\n",
        "* Lost customers: Long time since they last bought, and they spent very little. Not worth to touch on them.\n",
        "* Hibernating/About to sleep: A low-cost marketing campaign can be run just to remind these customers that our company is here for them.\n",
        "* Needs attention/Recent users: May be the target of a larger marketing campaign involving products of interest to these customers.\n",
        "* Can't lose them: We could do a more structured marketing campaign, using promotional codes to make these customers come back to our company.\n",
        "* Potential loyalist/Loyal: Use of \"loyalty cards\" to make these customers shop more often in our store. These \"loyalty cards\" could unlock different benefits based on the frequency, such as promotional codes and prizes.\n",
        "* Champions: Deserve a marketing campaign that makes them gain a sense of belonging to the brand, making these customers even more loyal.\n",
        "\n",
        "By applying a targeted campaign to each segment, we were able to make marketing more efficient and effective for each audience."
      ],
      "metadata": {
        "id": "ggwSzW2SCpab"
      }
    }
  ]
}