{
  "nbformat": 4,
  "nbformat_minor": 0,
  "metadata": {
    "colab": {
      "name": "CreditScorecard.ipynb",
      "provenance": [],
      "collapsed_sections": [
        "D7PUdqGyCNfM",
        "jX2u0HFydgUg",
        "94Uxgx34kkN_",
        "-KWyrn5p-gSN",
        "IGoPX8wUvCVE",
        "lO7V9u5evuYB",
        "_Uam1-C1-8x9",
        "cF6qU5gvBBxD",
        "eTljVkDiCLwF",
        "gNTz7kzjya5A",
        "0tK4doC9EUCV"
      ],
      "toc_visible": true,
      "authorship_tag": "ABX9TyN4fmCT4+gsThqJNQXoviSC",
      "include_colab_link": true
    },
    "kernelspec": {
      "name": "python3",
      "display_name": "Python 3"
    },
    "language_info": {
      "name": "python"
    }
  },
  "cells": [
    {
      "cell_type": "markdown",
      "metadata": {
        "id": "view-in-github",
        "colab_type": "text"
      },
      "source": [
        "<a href=\"https://colab.research.google.com/github/LeonardoGoncRibeiro/PersonalProjects/blob/main/EvaluatingCreditScore/CreditScorecard.ipynb\" target=\"_parent\"><img src=\"https://colab.research.google.com/assets/colab-badge.svg\" alt=\"Open In Colab\"/></a>"
      ]
    },
    {
      "cell_type": "markdown",
      "source": [
        "# Credit Scorecard\n",
        "\n",
        "In this project, we will cover the main steps of building a credit scorecard. These are very important, as they allow companies to understand more about their customers. Most companies use credit scorecards to understand when they are able to provide credit and trust-based benefits to the customers.\n",
        "\n",
        "A credit scorecard is basically a numerical value (usually an integer) that represents the probability that an individual will pay off a debt. Most companies have complex credit models that consider information such as salary, guarantees, past loan performance, and others.\n",
        "\n",
        "A credit scorecard is usually related to a customer's \"ability to pay\". It is often evaluated after the fitting and use of a classification model, which evaluates a certain probability. In our case, we are going to build a model to **evaluate the probability of a given customer paying their debt**. Then, we will **relate this probability to a given score.** This is important, so that we can reveal the score to other people, while revealing a probability might be unethical or even make some people very angry. \n",
        "\n",
        "In this project, we will go through the following points:\n",
        "\n",
        "1. Data collection and cleaning\n",
        "2. Data exploration\n",
        "3. Feature selection\n",
        "4. Model fitting and defining the credit score\n",
        "5. Final recommendations\n",
        "\n",
        "\n",
        "Now, let's import our packages:"
      ],
      "metadata": {
        "id": "D7PUdqGyCNfM"
      }
    },
    {
      "cell_type": "code",
      "execution_count": null,
      "metadata": {
        "id": "60MJIVQPCMYr"
      },
      "outputs": [],
      "source": [
        "import pandas as pd                                           # Data collection and manipulation\n",
        "import numpy as np                                            # Work with arrays\n",
        "\n",
        "import matplotlib.pyplot as plt                               # Data visualization\n",
        "import seaborn as sns                                         # Data visualization\n",
        "%matplotlib inline\n",
        "\n",
        "from scipy.stats import mannwhitneyu                          # Mann-whitney test\n",
        "\n",
        "# Modeling\n",
        "\n",
        "from sklearn.model_selection import train_test_split          # Train-test split\n",
        "from sklearn.linear_model import LogisticRegression           # Logistic regression\n",
        "\n",
        "# Model validation\n",
        "\n",
        "from sklearn import metrics                                   # Metrics for comparing different models\n",
        "from sklearn.metrics import confusion_matrix                  # Confusion matrix\n",
        "from sklearn.metrics import ConfusionMatrixDisplay            # Confusion matrix plot"
      ]
    },
    {
      "cell_type": "markdown",
      "source": [
        "# Data collection and cleaning\n",
        "\n",
        "In this project, we will use a dataset from a Kaggle competition on the building of a credit score model:\n",
        "\n",
        "https://www.kaggle.com/competitions/GiveMeSomeCredit/data\n",
        "\n",
        "Here, we will work with data from the 'cs-training.csv' file:"
      ],
      "metadata": {
        "id": "jX2u0HFydgUg"
      }
    },
    {
      "cell_type": "code",
      "source": [
        "df = pd.read_csv('cs-training.csv')"
      ],
      "metadata": {
        "id": "qhRAUNObdRKS"
      },
      "execution_count": null,
      "outputs": []
    },
    {
      "cell_type": "markdown",
      "source": [
        "Let's see our dataset:"
      ],
      "metadata": {
        "id": "VhMuWrBDeETr"
      }
    },
    {
      "cell_type": "code",
      "source": [
        "df.head( )"
      ],
      "metadata": {
        "colab": {
          "base_uri": "https://localhost:8080/",
          "height": 287
        },
        "id": "DDzegPLmdV6U",
        "outputId": "75daf8e4-26e4-4f7b-ae76-1a64c56dd3e0"
      },
      "execution_count": null,
      "outputs": [
        {
          "output_type": "execute_result",
          "data": {
            "text/plain": [
              "   Unnamed: 0  SeriousDlqin2yrs  RevolvingUtilizationOfUnsecuredLines  age  \\\n",
              "0           1                 1                              0.766127   45   \n",
              "1           2                 0                              0.957151   40   \n",
              "2           3                 0                              0.658180   38   \n",
              "3           4                 0                              0.233810   30   \n",
              "4           5                 0                              0.907239   49   \n",
              "\n",
              "   NumberOfTime30-59DaysPastDueNotWorse  DebtRatio  MonthlyIncome  \\\n",
              "0                                     2   0.802982         9120.0   \n",
              "1                                     0   0.121876         2600.0   \n",
              "2                                     1   0.085113         3042.0   \n",
              "3                                     0   0.036050         3300.0   \n",
              "4                                     1   0.024926        63588.0   \n",
              "\n",
              "   NumberOfOpenCreditLinesAndLoans  NumberOfTimes90DaysLate  \\\n",
              "0                               13                        0   \n",
              "1                                4                        0   \n",
              "2                                2                        1   \n",
              "3                                5                        0   \n",
              "4                                7                        0   \n",
              "\n",
              "   NumberRealEstateLoansOrLines  NumberOfTime60-89DaysPastDueNotWorse  \\\n",
              "0                             6                                     0   \n",
              "1                             0                                     0   \n",
              "2                             0                                     0   \n",
              "3                             0                                     0   \n",
              "4                             1                                     0   \n",
              "\n",
              "   NumberOfDependents  \n",
              "0                 2.0  \n",
              "1                 1.0  \n",
              "2                 0.0  \n",
              "3                 0.0  \n",
              "4                 0.0  "
            ],
            "text/html": [
              "\n",
              "  <div id=\"df-d44cd3fb-c42f-4f17-872f-dcba4bb2106f\">\n",
              "    <div class=\"colab-df-container\">\n",
              "      <div>\n",
              "<style scoped>\n",
              "    .dataframe tbody tr th:only-of-type {\n",
              "        vertical-align: middle;\n",
              "    }\n",
              "\n",
              "    .dataframe tbody tr th {\n",
              "        vertical-align: top;\n",
              "    }\n",
              "\n",
              "    .dataframe thead th {\n",
              "        text-align: right;\n",
              "    }\n",
              "</style>\n",
              "<table border=\"1\" class=\"dataframe\">\n",
              "  <thead>\n",
              "    <tr style=\"text-align: right;\">\n",
              "      <th></th>\n",
              "      <th>Unnamed: 0</th>\n",
              "      <th>SeriousDlqin2yrs</th>\n",
              "      <th>RevolvingUtilizationOfUnsecuredLines</th>\n",
              "      <th>age</th>\n",
              "      <th>NumberOfTime30-59DaysPastDueNotWorse</th>\n",
              "      <th>DebtRatio</th>\n",
              "      <th>MonthlyIncome</th>\n",
              "      <th>NumberOfOpenCreditLinesAndLoans</th>\n",
              "      <th>NumberOfTimes90DaysLate</th>\n",
              "      <th>NumberRealEstateLoansOrLines</th>\n",
              "      <th>NumberOfTime60-89DaysPastDueNotWorse</th>\n",
              "      <th>NumberOfDependents</th>\n",
              "    </tr>\n",
              "  </thead>\n",
              "  <tbody>\n",
              "    <tr>\n",
              "      <th>0</th>\n",
              "      <td>1</td>\n",
              "      <td>1</td>\n",
              "      <td>0.766127</td>\n",
              "      <td>45</td>\n",
              "      <td>2</td>\n",
              "      <td>0.802982</td>\n",
              "      <td>9120.0</td>\n",
              "      <td>13</td>\n",
              "      <td>0</td>\n",
              "      <td>6</td>\n",
              "      <td>0</td>\n",
              "      <td>2.0</td>\n",
              "    </tr>\n",
              "    <tr>\n",
              "      <th>1</th>\n",
              "      <td>2</td>\n",
              "      <td>0</td>\n",
              "      <td>0.957151</td>\n",
              "      <td>40</td>\n",
              "      <td>0</td>\n",
              "      <td>0.121876</td>\n",
              "      <td>2600.0</td>\n",
              "      <td>4</td>\n",
              "      <td>0</td>\n",
              "      <td>0</td>\n",
              "      <td>0</td>\n",
              "      <td>1.0</td>\n",
              "    </tr>\n",
              "    <tr>\n",
              "      <th>2</th>\n",
              "      <td>3</td>\n",
              "      <td>0</td>\n",
              "      <td>0.658180</td>\n",
              "      <td>38</td>\n",
              "      <td>1</td>\n",
              "      <td>0.085113</td>\n",
              "      <td>3042.0</td>\n",
              "      <td>2</td>\n",
              "      <td>1</td>\n",
              "      <td>0</td>\n",
              "      <td>0</td>\n",
              "      <td>0.0</td>\n",
              "    </tr>\n",
              "    <tr>\n",
              "      <th>3</th>\n",
              "      <td>4</td>\n",
              "      <td>0</td>\n",
              "      <td>0.233810</td>\n",
              "      <td>30</td>\n",
              "      <td>0</td>\n",
              "      <td>0.036050</td>\n",
              "      <td>3300.0</td>\n",
              "      <td>5</td>\n",
              "      <td>0</td>\n",
              "      <td>0</td>\n",
              "      <td>0</td>\n",
              "      <td>0.0</td>\n",
              "    </tr>\n",
              "    <tr>\n",
              "      <th>4</th>\n",
              "      <td>5</td>\n",
              "      <td>0</td>\n",
              "      <td>0.907239</td>\n",
              "      <td>49</td>\n",
              "      <td>1</td>\n",
              "      <td>0.024926</td>\n",
              "      <td>63588.0</td>\n",
              "      <td>7</td>\n",
              "      <td>0</td>\n",
              "      <td>1</td>\n",
              "      <td>0</td>\n",
              "      <td>0.0</td>\n",
              "    </tr>\n",
              "  </tbody>\n",
              "</table>\n",
              "</div>\n",
              "      <button class=\"colab-df-convert\" onclick=\"convertToInteractive('df-d44cd3fb-c42f-4f17-872f-dcba4bb2106f')\"\n",
              "              title=\"Convert this dataframe to an interactive table.\"\n",
              "              style=\"display:none;\">\n",
              "        \n",
              "  <svg xmlns=\"http://www.w3.org/2000/svg\" height=\"24px\"viewBox=\"0 0 24 24\"\n",
              "       width=\"24px\">\n",
              "    <path d=\"M0 0h24v24H0V0z\" fill=\"none\"/>\n",
              "    <path d=\"M18.56 5.44l.94 2.06.94-2.06 2.06-.94-2.06-.94-.94-2.06-.94 2.06-2.06.94zm-11 1L8.5 8.5l.94-2.06 2.06-.94-2.06-.94L8.5 2.5l-.94 2.06-2.06.94zm10 10l.94 2.06.94-2.06 2.06-.94-2.06-.94-.94-2.06-.94 2.06-2.06.94z\"/><path d=\"M17.41 7.96l-1.37-1.37c-.4-.4-.92-.59-1.43-.59-.52 0-1.04.2-1.43.59L10.3 9.45l-7.72 7.72c-.78.78-.78 2.05 0 2.83L4 21.41c.39.39.9.59 1.41.59.51 0 1.02-.2 1.41-.59l7.78-7.78 2.81-2.81c.8-.78.8-2.07 0-2.86zM5.41 20L4 18.59l7.72-7.72 1.47 1.35L5.41 20z\"/>\n",
              "  </svg>\n",
              "      </button>\n",
              "      \n",
              "  <style>\n",
              "    .colab-df-container {\n",
              "      display:flex;\n",
              "      flex-wrap:wrap;\n",
              "      gap: 12px;\n",
              "    }\n",
              "\n",
              "    .colab-df-convert {\n",
              "      background-color: #E8F0FE;\n",
              "      border: none;\n",
              "      border-radius: 50%;\n",
              "      cursor: pointer;\n",
              "      display: none;\n",
              "      fill: #1967D2;\n",
              "      height: 32px;\n",
              "      padding: 0 0 0 0;\n",
              "      width: 32px;\n",
              "    }\n",
              "\n",
              "    .colab-df-convert:hover {\n",
              "      background-color: #E2EBFA;\n",
              "      box-shadow: 0px 1px 2px rgba(60, 64, 67, 0.3), 0px 1px 3px 1px rgba(60, 64, 67, 0.15);\n",
              "      fill: #174EA6;\n",
              "    }\n",
              "\n",
              "    [theme=dark] .colab-df-convert {\n",
              "      background-color: #3B4455;\n",
              "      fill: #D2E3FC;\n",
              "    }\n",
              "\n",
              "    [theme=dark] .colab-df-convert:hover {\n",
              "      background-color: #434B5C;\n",
              "      box-shadow: 0px 1px 3px 1px rgba(0, 0, 0, 0.15);\n",
              "      filter: drop-shadow(0px 1px 2px rgba(0, 0, 0, 0.3));\n",
              "      fill: #FFFFFF;\n",
              "    }\n",
              "  </style>\n",
              "\n",
              "      <script>\n",
              "        const buttonEl =\n",
              "          document.querySelector('#df-d44cd3fb-c42f-4f17-872f-dcba4bb2106f button.colab-df-convert');\n",
              "        buttonEl.style.display =\n",
              "          google.colab.kernel.accessAllowed ? 'block' : 'none';\n",
              "\n",
              "        async function convertToInteractive(key) {\n",
              "          const element = document.querySelector('#df-d44cd3fb-c42f-4f17-872f-dcba4bb2106f');\n",
              "          const dataTable =\n",
              "            await google.colab.kernel.invokeFunction('convertToInteractive',\n",
              "                                                     [key], {});\n",
              "          if (!dataTable) return;\n",
              "\n",
              "          const docLinkHtml = 'Like what you see? Visit the ' +\n",
              "            '<a target=\"_blank\" href=https://colab.research.google.com/notebooks/data_table.ipynb>data table notebook</a>'\n",
              "            + ' to learn more about interactive tables.';\n",
              "          element.innerHTML = '';\n",
              "          dataTable['output_type'] = 'display_data';\n",
              "          await google.colab.output.renderOutput(dataTable, element);\n",
              "          const docLink = document.createElement('div');\n",
              "          docLink.innerHTML = docLinkHtml;\n",
              "          element.appendChild(docLink);\n",
              "        }\n",
              "      </script>\n",
              "    </div>\n",
              "  </div>\n",
              "  "
            ]
          },
          "metadata": {},
          "execution_count": 1109
        }
      ]
    },
    {
      "cell_type": "markdown",
      "source": [
        "Note that we have a feature \"Unnamed: 0\" which is basically the index. We can drop this feature. \n",
        "\n"
      ],
      "metadata": {
        "id": "ovsbb2XleO04"
      }
    },
    {
      "cell_type": "code",
      "source": [
        "df.drop('Unnamed: 0', axis = 1, inplace = True)"
      ],
      "metadata": {
        "id": "OeE-fiLCg1Q4"
      },
      "execution_count": null,
      "outputs": []
    },
    {
      "cell_type": "markdown",
      "source": [
        "Now, let's talk about the other features:\n",
        "\n",
        "* SeriousDlqin2yrs: This is our target. This boolean variable states that, in the two previous years, the person experienced financial distress.\n",
        "* RevolvingUtilizationOfUnsecuredLines: Total balance on credit cards and personal lines of credit except real estate and no installment debt like car loans divided by the sum of credit limits.\n",
        "* age: Age of borrower in years.\n",
        "* NumberOfTime30-59DaysPastDueNotWorse: Number of times borrower has been 30-59 days past due but no worse in the last 2 years.\n",
        "* NumberOfTime60-89DaysPastDueNotWorse: Number of times borrower has been 60-89 days past due but no worse in the last 2 years.\n",
        "* NumberOfTimes90DaysLate: Number of times borrower has been 90 days or more past due.\n",
        "* DebtRatio: Monthly debt payments, alimony,living costs divided by monthy gross income\n",
        "* MonthlyIncome: Monthly income.\n",
        "* NumberOfOpenCreditLinesAndLoans: Number of Open loans (installment like car loan or mortgage) and Lines of credit (e.g. credit cards).\n",
        "* NumberRealEstateLoansOrLines: Number of mortgage and real estate loans including home equity lines of credit.\n",
        "* NumberOfDependents: Number of dependents in family excluding themselves (spouse, children etc.).\n",
        "\n",
        "First, note that, in our target variable, 1 denotes a bad borrower and 0 denotes a good borrower. Let's invert this, to make the implementation of the credit scorecard more straightfoward:"
      ],
      "metadata": {
        "id": "u36y1gsagxnx"
      }
    },
    {
      "cell_type": "code",
      "source": [
        "df.rename(columns = {'SeriousDlqin2yrs':'NoSeriousDlqin2yrs'}, inplace = True)\n",
        "df.NoSeriousDlqin2yrs = df.NoSeriousDlqin2yrs.map({1 : 0, 0 : 1})"
      ],
      "metadata": {
        "id": "CIoI1EunFwQG"
      },
      "execution_count": null,
      "outputs": []
    },
    {
      "cell_type": "markdown",
      "source": [
        "\n",
        "\n",
        "\n",
        "So, let's clean our dataset. First, we will use the info( ) method to check the number of entries and check if we have any missing value. "
      ],
      "metadata": {
        "id": "c2S8M7XNFliG"
      }
    },
    {
      "cell_type": "code",
      "source": [
        "df.info( )"
      ],
      "metadata": {
        "colab": {
          "base_uri": "https://localhost:8080/"
        },
        "id": "LSq4P3LLdWcS",
        "outputId": "762488dc-90f3-4f18-d0c9-2f3d2ae123f4"
      },
      "execution_count": null,
      "outputs": [
        {
          "output_type": "stream",
          "name": "stdout",
          "text": [
            "<class 'pandas.core.frame.DataFrame'>\n",
            "RangeIndex: 150000 entries, 0 to 149999\n",
            "Data columns (total 11 columns):\n",
            " #   Column                                Non-Null Count   Dtype  \n",
            "---  ------                                --------------   -----  \n",
            " 0   NoSeriousDlqin2yrs                    150000 non-null  int64  \n",
            " 1   RevolvingUtilizationOfUnsecuredLines  150000 non-null  float64\n",
            " 2   age                                   150000 non-null  int64  \n",
            " 3   NumberOfTime30-59DaysPastDueNotWorse  150000 non-null  int64  \n",
            " 4   DebtRatio                             150000 non-null  float64\n",
            " 5   MonthlyIncome                         120269 non-null  float64\n",
            " 6   NumberOfOpenCreditLinesAndLoans       150000 non-null  int64  \n",
            " 7   NumberOfTimes90DaysLate               150000 non-null  int64  \n",
            " 8   NumberRealEstateLoansOrLines          150000 non-null  int64  \n",
            " 9   NumberOfTime60-89DaysPastDueNotWorse  150000 non-null  int64  \n",
            " 10  NumberOfDependents                    146076 non-null  float64\n",
            "dtypes: float64(4), int64(7)\n",
            "memory usage: 12.6 MB\n"
          ]
        }
      ]
    },
    {
      "cell_type": "markdown",
      "source": [
        "We see that we actually have a lot of missing values, especially in the monthly income feature. First, let's try to check those:"
      ],
      "metadata": {
        "id": "p12NHgn1gYEp"
      }
    },
    {
      "cell_type": "code",
      "source": [
        "df[df.MonthlyIncome.isna( )].head(10)"
      ],
      "metadata": {
        "colab": {
          "base_uri": "https://localhost:8080/",
          "height": 444
        },
        "id": "bR7GN-v7gRSn",
        "outputId": "436f96d8-9fd2-4d8a-f2be-cbd8afdefdb7"
      },
      "execution_count": null,
      "outputs": [
        {
          "output_type": "execute_result",
          "data": {
            "text/plain": [
              "    NoSeriousDlqin2yrs  RevolvingUtilizationOfUnsecuredLines  age  \\\n",
              "6                    1                              0.305682   57   \n",
              "8                    1                              0.116951   27   \n",
              "16                   1                              0.061086   78   \n",
              "32                   1                              0.083418   62   \n",
              "41                   1                              0.072898   81   \n",
              "52                   1                              1.000000   62   \n",
              "58                   1                              0.541109   43   \n",
              "62                   1                              0.101156   72   \n",
              "71                   1                              0.142013   67   \n",
              "86                   1                              0.360510   58   \n",
              "\n",
              "    NumberOfTime30-59DaysPastDueNotWorse  DebtRatio  MonthlyIncome  \\\n",
              "6                                      0     5710.0            NaN   \n",
              "8                                      0       46.0            NaN   \n",
              "16                                     0     2058.0            NaN   \n",
              "32                                     0      977.0            NaN   \n",
              "41                                     0       75.0            NaN   \n",
              "52                                     0        0.0            NaN   \n",
              "58                                     0     2477.0            NaN   \n",
              "62                                     0     1720.0            NaN   \n",
              "71                                     0     1824.0            NaN   \n",
              "86                                     1     3282.0            NaN   \n",
              "\n",
              "    NumberOfOpenCreditLinesAndLoans  NumberOfTimes90DaysLate  \\\n",
              "6                                 8                        0   \n",
              "8                                 2                        0   \n",
              "16                               10                        0   \n",
              "32                                6                        0   \n",
              "41                                7                        0   \n",
              "52                                1                        0   \n",
              "58                                3                        0   \n",
              "62                               12                        0   \n",
              "71                                7                        0   \n",
              "86                                8                        0   \n",
              "\n",
              "    NumberRealEstateLoansOrLines  NumberOfTime60-89DaysPastDueNotWorse  \\\n",
              "6                              3                                     0   \n",
              "8                              0                                     0   \n",
              "16                             2                                     0   \n",
              "32                             1                                     0   \n",
              "41                             0                                     0   \n",
              "52                             0                                     0   \n",
              "58                             1                                     0   \n",
              "62                             2                                     0   \n",
              "71                             2                                     0   \n",
              "86                             2                                     0   \n",
              "\n",
              "    NumberOfDependents  \n",
              "6                  0.0  \n",
              "8                  NaN  \n",
              "16                 0.0  \n",
              "32                 0.0  \n",
              "41                 0.0  \n",
              "52                 0.0  \n",
              "58                 2.0  \n",
              "62                 0.0  \n",
              "71                 0.0  \n",
              "86                 0.0  "
            ],
            "text/html": [
              "\n",
              "  <div id=\"df-1458489a-34ec-4ef0-ba48-04b7fa60e149\">\n",
              "    <div class=\"colab-df-container\">\n",
              "      <div>\n",
              "<style scoped>\n",
              "    .dataframe tbody tr th:only-of-type {\n",
              "        vertical-align: middle;\n",
              "    }\n",
              "\n",
              "    .dataframe tbody tr th {\n",
              "        vertical-align: top;\n",
              "    }\n",
              "\n",
              "    .dataframe thead th {\n",
              "        text-align: right;\n",
              "    }\n",
              "</style>\n",
              "<table border=\"1\" class=\"dataframe\">\n",
              "  <thead>\n",
              "    <tr style=\"text-align: right;\">\n",
              "      <th></th>\n",
              "      <th>NoSeriousDlqin2yrs</th>\n",
              "      <th>RevolvingUtilizationOfUnsecuredLines</th>\n",
              "      <th>age</th>\n",
              "      <th>NumberOfTime30-59DaysPastDueNotWorse</th>\n",
              "      <th>DebtRatio</th>\n",
              "      <th>MonthlyIncome</th>\n",
              "      <th>NumberOfOpenCreditLinesAndLoans</th>\n",
              "      <th>NumberOfTimes90DaysLate</th>\n",
              "      <th>NumberRealEstateLoansOrLines</th>\n",
              "      <th>NumberOfTime60-89DaysPastDueNotWorse</th>\n",
              "      <th>NumberOfDependents</th>\n",
              "    </tr>\n",
              "  </thead>\n",
              "  <tbody>\n",
              "    <tr>\n",
              "      <th>6</th>\n",
              "      <td>1</td>\n",
              "      <td>0.305682</td>\n",
              "      <td>57</td>\n",
              "      <td>0</td>\n",
              "      <td>5710.0</td>\n",
              "      <td>NaN</td>\n",
              "      <td>8</td>\n",
              "      <td>0</td>\n",
              "      <td>3</td>\n",
              "      <td>0</td>\n",
              "      <td>0.0</td>\n",
              "    </tr>\n",
              "    <tr>\n",
              "      <th>8</th>\n",
              "      <td>1</td>\n",
              "      <td>0.116951</td>\n",
              "      <td>27</td>\n",
              "      <td>0</td>\n",
              "      <td>46.0</td>\n",
              "      <td>NaN</td>\n",
              "      <td>2</td>\n",
              "      <td>0</td>\n",
              "      <td>0</td>\n",
              "      <td>0</td>\n",
              "      <td>NaN</td>\n",
              "    </tr>\n",
              "    <tr>\n",
              "      <th>16</th>\n",
              "      <td>1</td>\n",
              "      <td>0.061086</td>\n",
              "      <td>78</td>\n",
              "      <td>0</td>\n",
              "      <td>2058.0</td>\n",
              "      <td>NaN</td>\n",
              "      <td>10</td>\n",
              "      <td>0</td>\n",
              "      <td>2</td>\n",
              "      <td>0</td>\n",
              "      <td>0.0</td>\n",
              "    </tr>\n",
              "    <tr>\n",
              "      <th>32</th>\n",
              "      <td>1</td>\n",
              "      <td>0.083418</td>\n",
              "      <td>62</td>\n",
              "      <td>0</td>\n",
              "      <td>977.0</td>\n",
              "      <td>NaN</td>\n",
              "      <td>6</td>\n",
              "      <td>0</td>\n",
              "      <td>1</td>\n",
              "      <td>0</td>\n",
              "      <td>0.0</td>\n",
              "    </tr>\n",
              "    <tr>\n",
              "      <th>41</th>\n",
              "      <td>1</td>\n",
              "      <td>0.072898</td>\n",
              "      <td>81</td>\n",
              "      <td>0</td>\n",
              "      <td>75.0</td>\n",
              "      <td>NaN</td>\n",
              "      <td>7</td>\n",
              "      <td>0</td>\n",
              "      <td>0</td>\n",
              "      <td>0</td>\n",
              "      <td>0.0</td>\n",
              "    </tr>\n",
              "    <tr>\n",
              "      <th>52</th>\n",
              "      <td>1</td>\n",
              "      <td>1.000000</td>\n",
              "      <td>62</td>\n",
              "      <td>0</td>\n",
              "      <td>0.0</td>\n",
              "      <td>NaN</td>\n",
              "      <td>1</td>\n",
              "      <td>0</td>\n",
              "      <td>0</td>\n",
              "      <td>0</td>\n",
              "      <td>0.0</td>\n",
              "    </tr>\n",
              "    <tr>\n",
              "      <th>58</th>\n",
              "      <td>1</td>\n",
              "      <td>0.541109</td>\n",
              "      <td>43</td>\n",
              "      <td>0</td>\n",
              "      <td>2477.0</td>\n",
              "      <td>NaN</td>\n",
              "      <td>3</td>\n",
              "      <td>0</td>\n",
              "      <td>1</td>\n",
              "      <td>0</td>\n",
              "      <td>2.0</td>\n",
              "    </tr>\n",
              "    <tr>\n",
              "      <th>62</th>\n",
              "      <td>1</td>\n",
              "      <td>0.101156</td>\n",
              "      <td>72</td>\n",
              "      <td>0</td>\n",
              "      <td>1720.0</td>\n",
              "      <td>NaN</td>\n",
              "      <td>12</td>\n",
              "      <td>0</td>\n",
              "      <td>2</td>\n",
              "      <td>0</td>\n",
              "      <td>0.0</td>\n",
              "    </tr>\n",
              "    <tr>\n",
              "      <th>71</th>\n",
              "      <td>1</td>\n",
              "      <td>0.142013</td>\n",
              "      <td>67</td>\n",
              "      <td>0</td>\n",
              "      <td>1824.0</td>\n",
              "      <td>NaN</td>\n",
              "      <td>7</td>\n",
              "      <td>0</td>\n",
              "      <td>2</td>\n",
              "      <td>0</td>\n",
              "      <td>0.0</td>\n",
              "    </tr>\n",
              "    <tr>\n",
              "      <th>86</th>\n",
              "      <td>1</td>\n",
              "      <td>0.360510</td>\n",
              "      <td>58</td>\n",
              "      <td>1</td>\n",
              "      <td>3282.0</td>\n",
              "      <td>NaN</td>\n",
              "      <td>8</td>\n",
              "      <td>0</td>\n",
              "      <td>2</td>\n",
              "      <td>0</td>\n",
              "      <td>0.0</td>\n",
              "    </tr>\n",
              "  </tbody>\n",
              "</table>\n",
              "</div>\n",
              "      <button class=\"colab-df-convert\" onclick=\"convertToInteractive('df-1458489a-34ec-4ef0-ba48-04b7fa60e149')\"\n",
              "              title=\"Convert this dataframe to an interactive table.\"\n",
              "              style=\"display:none;\">\n",
              "        \n",
              "  <svg xmlns=\"http://www.w3.org/2000/svg\" height=\"24px\"viewBox=\"0 0 24 24\"\n",
              "       width=\"24px\">\n",
              "    <path d=\"M0 0h24v24H0V0z\" fill=\"none\"/>\n",
              "    <path d=\"M18.56 5.44l.94 2.06.94-2.06 2.06-.94-2.06-.94-.94-2.06-.94 2.06-2.06.94zm-11 1L8.5 8.5l.94-2.06 2.06-.94-2.06-.94L8.5 2.5l-.94 2.06-2.06.94zm10 10l.94 2.06.94-2.06 2.06-.94-2.06-.94-.94-2.06-.94 2.06-2.06.94z\"/><path d=\"M17.41 7.96l-1.37-1.37c-.4-.4-.92-.59-1.43-.59-.52 0-1.04.2-1.43.59L10.3 9.45l-7.72 7.72c-.78.78-.78 2.05 0 2.83L4 21.41c.39.39.9.59 1.41.59.51 0 1.02-.2 1.41-.59l7.78-7.78 2.81-2.81c.8-.78.8-2.07 0-2.86zM5.41 20L4 18.59l7.72-7.72 1.47 1.35L5.41 20z\"/>\n",
              "  </svg>\n",
              "      </button>\n",
              "      \n",
              "  <style>\n",
              "    .colab-df-container {\n",
              "      display:flex;\n",
              "      flex-wrap:wrap;\n",
              "      gap: 12px;\n",
              "    }\n",
              "\n",
              "    .colab-df-convert {\n",
              "      background-color: #E8F0FE;\n",
              "      border: none;\n",
              "      border-radius: 50%;\n",
              "      cursor: pointer;\n",
              "      display: none;\n",
              "      fill: #1967D2;\n",
              "      height: 32px;\n",
              "      padding: 0 0 0 0;\n",
              "      width: 32px;\n",
              "    }\n",
              "\n",
              "    .colab-df-convert:hover {\n",
              "      background-color: #E2EBFA;\n",
              "      box-shadow: 0px 1px 2px rgba(60, 64, 67, 0.3), 0px 1px 3px 1px rgba(60, 64, 67, 0.15);\n",
              "      fill: #174EA6;\n",
              "    }\n",
              "\n",
              "    [theme=dark] .colab-df-convert {\n",
              "      background-color: #3B4455;\n",
              "      fill: #D2E3FC;\n",
              "    }\n",
              "\n",
              "    [theme=dark] .colab-df-convert:hover {\n",
              "      background-color: #434B5C;\n",
              "      box-shadow: 0px 1px 3px 1px rgba(0, 0, 0, 0.15);\n",
              "      filter: drop-shadow(0px 1px 2px rgba(0, 0, 0, 0.3));\n",
              "      fill: #FFFFFF;\n",
              "    }\n",
              "  </style>\n",
              "\n",
              "      <script>\n",
              "        const buttonEl =\n",
              "          document.querySelector('#df-1458489a-34ec-4ef0-ba48-04b7fa60e149 button.colab-df-convert');\n",
              "        buttonEl.style.display =\n",
              "          google.colab.kernel.accessAllowed ? 'block' : 'none';\n",
              "\n",
              "        async function convertToInteractive(key) {\n",
              "          const element = document.querySelector('#df-1458489a-34ec-4ef0-ba48-04b7fa60e149');\n",
              "          const dataTable =\n",
              "            await google.colab.kernel.invokeFunction('convertToInteractive',\n",
              "                                                     [key], {});\n",
              "          if (!dataTable) return;\n",
              "\n",
              "          const docLinkHtml = 'Like what you see? Visit the ' +\n",
              "            '<a target=\"_blank\" href=https://colab.research.google.com/notebooks/data_table.ipynb>data table notebook</a>'\n",
              "            + ' to learn more about interactive tables.';\n",
              "          element.innerHTML = '';\n",
              "          dataTable['output_type'] = 'display_data';\n",
              "          await google.colab.output.renderOutput(dataTable, element);\n",
              "          const docLink = document.createElement('div');\n",
              "          docLink.innerHTML = docLinkHtml;\n",
              "          element.appendChild(docLink);\n",
              "        }\n",
              "      </script>\n",
              "    </div>\n",
              "  </div>\n",
              "  "
            ]
          },
          "metadata": {},
          "execution_count": 1113
        }
      ]
    },
    {
      "cell_type": "markdown",
      "source": [
        "Actually, note that, in these cases, the DebtRatio (which should be between 0 and 1) is likely displaying the monthly income. Let's understand more about this by plotting a histogram:"
      ],
      "metadata": {
        "id": "ta0v2bBJhNKI"
      }
    },
    {
      "cell_type": "code",
      "source": [
        "plt.figure(figsize = (16, 8))\n",
        "\n",
        "sns.histplot(df[df.MonthlyIncome.isna( )].DebtRatio)\n",
        "\n",
        "plt.xlim([0, 10000])"
      ],
      "metadata": {
        "colab": {
          "base_uri": "https://localhost:8080/",
          "height": 515
        },
        "id": "wv0LDh33iR_T",
        "outputId": "7f3fe7db-0c8f-4c45-a5a8-945762a3ce51"
      },
      "execution_count": null,
      "outputs": [
        {
          "output_type": "execute_result",
          "data": {
            "text/plain": [
              "(0.0, 10000.0)"
            ]
          },
          "metadata": {},
          "execution_count": 1114
        },
        {
          "output_type": "display_data",
          "data": {
            "text/plain": [
              "<Figure size 1152x576 with 1 Axes>"
            ],
            "image/png": "[encoded data removed]"
          },
          "metadata": {
            "needs_background": "light"
          }
        }
      ]
    },
    {
      "cell_type": "markdown",
      "source": [
        "Note that, indeed, this seems like a monthly income plot (exponential distribution). Still, we will drop these entries, since we have no information about the debt ratio (which seems to be an important feature). "
      ],
      "metadata": {
        "id": "HQGKV-T-icqi"
      }
    },
    {
      "cell_type": "code",
      "source": [
        "df.drop(df[df.MonthlyIncome.isna( )].index, inplace = True)"
      ],
      "metadata": {
        "id": "UAmaqRpqirKB"
      },
      "execution_count": null,
      "outputs": []
    },
    {
      "cell_type": "markdown",
      "source": [
        "Let's check again if we still have any missing values:"
      ],
      "metadata": {
        "id": "8aqSV2N8jDZZ"
      }
    },
    {
      "cell_type": "code",
      "source": [
        "df.info( )"
      ],
      "metadata": {
        "colab": {
          "base_uri": "https://localhost:8080/"
        },
        "id": "ra-CNkxqi0oL",
        "outputId": "e4a8e823-0af0-45ba-ade8-375f9c53e2a7"
      },
      "execution_count": null,
      "outputs": [
        {
          "output_type": "stream",
          "name": "stdout",
          "text": [
            "<class 'pandas.core.frame.DataFrame'>\n",
            "Int64Index: 120269 entries, 0 to 149999\n",
            "Data columns (total 11 columns):\n",
            " #   Column                                Non-Null Count   Dtype  \n",
            "---  ------                                --------------   -----  \n",
            " 0   NoSeriousDlqin2yrs                    120269 non-null  int64  \n",
            " 1   RevolvingUtilizationOfUnsecuredLines  120269 non-null  float64\n",
            " 2   age                                   120269 non-null  int64  \n",
            " 3   NumberOfTime30-59DaysPastDueNotWorse  120269 non-null  int64  \n",
            " 4   DebtRatio                             120269 non-null  float64\n",
            " 5   MonthlyIncome                         120269 non-null  float64\n",
            " 6   NumberOfOpenCreditLinesAndLoans       120269 non-null  int64  \n",
            " 7   NumberOfTimes90DaysLate               120269 non-null  int64  \n",
            " 8   NumberRealEstateLoansOrLines          120269 non-null  int64  \n",
            " 9   NumberOfTime60-89DaysPastDueNotWorse  120269 non-null  int64  \n",
            " 10  NumberOfDependents                    120269 non-null  float64\n",
            "dtypes: float64(4), int64(7)\n",
            "memory usage: 11.0 MB\n"
          ]
        }
      ]
    },
    {
      "cell_type": "markdown",
      "source": [
        "Ok, it seems that we have no missing value. Now, let's see if we have any duplicated entries:"
      ],
      "metadata": {
        "id": "vw1JmeasjGhQ"
      }
    },
    {
      "cell_type": "code",
      "source": [
        "df.duplicated( ).sum( )"
      ],
      "metadata": {
        "colab": {
          "base_uri": "https://localhost:8080/"
        },
        "id": "Ju-JvKDsjO7w",
        "outputId": "bde96316-fa1b-44fd-dff8-d33a73f82453"
      },
      "execution_count": null,
      "outputs": [
        {
          "output_type": "execute_result",
          "data": {
            "text/plain": [
              "99"
            ]
          },
          "metadata": {},
          "execution_count": 1117
        }
      ]
    },
    {
      "cell_type": "markdown",
      "source": [
        "We have 99 duplicated entries. Let's drop those:"
      ],
      "metadata": {
        "id": "0p1mNChajSTI"
      }
    },
    {
      "cell_type": "code",
      "source": [
        "df.drop_duplicates(inplace = True)"
      ],
      "metadata": {
        "id": "iqZyCmnsjVgQ"
      },
      "execution_count": null,
      "outputs": []
    },
    {
      "cell_type": "markdown",
      "source": [
        "Great! Now, let's just reset the index:"
      ],
      "metadata": {
        "id": "zF2klW_kjah5"
      }
    },
    {
      "cell_type": "code",
      "source": [
        "df.reset_index(drop = True, inplace = True)"
      ],
      "metadata": {
        "id": "0gL0k6IAjc-j"
      },
      "execution_count": null,
      "outputs": []
    },
    {
      "cell_type": "code",
      "source": [
        "df"
      ],
      "metadata": {
        "colab": {
          "base_uri": "https://localhost:8080/",
          "height": 505
        },
        "id": "i-YpxaVhjhcA",
        "outputId": "a5ed5375-1952-4570-a3b3-1303237b4669"
      },
      "execution_count": null,
      "outputs": [
        {
          "output_type": "execute_result",
          "data": {
            "text/plain": [
              "        NoSeriousDlqin2yrs  RevolvingUtilizationOfUnsecuredLines  age  \\\n",
              "0                        0                              0.766127   45   \n",
              "1                        1                              0.957151   40   \n",
              "2                        1                              0.658180   38   \n",
              "3                        1                              0.233810   30   \n",
              "4                        1                              0.907239   49   \n",
              "...                    ...                                   ...  ...   \n",
              "120165                   1                              0.385742   50   \n",
              "120166                   1                              0.040674   74   \n",
              "120167                   1                              0.299745   44   \n",
              "120168                   1                              0.000000   30   \n",
              "120169                   1                              0.850283   64   \n",
              "\n",
              "        NumberOfTime30-59DaysPastDueNotWorse  DebtRatio  MonthlyIncome  \\\n",
              "0                                          2   0.802982         9120.0   \n",
              "1                                          0   0.121876         2600.0   \n",
              "2                                          1   0.085113         3042.0   \n",
              "3                                          0   0.036050         3300.0   \n",
              "4                                          1   0.024926        63588.0   \n",
              "...                                      ...        ...            ...   \n",
              "120165                                     0   0.404293         3400.0   \n",
              "120166                                     0   0.225131         2100.0   \n",
              "120167                                     0   0.716562         5584.0   \n",
              "120168                                     0   0.000000         5716.0   \n",
              "120169                                     0   0.249908         8158.0   \n",
              "\n",
              "        NumberOfOpenCreditLinesAndLoans  NumberOfTimes90DaysLate  \\\n",
              "0                                    13                        0   \n",
              "1                                     4                        0   \n",
              "2                                     2                        1   \n",
              "3                                     5                        0   \n",
              "4                                     7                        0   \n",
              "...                                 ...                      ...   \n",
              "120165                                7                        0   \n",
              "120166                                4                        0   \n",
              "120167                                4                        0   \n",
              "120168                                4                        0   \n",
              "120169                                8                        0   \n",
              "\n",
              "        NumberRealEstateLoansOrLines  NumberOfTime60-89DaysPastDueNotWorse  \\\n",
              "0                                  6                                     0   \n",
              "1                                  0                                     0   \n",
              "2                                  0                                     0   \n",
              "3                                  0                                     0   \n",
              "4                                  1                                     0   \n",
              "...                              ...                                   ...   \n",
              "120165                             0                                     0   \n",
              "120166                             1                                     0   \n",
              "120167                             1                                     0   \n",
              "120168                             0                                     0   \n",
              "120169                             2                                     0   \n",
              "\n",
              "        NumberOfDependents  \n",
              "0                      2.0  \n",
              "1                      1.0  \n",
              "2                      0.0  \n",
              "3                      0.0  \n",
              "4                      0.0  \n",
              "...                    ...  \n",
              "120165                 0.0  \n",
              "120166                 0.0  \n",
              "120167                 2.0  \n",
              "120168                 0.0  \n",
              "120169                 0.0  \n",
              "\n",
              "[120170 rows x 11 columns]"
            ],
            "text/html": [
              "\n",
              "  <div id=\"df-d7260982-bcad-4460-af50-fc7c9d3da1b4\">\n",
              "    <div class=\"colab-df-container\">\n",
              "      <div>\n",
              "<style scoped>\n",
              "    .dataframe tbody tr th:only-of-type {\n",
              "        vertical-align: middle;\n",
              "    }\n",
              "\n",
              "    .dataframe tbody tr th {\n",
              "        vertical-align: top;\n",
              "    }\n",
              "\n",
              "    .dataframe thead th {\n",
              "        text-align: right;\n",
              "    }\n",
              "</style>\n",
              "<table border=\"1\" class=\"dataframe\">\n",
              "  <thead>\n",
              "    <tr style=\"text-align: right;\">\n",
              "      <th></th>\n",
              "      <th>NoSeriousDlqin2yrs</th>\n",
              "      <th>RevolvingUtilizationOfUnsecuredLines</th>\n",
              "      <th>age</th>\n",
              "      <th>NumberOfTime30-59DaysPastDueNotWorse</th>\n",
              "      <th>DebtRatio</th>\n",
              "      <th>MonthlyIncome</th>\n",
              "      <th>NumberOfOpenCreditLinesAndLoans</th>\n",
              "      <th>NumberOfTimes90DaysLate</th>\n",
              "      <th>NumberRealEstateLoansOrLines</th>\n",
              "      <th>NumberOfTime60-89DaysPastDueNotWorse</th>\n",
              "      <th>NumberOfDependents</th>\n",
              "    </tr>\n",
              "  </thead>\n",
              "  <tbody>\n",
              "    <tr>\n",
              "      <th>0</th>\n",
              "      <td>0</td>\n",
              "      <td>0.766127</td>\n",
              "      <td>45</td>\n",
              "      <td>2</td>\n",
              "      <td>0.802982</td>\n",
              "      <td>9120.0</td>\n",
              "      <td>13</td>\n",
              "      <td>0</td>\n",
              "      <td>6</td>\n",
              "      <td>0</td>\n",
              "      <td>2.0</td>\n",
              "    </tr>\n",
              "    <tr>\n",
              "      <th>1</th>\n",
              "      <td>1</td>\n",
              "      <td>0.957151</td>\n",
              "      <td>40</td>\n",
              "      <td>0</td>\n",
              "      <td>0.121876</td>\n",
              "      <td>2600.0</td>\n",
              "      <td>4</td>\n",
              "      <td>0</td>\n",
              "      <td>0</td>\n",
              "      <td>0</td>\n",
              "      <td>1.0</td>\n",
              "    </tr>\n",
              "    <tr>\n",
              "      <th>2</th>\n",
              "      <td>1</td>\n",
              "      <td>0.658180</td>\n",
              "      <td>38</td>\n",
              "      <td>1</td>\n",
              "      <td>0.085113</td>\n",
              "      <td>3042.0</td>\n",
              "      <td>2</td>\n",
              "      <td>1</td>\n",
              "      <td>0</td>\n",
              "      <td>0</td>\n",
              "      <td>0.0</td>\n",
              "    </tr>\n",
              "    <tr>\n",
              "      <th>3</th>\n",
              "      <td>1</td>\n",
              "      <td>0.233810</td>\n",
              "      <td>30</td>\n",
              "      <td>0</td>\n",
              "      <td>0.036050</td>\n",
              "      <td>3300.0</td>\n",
              "      <td>5</td>\n",
              "      <td>0</td>\n",
              "      <td>0</td>\n",
              "      <td>0</td>\n",
              "      <td>0.0</td>\n",
              "    </tr>\n",
              "    <tr>\n",
              "      <th>4</th>\n",
              "      <td>1</td>\n",
              "      <td>0.907239</td>\n",
              "      <td>49</td>\n",
              "      <td>1</td>\n",
              "      <td>0.024926</td>\n",
              "      <td>63588.0</td>\n",
              "      <td>7</td>\n",
              "      <td>0</td>\n",
              "      <td>1</td>\n",
              "      <td>0</td>\n",
              "      <td>0.0</td>\n",
              "    </tr>\n",
              "    <tr>\n",
              "      <th>...</th>\n",
              "      <td>...</td>\n",
              "      <td>...</td>\n",
              "      <td>...</td>\n",
              "      <td>...</td>\n",
              "      <td>...</td>\n",
              "      <td>...</td>\n",
              "      <td>...</td>\n",
              "      <td>...</td>\n",
              "      <td>...</td>\n",
              "      <td>...</td>\n",
              "      <td>...</td>\n",
              "    </tr>\n",
              "    <tr>\n",
              "      <th>120165</th>\n",
              "      <td>1</td>\n",
              "      <td>0.385742</td>\n",
              "      <td>50</td>\n",
              "      <td>0</td>\n",
              "      <td>0.404293</td>\n",
              "      <td>3400.0</td>\n",
              "      <td>7</td>\n",
              "      <td>0</td>\n",
              "      <td>0</td>\n",
              "      <td>0</td>\n",
              "      <td>0.0</td>\n",
              "    </tr>\n",
              "    <tr>\n",
              "      <th>120166</th>\n",
              "      <td>1</td>\n",
              "      <td>0.040674</td>\n",
              "      <td>74</td>\n",
              "      <td>0</td>\n",
              "      <td>0.225131</td>\n",
              "      <td>2100.0</td>\n",
              "      <td>4</td>\n",
              "      <td>0</td>\n",
              "      <td>1</td>\n",
              "      <td>0</td>\n",
              "      <td>0.0</td>\n",
              "    </tr>\n",
              "    <tr>\n",
              "      <th>120167</th>\n",
              "      <td>1</td>\n",
              "      <td>0.299745</td>\n",
              "      <td>44</td>\n",
              "      <td>0</td>\n",
              "      <td>0.716562</td>\n",
              "      <td>5584.0</td>\n",
              "      <td>4</td>\n",
              "      <td>0</td>\n",
              "      <td>1</td>\n",
              "      <td>0</td>\n",
              "      <td>2.0</td>\n",
              "    </tr>\n",
              "    <tr>\n",
              "      <th>120168</th>\n",
              "      <td>1</td>\n",
              "      <td>0.000000</td>\n",
              "      <td>30</td>\n",
              "      <td>0</td>\n",
              "      <td>0.000000</td>\n",
              "      <td>5716.0</td>\n",
              "      <td>4</td>\n",
              "      <td>0</td>\n",
              "      <td>0</td>\n",
              "      <td>0</td>\n",
              "      <td>0.0</td>\n",
              "    </tr>\n",
              "    <tr>\n",
              "      <th>120169</th>\n",
              "      <td>1</td>\n",
              "      <td>0.850283</td>\n",
              "      <td>64</td>\n",
              "      <td>0</td>\n",
              "      <td>0.249908</td>\n",
              "      <td>8158.0</td>\n",
              "      <td>8</td>\n",
              "      <td>0</td>\n",
              "      <td>2</td>\n",
              "      <td>0</td>\n",
              "      <td>0.0</td>\n",
              "    </tr>\n",
              "  </tbody>\n",
              "</table>\n",
              "<p>120170 rows × 11 columns</p>\n",
              "</div>\n",
              "      <button class=\"colab-df-convert\" onclick=\"convertToInteractive('df-d7260982-bcad-4460-af50-fc7c9d3da1b4')\"\n",
              "              title=\"Convert this dataframe to an interactive table.\"\n",
              "              style=\"display:none;\">\n",
              "        \n",
              "  <svg xmlns=\"http://www.w3.org/2000/svg\" height=\"24px\"viewBox=\"0 0 24 24\"\n",
              "       width=\"24px\">\n",
              "    <path d=\"M0 0h24v24H0V0z\" fill=\"none\"/>\n",
              "    <path d=\"M18.56 5.44l.94 2.06.94-2.06 2.06-.94-2.06-.94-.94-2.06-.94 2.06-2.06.94zm-11 1L8.5 8.5l.94-2.06 2.06-.94-2.06-.94L8.5 2.5l-.94 2.06-2.06.94zm10 10l.94 2.06.94-2.06 2.06-.94-2.06-.94-.94-2.06-.94 2.06-2.06.94z\"/><path d=\"M17.41 7.96l-1.37-1.37c-.4-.4-.92-.59-1.43-.59-.52 0-1.04.2-1.43.59L10.3 9.45l-7.72 7.72c-.78.78-.78 2.05 0 2.83L4 21.41c.39.39.9.59 1.41.59.51 0 1.02-.2 1.41-.59l7.78-7.78 2.81-2.81c.8-.78.8-2.07 0-2.86zM5.41 20L4 18.59l7.72-7.72 1.47 1.35L5.41 20z\"/>\n",
              "  </svg>\n",
              "      </button>\n",
              "      \n",
              "  <style>\n",
              "    .colab-df-container {\n",
              "      display:flex;\n",
              "      flex-wrap:wrap;\n",
              "      gap: 12px;\n",
              "    }\n",
              "\n",
              "    .colab-df-convert {\n",
              "      background-color: #E8F0FE;\n",
              "      border: none;\n",
              "      border-radius: 50%;\n",
              "      cursor: pointer;\n",
              "      display: none;\n",
              "      fill: #1967D2;\n",
              "      height: 32px;\n",
              "      padding: 0 0 0 0;\n",
              "      width: 32px;\n",
              "    }\n",
              "\n",
              "    .colab-df-convert:hover {\n",
              "      background-color: #E2EBFA;\n",
              "      box-shadow: 0px 1px 2px rgba(60, 64, 67, 0.3), 0px 1px 3px 1px rgba(60, 64, 67, 0.15);\n",
              "      fill: #174EA6;\n",
              "    }\n",
              "\n",
              "    [theme=dark] .colab-df-convert {\n",
              "      background-color: #3B4455;\n",
              "      fill: #D2E3FC;\n",
              "    }\n",
              "\n",
              "    [theme=dark] .colab-df-convert:hover {\n",
              "      background-color: #434B5C;\n",
              "      box-shadow: 0px 1px 3px 1px rgba(0, 0, 0, 0.15);\n",
              "      filter: drop-shadow(0px 1px 2px rgba(0, 0, 0, 0.3));\n",
              "      fill: #FFFFFF;\n",
              "    }\n",
              "  </style>\n",
              "\n",
              "      <script>\n",
              "        const buttonEl =\n",
              "          document.querySelector('#df-d7260982-bcad-4460-af50-fc7c9d3da1b4 button.colab-df-convert');\n",
              "        buttonEl.style.display =\n",
              "          google.colab.kernel.accessAllowed ? 'block' : 'none';\n",
              "\n",
              "        async function convertToInteractive(key) {\n",
              "          const element = document.querySelector('#df-d7260982-bcad-4460-af50-fc7c9d3da1b4');\n",
              "          const dataTable =\n",
              "            await google.colab.kernel.invokeFunction('convertToInteractive',\n",
              "                                                     [key], {});\n",
              "          if (!dataTable) return;\n",
              "\n",
              "          const docLinkHtml = 'Like what you see? Visit the ' +\n",
              "            '<a target=\"_blank\" href=https://colab.research.google.com/notebooks/data_table.ipynb>data table notebook</a>'\n",
              "            + ' to learn more about interactive tables.';\n",
              "          element.innerHTML = '';\n",
              "          dataTable['output_type'] = 'display_data';\n",
              "          await google.colab.output.renderOutput(dataTable, element);\n",
              "          const docLink = document.createElement('div');\n",
              "          docLink.innerHTML = docLinkHtml;\n",
              "          element.appendChild(docLink);\n",
              "        }\n",
              "      </script>\n",
              "    </div>\n",
              "  </div>\n",
              "  "
            ]
          },
          "metadata": {},
          "execution_count": 1120
        }
      ]
    },
    {
      "cell_type": "markdown",
      "source": [
        "Nice! It seems that our data is ok now. Let's try to understand more about our features, to see if that is something fishy about our data that we could not get by our initial analysis."
      ],
      "metadata": {
        "id": "UnDCswv8iFXY"
      }
    },
    {
      "cell_type": "markdown",
      "source": [
        "# Data Exploration\n",
        "\n",
        "Now, let's explore our data. First, let's see how unbalanced is our dataset:"
      ],
      "metadata": {
        "id": "94Uxgx34kkN_"
      }
    },
    {
      "cell_type": "code",
      "source": [
        "def plot_perc(feature, dataset):\n",
        "  plt.figure(figsize = (16, 6))\n",
        "  g = sns.countplot(x = feature, data = dataset, orient = 'h')\n",
        "\n",
        "  g.set_ylabel('Count', fontsize = 18)\n",
        "\n",
        "  sizes = []\n",
        "  for p in g.patches:\n",
        "    height = p.get_height( )\n",
        "    sizes.append(height)\n",
        "    g.text(p.get_x( ) + p.get_width( )*0.2, \n",
        "           height, \n",
        "           '{:1.2f}%'.format(height/len(dataset)*100),\n",
        "           ha = 'center', va = 'bottom', fontsize = 12)\n",
        "    \n",
        "  g.set_ylim(0, max(sizes)*1.1)"
      ],
      "metadata": {
        "id": "CbR5cFfGhEEg"
      },
      "execution_count": null,
      "outputs": []
    },
    {
      "cell_type": "code",
      "source": [
        "plot_perc('NoSeriousDlqin2yrs', df)"
      ],
      "metadata": {
        "colab": {
          "base_uri": "https://localhost:8080/",
          "height": 388
        },
        "id": "9u2pnTxMhKGs",
        "outputId": "1bc52939-390e-416e-b451-b4eba6e683e6"
      },
      "execution_count": null,
      "outputs": [
        {
          "output_type": "display_data",
          "data": {
            "text/plain": [
              "<Figure size 1152x432 with 1 Axes>"
            ],
            "image/png": "[encoded data removed]"
          },
          "metadata": {
            "needs_background": "light"
          }
        }
      ]
    },
    {
      "cell_type": "markdown",
      "source": [
        "So, in our dataset, only 6.95% of the entries are negatives, while 93.05% are positives. So, our dataset is **very** unbalanced. We will likely have to do something to balance our data, so that we are able to identify the negatives in our set.\n",
        "\n",
        "Now, let's try to understand more about some of our features. "
      ],
      "metadata": {
        "id": "kVehi1PWk3OB"
      }
    },
    {
      "cell_type": "markdown",
      "source": [
        "## Age\n",
        "\n",
        "First, let's see how is the age distribution in our set:"
      ],
      "metadata": {
        "id": "-KWyrn5p-gSN"
      }
    },
    {
      "cell_type": "code",
      "source": [
        "plt.figure(figsize = (16, 8))\n",
        "\n",
        "sns.histplot(df.age, bins = 30, stat = 'density', kde = True)"
      ],
      "metadata": {
        "colab": {
          "base_uri": "https://localhost:8080/",
          "height": 515
        },
        "id": "YghgaWiGkzer",
        "outputId": "0a8661b8-3183-49ed-aa7d-7cd8b6d03bcf"
      },
      "execution_count": null,
      "outputs": [
        {
          "output_type": "execute_result",
          "data": {
            "text/plain": [
              "<matplotlib.axes._subplots.AxesSubplot at 0x7f76548b8350>"
            ]
          },
          "metadata": {},
          "execution_count": 1123
        },
        {
          "output_type": "display_data",
          "data": {
            "text/plain": [
              "<Figure size 1152x576 with 1 Axes>"
            ],
            "image/png": "[encoded data removed]"
          },
          "metadata": {
            "needs_background": "light"
          }
        }
      ]
    },
    {
      "cell_type": "markdown",
      "source": [
        "For some reason, our age distribution seems to have some spikes. Let's try to draw a boxplot for the age, and understand if the age influences in our target:"
      ],
      "metadata": {
        "id": "WrceqhDLl0Fh"
      }
    },
    {
      "cell_type": "code",
      "source": [
        "sns.boxplot(x = 'NoSeriousDlqin2yrs', y = 'age', data = df)"
      ],
      "metadata": {
        "colab": {
          "base_uri": "https://localhost:8080/",
          "height": 297
        },
        "id": "b53Qxev9ll5e",
        "outputId": "0dfff694-3e24-4816-9364-008faeb96b9f"
      },
      "execution_count": null,
      "outputs": [
        {
          "output_type": "execute_result",
          "data": {
            "text/plain": [
              "<matplotlib.axes._subplots.AxesSubplot at 0x7f76547b2dd0>"
            ]
          },
          "metadata": {},
          "execution_count": 1124
        },
        {
          "output_type": "display_data",
          "data": {
            "text/plain": [
              "<Figure size 432x288 with 1 Axes>"
            ],
            "image/png": "[encoded data removed]"
          },
          "metadata": {
            "needs_background": "light"
          }
        }
      ]
    },
    {
      "cell_type": "markdown",
      "source": [
        "It seems that younger people are slightly more likely to experience financial distress. We can check this hypothesis using a Mann-Whitney test:\n",
        "\n",
        "\\begin{equation}\n",
        "H_0 : \\text{Group 0 does not present lower values ($\\mu_0 \\geq \\mu_1$).}\n",
        "\\end{equation}\n",
        "\n",
        "\\begin{equation}\n",
        "H_1 : \\text{Group 0 usually presents lower values ($\\mu_0 < \\mu_1$).}\n",
        "\\end{equation}"
      ],
      "metadata": {
        "id": "ufQ0PO2tmOji"
      }
    },
    {
      "cell_type": "code",
      "source": [
        "df_0 = df.query(\"NoSeriousDlqin2yrs == 0\")\n",
        "df_1 = df.query(\"NoSeriousDlqin2yrs == 1\")\n",
        "\n",
        "mannwhitneyu(df_0.age, df_1.age, alternative = 'less')"
      ],
      "metadata": {
        "colab": {
          "base_uri": "https://localhost:8080/"
        },
        "id": "2-VwKKj1mJS0",
        "outputId": "609ae8f7-8e4e-4063-d3c3-08f2cd338e6c"
      },
      "execution_count": null,
      "outputs": [
        {
          "output_type": "execute_result",
          "data": {
            "text/plain": [
              "MannwhitneyuResult(statistic=356610979.5, pvalue=3.448977896553105e-286)"
            ]
          },
          "metadata": {},
          "execution_count": 1125
        }
      ]
    },
    {
      "cell_type": "markdown",
      "source": [
        "Since our p-value is very low, we can reject the null hypothesis, and accept the alternative hypothesis (younger people are more likely to experience financial distress).\n",
        "\n",
        "Also, note that, by the boxplot, we can see that we have some entries with age = 0. This is likely a misplaced entry. Let's drop those:"
      ],
      "metadata": {
        "id": "tFwLQ6uKnURA"
      }
    },
    {
      "cell_type": "code",
      "source": [
        "df.drop(df.query(\"age == 0\").index, inplace = True)"
      ],
      "metadata": {
        "id": "4TZOsb2OTvA2"
      },
      "execution_count": null,
      "outputs": []
    },
    {
      "cell_type": "markdown",
      "source": [
        "## Number of times past due\n",
        "\n",
        "Now, let's us a bar plot to get how the number of times the person got a 30-59 days past due (but not worse):"
      ],
      "metadata": {
        "id": "IGoPX8wUvCVE"
      }
    },
    {
      "cell_type": "code",
      "source": [
        "sns.barplot(x = 'NoSeriousDlqin2yrs', y = 'NumberOfTime30-59DaysPastDueNotWorse', data = df)"
      ],
      "metadata": {
        "colab": {
          "base_uri": "https://localhost:8080/",
          "height": 298
        },
        "id": "0ish9wfgmwbv",
        "outputId": "8322469c-106f-46a6-f25a-cb6627c5de7d"
      },
      "execution_count": null,
      "outputs": [
        {
          "output_type": "execute_result",
          "data": {
            "text/plain": [
              "<matplotlib.axes._subplots.AxesSubplot at 0x7f765477c5d0>"
            ]
          },
          "metadata": {},
          "execution_count": 1127
        },
        {
          "output_type": "display_data",
          "data": {
            "text/plain": [
              "<Figure size 432x288 with 1 Axes>"
            ],
            "image/png": "[encoded data removed]"
          },
          "metadata": {
            "needs_background": "light"
          }
        }
      ]
    },
    {
      "cell_type": "markdown",
      "source": [
        "So, the mean number of times the person got a 30-59 days past due (but not worse) seems to be highly related to the target. Now, let's do a similar plot, now for the number of times the person got a 60-89 days past due (but not worse):"
      ],
      "metadata": {
        "id": "k4N3Wl3UvYQZ"
      }
    },
    {
      "cell_type": "code",
      "source": [
        "sns.barplot(x = 'NoSeriousDlqin2yrs', y = 'NumberOfTime60-89DaysPastDueNotWorse', data = df)"
      ],
      "metadata": {
        "colab": {
          "base_uri": "https://localhost:8080/",
          "height": 298
        },
        "id": "CgoHji5hvNJD",
        "outputId": "f8d1dbcc-69ec-4cce-ec5b-2c47886b0320"
      },
      "execution_count": null,
      "outputs": [
        {
          "output_type": "execute_result",
          "data": {
            "text/plain": [
              "<matplotlib.axes._subplots.AxesSubplot at 0x7f76547041d0>"
            ]
          },
          "metadata": {},
          "execution_count": 1128
        },
        {
          "output_type": "display_data",
          "data": {
            "text/plain": [
              "<Figure size 432x288 with 1 Axes>"
            ],
            "image/png": "[encoded data removed]"
          },
          "metadata": {
            "needs_background": "light"
          }
        }
      ]
    },
    {
      "cell_type": "markdown",
      "source": [
        "Again, highly related to the target. Also, so does the number of 90 days late:"
      ],
      "metadata": {
        "id": "IdCaPgKDvm_A"
      }
    },
    {
      "cell_type": "code",
      "source": [
        "sns.barplot(x = 'NoSeriousDlqin2yrs', y = 'NumberOfTimes90DaysLate', data = df)"
      ],
      "metadata": {
        "colab": {
          "base_uri": "https://localhost:8080/",
          "height": 297
        },
        "id": "G4n_Fot5xLo5",
        "outputId": "784f9e83-ac5c-423e-feaa-5d5563dba89f"
      },
      "execution_count": null,
      "outputs": [
        {
          "output_type": "execute_result",
          "data": {
            "text/plain": [
              "<matplotlib.axes._subplots.AxesSubplot at 0x7f76546daf90>"
            ]
          },
          "metadata": {},
          "execution_count": 1129
        },
        {
          "output_type": "display_data",
          "data": {
            "text/plain": [
              "<Figure size 432x288 with 1 Axes>"
            ],
            "image/png": "[encoded data removed]"
          },
          "metadata": {
            "needs_background": "light"
          }
        }
      ]
    },
    {
      "cell_type": "markdown",
      "source": [
        "## Monthly Income\n",
        "\n",
        "Now, let's try to understand how the monthly income affects the target:"
      ],
      "metadata": {
        "id": "lO7V9u5evuYB"
      }
    },
    {
      "cell_type": "code",
      "source": [
        "sns.boxplot(x = 'NoSeriousDlqin2yrs', y = 'MonthlyIncome', data = df)\n",
        "plt.ylim([0, 20000])"
      ],
      "metadata": {
        "colab": {
          "base_uri": "https://localhost:8080/",
          "height": 301
        },
        "id": "JkolR8UPvlOk",
        "outputId": "7afecc67-7147-43de-f39c-33ade3d1ac12"
      },
      "execution_count": null,
      "outputs": [
        {
          "output_type": "execute_result",
          "data": {
            "text/plain": [
              "(0.0, 20000.0)"
            ]
          },
          "metadata": {},
          "execution_count": 1130
        },
        {
          "output_type": "display_data",
          "data": {
            "text/plain": [
              "<Figure size 432x288 with 1 Axes>"
            ],
            "image/png": "[encoded data removed]"
          },
          "metadata": {
            "needs_background": "light"
          }
        }
      ]
    },
    {
      "cell_type": "markdown",
      "source": [
        "So, it seems that a lower income is related to a higher probability of financial distress. We can check this again using a test:\n",
        "\n",
        "\\begin{equation}\n",
        "H_0 : \\text{Group 0 does not present lower values ($\\mu_0 \\geq \\mu_1$).}\n",
        "\\end{equation}\n",
        "\n",
        "\\begin{equation}\n",
        "H_1 : \\text{Group 0 usually presents lower values ($\\mu_0 < \\mu_1$).}\n",
        "\\end{equation}"
      ],
      "metadata": {
        "id": "I1LgJ3I0v-V1"
      }
    },
    {
      "cell_type": "code",
      "source": [
        "mannwhitneyu(df_0.MonthlyIncome, df_1.MonthlyIncome, alternative = 'less')"
      ],
      "metadata": {
        "colab": {
          "base_uri": "https://localhost:8080/"
        },
        "outputId": "14083c55-d847-43d3-b3f6-9ac207711212",
        "id": "Rr39cSlhwH-Z"
      },
      "execution_count": null,
      "outputs": [
        {
          "output_type": "execute_result",
          "data": {
            "text/plain": [
              "MannwhitneyuResult(statistic=395718967.5, pvalue=8.684035037066852e-121)"
            ]
          },
          "metadata": {},
          "execution_count": 1131
        }
      ]
    },
    {
      "cell_type": "markdown",
      "source": [
        "Again, since the p-value is lower than 0.05, we can reject the null hypothesis, and consider that a lower income is related to a higher probability of financial distress. "
      ],
      "metadata": {
        "id": "1Tvqt3mTwPgL"
      }
    },
    {
      "cell_type": "markdown",
      "source": [
        "## Debt Ratio and Revolving Utilization of Unsecured Lines\n",
        "\n",
        "Let's try to understand more about our debt ratio and revolving utilization of unsecured lines features. Note that these features express percentages and, as such, should be between 0 and 1. First, for debt ratio:"
      ],
      "metadata": {
        "id": "_Uam1-C1-8x9"
      }
    },
    {
      "cell_type": "code",
      "source": [
        "df.DebtRatio.describe( )"
      ],
      "metadata": {
        "colab": {
          "base_uri": "https://localhost:8080/"
        },
        "id": "vFvc9IOvyeyq",
        "outputId": "888d3a6b-9237-4cfb-e9dd-d19c486ec759"
      },
      "execution_count": null,
      "outputs": [
        {
          "output_type": "execute_result",
          "data": {
            "text/plain": [
              "count    120169.000000\n",
              "mean         26.620898\n",
              "std         424.622333\n",
              "min           0.000000\n",
              "25%           0.143842\n",
              "50%           0.296171\n",
              "75%           0.482710\n",
              "max       61106.500000\n",
              "Name: DebtRatio, dtype: float64"
            ]
          },
          "metadata": {},
          "execution_count": 1132
        }
      ]
    },
    {
      "cell_type": "markdown",
      "source": [
        "Our maximum value is 61106, and our mean value is 26.59. That is very strange, since the debt ratio should be between 0 and 1. It seems that this feature is not representing the true data. \n",
        "\n",
        "Now, let's use a similar method for the Revolving Utilization of Unsecured Lines:"
      ],
      "metadata": {
        "id": "ppowuExyyhlw"
      }
    },
    {
      "cell_type": "code",
      "source": [
        "df.RevolvingUtilizationOfUnsecuredLines.describe( )"
      ],
      "metadata": {
        "colab": {
          "base_uri": "https://localhost:8080/"
        },
        "id": "3NaIS_wU_QZk",
        "outputId": "62ff4d44-132d-4748-8392-51e8f2f56984"
      },
      "execution_count": null,
      "outputs": [
        {
          "output_type": "execute_result",
          "data": {
            "text/plain": [
              "count    120169.000000\n",
              "mean          5.904324\n",
              "std         257.147566\n",
              "min           0.000000\n",
              "25%           0.035149\n",
              "50%           0.177257\n",
              "75%           0.578850\n",
              "max       50708.000000\n",
              "Name: RevolvingUtilizationOfUnsecuredLines, dtype: float64"
            ]
          },
          "metadata": {},
          "execution_count": 1133
        }
      ]
    },
    {
      "cell_type": "markdown",
      "source": [
        "Again, a similar problem. Let's try to understand the number of incorrectly placed entries. Here, we will consider that the wrongfully placed entries are those higher than 5.0 (maybe someone actually has a debt ratio higher than 1.0, but it should not be that much higher)."
      ],
      "metadata": {
        "id": "C3zB8NtD_XH2"
      }
    },
    {
      "cell_type": "code",
      "source": [
        "n_wrong_debtratio = df.query(\"DebtRatio > 5.0\").shape[0]\n",
        "n_wrong_unsecured = df.query(\"RevolvingUtilizationOfUnsecuredLines > 5.0\").shape[0]\n",
        "\n",
        "print(\"Number of entries higher than 5.0:\")\n",
        "print(f\"Debt ratio: {n_wrong_debtratio}\")\n",
        "print(f\"Revolving utilization of unsecured lines: {n_wrong_unsecured}\")"
      ],
      "metadata": {
        "colab": {
          "base_uri": "https://localhost:8080/"
        },
        "id": "l93RjZBz_d_H",
        "outputId": "119a017f-cbe5-4cdb-b789-a71839902eee"
      },
      "execution_count": null,
      "outputs": [
        {
          "output_type": "stream",
          "name": "stdout",
          "text": [
            "Number of entries higher than 5.0:\n",
            "Debt ratio: 2352\n",
            "Revolving utilization of unsecured lines: 182\n"
          ]
        }
      ]
    },
    {
      "cell_type": "markdown",
      "source": [
        "So, it seems that a large part of our dataset has a wrongfully placed debt ratio. However, very few entries have a wrongfully placed revolving utilization of unsecured lines. Here, we will:\n",
        "\n",
        "*   Drop the debt ratio feature.\n",
        "*   Drop the entries with a wrongfully placed revolving utilization of unsecured lines.\n",
        "\n"
      ],
      "metadata": {
        "id": "hqmXirG-AIun"
      }
    },
    {
      "cell_type": "code",
      "source": [
        "# Dropping debt ratio\n",
        "\n",
        "drop_features = ['DebtRatio']\n",
        "df.drop(drop_features, axis = 1, inplace = True)\n",
        "\n",
        "# Dropping wrong entries (for RevolvingUtilizationOfUnsecuredLines)\n",
        "\n",
        "df.drop(df.query(\"RevolvingUtilizationOfUnsecuredLines > 5.0\").index, inplace = True)"
      ],
      "metadata": {
        "id": "HrY9r2dOzV_h"
      },
      "execution_count": null,
      "outputs": []
    },
    {
      "cell_type": "markdown",
      "source": [
        "## Number of open credit lines and loans and number of real estate loans of lines\n",
        "\n",
        "Now, let's see how the number of credit lines affect our target. Here, again, we will analyze using boxplots:"
      ],
      "metadata": {
        "id": "cF6qU5gvBBxD"
      }
    },
    {
      "cell_type": "code",
      "source": [
        "sns.boxplot(x = 'NoSeriousDlqin2yrs', y = 'NumberOfOpenCreditLinesAndLoans', data = df)"
      ],
      "metadata": {
        "colab": {
          "base_uri": "https://localhost:8080/",
          "height": 298
        },
        "id": "gSwRM_9yBUIm",
        "outputId": "1be4b1fd-7538-4aaa-ec5a-47a24b678ea3"
      },
      "execution_count": null,
      "outputs": [
        {
          "output_type": "execute_result",
          "data": {
            "text/plain": [
              "<matplotlib.axes._subplots.AxesSubplot at 0x7f76545eaa10>"
            ]
          },
          "metadata": {},
          "execution_count": 1136
        },
        {
          "output_type": "display_data",
          "data": {
            "text/plain": [
              "<Figure size 432x288 with 1 Axes>"
            ],
            "image/png": "[encoded data removed]"
          },
          "metadata": {
            "needs_background": "light"
          }
        }
      ]
    },
    {
      "cell_type": "code",
      "source": [
        "sns.boxplot(x = 'NoSeriousDlqin2yrs', y = 'NumberRealEstateLoansOrLines', data = df)"
      ],
      "metadata": {
        "colab": {
          "base_uri": "https://localhost:8080/",
          "height": 297
        },
        "id": "ANP_BDHXBUp4",
        "outputId": "05d0b94a-aaab-435f-a8f3-849be0d7e32f"
      },
      "execution_count": null,
      "outputs": [
        {
          "output_type": "execute_result",
          "data": {
            "text/plain": [
              "<matplotlib.axes._subplots.AxesSubplot at 0x7f7656780b10>"
            ]
          },
          "metadata": {},
          "execution_count": 1137
        },
        {
          "output_type": "display_data",
          "data": {
            "text/plain": [
              "<Figure size 432x288 with 1 Axes>"
            ],
            "image/png": "[encoded data removed]"
          },
          "metadata": {
            "needs_background": "light"
          }
        }
      ]
    },
    {
      "cell_type": "markdown",
      "source": [
        "Note that, actually, people in financial distress seem to have fewer open credit lines/real estate loans. Once again, let's use a test to confirm this hypothesis:\n",
        "\n",
        "\\begin{equation}\n",
        "H_0 : \\text{Group 1 does not present lower values ($\\mu_1 \\geq \\mu_0$).}\n",
        "\\end{equation}\n",
        "\n",
        "\\begin{equation}\n",
        "H_1 : \\text{Group 1 usually presents lower values ($\\mu_1 < \\mu_0$).}\n",
        "\\end{equation}"
      ],
      "metadata": {
        "id": "co0Mp8mqBYS9"
      }
    },
    {
      "cell_type": "code",
      "source": [
        "mannwhitneyu(df_0.NumberOfOpenCreditLinesAndLoans, df_1.NumberOfOpenCreditLinesAndLoans, alternative = 'less')"
      ],
      "metadata": {
        "colab": {
          "base_uri": "https://localhost:8080/"
        },
        "id": "yHOU1tZ6Bsfc",
        "outputId": "a2537269-ef6c-4521-97f2-d701a2ae8319"
      },
      "execution_count": null,
      "outputs": [
        {
          "output_type": "execute_result",
          "data": {
            "text/plain": [
              "MannwhitneyuResult(statistic=429446737.5, pvalue=2.7376223749181453e-35)"
            ]
          },
          "metadata": {},
          "execution_count": 1138
        }
      ]
    },
    {
      "cell_type": "code",
      "source": [
        "mannwhitneyu(df_0.NumberRealEstateLoansOrLines, df_1.NumberRealEstateLoansOrLines, alternative = 'less')"
      ],
      "metadata": {
        "colab": {
          "base_uri": "https://localhost:8080/"
        },
        "id": "1Q05awmGBsTv",
        "outputId": "be915d7e-2c81-4b31-b87f-fb4f8c1c5b01"
      },
      "execution_count": null,
      "outputs": [
        {
          "output_type": "execute_result",
          "data": {
            "text/plain": [
              "MannwhitneyuResult(statistic=435872429.0, pvalue=2.5836441221079157e-27)"
            ]
          },
          "metadata": {},
          "execution_count": 1139
        }
      ]
    },
    {
      "cell_type": "markdown",
      "source": [
        "Again, since our p-values are lower than the test significance (considered here to be 0.05), we reject the null hypothesis. "
      ],
      "metadata": {
        "id": "Pvp6un3aCEYd"
      }
    },
    {
      "cell_type": "markdown",
      "source": [
        "## Number of dependents\n",
        "\n",
        "Now, let's go to our final variable, related to the number of dependents. Here, we will do an analysis very similar to the previous one. Let's plot a boxplot:"
      ],
      "metadata": {
        "id": "eTljVkDiCLwF"
      }
    },
    {
      "cell_type": "code",
      "source": [
        "sns.boxplot(x = 'NoSeriousDlqin2yrs', y = 'NumberOfDependents', data = df)"
      ],
      "metadata": {
        "colab": {
          "base_uri": "https://localhost:8080/",
          "height": 297
        },
        "id": "8pidVtvsCXie",
        "outputId": "e839edf0-f6a0-4bfd-ae58-e181b30a29c3"
      },
      "execution_count": null,
      "outputs": [
        {
          "output_type": "execute_result",
          "data": {
            "text/plain": [
              "<matplotlib.axes._subplots.AxesSubplot at 0x7f76544da910>"
            ]
          },
          "metadata": {},
          "execution_count": 1140
        },
        {
          "output_type": "display_data",
          "data": {
            "text/plain": [
              "<Figure size 432x288 with 1 Axes>"
            ],
            "image/png": "[encoded data removed]"
          },
          "metadata": {
            "needs_background": "light"
          }
        }
      ]
    },
    {
      "cell_type": "markdown",
      "source": [
        "Here, it seems that, as someone has more dependents, they are more likely to be in financial distress. At the same time, there are some people (outliers) who have a lot of dependents and are not in financial distress. Let's make a test:\n",
        "\n",
        "\\begin{equation}\n",
        "H_0 : \\text{Group 0 does not present greater values ($\\mu_0 \\leq \\mu_1$).}\n",
        "\\end{equation}\n",
        "\n",
        "\\begin{equation}\n",
        "H_1 : \\text{Group 0 usually presents greater values ($\\mu_0 > \\mu_1$).}\n",
        "\\end{equation}"
      ],
      "metadata": {
        "id": "l0Jg39RXCiMt"
      }
    },
    {
      "cell_type": "code",
      "source": [
        "mannwhitneyu(df_0.NumberOfDependents, df_1.NumberOfDependents, alternative = 'greater')"
      ],
      "metadata": {
        "colab": {
          "base_uri": "https://localhost:8080/"
        },
        "id": "c4GVVYYTCg5m",
        "outputId": "89890655-7739-4e30-af57-f83c08945fd5"
      },
      "execution_count": null,
      "outputs": [
        {
          "output_type": "execute_result",
          "data": {
            "text/plain": [
              "MannwhitneyuResult(statistic=512379400.0, pvalue=7.259093784964209e-60)"
            ]
          },
          "metadata": {},
          "execution_count": 1141
        }
      ]
    },
    {
      "cell_type": "markdown",
      "source": [
        "Again, a p-value lower than 0.05. So, we reject the null hypothesis."
      ],
      "metadata": {
        "id": "aPs3w1oeC3ax"
      }
    },
    {
      "cell_type": "markdown",
      "source": [
        "## Correlation between features\n",
        "\n",
        "Finally, let's check the correlation between our features:"
      ],
      "metadata": {
        "id": "gNTz7kzjya5A"
      }
    },
    {
      "cell_type": "code",
      "source": [
        "plt.figure(figsize=(12, 11))\n",
        "\n",
        "mask = np.triu(np.ones_like(df.corr(), dtype=np.bool))\n",
        "\n",
        "heatmap = sns.heatmap(df.corr(), mask=mask, vmin=-1, vmax=1, annot=True, cmap='BrBG')"
      ],
      "metadata": {
        "colab": {
          "base_uri": "https://localhost:8080/",
          "height": 934
        },
        "id": "hMPVfhl1wk2M",
        "outputId": "60268c45-c52b-47de-c81d-c68475950f9f"
      },
      "execution_count": null,
      "outputs": [
        {
          "output_type": "stream",
          "name": "stderr",
          "text": [
            "/usr/local/lib/python3.7/dist-packages/ipykernel_launcher.py:3: DeprecationWarning: `np.bool` is a deprecated alias for the builtin `bool`. To silence this warning, use `bool` by itself. Doing this will not modify any behavior and is safe. If you specifically wanted the numpy scalar type, use `np.bool_` here.\n",
            "Deprecated in NumPy 1.20; for more details and guidance: https://numpy.org/devdocs/release/1.20.0-notes.html#deprecations\n",
            "  This is separate from the ipykernel package so we can avoid doing imports until\n"
          ]
        },
        {
          "output_type": "display_data",
          "data": {
            "text/plain": [
              "<Figure size 864x792 with 2 Axes>"
            ],
            "image/png": "[encoded data removed]"
          },
          "metadata": {
            "needs_background": "light"
          }
        }
      ]
    },
    {
      "cell_type": "markdown",
      "source": [
        "Note that there is a very high correlation between the features related to debts 'NumberOfTime30-59DaysPastDueNotWorse', 'NumberOfTime60-89DaysPastDueNotWorse', and 'NumberOfTimes90DaysLate'. Here, we should drop two of those. Besides those features, no other feature presents a particularly high correlation with another feature.\n",
        "\n",
        "So, instead of dropping the features, we will actually create a new feature, name 'NumberOfTimes30DaysLate'. This feature will basically be the sum between those three highly correlated features. Thus, let's try to do it:"
      ],
      "metadata": {
        "id": "hfbvrxGPxWpp"
      }
    },
    {
      "cell_type": "code",
      "source": [
        "df['NumberOfTimes30DaysLate'] = df['NumberOfTime30-59DaysPastDueNotWorse'] + df['NumberOfTime60-89DaysPastDueNotWorse'] + df['NumberOfTimes90DaysLate']"
      ],
      "metadata": {
        "id": "sbl8ZlY3DXvu"
      },
      "execution_count": null,
      "outputs": []
    },
    {
      "cell_type": "markdown",
      "source": [
        "Now, let's drop our features:"
      ],
      "metadata": {
        "id": "PA4A8eqbDxoJ"
      }
    },
    {
      "cell_type": "code",
      "source": [
        "drop_features = ['NumberOfTime30-59DaysPastDueNotWorse', 'NumberOfTime60-89DaysPastDueNotWorse', 'NumberOfTimes90DaysLate']\n",
        "\n",
        "df.drop(drop_features, axis = 1, inplace = True)"
      ],
      "metadata": {
        "id": "IDRQkiqTw8qk"
      },
      "execution_count": null,
      "outputs": []
    },
    {
      "cell_type": "markdown",
      "source": [
        "Ok, so we end up with the following dataset:"
      ],
      "metadata": {
        "id": "vLfSDsxszlwg"
      }
    },
    {
      "cell_type": "code",
      "source": [
        "df.head( )"
      ],
      "metadata": {
        "colab": {
          "base_uri": "https://localhost:8080/",
          "height": 270
        },
        "id": "cp4bVYM7yNQ_",
        "outputId": "17fdd719-d30d-4e3c-c7c0-640af78c3a28"
      },
      "execution_count": null,
      "outputs": [
        {
          "output_type": "execute_result",
          "data": {
            "text/plain": [
              "   NoSeriousDlqin2yrs  RevolvingUtilizationOfUnsecuredLines  age  \\\n",
              "0                   0                              0.766127   45   \n",
              "1                   1                              0.957151   40   \n",
              "2                   1                              0.658180   38   \n",
              "3                   1                              0.233810   30   \n",
              "4                   1                              0.907239   49   \n",
              "\n",
              "   MonthlyIncome  NumberOfOpenCreditLinesAndLoans  \\\n",
              "0         9120.0                               13   \n",
              "1         2600.0                                4   \n",
              "2         3042.0                                2   \n",
              "3         3300.0                                5   \n",
              "4        63588.0                                7   \n",
              "\n",
              "   NumberRealEstateLoansOrLines  NumberOfDependents  NumberOfTimes30DaysLate  \n",
              "0                             6                 2.0                        2  \n",
              "1                             0                 1.0                        0  \n",
              "2                             0                 0.0                        2  \n",
              "3                             0                 0.0                        0  \n",
              "4                             1                 0.0                        1  "
            ],
            "text/html": [
              "\n",
              "  <div id=\"df-c6c8a954-7def-4a22-abe4-a81f339cd28a\">\n",
              "    <div class=\"colab-df-container\">\n",
              "      <div>\n",
              "<style scoped>\n",
              "    .dataframe tbody tr th:only-of-type {\n",
              "        vertical-align: middle;\n",
              "    }\n",
              "\n",
              "    .dataframe tbody tr th {\n",
              "        vertical-align: top;\n",
              "    }\n",
              "\n",
              "    .dataframe thead th {\n",
              "        text-align: right;\n",
              "    }\n",
              "</style>\n",
              "<table border=\"1\" class=\"dataframe\">\n",
              "  <thead>\n",
              "    <tr style=\"text-align: right;\">\n",
              "      <th></th>\n",
              "      <th>NoSeriousDlqin2yrs</th>\n",
              "      <th>RevolvingUtilizationOfUnsecuredLines</th>\n",
              "      <th>age</th>\n",
              "      <th>MonthlyIncome</th>\n",
              "      <th>NumberOfOpenCreditLinesAndLoans</th>\n",
              "      <th>NumberRealEstateLoansOrLines</th>\n",
              "      <th>NumberOfDependents</th>\n",
              "      <th>NumberOfTimes30DaysLate</th>\n",
              "    </tr>\n",
              "  </thead>\n",
              "  <tbody>\n",
              "    <tr>\n",
              "      <th>0</th>\n",
              "      <td>0</td>\n",
              "      <td>0.766127</td>\n",
              "      <td>45</td>\n",
              "      <td>9120.0</td>\n",
              "      <td>13</td>\n",
              "      <td>6</td>\n",
              "      <td>2.0</td>\n",
              "      <td>2</td>\n",
              "    </tr>\n",
              "    <tr>\n",
              "      <th>1</th>\n",
              "      <td>1</td>\n",
              "      <td>0.957151</td>\n",
              "      <td>40</td>\n",
              "      <td>2600.0</td>\n",
              "      <td>4</td>\n",
              "      <td>0</td>\n",
              "      <td>1.0</td>\n",
              "      <td>0</td>\n",
              "    </tr>\n",
              "    <tr>\n",
              "      <th>2</th>\n",
              "      <td>1</td>\n",
              "      <td>0.658180</td>\n",
              "      <td>38</td>\n",
              "      <td>3042.0</td>\n",
              "      <td>2</td>\n",
              "      <td>0</td>\n",
              "      <td>0.0</td>\n",
              "      <td>2</td>\n",
              "    </tr>\n",
              "    <tr>\n",
              "      <th>3</th>\n",
              "      <td>1</td>\n",
              "      <td>0.233810</td>\n",
              "      <td>30</td>\n",
              "      <td>3300.0</td>\n",
              "      <td>5</td>\n",
              "      <td>0</td>\n",
              "      <td>0.0</td>\n",
              "      <td>0</td>\n",
              "    </tr>\n",
              "    <tr>\n",
              "      <th>4</th>\n",
              "      <td>1</td>\n",
              "      <td>0.907239</td>\n",
              "      <td>49</td>\n",
              "      <td>63588.0</td>\n",
              "      <td>7</td>\n",
              "      <td>1</td>\n",
              "      <td>0.0</td>\n",
              "      <td>1</td>\n",
              "    </tr>\n",
              "  </tbody>\n",
              "</table>\n",
              "</div>\n",
              "      <button class=\"colab-df-convert\" onclick=\"convertToInteractive('df-c6c8a954-7def-4a22-abe4-a81f339cd28a')\"\n",
              "              title=\"Convert this dataframe to an interactive table.\"\n",
              "              style=\"display:none;\">\n",
              "        \n",
              "  <svg xmlns=\"http://www.w3.org/2000/svg\" height=\"24px\"viewBox=\"0 0 24 24\"\n",
              "       width=\"24px\">\n",
              "    <path d=\"M0 0h24v24H0V0z\" fill=\"none\"/>\n",
              "    <path d=\"M18.56 5.44l.94 2.06.94-2.06 2.06-.94-2.06-.94-.94-2.06-.94 2.06-2.06.94zm-11 1L8.5 8.5l.94-2.06 2.06-.94-2.06-.94L8.5 2.5l-.94 2.06-2.06.94zm10 10l.94 2.06.94-2.06 2.06-.94-2.06-.94-.94-2.06-.94 2.06-2.06.94z\"/><path d=\"M17.41 7.96l-1.37-1.37c-.4-.4-.92-.59-1.43-.59-.52 0-1.04.2-1.43.59L10.3 9.45l-7.72 7.72c-.78.78-.78 2.05 0 2.83L4 21.41c.39.39.9.59 1.41.59.51 0 1.02-.2 1.41-.59l7.78-7.78 2.81-2.81c.8-.78.8-2.07 0-2.86zM5.41 20L4 18.59l7.72-7.72 1.47 1.35L5.41 20z\"/>\n",
              "  </svg>\n",
              "      </button>\n",
              "      \n",
              "  <style>\n",
              "    .colab-df-container {\n",
              "      display:flex;\n",
              "      flex-wrap:wrap;\n",
              "      gap: 12px;\n",
              "    }\n",
              "\n",
              "    .colab-df-convert {\n",
              "      background-color: #E8F0FE;\n",
              "      border: none;\n",
              "      border-radius: 50%;\n",
              "      cursor: pointer;\n",
              "      display: none;\n",
              "      fill: #1967D2;\n",
              "      height: 32px;\n",
              "      padding: 0 0 0 0;\n",
              "      width: 32px;\n",
              "    }\n",
              "\n",
              "    .colab-df-convert:hover {\n",
              "      background-color: #E2EBFA;\n",
              "      box-shadow: 0px 1px 2px rgba(60, 64, 67, 0.3), 0px 1px 3px 1px rgba(60, 64, 67, 0.15);\n",
              "      fill: #174EA6;\n",
              "    }\n",
              "\n",
              "    [theme=dark] .colab-df-convert {\n",
              "      background-color: #3B4455;\n",
              "      fill: #D2E3FC;\n",
              "    }\n",
              "\n",
              "    [theme=dark] .colab-df-convert:hover {\n",
              "      background-color: #434B5C;\n",
              "      box-shadow: 0px 1px 3px 1px rgba(0, 0, 0, 0.15);\n",
              "      filter: drop-shadow(0px 1px 2px rgba(0, 0, 0, 0.3));\n",
              "      fill: #FFFFFF;\n",
              "    }\n",
              "  </style>\n",
              "\n",
              "      <script>\n",
              "        const buttonEl =\n",
              "          document.querySelector('#df-c6c8a954-7def-4a22-abe4-a81f339cd28a button.colab-df-convert');\n",
              "        buttonEl.style.display =\n",
              "          google.colab.kernel.accessAllowed ? 'block' : 'none';\n",
              "\n",
              "        async function convertToInteractive(key) {\n",
              "          const element = document.querySelector('#df-c6c8a954-7def-4a22-abe4-a81f339cd28a');\n",
              "          const dataTable =\n",
              "            await google.colab.kernel.invokeFunction('convertToInteractive',\n",
              "                                                     [key], {});\n",
              "          if (!dataTable) return;\n",
              "\n",
              "          const docLinkHtml = 'Like what you see? Visit the ' +\n",
              "            '<a target=\"_blank\" href=https://colab.research.google.com/notebooks/data_table.ipynb>data table notebook</a>'\n",
              "            + ' to learn more about interactive tables.';\n",
              "          element.innerHTML = '';\n",
              "          dataTable['output_type'] = 'display_data';\n",
              "          await google.colab.output.renderOutput(dataTable, element);\n",
              "          const docLink = document.createElement('div');\n",
              "          docLink.innerHTML = docLinkHtml;\n",
              "          element.appendChild(docLink);\n",
              "        }\n",
              "      </script>\n",
              "    </div>\n",
              "  </div>\n",
              "  "
            ]
          },
          "metadata": {},
          "execution_count": 1145
        }
      ]
    },
    {
      "cell_type": "markdown",
      "source": [
        "Let's just check once again the correlation between features:"
      ],
      "metadata": {
        "id": "Z1zFrReTD5Ae"
      }
    },
    {
      "cell_type": "code",
      "source": [
        "plt.figure(figsize=(12, 11))\n",
        "\n",
        "mask = np.triu(np.ones_like(df.corr(), dtype=np.bool))\n",
        "\n",
        "heatmap = sns.heatmap(df.corr(), mask=mask, vmin=-1, vmax=1, annot=True, cmap='BrBG')"
      ],
      "metadata": {
        "colab": {
          "base_uri": "https://localhost:8080/",
          "height": 905
        },
        "id": "yXpqrIc5zkXk",
        "outputId": "04942a05-9aa8-43b2-ff58-7896db3dc952"
      },
      "execution_count": null,
      "outputs": [
        {
          "output_type": "stream",
          "name": "stderr",
          "text": [
            "/usr/local/lib/python3.7/dist-packages/ipykernel_launcher.py:3: DeprecationWarning: `np.bool` is a deprecated alias for the builtin `bool`. To silence this warning, use `bool` by itself. Doing this will not modify any behavior and is safe. If you specifically wanted the numpy scalar type, use `np.bool_` here.\n",
            "Deprecated in NumPy 1.20; for more details and guidance: https://numpy.org/devdocs/release/1.20.0-notes.html#deprecations\n",
            "  This is separate from the ipykernel package so we can avoid doing imports until\n"
          ]
        },
        {
          "output_type": "display_data",
          "data": {
            "text/plain": [
              "<Figure size 864x792 with 2 Axes>"
            ],
            "image/png": "[encoded data removed]"
          },
          "metadata": {
            "needs_background": "light"
          }
        }
      ]
    },
    {
      "cell_type": "markdown",
      "source": [
        "Nice! Now, let's continue to feature selection."
      ],
      "metadata": {
        "id": "rvvkWLrwEHrs"
      }
    },
    {
      "cell_type": "markdown",
      "source": [
        "# Feature selection\n",
        "\n",
        "In this project, we will perform feature selection so that our model only considers the best features in our dataset. Thus, here, we will analyze the Information Value (IV) of each feature, evaluated using the Weight of Evidence (WoE). In this method, we will first define groups for our features. Then, we evaluate the percentage of people in each group running financial distress. Finally, we transform the feature based on this percentage, and we replace the raw data with the calculated WoE.\n",
        "\n",
        "The WoE is defined by:\n",
        "\n",
        "\\begin{equation}\n",
        "\\text{WoE: } \\ln\\left( \\dfrac{\\% \\text{Good}}{\\% \\text{Bad}} \\right)\n",
        "\\end{equation}\n",
        "\n",
        "where $\\% \\text{Good}$ and $\\% \\text{Bad}$ are the relative number of entries in the group which are from the \"Good\" and \"Bad\" classes, respectively. Then, the Information Value is given by:\n",
        "\n",
        "\\begin{equation}\n",
        "\\text{IV: } \\sum_{i = 1}^n ( \\% \\text{Good}_i - \\% \\text{Bad}_i) \\times \\text{WoE}\n",
        "\\end{equation}\n",
        "where the subscript $i$ refers to the $i$-th group.\n",
        "\n",
        "So, let's try to do this with age. First,we can use the describe( ) method to understand more about our feature:"
      ],
      "metadata": {
        "id": "0tK4doC9EUCV"
      }
    },
    {
      "cell_type": "code",
      "source": [
        "df.age.describe( )"
      ],
      "metadata": {
        "colab": {
          "base_uri": "https://localhost:8080/"
        },
        "id": "C22epVkiQ_3m",
        "outputId": "a568241c-22a1-4726-d589-ba024f16ee64"
      },
      "execution_count": null,
      "outputs": [
        {
          "output_type": "execute_result",
          "data": {
            "text/plain": [
              "count    119987.000000\n",
              "mean         51.317701\n",
              "std          14.410277\n",
              "min          21.000000\n",
              "25%          41.000000\n",
              "50%          51.000000\n",
              "75%          61.000000\n",
              "max         103.000000\n",
              "Name: age, dtype: float64"
            ]
          },
          "metadata": {},
          "execution_count": 1147
        }
      ]
    },
    {
      "cell_type": "markdown",
      "source": [
        "The minimum value is 21 and the highest value is 103. So, let's separe our data into some bins:"
      ],
      "metadata": {
        "id": "6zjgw5_HRDVW"
      }
    },
    {
      "cell_type": "code",
      "source": [
        "bins = [18, 24, 30, 35, 40, 45, 50, 60, 70, 80, 1e6]"
      ],
      "metadata": {
        "id": "0BpsAaP8RLXJ"
      },
      "execution_count": null,
      "outputs": []
    },
    {
      "cell_type": "markdown",
      "source": [
        "Nice! Now, let's create and auxiliary data frame and define out groups for age:"
      ],
      "metadata": {
        "id": "-4ItOJRsQ8BV"
      }
    },
    {
      "cell_type": "code",
      "source": [
        "df['age_group'] = pd.cut(df.age, bins, include_lowest=True)"
      ],
      "metadata": {
        "id": "FdOJDyzHQiCe"
      },
      "execution_count": null,
      "outputs": []
    },
    {
      "cell_type": "code",
      "source": [
        "df[['age','age_group']].sample(10)"
      ],
      "metadata": {
        "colab": {
          "base_uri": "https://localhost:8080/",
          "height": 363
        },
        "id": "UrbK7zuQSCok",
        "outputId": "bbcbc13b-d011-45e3-8ddf-f2833ab36a32"
      },
      "execution_count": null,
      "outputs": [
        {
          "output_type": "execute_result",
          "data": {
            "text/plain": [
              "        age       age_group\n",
              "99401    62    (60.0, 70.0]\n",
              "41328    43    (40.0, 45.0]\n",
              "46293    68    (60.0, 70.0]\n",
              "56958    34    (30.0, 35.0]\n",
              "61042    52    (50.0, 60.0]\n",
              "47195    27    (24.0, 30.0]\n",
              "109735   35    (30.0, 35.0]\n",
              "4757     59    (50.0, 60.0]\n",
              "105332   58    (50.0, 60.0]\n",
              "38209    24  (17.999, 24.0]"
            ],
            "text/html": [
              "\n",
              "  <div id=\"df-74d12f17-fbe5-4270-a019-b03f2a31fc2a\">\n",
              "    <div class=\"colab-df-container\">\n",
              "      <div>\n",
              "<style scoped>\n",
              "    .dataframe tbody tr th:only-of-type {\n",
              "        vertical-align: middle;\n",
              "    }\n",
              "\n",
              "    .dataframe tbody tr th {\n",
              "        vertical-align: top;\n",
              "    }\n",
              "\n",
              "    .dataframe thead th {\n",
              "        text-align: right;\n",
              "    }\n",
              "</style>\n",
              "<table border=\"1\" class=\"dataframe\">\n",
              "  <thead>\n",
              "    <tr style=\"text-align: right;\">\n",
              "      <th></th>\n",
              "      <th>age</th>\n",
              "      <th>age_group</th>\n",
              "    </tr>\n",
              "  </thead>\n",
              "  <tbody>\n",
              "    <tr>\n",
              "      <th>99401</th>\n",
              "      <td>62</td>\n",
              "      <td>(60.0, 70.0]</td>\n",
              "    </tr>\n",
              "    <tr>\n",
              "      <th>41328</th>\n",
              "      <td>43</td>\n",
              "      <td>(40.0, 45.0]</td>\n",
              "    </tr>\n",
              "    <tr>\n",
              "      <th>46293</th>\n",
              "      <td>68</td>\n",
              "      <td>(60.0, 70.0]</td>\n",
              "    </tr>\n",
              "    <tr>\n",
              "      <th>56958</th>\n",
              "      <td>34</td>\n",
              "      <td>(30.0, 35.0]</td>\n",
              "    </tr>\n",
              "    <tr>\n",
              "      <th>61042</th>\n",
              "      <td>52</td>\n",
              "      <td>(50.0, 60.0]</td>\n",
              "    </tr>\n",
              "    <tr>\n",
              "      <th>47195</th>\n",
              "      <td>27</td>\n",
              "      <td>(24.0, 30.0]</td>\n",
              "    </tr>\n",
              "    <tr>\n",
              "      <th>109735</th>\n",
              "      <td>35</td>\n",
              "      <td>(30.0, 35.0]</td>\n",
              "    </tr>\n",
              "    <tr>\n",
              "      <th>4757</th>\n",
              "      <td>59</td>\n",
              "      <td>(50.0, 60.0]</td>\n",
              "    </tr>\n",
              "    <tr>\n",
              "      <th>105332</th>\n",
              "      <td>58</td>\n",
              "      <td>(50.0, 60.0]</td>\n",
              "    </tr>\n",
              "    <tr>\n",
              "      <th>38209</th>\n",
              "      <td>24</td>\n",
              "      <td>(17.999, 24.0]</td>\n",
              "    </tr>\n",
              "  </tbody>\n",
              "</table>\n",
              "</div>\n",
              "      <button class=\"colab-df-convert\" onclick=\"convertToInteractive('df-74d12f17-fbe5-4270-a019-b03f2a31fc2a')\"\n",
              "              title=\"Convert this dataframe to an interactive table.\"\n",
              "              style=\"display:none;\">\n",
              "        \n",
              "  <svg xmlns=\"http://www.w3.org/2000/svg\" height=\"24px\"viewBox=\"0 0 24 24\"\n",
              "       width=\"24px\">\n",
              "    <path d=\"M0 0h24v24H0V0z\" fill=\"none\"/>\n",
              "    <path d=\"M18.56 5.44l.94 2.06.94-2.06 2.06-.94-2.06-.94-.94-2.06-.94 2.06-2.06.94zm-11 1L8.5 8.5l.94-2.06 2.06-.94-2.06-.94L8.5 2.5l-.94 2.06-2.06.94zm10 10l.94 2.06.94-2.06 2.06-.94-2.06-.94-.94-2.06-.94 2.06-2.06.94z\"/><path d=\"M17.41 7.96l-1.37-1.37c-.4-.4-.92-.59-1.43-.59-.52 0-1.04.2-1.43.59L10.3 9.45l-7.72 7.72c-.78.78-.78 2.05 0 2.83L4 21.41c.39.39.9.59 1.41.59.51 0 1.02-.2 1.41-.59l7.78-7.78 2.81-2.81c.8-.78.8-2.07 0-2.86zM5.41 20L4 18.59l7.72-7.72 1.47 1.35L5.41 20z\"/>\n",
              "  </svg>\n",
              "      </button>\n",
              "      \n",
              "  <style>\n",
              "    .colab-df-container {\n",
              "      display:flex;\n",
              "      flex-wrap:wrap;\n",
              "      gap: 12px;\n",
              "    }\n",
              "\n",
              "    .colab-df-convert {\n",
              "      background-color: #E8F0FE;\n",
              "      border: none;\n",
              "      border-radius: 50%;\n",
              "      cursor: pointer;\n",
              "      display: none;\n",
              "      fill: #1967D2;\n",
              "      height: 32px;\n",
              "      padding: 0 0 0 0;\n",
              "      width: 32px;\n",
              "    }\n",
              "\n",
              "    .colab-df-convert:hover {\n",
              "      background-color: #E2EBFA;\n",
              "      box-shadow: 0px 1px 2px rgba(60, 64, 67, 0.3), 0px 1px 3px 1px rgba(60, 64, 67, 0.15);\n",
              "      fill: #174EA6;\n",
              "    }\n",
              "\n",
              "    [theme=dark] .colab-df-convert {\n",
              "      background-color: #3B4455;\n",
              "      fill: #D2E3FC;\n",
              "    }\n",
              "\n",
              "    [theme=dark] .colab-df-convert:hover {\n",
              "      background-color: #434B5C;\n",
              "      box-shadow: 0px 1px 3px 1px rgba(0, 0, 0, 0.15);\n",
              "      filter: drop-shadow(0px 1px 2px rgba(0, 0, 0, 0.3));\n",
              "      fill: #FFFFFF;\n",
              "    }\n",
              "  </style>\n",
              "\n",
              "      <script>\n",
              "        const buttonEl =\n",
              "          document.querySelector('#df-74d12f17-fbe5-4270-a019-b03f2a31fc2a button.colab-df-convert');\n",
              "        buttonEl.style.display =\n",
              "          google.colab.kernel.accessAllowed ? 'block' : 'none';\n",
              "\n",
              "        async function convertToInteractive(key) {\n",
              "          const element = document.querySelector('#df-74d12f17-fbe5-4270-a019-b03f2a31fc2a');\n",
              "          const dataTable =\n",
              "            await google.colab.kernel.invokeFunction('convertToInteractive',\n",
              "                                                     [key], {});\n",
              "          if (!dataTable) return;\n",
              "\n",
              "          const docLinkHtml = 'Like what you see? Visit the ' +\n",
              "            '<a target=\"_blank\" href=https://colab.research.google.com/notebooks/data_table.ipynb>data table notebook</a>'\n",
              "            + ' to learn more about interactive tables.';\n",
              "          element.innerHTML = '';\n",
              "          dataTable['output_type'] = 'display_data';\n",
              "          await google.colab.output.renderOutput(dataTable, element);\n",
              "          const docLink = document.createElement('div');\n",
              "          docLink.innerHTML = docLinkHtml;\n",
              "          element.appendChild(docLink);\n",
              "        }\n",
              "      </script>\n",
              "    </div>\n",
              "  </div>\n",
              "  "
            ]
          },
          "metadata": {},
          "execution_count": 1150
        }
      ]
    },
    {
      "cell_type": "markdown",
      "source": [
        "Nice! Our bins seem to have worked. Now, let's count how many entries we have in each bin, as well as how many entries are \"Positives\" (good borrowers) and how many entries are \"Negatives\" (bad borrowers):"
      ],
      "metadata": {
        "id": "W6g8niBrSlzo"
      }
    },
    {
      "cell_type": "code",
      "source": [
        "df_age_group = pd.DataFrame( )\n",
        "\n",
        "df_age_group['counts'] = df.groupby('age_group')['age'].count( )\n",
        "df_age_group['good']   = df.query(\"NoSeriousDlqin2yrs == 1\").groupby('age_group')['age'].count( )\n",
        "df_age_group['bad']    = df.query(\"NoSeriousDlqin2yrs == 0\").groupby('age_group')['age'].count( )\n",
        "\n",
        "df_age_group.reset_index(inplace = True)"
      ],
      "metadata": {
        "id": "97xojNYZSgXY"
      },
      "execution_count": null,
      "outputs": []
    },
    {
      "cell_type": "code",
      "source": [
        "df_age_group"
      ],
      "metadata": {
        "colab": {
          "base_uri": "https://localhost:8080/",
          "height": 363
        },
        "id": "rnJn5pMjTc3y",
        "outputId": "3d311372-ca84-4f6b-8a8b-513ae795131c"
      },
      "execution_count": null,
      "outputs": [
        {
          "output_type": "execute_result",
          "data": {
            "text/plain": [
              "           age_group  counts   good   bad\n",
              "0     (17.999, 24.0]    1540   1388   152\n",
              "1       (24.0, 30.0]    7406   6556   850\n",
              "2       (30.0, 35.0]    9314   8356   958\n",
              "3       (35.0, 40.0]   11662  10601  1061\n",
              "4       (40.0, 45.0]   13805  12636  1169\n",
              "5       (45.0, 50.0]   15718  14434  1284\n",
              "6       (50.0, 60.0]   27863  26082  1781\n",
              "7       (60.0, 70.0]   20451  19689   762\n",
              "8       (70.0, 80.0]    9122   8877   245\n",
              "9  (80.0, 1000000.0]    3106   3031    75"
            ],
            "text/html": [
              "\n",
              "  <div id=\"df-8badf2c1-f775-463a-a1b7-24d86c978db3\">\n",
              "    <div class=\"colab-df-container\">\n",
              "      <div>\n",
              "<style scoped>\n",
              "    .dataframe tbody tr th:only-of-type {\n",
              "        vertical-align: middle;\n",
              "    }\n",
              "\n",
              "    .dataframe tbody tr th {\n",
              "        vertical-align: top;\n",
              "    }\n",
              "\n",
              "    .dataframe thead th {\n",
              "        text-align: right;\n",
              "    }\n",
              "</style>\n",
              "<table border=\"1\" class=\"dataframe\">\n",
              "  <thead>\n",
              "    <tr style=\"text-align: right;\">\n",
              "      <th></th>\n",
              "      <th>age_group</th>\n",
              "      <th>counts</th>\n",
              "      <th>good</th>\n",
              "      <th>bad</th>\n",
              "    </tr>\n",
              "  </thead>\n",
              "  <tbody>\n",
              "    <tr>\n",
              "      <th>0</th>\n",
              "      <td>(17.999, 24.0]</td>\n",
              "      <td>1540</td>\n",
              "      <td>1388</td>\n",
              "      <td>152</td>\n",
              "    </tr>\n",
              "    <tr>\n",
              "      <th>1</th>\n",
              "      <td>(24.0, 30.0]</td>\n",
              "      <td>7406</td>\n",
              "      <td>6556</td>\n",
              "      <td>850</td>\n",
              "    </tr>\n",
              "    <tr>\n",
              "      <th>2</th>\n",
              "      <td>(30.0, 35.0]</td>\n",
              "      <td>9314</td>\n",
              "      <td>8356</td>\n",
              "      <td>958</td>\n",
              "    </tr>\n",
              "    <tr>\n",
              "      <th>3</th>\n",
              "      <td>(35.0, 40.0]</td>\n",
              "      <td>11662</td>\n",
              "      <td>10601</td>\n",
              "      <td>1061</td>\n",
              "    </tr>\n",
              "    <tr>\n",
              "      <th>4</th>\n",
              "      <td>(40.0, 45.0]</td>\n",
              "      <td>13805</td>\n",
              "      <td>12636</td>\n",
              "      <td>1169</td>\n",
              "    </tr>\n",
              "    <tr>\n",
              "      <th>5</th>\n",
              "      <td>(45.0, 50.0]</td>\n",
              "      <td>15718</td>\n",
              "      <td>14434</td>\n",
              "      <td>1284</td>\n",
              "    </tr>\n",
              "    <tr>\n",
              "      <th>6</th>\n",
              "      <td>(50.0, 60.0]</td>\n",
              "      <td>27863</td>\n",
              "      <td>26082</td>\n",
              "      <td>1781</td>\n",
              "    </tr>\n",
              "    <tr>\n",
              "      <th>7</th>\n",
              "      <td>(60.0, 70.0]</td>\n",
              "      <td>20451</td>\n",
              "      <td>19689</td>\n",
              "      <td>762</td>\n",
              "    </tr>\n",
              "    <tr>\n",
              "      <th>8</th>\n",
              "      <td>(70.0, 80.0]</td>\n",
              "      <td>9122</td>\n",
              "      <td>8877</td>\n",
              "      <td>245</td>\n",
              "    </tr>\n",
              "    <tr>\n",
              "      <th>9</th>\n",
              "      <td>(80.0, 1000000.0]</td>\n",
              "      <td>3106</td>\n",
              "      <td>3031</td>\n",
              "      <td>75</td>\n",
              "    </tr>\n",
              "  </tbody>\n",
              "</table>\n",
              "</div>\n",
              "      <button class=\"colab-df-convert\" onclick=\"convertToInteractive('df-8badf2c1-f775-463a-a1b7-24d86c978db3')\"\n",
              "              title=\"Convert this dataframe to an interactive table.\"\n",
              "              style=\"display:none;\">\n",
              "        \n",
              "  <svg xmlns=\"http://www.w3.org/2000/svg\" height=\"24px\"viewBox=\"0 0 24 24\"\n",
              "       width=\"24px\">\n",
              "    <path d=\"M0 0h24v24H0V0z\" fill=\"none\"/>\n",
              "    <path d=\"M18.56 5.44l.94 2.06.94-2.06 2.06-.94-2.06-.94-.94-2.06-.94 2.06-2.06.94zm-11 1L8.5 8.5l.94-2.06 2.06-.94-2.06-.94L8.5 2.5l-.94 2.06-2.06.94zm10 10l.94 2.06.94-2.06 2.06-.94-2.06-.94-.94-2.06-.94 2.06-2.06.94z\"/><path d=\"M17.41 7.96l-1.37-1.37c-.4-.4-.92-.59-1.43-.59-.52 0-1.04.2-1.43.59L10.3 9.45l-7.72 7.72c-.78.78-.78 2.05 0 2.83L4 21.41c.39.39.9.59 1.41.59.51 0 1.02-.2 1.41-.59l7.78-7.78 2.81-2.81c.8-.78.8-2.07 0-2.86zM5.41 20L4 18.59l7.72-7.72 1.47 1.35L5.41 20z\"/>\n",
              "  </svg>\n",
              "      </button>\n",
              "      \n",
              "  <style>\n",
              "    .colab-df-container {\n",
              "      display:flex;\n",
              "      flex-wrap:wrap;\n",
              "      gap: 12px;\n",
              "    }\n",
              "\n",
              "    .colab-df-convert {\n",
              "      background-color: #E8F0FE;\n",
              "      border: none;\n",
              "      border-radius: 50%;\n",
              "      cursor: pointer;\n",
              "      display: none;\n",
              "      fill: #1967D2;\n",
              "      height: 32px;\n",
              "      padding: 0 0 0 0;\n",
              "      width: 32px;\n",
              "    }\n",
              "\n",
              "    .colab-df-convert:hover {\n",
              "      background-color: #E2EBFA;\n",
              "      box-shadow: 0px 1px 2px rgba(60, 64, 67, 0.3), 0px 1px 3px 1px rgba(60, 64, 67, 0.15);\n",
              "      fill: #174EA6;\n",
              "    }\n",
              "\n",
              "    [theme=dark] .colab-df-convert {\n",
              "      background-color: #3B4455;\n",
              "      fill: #D2E3FC;\n",
              "    }\n",
              "\n",
              "    [theme=dark] .colab-df-convert:hover {\n",
              "      background-color: #434B5C;\n",
              "      box-shadow: 0px 1px 3px 1px rgba(0, 0, 0, 0.15);\n",
              "      filter: drop-shadow(0px 1px 2px rgba(0, 0, 0, 0.3));\n",
              "      fill: #FFFFFF;\n",
              "    }\n",
              "  </style>\n",
              "\n",
              "      <script>\n",
              "        const buttonEl =\n",
              "          document.querySelector('#df-8badf2c1-f775-463a-a1b7-24d86c978db3 button.colab-df-convert');\n",
              "        buttonEl.style.display =\n",
              "          google.colab.kernel.accessAllowed ? 'block' : 'none';\n",
              "\n",
              "        async function convertToInteractive(key) {\n",
              "          const element = document.querySelector('#df-8badf2c1-f775-463a-a1b7-24d86c978db3');\n",
              "          const dataTable =\n",
              "            await google.colab.kernel.invokeFunction('convertToInteractive',\n",
              "                                                     [key], {});\n",
              "          if (!dataTable) return;\n",
              "\n",
              "          const docLinkHtml = 'Like what you see? Visit the ' +\n",
              "            '<a target=\"_blank\" href=https://colab.research.google.com/notebooks/data_table.ipynb>data table notebook</a>'\n",
              "            + ' to learn more about interactive tables.';\n",
              "          element.innerHTML = '';\n",
              "          dataTable['output_type'] = 'display_data';\n",
              "          await google.colab.output.renderOutput(dataTable, element);\n",
              "          const docLink = document.createElement('div');\n",
              "          docLink.innerHTML = docLinkHtml;\n",
              "          element.appendChild(docLink);\n",
              "        }\n",
              "      </script>\n",
              "    </div>\n",
              "  </div>\n",
              "  "
            ]
          },
          "metadata": {},
          "execution_count": 1152
        }
      ]
    },
    {
      "cell_type": "markdown",
      "source": [
        "Great! Now, let's the the percentage from the total each class represents:"
      ],
      "metadata": {
        "id": "j1yu895EXIWX"
      }
    },
    {
      "cell_type": "code",
      "source": [
        "df_age_group['counts_perc'] = df_age_group.counts/sum(df_age_group.counts)\n",
        "df_age_group['good_perc']   = df_age_group.good/sum(df_age_group.good)\n",
        "df_age_group['bad_perc']    = df_age_group.bad/sum(df_age_group.bad)"
      ],
      "metadata": {
        "id": "8kvTNV36TgiX"
      },
      "execution_count": null,
      "outputs": []
    },
    {
      "cell_type": "code",
      "source": [
        "df_age_group"
      ],
      "metadata": {
        "colab": {
          "base_uri": "https://localhost:8080/",
          "height": 363
        },
        "id": "t53wc7rbXeFj",
        "outputId": "4ac84dd4-33e4-4147-a423-53999cd518f0"
      },
      "execution_count": null,
      "outputs": [
        {
          "output_type": "execute_result",
          "data": {
            "text/plain": [
              "           age_group  counts   good   bad  counts_perc  good_perc  bad_perc\n",
              "0     (17.999, 24.0]    1540   1388   152     0.012835   0.012432  0.018232\n",
              "1       (24.0, 30.0]    7406   6556   850     0.061723   0.058719  0.101955\n",
              "2       (30.0, 35.0]    9314   8356   958     0.077625   0.074841  0.114909\n",
              "3       (35.0, 40.0]   11662  10601  1061     0.097194   0.094948  0.127264\n",
              "4       (40.0, 45.0]   13805  12636  1169     0.115054   0.113175  0.140218\n",
              "5       (45.0, 50.0]   15718  14434  1284     0.130998   0.129279  0.154012\n",
              "6       (50.0, 60.0]   27863  26082  1781     0.232217   0.233605  0.213626\n",
              "7       (60.0, 70.0]   20451  19689   762     0.170443   0.176346  0.091400\n",
              "8       (70.0, 80.0]    9122   8877   245     0.076025   0.079507  0.029387\n",
              "9  (80.0, 1000000.0]    3106   3031    75     0.025886   0.027147  0.008996"
            ],
            "text/html": [
              "\n",
              "  <div id=\"df-544de4e4-76b1-4dd1-a9fe-982f76d6635e\">\n",
              "    <div class=\"colab-df-container\">\n",
              "      <div>\n",
              "<style scoped>\n",
              "    .dataframe tbody tr th:only-of-type {\n",
              "        vertical-align: middle;\n",
              "    }\n",
              "\n",
              "    .dataframe tbody tr th {\n",
              "        vertical-align: top;\n",
              "    }\n",
              "\n",
              "    .dataframe thead th {\n",
              "        text-align: right;\n",
              "    }\n",
              "</style>\n",
              "<table border=\"1\" class=\"dataframe\">\n",
              "  <thead>\n",
              "    <tr style=\"text-align: right;\">\n",
              "      <th></th>\n",
              "      <th>age_group</th>\n",
              "      <th>counts</th>\n",
              "      <th>good</th>\n",
              "      <th>bad</th>\n",
              "      <th>counts_perc</th>\n",
              "      <th>good_perc</th>\n",
              "      <th>bad_perc</th>\n",
              "    </tr>\n",
              "  </thead>\n",
              "  <tbody>\n",
              "    <tr>\n",
              "      <th>0</th>\n",
              "      <td>(17.999, 24.0]</td>\n",
              "      <td>1540</td>\n",
              "      <td>1388</td>\n",
              "      <td>152</td>\n",
              "      <td>0.012835</td>\n",
              "      <td>0.012432</td>\n",
              "      <td>0.018232</td>\n",
              "    </tr>\n",
              "    <tr>\n",
              "      <th>1</th>\n",
              "      <td>(24.0, 30.0]</td>\n",
              "      <td>7406</td>\n",
              "      <td>6556</td>\n",
              "      <td>850</td>\n",
              "      <td>0.061723</td>\n",
              "      <td>0.058719</td>\n",
              "      <td>0.101955</td>\n",
              "    </tr>\n",
              "    <tr>\n",
              "      <th>2</th>\n",
              "      <td>(30.0, 35.0]</td>\n",
              "      <td>9314</td>\n",
              "      <td>8356</td>\n",
              "      <td>958</td>\n",
              "      <td>0.077625</td>\n",
              "      <td>0.074841</td>\n",
              "      <td>0.114909</td>\n",
              "    </tr>\n",
              "    <tr>\n",
              "      <th>3</th>\n",
              "      <td>(35.0, 40.0]</td>\n",
              "      <td>11662</td>\n",
              "      <td>10601</td>\n",
              "      <td>1061</td>\n",
              "      <td>0.097194</td>\n",
              "      <td>0.094948</td>\n",
              "      <td>0.127264</td>\n",
              "    </tr>\n",
              "    <tr>\n",
              "      <th>4</th>\n",
              "      <td>(40.0, 45.0]</td>\n",
              "      <td>13805</td>\n",
              "      <td>12636</td>\n",
              "      <td>1169</td>\n",
              "      <td>0.115054</td>\n",
              "      <td>0.113175</td>\n",
              "      <td>0.140218</td>\n",
              "    </tr>\n",
              "    <tr>\n",
              "      <th>5</th>\n",
              "      <td>(45.0, 50.0]</td>\n",
              "      <td>15718</td>\n",
              "      <td>14434</td>\n",
              "      <td>1284</td>\n",
              "      <td>0.130998</td>\n",
              "      <td>0.129279</td>\n",
              "      <td>0.154012</td>\n",
              "    </tr>\n",
              "    <tr>\n",
              "      <th>6</th>\n",
              "      <td>(50.0, 60.0]</td>\n",
              "      <td>27863</td>\n",
              "      <td>26082</td>\n",
              "      <td>1781</td>\n",
              "      <td>0.232217</td>\n",
              "      <td>0.233605</td>\n",
              "      <td>0.213626</td>\n",
              "    </tr>\n",
              "    <tr>\n",
              "      <th>7</th>\n",
              "      <td>(60.0, 70.0]</td>\n",
              "      <td>20451</td>\n",
              "      <td>19689</td>\n",
              "      <td>762</td>\n",
              "      <td>0.170443</td>\n",
              "      <td>0.176346</td>\n",
              "      <td>0.091400</td>\n",
              "    </tr>\n",
              "    <tr>\n",
              "      <th>8</th>\n",
              "      <td>(70.0, 80.0]</td>\n",
              "      <td>9122</td>\n",
              "      <td>8877</td>\n",
              "      <td>245</td>\n",
              "      <td>0.076025</td>\n",
              "      <td>0.079507</td>\n",
              "      <td>0.029387</td>\n",
              "    </tr>\n",
              "    <tr>\n",
              "      <th>9</th>\n",
              "      <td>(80.0, 1000000.0]</td>\n",
              "      <td>3106</td>\n",
              "      <td>3031</td>\n",
              "      <td>75</td>\n",
              "      <td>0.025886</td>\n",
              "      <td>0.027147</td>\n",
              "      <td>0.008996</td>\n",
              "    </tr>\n",
              "  </tbody>\n",
              "</table>\n",
              "</div>\n",
              "      <button class=\"colab-df-convert\" onclick=\"convertToInteractive('df-544de4e4-76b1-4dd1-a9fe-982f76d6635e')\"\n",
              "              title=\"Convert this dataframe to an interactive table.\"\n",
              "              style=\"display:none;\">\n",
              "        \n",
              "  <svg xmlns=\"http://www.w3.org/2000/svg\" height=\"24px\"viewBox=\"0 0 24 24\"\n",
              "       width=\"24px\">\n",
              "    <path d=\"M0 0h24v24H0V0z\" fill=\"none\"/>\n",
              "    <path d=\"M18.56 5.44l.94 2.06.94-2.06 2.06-.94-2.06-.94-.94-2.06-.94 2.06-2.06.94zm-11 1L8.5 8.5l.94-2.06 2.06-.94-2.06-.94L8.5 2.5l-.94 2.06-2.06.94zm10 10l.94 2.06.94-2.06 2.06-.94-2.06-.94-.94-2.06-.94 2.06-2.06.94z\"/><path d=\"M17.41 7.96l-1.37-1.37c-.4-.4-.92-.59-1.43-.59-.52 0-1.04.2-1.43.59L10.3 9.45l-7.72 7.72c-.78.78-.78 2.05 0 2.83L4 21.41c.39.39.9.59 1.41.59.51 0 1.02-.2 1.41-.59l7.78-7.78 2.81-2.81c.8-.78.8-2.07 0-2.86zM5.41 20L4 18.59l7.72-7.72 1.47 1.35L5.41 20z\"/>\n",
              "  </svg>\n",
              "      </button>\n",
              "      \n",
              "  <style>\n",
              "    .colab-df-container {\n",
              "      display:flex;\n",
              "      flex-wrap:wrap;\n",
              "      gap: 12px;\n",
              "    }\n",
              "\n",
              "    .colab-df-convert {\n",
              "      background-color: #E8F0FE;\n",
              "      border: none;\n",
              "      border-radius: 50%;\n",
              "      cursor: pointer;\n",
              "      display: none;\n",
              "      fill: #1967D2;\n",
              "      height: 32px;\n",
              "      padding: 0 0 0 0;\n",
              "      width: 32px;\n",
              "    }\n",
              "\n",
              "    .colab-df-convert:hover {\n",
              "      background-color: #E2EBFA;\n",
              "      box-shadow: 0px 1px 2px rgba(60, 64, 67, 0.3), 0px 1px 3px 1px rgba(60, 64, 67, 0.15);\n",
              "      fill: #174EA6;\n",
              "    }\n",
              "\n",
              "    [theme=dark] .colab-df-convert {\n",
              "      background-color: #3B4455;\n",
              "      fill: #D2E3FC;\n",
              "    }\n",
              "\n",
              "    [theme=dark] .colab-df-convert:hover {\n",
              "      background-color: #434B5C;\n",
              "      box-shadow: 0px 1px 3px 1px rgba(0, 0, 0, 0.15);\n",
              "      filter: drop-shadow(0px 1px 2px rgba(0, 0, 0, 0.3));\n",
              "      fill: #FFFFFF;\n",
              "    }\n",
              "  </style>\n",
              "\n",
              "      <script>\n",
              "        const buttonEl =\n",
              "          document.querySelector('#df-544de4e4-76b1-4dd1-a9fe-982f76d6635e button.colab-df-convert');\n",
              "        buttonEl.style.display =\n",
              "          google.colab.kernel.accessAllowed ? 'block' : 'none';\n",
              "\n",
              "        async function convertToInteractive(key) {\n",
              "          const element = document.querySelector('#df-544de4e4-76b1-4dd1-a9fe-982f76d6635e');\n",
              "          const dataTable =\n",
              "            await google.colab.kernel.invokeFunction('convertToInteractive',\n",
              "                                                     [key], {});\n",
              "          if (!dataTable) return;\n",
              "\n",
              "          const docLinkHtml = 'Like what you see? Visit the ' +\n",
              "            '<a target=\"_blank\" href=https://colab.research.google.com/notebooks/data_table.ipynb>data table notebook</a>'\n",
              "            + ' to learn more about interactive tables.';\n",
              "          element.innerHTML = '';\n",
              "          dataTable['output_type'] = 'display_data';\n",
              "          await google.colab.output.renderOutput(dataTable, element);\n",
              "          const docLink = document.createElement('div');\n",
              "          docLink.innerHTML = docLinkHtml;\n",
              "          element.appendChild(docLink);\n",
              "        }\n",
              "      </script>\n",
              "    </div>\n",
              "  </div>\n",
              "  "
            ]
          },
          "metadata": {},
          "execution_count": 1154
        }
      ]
    },
    {
      "cell_type": "markdown",
      "source": [
        "Now, we can calculate the WoE by:"
      ],
      "metadata": {
        "id": "7qMYrToaZl7Y"
      }
    },
    {
      "cell_type": "code",
      "source": [
        "df_age_group['WoE'] = np.log(df_age_group.good_perc / df_age_group.bad_perc).round(4)"
      ],
      "metadata": {
        "id": "jUQ4dyOdXoeZ"
      },
      "execution_count": null,
      "outputs": []
    },
    {
      "cell_type": "markdown",
      "source": [
        "Now, we can evaluate the IV for age by:"
      ],
      "metadata": {
        "id": "lNhYMEWSasT0"
      }
    },
    {
      "cell_type": "code",
      "source": [
        "IV = sum((df_age_group.good_perc - df_age_group.bad_perc) * df_age_group.WoE)\n",
        "\n",
        "print(f\"IV (age): {IV}\")"
      ],
      "metadata": {
        "colab": {
          "base_uri": "https://localhost:8080/"
        },
        "id": "yaWheU9NZqx0",
        "outputId": "5eebbbd2-e12c-4b16-d82a-2722f64140ed"
      },
      "execution_count": null,
      "outputs": [
        {
          "output_type": "stream",
          "name": "stdout",
          "text": [
            "IV (age): 0.19039665919760193\n"
          ]
        }
      ]
    },
    {
      "cell_type": "markdown",
      "source": [
        "To judge the IV value, we can consider that:\n",
        "\n",
        "* IV < 0.02: Not useful.\n",
        "* 0.02 < IV < 0.10: Weak predictive power.\n",
        "* 0.10 < IV < 0.30: Medium predictive power.\n",
        "* 0.30 < IV < 0.50: Strong predictive power.\n",
        "* 0.50 < IV: Suspicious predictive power.\n",
        "\n",
        "So, the age feature has a medium predictive power. Thus, we will leave this feature in our dataset. Also, we will need the WoE for each group later. So, let's store it in a dataframe:"
      ],
      "metadata": {
        "id": "TtqmFCjMbi4c"
      }
    },
    {
      "cell_type": "code",
      "source": [
        "df_woe = df_age_group[['age_group', 'WoE']].copy( )\n",
        "df_woe.columns = ['group', 'WoE']\n",
        "df_woe['feature'] = 'age'\n",
        "\n",
        "df_woe = df_woe[['feature', 'group', 'WoE']]"
      ],
      "metadata": {
        "id": "EQQQgIHylYR9"
      },
      "execution_count": null,
      "outputs": []
    },
    {
      "cell_type": "code",
      "source": [
        "df_woe"
      ],
      "metadata": {
        "colab": {
          "base_uri": "https://localhost:8080/",
          "height": 363
        },
        "id": "jTb6hdv-oPS-",
        "outputId": "8911b0eb-8338-44ff-b17c-48466e166f60"
      },
      "execution_count": null,
      "outputs": [
        {
          "output_type": "execute_result",
          "data": {
            "text/plain": [
              "  feature              group     WoE\n",
              "0     age     (17.999, 24.0] -0.3829\n",
              "1     age       (24.0, 30.0] -0.5518\n",
              "2     age       (30.0, 35.0] -0.4288\n",
              "3     age       (35.0, 40.0] -0.2929\n",
              "4     age       (40.0, 45.0] -0.2143\n",
              "5     age       (45.0, 50.0] -0.1751\n",
              "6     age       (50.0, 60.0]  0.0894\n",
              "7     age       (60.0, 70.0]  0.6572\n",
              "8     age       (70.0, 80.0]  0.9953\n",
              "9     age  (80.0, 1000000.0]  1.1045"
            ],
            "text/html": [
              "\n",
              "  <div id=\"df-aee026a5-73c1-49db-bfdf-4c090fb08996\">\n",
              "    <div class=\"colab-df-container\">\n",
              "      <div>\n",
              "<style scoped>\n",
              "    .dataframe tbody tr th:only-of-type {\n",
              "        vertical-align: middle;\n",
              "    }\n",
              "\n",
              "    .dataframe tbody tr th {\n",
              "        vertical-align: top;\n",
              "    }\n",
              "\n",
              "    .dataframe thead th {\n",
              "        text-align: right;\n",
              "    }\n",
              "</style>\n",
              "<table border=\"1\" class=\"dataframe\">\n",
              "  <thead>\n",
              "    <tr style=\"text-align: right;\">\n",
              "      <th></th>\n",
              "      <th>feature</th>\n",
              "      <th>group</th>\n",
              "      <th>WoE</th>\n",
              "    </tr>\n",
              "  </thead>\n",
              "  <tbody>\n",
              "    <tr>\n",
              "      <th>0</th>\n",
              "      <td>age</td>\n",
              "      <td>(17.999, 24.0]</td>\n",
              "      <td>-0.3829</td>\n",
              "    </tr>\n",
              "    <tr>\n",
              "      <th>1</th>\n",
              "      <td>age</td>\n",
              "      <td>(24.0, 30.0]</td>\n",
              "      <td>-0.5518</td>\n",
              "    </tr>\n",
              "    <tr>\n",
              "      <th>2</th>\n",
              "      <td>age</td>\n",
              "      <td>(30.0, 35.0]</td>\n",
              "      <td>-0.4288</td>\n",
              "    </tr>\n",
              "    <tr>\n",
              "      <th>3</th>\n",
              "      <td>age</td>\n",
              "      <td>(35.0, 40.0]</td>\n",
              "      <td>-0.2929</td>\n",
              "    </tr>\n",
              "    <tr>\n",
              "      <th>4</th>\n",
              "      <td>age</td>\n",
              "      <td>(40.0, 45.0]</td>\n",
              "      <td>-0.2143</td>\n",
              "    </tr>\n",
              "    <tr>\n",
              "      <th>5</th>\n",
              "      <td>age</td>\n",
              "      <td>(45.0, 50.0]</td>\n",
              "      <td>-0.1751</td>\n",
              "    </tr>\n",
              "    <tr>\n",
              "      <th>6</th>\n",
              "      <td>age</td>\n",
              "      <td>(50.0, 60.0]</td>\n",
              "      <td>0.0894</td>\n",
              "    </tr>\n",
              "    <tr>\n",
              "      <th>7</th>\n",
              "      <td>age</td>\n",
              "      <td>(60.0, 70.0]</td>\n",
              "      <td>0.6572</td>\n",
              "    </tr>\n",
              "    <tr>\n",
              "      <th>8</th>\n",
              "      <td>age</td>\n",
              "      <td>(70.0, 80.0]</td>\n",
              "      <td>0.9953</td>\n",
              "    </tr>\n",
              "    <tr>\n",
              "      <th>9</th>\n",
              "      <td>age</td>\n",
              "      <td>(80.0, 1000000.0]</td>\n",
              "      <td>1.1045</td>\n",
              "    </tr>\n",
              "  </tbody>\n",
              "</table>\n",
              "</div>\n",
              "      <button class=\"colab-df-convert\" onclick=\"convertToInteractive('df-aee026a5-73c1-49db-bfdf-4c090fb08996')\"\n",
              "              title=\"Convert this dataframe to an interactive table.\"\n",
              "              style=\"display:none;\">\n",
              "        \n",
              "  <svg xmlns=\"http://www.w3.org/2000/svg\" height=\"24px\"viewBox=\"0 0 24 24\"\n",
              "       width=\"24px\">\n",
              "    <path d=\"M0 0h24v24H0V0z\" fill=\"none\"/>\n",
              "    <path d=\"M18.56 5.44l.94 2.06.94-2.06 2.06-.94-2.06-.94-.94-2.06-.94 2.06-2.06.94zm-11 1L8.5 8.5l.94-2.06 2.06-.94-2.06-.94L8.5 2.5l-.94 2.06-2.06.94zm10 10l.94 2.06.94-2.06 2.06-.94-2.06-.94-.94-2.06-.94 2.06-2.06.94z\"/><path d=\"M17.41 7.96l-1.37-1.37c-.4-.4-.92-.59-1.43-.59-.52 0-1.04.2-1.43.59L10.3 9.45l-7.72 7.72c-.78.78-.78 2.05 0 2.83L4 21.41c.39.39.9.59 1.41.59.51 0 1.02-.2 1.41-.59l7.78-7.78 2.81-2.81c.8-.78.8-2.07 0-2.86zM5.41 20L4 18.59l7.72-7.72 1.47 1.35L5.41 20z\"/>\n",
              "  </svg>\n",
              "      </button>\n",
              "      \n",
              "  <style>\n",
              "    .colab-df-container {\n",
              "      display:flex;\n",
              "      flex-wrap:wrap;\n",
              "      gap: 12px;\n",
              "    }\n",
              "\n",
              "    .colab-df-convert {\n",
              "      background-color: #E8F0FE;\n",
              "      border: none;\n",
              "      border-radius: 50%;\n",
              "      cursor: pointer;\n",
              "      display: none;\n",
              "      fill: #1967D2;\n",
              "      height: 32px;\n",
              "      padding: 0 0 0 0;\n",
              "      width: 32px;\n",
              "    }\n",
              "\n",
              "    .colab-df-convert:hover {\n",
              "      background-color: #E2EBFA;\n",
              "      box-shadow: 0px 1px 2px rgba(60, 64, 67, 0.3), 0px 1px 3px 1px rgba(60, 64, 67, 0.15);\n",
              "      fill: #174EA6;\n",
              "    }\n",
              "\n",
              "    [theme=dark] .colab-df-convert {\n",
              "      background-color: #3B4455;\n",
              "      fill: #D2E3FC;\n",
              "    }\n",
              "\n",
              "    [theme=dark] .colab-df-convert:hover {\n",
              "      background-color: #434B5C;\n",
              "      box-shadow: 0px 1px 3px 1px rgba(0, 0, 0, 0.15);\n",
              "      filter: drop-shadow(0px 1px 2px rgba(0, 0, 0, 0.3));\n",
              "      fill: #FFFFFF;\n",
              "    }\n",
              "  </style>\n",
              "\n",
              "      <script>\n",
              "        const buttonEl =\n",
              "          document.querySelector('#df-aee026a5-73c1-49db-bfdf-4c090fb08996 button.colab-df-convert');\n",
              "        buttonEl.style.display =\n",
              "          google.colab.kernel.accessAllowed ? 'block' : 'none';\n",
              "\n",
              "        async function convertToInteractive(key) {\n",
              "          const element = document.querySelector('#df-aee026a5-73c1-49db-bfdf-4c090fb08996');\n",
              "          const dataTable =\n",
              "            await google.colab.kernel.invokeFunction('convertToInteractive',\n",
              "                                                     [key], {});\n",
              "          if (!dataTable) return;\n",
              "\n",
              "          const docLinkHtml = 'Like what you see? Visit the ' +\n",
              "            '<a target=\"_blank\" href=https://colab.research.google.com/notebooks/data_table.ipynb>data table notebook</a>'\n",
              "            + ' to learn more about interactive tables.';\n",
              "          element.innerHTML = '';\n",
              "          dataTable['output_type'] = 'display_data';\n",
              "          await google.colab.output.renderOutput(dataTable, element);\n",
              "          const docLink = document.createElement('div');\n",
              "          docLink.innerHTML = docLinkHtml;\n",
              "          element.appendChild(docLink);\n",
              "        }\n",
              "      </script>\n",
              "    </div>\n",
              "  </div>\n",
              "  "
            ]
          },
          "metadata": {},
          "execution_count": 1158
        }
      ]
    },
    {
      "cell_type": "markdown",
      "source": [
        "The higher the WoE, the higher the good/bad ratio. For negative WoE's, the bad customer ratio is higher than the good customer ratio. Now, to finish everything, let's replace the group name in the main dataframe with the WoE value from each group. We can do that using:"
      ],
      "metadata": {
        "id": "u_4PWPt2vOJP"
      }
    },
    {
      "cell_type": "code",
      "source": [
        "tmp_dict = \tpd.Series(df_woe.query(\"feature == 'age'\").WoE.values,index=df_woe.query(\"feature == 'age'\").group).to_dict( )\n",
        "\n",
        "df['age_group'] = df['age_group'].map(tmp_dict)"
      ],
      "metadata": {
        "id": "h8S10QJevVo9"
      },
      "execution_count": null,
      "outputs": []
    },
    {
      "cell_type": "markdown",
      "source": [
        "Finally, let's create a user-defined function to get the IV for a given feature (as well as update the rest of the dataframes):"
      ],
      "metadata": {
        "id": "8e-gJNSKlXkK"
      }
    },
    {
      "cell_type": "code",
      "source": [
        "def GetIV(feature, feature_bins, data, group_name, df_WoE):\n",
        "  data[group_name] = pd.cut(df[feature], feature_bins, include_lowest=True)\n",
        "\n",
        "  df_group = pd.DataFrame( )\n",
        "\n",
        "  df_group['counts']      = data.groupby(group_name)[feature].count( )\n",
        "  df_group['good']        = data.query(\"NoSeriousDlqin2yrs == 1\").groupby(group_name)[feature].count( )\n",
        "  df_group['bad']         = data.query(\"NoSeriousDlqin2yrs == 0\").groupby(group_name)[feature].count( )\n",
        "  df_group['counts_perc'] = df_group.counts/sum(df_group.counts)\n",
        "  df_group['good_perc']   = df_group.good/sum(df_group.good)\n",
        "  df_group['bad_perc']    = df_group.bad/sum(df_group.bad)\n",
        "\n",
        "  df_group['WoE'] = np.log(df_group.good_perc / df_group.bad_perc).round(4)\n",
        "\n",
        "  df_group = df_group.reset_index( ).rename(columns={df_group.index.name:'group'})\n",
        "\n",
        "  df_group_WoE = df_group[['group', 'WoE']].copy( )\n",
        "  df_group_WoE['feature'] = feature\n",
        "\n",
        "  df_group_WoE = df_group_WoE[['feature', 'group', 'WoE']]\n",
        "\n",
        "  df_WoE = pd.concat([df_WoE, df_group_WoE])\n",
        "\n",
        "  IV = sum((df_group.good_perc - df_group.bad_perc) * df_group.WoE)\n",
        "\n",
        "  tmp_dict = \tpd.Series(df_group_WoE.WoE.values,index=df_group_WoE.group).to_dict( )\n",
        "\n",
        "  df[group_name] = df[group_name].map(tmp_dict)\n",
        "\n",
        "  return IV, df_WoE"
      ],
      "metadata": {
        "id": "AxVbINanbQ1Q"
      },
      "execution_count": null,
      "outputs": []
    },
    {
      "cell_type": "markdown",
      "source": [
        "Nice! Now, let's get the IV for the other features. First, let's get the IV for RevolvingUtilizationOfUnsecuredLines. We will use a describe to understand more about the feature:"
      ],
      "metadata": {
        "id": "CO-PNOF-cxZe"
      }
    },
    {
      "cell_type": "code",
      "source": [
        "df.RevolvingUtilizationOfUnsecuredLines.describe( )"
      ],
      "metadata": {
        "colab": {
          "base_uri": "https://localhost:8080/"
        },
        "id": "qNljYv_1cwR6",
        "outputId": "59dd1313-1e6a-4b91-81f4-316c497f46c7"
      },
      "execution_count": null,
      "outputs": [
        {
          "output_type": "execute_result",
          "data": {
            "text/plain": [
              "count    119987.000000\n",
              "mean          0.332974\n",
              "std           0.359650\n",
              "min           0.000000\n",
              "25%           0.035013\n",
              "50%           0.176562\n",
              "75%           0.575898\n",
              "max           4.937063\n",
              "Name: RevolvingUtilizationOfUnsecuredLines, dtype: float64"
            ]
          },
          "metadata": {},
          "execution_count": 1161
        }
      ]
    },
    {
      "cell_type": "markdown",
      "source": [
        "So, we will create a list of bins, and apply the function to get the IV:"
      ],
      "metadata": {
        "id": "eSo5YxT6c__F"
      }
    },
    {
      "cell_type": "code",
      "source": [
        "bins = [0, 0.1, 0.2, 0.3, 0.4, 0.5, 0.6, 0.7, 0.8, 0.9, 1.0, 1e6]\n",
        "IV, df_woe = GetIV('RevolvingUtilizationOfUnsecuredLines', bins, df, 'revolv_group', df_woe)\n",
        "print(f\"IV: {IV}\")"
      ],
      "metadata": {
        "colab": {
          "base_uri": "https://localhost:8080/"
        },
        "id": "tfOF2sr2c-UH",
        "outputId": "186f67d2-0bbd-4973-e1a1-d756c2e83035"
      },
      "execution_count": null,
      "outputs": [
        {
          "output_type": "stream",
          "name": "stdout",
          "text": [
            "IV: 1.054539156146092\n"
          ]
        }
      ]
    },
    {
      "cell_type": "markdown",
      "source": [
        "Nice! This feature actually seems to have a very high predictive power. Now, Monthly Income:"
      ],
      "metadata": {
        "id": "XnugPG2XewJ2"
      }
    },
    {
      "cell_type": "code",
      "source": [
        "df.MonthlyIncome.describe( )"
      ],
      "metadata": {
        "colab": {
          "base_uri": "https://localhost:8080/"
        },
        "id": "UIgStTDFe1Zn",
        "outputId": "db6a6319-9f38-413f-abfc-0fd6a308d077"
      },
      "execution_count": null,
      "outputs": [
        {
          "output_type": "execute_result",
          "data": {
            "text/plain": [
              "count    1.199870e+05\n",
              "mean     6.672385e+03\n",
              "std      1.439803e+04\n",
              "min      0.000000e+00\n",
              "25%      3.400000e+03\n",
              "50%      5.400000e+03\n",
              "75%      8.249000e+03\n",
              "max      3.008750e+06\n",
              "Name: MonthlyIncome, dtype: float64"
            ]
          },
          "metadata": {},
          "execution_count": 1163
        }
      ]
    },
    {
      "cell_type": "code",
      "source": [
        "bins = [0, 1000, 2000, 3000, 4000, 5000, 7000, 8500, 10000, 12000, 14000, 20000, 1e10]\n",
        "IV, df_woe = GetIV('MonthlyIncome', bins, df, 'income_group', df_woe)\n",
        "print(f\"IV: {IV}\")"
      ],
      "metadata": {
        "colab": {
          "base_uri": "https://localhost:8080/"
        },
        "id": "u-tIGphie4Wm",
        "outputId": "00b1e525-95ef-47e8-80e4-050ddcdadb0a"
      },
      "execution_count": null,
      "outputs": [
        {
          "output_type": "stream",
          "name": "stdout",
          "text": [
            "IV: 0.09301228792597713\n"
          ]
        }
      ]
    },
    {
      "cell_type": "markdown",
      "source": [
        "Monthly income actually presents a weak predictive power. Still, we will not drop it from our dataframe. Let's continue:"
      ],
      "metadata": {
        "id": "3odiRN8BfEOj"
      }
    },
    {
      "cell_type": "code",
      "source": [
        "df.NumberOfOpenCreditLinesAndLoans.describe( )"
      ],
      "metadata": {
        "colab": {
          "base_uri": "https://localhost:8080/"
        },
        "id": "LEjArpuyfMgc",
        "outputId": "c1fce3e1-3bb4-4df4-ae4a-7a6acc27ce81"
      },
      "execution_count": null,
      "outputs": [
        {
          "output_type": "execute_result",
          "data": {
            "text/plain": [
              "count    119987.000000\n",
              "mean          8.768717\n",
              "std           5.171798\n",
              "min           0.000000\n",
              "25%           5.000000\n",
              "50%           8.000000\n",
              "75%          11.000000\n",
              "max          58.000000\n",
              "Name: NumberOfOpenCreditLinesAndLoans, dtype: float64"
            ]
          },
          "metadata": {},
          "execution_count": 1165
        }
      ]
    },
    {
      "cell_type": "code",
      "source": [
        "bins = [0, 2, 4, 6, 8, 10, 12, 15, 20, 1e6]\n",
        "IV, df_woe = GetIV('NumberOfOpenCreditLinesAndLoans', bins, df, 'opencredit_group', df_woe)\n",
        "print(f\"IV: {IV}\")"
      ],
      "metadata": {
        "colab": {
          "base_uri": "https://localhost:8080/"
        },
        "id": "aW-TVca8fRbV",
        "outputId": "4e97598c-8511-4e7d-ff20-837b7d03ed8d"
      },
      "execution_count": null,
      "outputs": [
        {
          "output_type": "stream",
          "name": "stdout",
          "text": [
            "IV: 0.06960112053793509\n"
          ]
        }
      ]
    },
    {
      "cell_type": "markdown",
      "source": [
        "Only IV = 0.0683, again a weak predictive power. Again, since this is at least some predictive power, we will leave this feature on our dataset.\n"
      ],
      "metadata": {
        "id": "14dEKgHbfxTO"
      }
    },
    {
      "cell_type": "code",
      "source": [
        "df.NumberRealEstateLoansOrLines.describe( )"
      ],
      "metadata": {
        "colab": {
          "base_uri": "https://localhost:8080/"
        },
        "outputId": "e557538f-15b0-4087-96e3-36eb1fa30400",
        "id": "cR1lCDB_fjHW"
      },
      "execution_count": null,
      "outputs": [
        {
          "output_type": "execute_result",
          "data": {
            "text/plain": [
              "count    119987.000000\n",
              "mean          1.055081\n",
              "std           1.149367\n",
              "min           0.000000\n",
              "25%           0.000000\n",
              "50%           1.000000\n",
              "75%           2.000000\n",
              "max          54.000000\n",
              "Name: NumberRealEstateLoansOrLines, dtype: float64"
            ]
          },
          "metadata": {},
          "execution_count": 1167
        }
      ]
    },
    {
      "cell_type": "code",
      "source": [
        "bins = [0, 1, 2, 3, 5, 10, 1e6]\n",
        "IV, df_woe = GetIV('NumberRealEstateLoansOrLines', bins, df, 'numloans_group', df_woe)\n",
        "print(f\"IV: {IV}\")"
      ],
      "metadata": {
        "colab": {
          "base_uri": "https://localhost:8080/"
        },
        "outputId": "f26d0a68-d839-4904-f51f-5323ccec6846",
        "id": "SgqfrIW9fjHX"
      },
      "execution_count": null,
      "outputs": [
        {
          "output_type": "stream",
          "name": "stdout",
          "text": [
            "IV: 0.024761519787719732\n"
          ]
        }
      ]
    },
    {
      "cell_type": "markdown",
      "source": [
        "This feature actually shows IV very close to 0.02. Still, since it was not lower than 0.02, we will keep it. Now, let's go to the number of dependents:"
      ],
      "metadata": {
        "id": "MFN7dS3cfyp-"
      }
    },
    {
      "cell_type": "code",
      "source": [
        "df.NumberOfDependents.describe( )"
      ],
      "metadata": {
        "colab": {
          "base_uri": "https://localhost:8080/"
        },
        "outputId": "151c8303-1abb-42ba-e0e8-a9bd8f569abe",
        "id": "lhVno4uff9Pg"
      },
      "execution_count": null,
      "outputs": [
        {
          "output_type": "execute_result",
          "data": {
            "text/plain": [
              "count    119987.000000\n",
              "mean          0.852509\n",
              "std           1.148678\n",
              "min           0.000000\n",
              "25%           0.000000\n",
              "50%           0.000000\n",
              "75%           2.000000\n",
              "max          20.000000\n",
              "Name: NumberOfDependents, dtype: float64"
            ]
          },
          "metadata": {},
          "execution_count": 1169
        }
      ]
    },
    {
      "cell_type": "code",
      "source": [
        "bins = [0, 1, 2, 3, 4, 1e6]\n",
        "IV, df_woe = GetIV('NumberOfDependents', bins, df, 'dependents_group', df_woe)\n",
        "print(f\"IV: {IV}\")"
      ],
      "metadata": {
        "colab": {
          "base_uri": "https://localhost:8080/"
        },
        "outputId": "11f64dc6-b176-4b7a-fd67-f309769c3142",
        "id": "YgkfM6zTf9Pg"
      },
      "execution_count": null,
      "outputs": [
        {
          "output_type": "stream",
          "name": "stdout",
          "text": [
            "IV: 0.0250658709209954\n"
          ]
        }
      ]
    },
    {
      "cell_type": "markdown",
      "source": [
        "Again, a weak predictive power. Now, to the final feature:\n"
      ],
      "metadata": {
        "id": "E0QajP65faEs"
      }
    },
    {
      "cell_type": "code",
      "source": [
        "df.NumberOfTimes30DaysLate.describe( )"
      ],
      "metadata": {
        "colab": {
          "base_uri": "https://localhost:8080/"
        },
        "id": "Ru_uTEYGdUpz",
        "outputId": "68c27605-badd-400f-a413-53913a024a1d"
      },
      "execution_count": null,
      "outputs": [
        {
          "output_type": "execute_result",
          "data": {
            "text/plain": [
              "count    119987.000000\n",
              "mean          0.775309\n",
              "std          10.255766\n",
              "min           0.000000\n",
              "25%           0.000000\n",
              "50%           0.000000\n",
              "75%           0.000000\n",
              "max         294.000000\n",
              "Name: NumberOfTimes30DaysLate, dtype: float64"
            ]
          },
          "metadata": {},
          "execution_count": 1171
        }
      ]
    },
    {
      "cell_type": "markdown",
      "source": [
        "Most of our entries have a 0 value in this feature. To understand more about the feature, let's use a value_counts( ) method:"
      ],
      "metadata": {
        "id": "YSt_F3P1_-i8"
      }
    },
    {
      "cell_type": "code",
      "source": [
        "df.NumberOfTimes30DaysLate.value_counts( ).sort_index( )"
      ],
      "metadata": {
        "colab": {
          "base_uri": "https://localhost:8080/"
        },
        "id": "E4BDqAddd8s0",
        "outputId": "3331cc5d-2aed-427d-fb10-cf05471c9291"
      },
      "execution_count": null,
      "outputs": [
        {
          "output_type": "execute_result",
          "data": {
            "text/plain": [
              "0      94586\n",
              "1      14435\n",
              "2       5035\n",
              "3       2421\n",
              "4       1320\n",
              "5        802\n",
              "6        497\n",
              "7        309\n",
              "8        163\n",
              "9        105\n",
              "10        62\n",
              "11        44\n",
              "12        18\n",
              "13        17\n",
              "14        11\n",
              "15         7\n",
              "16         4\n",
              "17         4\n",
              "18         1\n",
              "19         1\n",
              "288        4\n",
              "294      141\n",
              "Name: NumberOfTimes30DaysLate, dtype: int64"
            ]
          },
          "metadata": {},
          "execution_count": 1172
        }
      ]
    },
    {
      "cell_type": "markdown",
      "source": [
        "Now, we can create the bins and evaluate the IV:"
      ],
      "metadata": {
        "id": "MfZyeqfOAIAU"
      }
    },
    {
      "cell_type": "code",
      "source": [
        "bins = [0, 1, 2, 3, 4, 5, 6, 8, 10, 15, 1e6]\n",
        "IV, df_woe = GetIV('NumberOfTimes30DaysLate', bins, df, '30dayslate_group', df_woe)\n",
        "print(f\"IV: {IV}\")"
      ],
      "metadata": {
        "colab": {
          "base_uri": "https://localhost:8080/"
        },
        "id": "gGAaqRaSgd-M",
        "outputId": "f6b25bc0-adb1-42f1-8581-87c34128c36a"
      },
      "execution_count": null,
      "outputs": [
        {
          "output_type": "stream",
          "name": "stdout",
          "text": [
            "IV: 1.085400206823606\n"
          ]
        }
      ]
    },
    {
      "cell_type": "markdown",
      "source": [
        "Again, this feature has a very high information value!"
      ],
      "metadata": {
        "id": "BpRs2ezhhBWz"
      }
    },
    {
      "cell_type": "markdown",
      "source": [
        "So, we have evaluated the IVs, and we also built our dataframe containing the WoE values for each class, substituting the classes by their WoE's in the main dataframe. Now, let's continue to model fitting and derivation of our credit score."
      ],
      "metadata": {
        "id": "KnUKVw1AjfzU"
      }
    },
    {
      "cell_type": "markdown",
      "source": [
        "# Model fitting and defining the credit score\n",
        "\n",
        "The credit score for each user is related to the probability of the user paying of his debt. To evaluate this probability, we will use a Logistic Regression model. The score for each group (from each feature) can be defined by:\n",
        "\n",
        "\\begin{equation}\n",
        "\\text{Score}_{i, j} = (\\beta_i \\times \\text{WoE}_{i,j} + \\alpha/n) \\times \\text{Factor} + \\text{Offset}/n\n",
        "\\end{equation}\n",
        "\n",
        "where $\\beta_i$ is the $i$-th coefficient for the logistic regression, $\\alpha$ is the intercept, $n$ is the number of features, and $\\text{WoE}_{i,j}$ is the WoE for the $j$-th group of the $i$-th feature. Factor and Offset are scalling parameters, and will be discussed later. Then, to get the final score, we will sum the scores for all features.\n",
        "\n",
        "So, first, let's fit a logistic regression:"
      ],
      "metadata": {
        "id": "TBBWzE8ojmJH"
      }
    },
    {
      "cell_type": "code",
      "source": [
        "# Selecting features\n",
        "features = ['age_group', 'revolv_group', 'income_group', 'opencredit_group', 'numloans_group', 'dependents_group', '30dayslate_group']\n",
        "\n",
        "# Selecting independent features and target variable\n",
        "X = df[features]\n",
        "y = df.NoSeriousDlqin2yrs\n",
        "\n",
        "# Spliting into train and test sets\n",
        "SEED = 1001\n",
        "X_train, X_test, y_train, y_test = train_test_split(X, y, test_size = 0.2, random_state = SEED)\n",
        "\n",
        "# Evaluating sample weight (to deal with unbalanced data)\n",
        "n_0 = y_train[y_train == 0].shape[0]\n",
        "n_1 = y_train[y_train == 1].shape[0]\n",
        "w = n_1/n_0\n",
        "\n",
        "# Instance the logistic regression object\n",
        "LogReg = LogisticRegression(max_iter = 100, class_weight = {0 : w, 1 : 1}, fit_intercept = True, solver = 'lbfgs', random_state = SEED)\n",
        "\n",
        "# Model fitting\n",
        "LogReg.fit(X_train, y_train)"
      ],
      "metadata": {
        "colab": {
          "base_uri": "https://localhost:8080/"
        },
        "id": "nEHalhaHjhp6",
        "outputId": "ad71928d-51e2-44ed-d937-4c8eb9e15c19"
      },
      "execution_count": null,
      "outputs": [
        {
          "output_type": "execute_result",
          "data": {
            "text/plain": [
              "LogisticRegression(class_weight={0: 13.363160257369445, 1: 1},\n",
              "                   random_state=1001)"
            ]
          },
          "metadata": {},
          "execution_count": 1174
        }
      ]
    },
    {
      "cell_type": "markdown",
      "source": [
        "Nice! Let's see how well our model is doing. First, let's get the confusion matrix:"
      ],
      "metadata": {
        "id": "0ov3jI7mPsYN"
      }
    },
    {
      "cell_type": "code",
      "source": [
        "y_pred = LogReg.predict(X_test)\n",
        "\n",
        "cm = confusion_matrix(y_test, y_pred)\n",
        "disp = ConfusionMatrixDisplay(confusion_matrix = cm)\n",
        "disp.plot(values_format = 'd')"
      ],
      "metadata": {
        "colab": {
          "base_uri": "https://localhost:8080/",
          "height": 297
        },
        "id": "XPZ3OnUcQK23",
        "outputId": "7c0b6e82-719e-4dbf-977f-f56ae4cd7303"
      },
      "execution_count": null,
      "outputs": [
        {
          "output_type": "execute_result",
          "data": {
            "text/plain": [
              "<sklearn.metrics._plot.confusion_matrix.ConfusionMatrixDisplay at 0x7f764a904c90>"
            ]
          },
          "metadata": {},
          "execution_count": 1175
        },
        {
          "output_type": "display_data",
          "data": {
            "text/plain": [
              "<Figure size 432x288 with 2 Axes>"
            ],
            "image/png": "[encoded data removed]"
          },
          "metadata": {
            "needs_background": "light"
          }
        }
      ]
    },
    {
      "cell_type": "markdown",
      "source": [
        "So, we have 1210 True Negatives (our model recognized that those are bad borrowers), 17749 True Positives (our model recognized that those are good borrowers), 444 False Positives (our model was not able to recognize that these are bad borrowers), and 4595 False Negatives (our model was not able to recognize that those are good borrowers)."
      ],
      "metadata": {
        "id": "Dqw4OvxyQ2sy"
      }
    },
    {
      "cell_type": "markdown",
      "source": [
        "Now, we can evaluate the accuracy, precision, recall, and f1-score:"
      ],
      "metadata": {
        "id": "1719iK4kQwfO"
      }
    },
    {
      "cell_type": "code",
      "source": [
        "acc = round(metrics.accuracy_score(y_test, y_pred), 4)\n",
        "prc = round(metrics.precision_score(y_test, y_pred, pos_label = 0), 4)\n",
        "rec = round(metrics.recall_score(y_test, y_pred, pos_label = 0), 4)\n",
        "f1s = round(metrics.f1_score(y_test, y_pred, pos_label = 0), 4)\n",
        "\n",
        "print(f\"Accuracy  : {acc}\")\n",
        "print(f\"Precision : {prc}\")\n",
        "print(f\"Recall    : {rec}\")\n",
        "print(f\"F1        : {f1s}\")"
      ],
      "metadata": {
        "colab": {
          "base_uri": "https://localhost:8080/"
        },
        "id": "wYprwMlPP1n0",
        "outputId": "528eec6f-493d-41d5-d0f4-fca5e20964dc"
      },
      "execution_count": null,
      "outputs": [
        {
          "output_type": "stream",
          "name": "stdout",
          "text": [
            "Accuracy  : 0.79\n",
            "Precision : 0.2084\n",
            "Recall    : 0.7316\n",
            "F1        : 0.3244\n"
          ]
        }
      ]
    },
    {
      "cell_type": "markdown",
      "source": [
        "Thus, we have a recall of 73.16% and an accuracy of 20.84%. It seems that our model is fine at finding bad borrowers. However, it is conservative in the sense that many good borrowers are mistaken for bad borrowers. Since we lose a lot of money lending to a bad borrower, we may be more interested in identifying bad borrowers, and less concerned with misjudging good borrowers.\n",
        "\n",
        "Now, let's return to the function and get the parameters necessary for our score. First, $\\beta_i$ and $\\alpha$ are the logistic regression coefficient for the $i$-th variable and the logistic regression intercept. We will start with the parameters for the age group, so:"
      ],
      "metadata": {
        "id": "dLRj5ENhxEPV"
      }
    },
    {
      "cell_type": "code",
      "source": [
        "beta_i = LogReg.coef_[0][0]\n",
        "alpha  = LogReg.intercept_[0]"
      ],
      "metadata": {
        "id": "a0aiS2Vyw8yW"
      },
      "execution_count": null,
      "outputs": []
    },
    {
      "cell_type": "markdown",
      "source": [
        "$n$ is the number of features in our dataset. Thus:"
      ],
      "metadata": {
        "id": "DqEg2JBkxoyt"
      }
    },
    {
      "cell_type": "code",
      "source": [
        "n = 7"
      ],
      "metadata": {
        "id": "l_4zC-QUxdgC"
      },
      "execution_count": null,
      "outputs": []
    },
    {
      "cell_type": "markdown",
      "source": [
        "Now, Factor and Offset are scalling parameters:\n",
        "\n",
        "\\begin{equation}\n",
        "\\text{Factor: } \\dfrac{\\text{pdo}}{\\ln2}\n",
        "\\end{equation}\n",
        "\n",
        "\\begin{equation}\n",
        "\\text{Offset: } \\text{Target Score} - \\text{Factor} \\times \\ln(\\text{Target Odds})\n",
        "\\end{equation}\n",
        "\n",
        "So, Factor is given by pdo divided by $\\ln2$, where pdo is an arbitrary number where an increase in pdo units means a doubling odds. For instance, if pdo = 20, an increase of 20 in a credit score means a doubling odds of paying.\n",
        "\n",
        "Offset is found by the Target Score (which is also arbitrary) and the target odds (again, arbitrary). For instance, if the Target Score is 600 and the Target Odds is 50, it means that the target score means a 50 to 1 odds of good customer to bad in that group.\n",
        "\n",
        "Now, let's set our arbitrary variables:"
      ],
      "metadata": {
        "id": "V0_2fyVLyAGF"
      }
    },
    {
      "cell_type": "code",
      "source": [
        "pdo = 50\n",
        "factor = pdo/np.log(2)\n",
        "target_score = 800\n",
        "target_odds  = 9\n",
        "offset = target_score - factor*np.log(target_odds)"
      ],
      "metadata": {
        "id": "-1h3dkYvxfa8"
      },
      "execution_count": null,
      "outputs": []
    },
    {
      "cell_type": "markdown",
      "source": [
        "Great! Finally, let's get the Score for each group for the age feature:"
      ],
      "metadata": {
        "id": "_WevOtxFzjCA"
      }
    },
    {
      "cell_type": "code",
      "source": [
        "df_woe.loc[df_woe.feature == 'age', 'score'] = df_woe[df_woe.feature == 'age'].WoE.apply(lambda x : (beta_i * x + alpha/n)*factor + offset/n)"
      ],
      "metadata": {
        "id": "x2DsTVhhxwq8"
      },
      "execution_count": null,
      "outputs": []
    },
    {
      "cell_type": "code",
      "source": [
        "df_woe.query(\"feature == 'age'\")"
      ],
      "metadata": {
        "colab": {
          "base_uri": "https://localhost:8080/",
          "height": 363
        },
        "id": "a034tpLRx0zQ",
        "outputId": "4b703584-20fb-447c-b261-ffe48a6fe841"
      },
      "execution_count": null,
      "outputs": [
        {
          "output_type": "execute_result",
          "data": {
            "text/plain": [
              "  feature              group     WoE       score\n",
              "0     age     (17.999, 24.0] -0.3829   79.636419\n",
              "1     age       (24.0, 30.0] -0.5518   74.449875\n",
              "2     age       (30.0, 35.0] -0.4288   78.226932\n",
              "3     age       (35.0, 40.0] -0.2929   82.400120\n",
              "4     age       (40.0, 45.0] -0.2143   84.813751\n",
              "5     age       (45.0, 50.0] -0.1751   86.017496\n",
              "6     age       (50.0, 60.0]  0.0894   94.139704\n",
              "7     age       (60.0, 70.0]  0.6572  111.575583\n",
              "8     age       (70.0, 80.0]  0.9953  121.957884\n",
              "9     age  (80.0, 1000000.0]  1.1045  125.311173"
            ],
            "text/html": [
              "\n",
              "  <div id=\"df-0c005229-cd26-4255-ab48-6a0d85e62c44\">\n",
              "    <div class=\"colab-df-container\">\n",
              "      <div>\n",
              "<style scoped>\n",
              "    .dataframe tbody tr th:only-of-type {\n",
              "        vertical-align: middle;\n",
              "    }\n",
              "\n",
              "    .dataframe tbody tr th {\n",
              "        vertical-align: top;\n",
              "    }\n",
              "\n",
              "    .dataframe thead th {\n",
              "        text-align: right;\n",
              "    }\n",
              "</style>\n",
              "<table border=\"1\" class=\"dataframe\">\n",
              "  <thead>\n",
              "    <tr style=\"text-align: right;\">\n",
              "      <th></th>\n",
              "      <th>feature</th>\n",
              "      <th>group</th>\n",
              "      <th>WoE</th>\n",
              "      <th>score</th>\n",
              "    </tr>\n",
              "  </thead>\n",
              "  <tbody>\n",
              "    <tr>\n",
              "      <th>0</th>\n",
              "      <td>age</td>\n",
              "      <td>(17.999, 24.0]</td>\n",
              "      <td>-0.3829</td>\n",
              "      <td>79.636419</td>\n",
              "    </tr>\n",
              "    <tr>\n",
              "      <th>1</th>\n",
              "      <td>age</td>\n",
              "      <td>(24.0, 30.0]</td>\n",
              "      <td>-0.5518</td>\n",
              "      <td>74.449875</td>\n",
              "    </tr>\n",
              "    <tr>\n",
              "      <th>2</th>\n",
              "      <td>age</td>\n",
              "      <td>(30.0, 35.0]</td>\n",
              "      <td>-0.4288</td>\n",
              "      <td>78.226932</td>\n",
              "    </tr>\n",
              "    <tr>\n",
              "      <th>3</th>\n",
              "      <td>age</td>\n",
              "      <td>(35.0, 40.0]</td>\n",
              "      <td>-0.2929</td>\n",
              "      <td>82.400120</td>\n",
              "    </tr>\n",
              "    <tr>\n",
              "      <th>4</th>\n",
              "      <td>age</td>\n",
              "      <td>(40.0, 45.0]</td>\n",
              "      <td>-0.2143</td>\n",
              "      <td>84.813751</td>\n",
              "    </tr>\n",
              "    <tr>\n",
              "      <th>5</th>\n",
              "      <td>age</td>\n",
              "      <td>(45.0, 50.0]</td>\n",
              "      <td>-0.1751</td>\n",
              "      <td>86.017496</td>\n",
              "    </tr>\n",
              "    <tr>\n",
              "      <th>6</th>\n",
              "      <td>age</td>\n",
              "      <td>(50.0, 60.0]</td>\n",
              "      <td>0.0894</td>\n",
              "      <td>94.139704</td>\n",
              "    </tr>\n",
              "    <tr>\n",
              "      <th>7</th>\n",
              "      <td>age</td>\n",
              "      <td>(60.0, 70.0]</td>\n",
              "      <td>0.6572</td>\n",
              "      <td>111.575583</td>\n",
              "    </tr>\n",
              "    <tr>\n",
              "      <th>8</th>\n",
              "      <td>age</td>\n",
              "      <td>(70.0, 80.0]</td>\n",
              "      <td>0.9953</td>\n",
              "      <td>121.957884</td>\n",
              "    </tr>\n",
              "    <tr>\n",
              "      <th>9</th>\n",
              "      <td>age</td>\n",
              "      <td>(80.0, 1000000.0]</td>\n",
              "      <td>1.1045</td>\n",
              "      <td>125.311173</td>\n",
              "    </tr>\n",
              "  </tbody>\n",
              "</table>\n",
              "</div>\n",
              "      <button class=\"colab-df-convert\" onclick=\"convertToInteractive('df-0c005229-cd26-4255-ab48-6a0d85e62c44')\"\n",
              "              title=\"Convert this dataframe to an interactive table.\"\n",
              "              style=\"display:none;\">\n",
              "        \n",
              "  <svg xmlns=\"http://www.w3.org/2000/svg\" height=\"24px\"viewBox=\"0 0 24 24\"\n",
              "       width=\"24px\">\n",
              "    <path d=\"M0 0h24v24H0V0z\" fill=\"none\"/>\n",
              "    <path d=\"M18.56 5.44l.94 2.06.94-2.06 2.06-.94-2.06-.94-.94-2.06-.94 2.06-2.06.94zm-11 1L8.5 8.5l.94-2.06 2.06-.94-2.06-.94L8.5 2.5l-.94 2.06-2.06.94zm10 10l.94 2.06.94-2.06 2.06-.94-2.06-.94-.94-2.06-.94 2.06-2.06.94z\"/><path d=\"M17.41 7.96l-1.37-1.37c-.4-.4-.92-.59-1.43-.59-.52 0-1.04.2-1.43.59L10.3 9.45l-7.72 7.72c-.78.78-.78 2.05 0 2.83L4 21.41c.39.39.9.59 1.41.59.51 0 1.02-.2 1.41-.59l7.78-7.78 2.81-2.81c.8-.78.8-2.07 0-2.86zM5.41 20L4 18.59l7.72-7.72 1.47 1.35L5.41 20z\"/>\n",
              "  </svg>\n",
              "      </button>\n",
              "      \n",
              "  <style>\n",
              "    .colab-df-container {\n",
              "      display:flex;\n",
              "      flex-wrap:wrap;\n",
              "      gap: 12px;\n",
              "    }\n",
              "\n",
              "    .colab-df-convert {\n",
              "      background-color: #E8F0FE;\n",
              "      border: none;\n",
              "      border-radius: 50%;\n",
              "      cursor: pointer;\n",
              "      display: none;\n",
              "      fill: #1967D2;\n",
              "      height: 32px;\n",
              "      padding: 0 0 0 0;\n",
              "      width: 32px;\n",
              "    }\n",
              "\n",
              "    .colab-df-convert:hover {\n",
              "      background-color: #E2EBFA;\n",
              "      box-shadow: 0px 1px 2px rgba(60, 64, 67, 0.3), 0px 1px 3px 1px rgba(60, 64, 67, 0.15);\n",
              "      fill: #174EA6;\n",
              "    }\n",
              "\n",
              "    [theme=dark] .colab-df-convert {\n",
              "      background-color: #3B4455;\n",
              "      fill: #D2E3FC;\n",
              "    }\n",
              "\n",
              "    [theme=dark] .colab-df-convert:hover {\n",
              "      background-color: #434B5C;\n",
              "      box-shadow: 0px 1px 3px 1px rgba(0, 0, 0, 0.15);\n",
              "      filter: drop-shadow(0px 1px 2px rgba(0, 0, 0, 0.3));\n",
              "      fill: #FFFFFF;\n",
              "    }\n",
              "  </style>\n",
              "\n",
              "      <script>\n",
              "        const buttonEl =\n",
              "          document.querySelector('#df-0c005229-cd26-4255-ab48-6a0d85e62c44 button.colab-df-convert');\n",
              "        buttonEl.style.display =\n",
              "          google.colab.kernel.accessAllowed ? 'block' : 'none';\n",
              "\n",
              "        async function convertToInteractive(key) {\n",
              "          const element = document.querySelector('#df-0c005229-cd26-4255-ab48-6a0d85e62c44');\n",
              "          const dataTable =\n",
              "            await google.colab.kernel.invokeFunction('convertToInteractive',\n",
              "                                                     [key], {});\n",
              "          if (!dataTable) return;\n",
              "\n",
              "          const docLinkHtml = 'Like what you see? Visit the ' +\n",
              "            '<a target=\"_blank\" href=https://colab.research.google.com/notebooks/data_table.ipynb>data table notebook</a>'\n",
              "            + ' to learn more about interactive tables.';\n",
              "          element.innerHTML = '';\n",
              "          dataTable['output_type'] = 'display_data';\n",
              "          await google.colab.output.renderOutput(dataTable, element);\n",
              "          const docLink = document.createElement('div');\n",
              "          docLink.innerHTML = docLinkHtml;\n",
              "          element.appendChild(docLink);\n",
              "        }\n",
              "      </script>\n",
              "    </div>\n",
              "  </div>\n",
              "  "
            ]
          },
          "metadata": {},
          "execution_count": 1181
        }
      ]
    },
    {
      "cell_type": "markdown",
      "source": [
        "Nice! Now, let's define a function to get the score for all other features:"
      ],
      "metadata": {
        "id": "MJzqyL_K0Pm7"
      }
    },
    {
      "cell_type": "code",
      "source": [
        "def SetScore(params, df_woe, feature):\n",
        "  beta_i, alpha, n, factor, offset = params['beta_i'], params['alpha'], params['n'], params['Factor'], params['Offset']\n",
        "  df_woe.loc[df_woe.feature == feature, 'score'] = df_woe[df_woe.feature == feature].WoE.apply(lambda x : (beta_i * x + alpha/n)*factor + offset/n)"
      ],
      "metadata": {
        "id": "FZIGEgP6z2an"
      },
      "execution_count": null,
      "outputs": []
    },
    {
      "cell_type": "markdown",
      "source": [
        "To ease things out, let's define a dictionary with our parameters:"
      ],
      "metadata": {
        "id": "5sjRriVX03pA"
      }
    },
    {
      "cell_type": "code",
      "source": [
        "params = {'beta_i' : beta_i,\n",
        "          'alpha'  : alpha,\n",
        "          'n'      : n,\n",
        "          'Factor' : factor,\n",
        "          'Offset' : offset}"
      ],
      "metadata": {
        "id": "jOGYWxat0qt1"
      },
      "execution_count": null,
      "outputs": []
    },
    {
      "cell_type": "markdown",
      "source": [
        "Note that the $\\beta_i$ and $\\alpha$ parameters will change for different features, as it depends on the fitted logistic regression."
      ],
      "metadata": {
        "id": "SlNWwUHe0_h-"
      }
    },
    {
      "cell_type": "markdown",
      "source": [
        "Finally, let's run the method to the other features:"
      ],
      "metadata": {
        "id": "O09Jlsd22O8c"
      }
    },
    {
      "cell_type": "code",
      "source": [
        "feature_names = ['age', 'RevolvingUtilizationOfUnsecuredLines', 'MonthlyIncome', 'NumberOfOpenCreditLinesAndLoans', \n",
        "                 'NumberRealEstateLoansOrLines', 'NumberOfDependents', 'NumberOfTimes30DaysLate']\n",
        "\n",
        "for i in range(len(feature_names)):\n",
        "  params['beta_i'] = LogReg.coef_[0][i]\n",
        "  feature = feature_names[i]\n",
        "  SetScore(params, df_woe, feature)"
      ],
      "metadata": {
        "id": "pOkj0o-f2N8S"
      },
      "execution_count": null,
      "outputs": []
    },
    {
      "cell_type": "markdown",
      "source": [
        "## Evaluating the credit score for our customers\n",
        "\n",
        "Nice! Finally, let's get our initial dataframe, and let's try to evaluate the credit score of each of our customers. We basically have to get the score related to each group, and sum them up. "
      ],
      "metadata": {
        "id": "ksXDaNcu3_yG"
      }
    },
    {
      "cell_type": "markdown",
      "source": [
        "First, let's get the score for each feature:"
      ],
      "metadata": {
        "id": "cDkUkm2CFRtP"
      }
    },
    {
      "cell_type": "code",
      "source": [
        "def GetScoreEachFeature(df, feature_names, group_names):\n",
        "  for i in range(len(feature_names)):\n",
        "    group   = group_names[i]\n",
        "    feature = feature_names[i]\n",
        "\n",
        "    df[feature + '_score'] = df[group] \n",
        "\n",
        "    df_woe_group = df_woe[df_woe.feature == feature]\n",
        "    tmp_dict = \tpd.Series(df_woe_group.score.values,index=df_woe_group.WoE).to_dict( )\n",
        "\n",
        "    df[feature + '_score'] = df[feature + '_score'].map(tmp_dict)"
      ],
      "metadata": {
        "id": "KZWlMndmG8I0"
      },
      "execution_count": null,
      "outputs": []
    },
    {
      "cell_type": "code",
      "source": [
        "group_names = ['age_group', 'revolv_group', 'income_group', 'opencredit_group', 'numloans_group', 'dependents_group', '30dayslate_group']\n",
        "\n",
        "GetScoreEachFeature(df, feature_names, group_names)"
      ],
      "metadata": {
        "id": "wasKFiGmHUhW"
      },
      "execution_count": null,
      "outputs": []
    },
    {
      "cell_type": "markdown",
      "source": [
        "Now, to get the total score, we simply sum the scores from all features:"
      ],
      "metadata": {
        "id": "kW6I7adWHv1Z"
      }
    },
    {
      "cell_type": "code",
      "source": [
        "def GetTotalScore(df, feature_names):\n",
        "  feature_score_names = []\n",
        "  for feature in feature_names:\n",
        "    feature_score_names.append(feature + '_score')\n",
        "\n",
        "  df['score'] = df.loc[:, feature_score_names].sum(axis = 1).astype(int)"
      ],
      "metadata": {
        "id": "u6xwvIq8FwsG"
      },
      "execution_count": null,
      "outputs": []
    },
    {
      "cell_type": "code",
      "source": [
        "GetTotalScore(df, feature_names)"
      ],
      "metadata": {
        "id": "4SLPgRKrIEpf"
      },
      "execution_count": null,
      "outputs": []
    },
    {
      "cell_type": "markdown",
      "source": [
        "Nice! The credit score is usually an integer, which makes it more easy for the end-user to understand it. Let's see how our scores are distributed using a describe( ):"
      ],
      "metadata": {
        "id": "RdH-vpieehsu"
      }
    },
    {
      "cell_type": "code",
      "source": [
        "df.score.describe( )"
      ],
      "metadata": {
        "colab": {
          "base_uri": "https://localhost:8080/"
        },
        "id": "-ba7S1SyIHxv",
        "outputId": "9938cf79-1a35-4497-9aff-6a6245cd0d08"
      },
      "execution_count": null,
      "outputs": [
        {
          "output_type": "execute_result",
          "data": {
            "text/plain": [
              "count    119987.000000\n",
              "mean        685.649229\n",
              "std          83.396828\n",
              "min         294.000000\n",
              "25%         644.000000\n",
              "50%         713.000000\n",
              "75%         745.000000\n",
              "max         806.000000\n",
              "Name: score, dtype: float64"
            ]
          },
          "metadata": {},
          "execution_count": 1189
        }
      ]
    },
    {
      "cell_type": "markdown",
      "source": [
        "Nice! So, our scores go from 294 to 806. However, most of our scores are higher than 640. Let's see a boxplot to understand more about the distribution of scores depending on the target feature:\n",
        "\n",
        "\n",
        "\n",
        "\n",
        "\n"
      ],
      "metadata": {
        "id": "FbVlNkDDfgU0"
      }
    },
    {
      "cell_type": "code",
      "source": [
        "sns.boxplot(x = 'NoSeriousDlqin2yrs', y = 'score', data = df)"
      ],
      "metadata": {
        "colab": {
          "base_uri": "https://localhost:8080/",
          "height": 297
        },
        "id": "aoB3iNQddBUs",
        "outputId": "fe406fdd-5c18-45f1-9916-150cef8a2915"
      },
      "execution_count": null,
      "outputs": [
        {
          "output_type": "execute_result",
          "data": {
            "text/plain": [
              "<matplotlib.axes._subplots.AxesSubplot at 0x7f7654084610>"
            ]
          },
          "metadata": {},
          "execution_count": 1190
        },
        {
          "output_type": "display_data",
          "data": {
            "text/plain": [
              "<Figure size 432x288 with 1 Axes>"
            ],
            "image/png": "[encoded data removed]"
          },
          "metadata": {
            "needs_background": "light"
          }
        }
      ]
    },
    {
      "cell_type": "markdown",
      "source": [
        "So, our good customers usually show a higher score, and our bad customers usually show a lower score. Note that, however, there are some good customers with bad score, and some bad customers with good score. This is likely due to the false positives and the false negatives from our model."
      ],
      "metadata": {
        "id": "y64wERYNiQ_8"
      }
    },
    {
      "cell_type": "markdown",
      "source": [
        "## Discussing the results\n",
        "\n",
        "So, we have defined a credit scorecard for our customers. An advantage of the methodology we used is that we can very easily get the score for each group. These are stored in the ```df_woe``` dataframe. For instance, let's see the scores for age:"
      ],
      "metadata": {
        "id": "_YSGh_2Giwdd"
      }
    },
    {
      "cell_type": "code",
      "source": [
        "df_woe.query(\"feature == 'age'\")"
      ],
      "metadata": {
        "colab": {
          "base_uri": "https://localhost:8080/",
          "height": 363
        },
        "id": "qjNHHRcpirme",
        "outputId": "878aed12-fa82-4eb4-9abb-916a66984e86"
      },
      "execution_count": null,
      "outputs": [
        {
          "output_type": "execute_result",
          "data": {
            "text/plain": [
              "  feature              group     WoE       score\n",
              "0     age     (17.999, 24.0] -0.3829   79.636419\n",
              "1     age       (24.0, 30.0] -0.5518   74.449875\n",
              "2     age       (30.0, 35.0] -0.4288   78.226932\n",
              "3     age       (35.0, 40.0] -0.2929   82.400120\n",
              "4     age       (40.0, 45.0] -0.2143   84.813751\n",
              "5     age       (45.0, 50.0] -0.1751   86.017496\n",
              "6     age       (50.0, 60.0]  0.0894   94.139704\n",
              "7     age       (60.0, 70.0]  0.6572  111.575583\n",
              "8     age       (70.0, 80.0]  0.9953  121.957884\n",
              "9     age  (80.0, 1000000.0]  1.1045  125.311173"
            ],
            "text/html": [
              "\n",
              "  <div id=\"df-29c45015-a5bc-4077-b394-033dc81f82af\">\n",
              "    <div class=\"colab-df-container\">\n",
              "      <div>\n",
              "<style scoped>\n",
              "    .dataframe tbody tr th:only-of-type {\n",
              "        vertical-align: middle;\n",
              "    }\n",
              "\n",
              "    .dataframe tbody tr th {\n",
              "        vertical-align: top;\n",
              "    }\n",
              "\n",
              "    .dataframe thead th {\n",
              "        text-align: right;\n",
              "    }\n",
              "</style>\n",
              "<table border=\"1\" class=\"dataframe\">\n",
              "  <thead>\n",
              "    <tr style=\"text-align: right;\">\n",
              "      <th></th>\n",
              "      <th>feature</th>\n",
              "      <th>group</th>\n",
              "      <th>WoE</th>\n",
              "      <th>score</th>\n",
              "    </tr>\n",
              "  </thead>\n",
              "  <tbody>\n",
              "    <tr>\n",
              "      <th>0</th>\n",
              "      <td>age</td>\n",
              "      <td>(17.999, 24.0]</td>\n",
              "      <td>-0.3829</td>\n",
              "      <td>79.636419</td>\n",
              "    </tr>\n",
              "    <tr>\n",
              "      <th>1</th>\n",
              "      <td>age</td>\n",
              "      <td>(24.0, 30.0]</td>\n",
              "      <td>-0.5518</td>\n",
              "      <td>74.449875</td>\n",
              "    </tr>\n",
              "    <tr>\n",
              "      <th>2</th>\n",
              "      <td>age</td>\n",
              "      <td>(30.0, 35.0]</td>\n",
              "      <td>-0.4288</td>\n",
              "      <td>78.226932</td>\n",
              "    </tr>\n",
              "    <tr>\n",
              "      <th>3</th>\n",
              "      <td>age</td>\n",
              "      <td>(35.0, 40.0]</td>\n",
              "      <td>-0.2929</td>\n",
              "      <td>82.400120</td>\n",
              "    </tr>\n",
              "    <tr>\n",
              "      <th>4</th>\n",
              "      <td>age</td>\n",
              "      <td>(40.0, 45.0]</td>\n",
              "      <td>-0.2143</td>\n",
              "      <td>84.813751</td>\n",
              "    </tr>\n",
              "    <tr>\n",
              "      <th>5</th>\n",
              "      <td>age</td>\n",
              "      <td>(45.0, 50.0]</td>\n",
              "      <td>-0.1751</td>\n",
              "      <td>86.017496</td>\n",
              "    </tr>\n",
              "    <tr>\n",
              "      <th>6</th>\n",
              "      <td>age</td>\n",
              "      <td>(50.0, 60.0]</td>\n",
              "      <td>0.0894</td>\n",
              "      <td>94.139704</td>\n",
              "    </tr>\n",
              "    <tr>\n",
              "      <th>7</th>\n",
              "      <td>age</td>\n",
              "      <td>(60.0, 70.0]</td>\n",
              "      <td>0.6572</td>\n",
              "      <td>111.575583</td>\n",
              "    </tr>\n",
              "    <tr>\n",
              "      <th>8</th>\n",
              "      <td>age</td>\n",
              "      <td>(70.0, 80.0]</td>\n",
              "      <td>0.9953</td>\n",
              "      <td>121.957884</td>\n",
              "    </tr>\n",
              "    <tr>\n",
              "      <th>9</th>\n",
              "      <td>age</td>\n",
              "      <td>(80.0, 1000000.0]</td>\n",
              "      <td>1.1045</td>\n",
              "      <td>125.311173</td>\n",
              "    </tr>\n",
              "  </tbody>\n",
              "</table>\n",
              "</div>\n",
              "      <button class=\"colab-df-convert\" onclick=\"convertToInteractive('df-29c45015-a5bc-4077-b394-033dc81f82af')\"\n",
              "              title=\"Convert this dataframe to an interactive table.\"\n",
              "              style=\"display:none;\">\n",
              "        \n",
              "  <svg xmlns=\"http://www.w3.org/2000/svg\" height=\"24px\"viewBox=\"0 0 24 24\"\n",
              "       width=\"24px\">\n",
              "    <path d=\"M0 0h24v24H0V0z\" fill=\"none\"/>\n",
              "    <path d=\"M18.56 5.44l.94 2.06.94-2.06 2.06-.94-2.06-.94-.94-2.06-.94 2.06-2.06.94zm-11 1L8.5 8.5l.94-2.06 2.06-.94-2.06-.94L8.5 2.5l-.94 2.06-2.06.94zm10 10l.94 2.06.94-2.06 2.06-.94-2.06-.94-.94-2.06-.94 2.06-2.06.94z\"/><path d=\"M17.41 7.96l-1.37-1.37c-.4-.4-.92-.59-1.43-.59-.52 0-1.04.2-1.43.59L10.3 9.45l-7.72 7.72c-.78.78-.78 2.05 0 2.83L4 21.41c.39.39.9.59 1.41.59.51 0 1.02-.2 1.41-.59l7.78-7.78 2.81-2.81c.8-.78.8-2.07 0-2.86zM5.41 20L4 18.59l7.72-7.72 1.47 1.35L5.41 20z\"/>\n",
              "  </svg>\n",
              "      </button>\n",
              "      \n",
              "  <style>\n",
              "    .colab-df-container {\n",
              "      display:flex;\n",
              "      flex-wrap:wrap;\n",
              "      gap: 12px;\n",
              "    }\n",
              "\n",
              "    .colab-df-convert {\n",
              "      background-color: #E8F0FE;\n",
              "      border: none;\n",
              "      border-radius: 50%;\n",
              "      cursor: pointer;\n",
              "      display: none;\n",
              "      fill: #1967D2;\n",
              "      height: 32px;\n",
              "      padding: 0 0 0 0;\n",
              "      width: 32px;\n",
              "    }\n",
              "\n",
              "    .colab-df-convert:hover {\n",
              "      background-color: #E2EBFA;\n",
              "      box-shadow: 0px 1px 2px rgba(60, 64, 67, 0.3), 0px 1px 3px 1px rgba(60, 64, 67, 0.15);\n",
              "      fill: #174EA6;\n",
              "    }\n",
              "\n",
              "    [theme=dark] .colab-df-convert {\n",
              "      background-color: #3B4455;\n",
              "      fill: #D2E3FC;\n",
              "    }\n",
              "\n",
              "    [theme=dark] .colab-df-convert:hover {\n",
              "      background-color: #434B5C;\n",
              "      box-shadow: 0px 1px 3px 1px rgba(0, 0, 0, 0.15);\n",
              "      filter: drop-shadow(0px 1px 2px rgba(0, 0, 0, 0.3));\n",
              "      fill: #FFFFFF;\n",
              "    }\n",
              "  </style>\n",
              "\n",
              "      <script>\n",
              "        const buttonEl =\n",
              "          document.querySelector('#df-29c45015-a5bc-4077-b394-033dc81f82af button.colab-df-convert');\n",
              "        buttonEl.style.display =\n",
              "          google.colab.kernel.accessAllowed ? 'block' : 'none';\n",
              "\n",
              "        async function convertToInteractive(key) {\n",
              "          const element = document.querySelector('#df-29c45015-a5bc-4077-b394-033dc81f82af');\n",
              "          const dataTable =\n",
              "            await google.colab.kernel.invokeFunction('convertToInteractive',\n",
              "                                                     [key], {});\n",
              "          if (!dataTable) return;\n",
              "\n",
              "          const docLinkHtml = 'Like what you see? Visit the ' +\n",
              "            '<a target=\"_blank\" href=https://colab.research.google.com/notebooks/data_table.ipynb>data table notebook</a>'\n",
              "            + ' to learn more about interactive tables.';\n",
              "          element.innerHTML = '';\n",
              "          dataTable['output_type'] = 'display_data';\n",
              "          await google.colab.output.renderOutput(dataTable, element);\n",
              "          const docLink = document.createElement('div');\n",
              "          docLink.innerHTML = docLinkHtml;\n",
              "          element.appendChild(docLink);\n",
              "        }\n",
              "      </script>\n",
              "    </div>\n",
              "  </div>\n",
              "  "
            ]
          },
          "metadata": {},
          "execution_count": 1191
        }
      ]
    },
    {
      "cell_type": "markdown",
      "source": [
        "Here, note that people with age between 24 to 30 have the worst score. This means that their proportion of bad/customers was the worst. Also, older people (+ 60) actually tend to show a higher score.  \n",
        "\n",
        "Now, let's see another feature:"
      ],
      "metadata": {
        "id": "sC2Nl8iCjFsW"
      }
    },
    {
      "cell_type": "code",
      "source": [
        "df_woe.query(\"feature == 'RevolvingUtilizationOfUnsecuredLines'\")"
      ],
      "metadata": {
        "colab": {
          "base_uri": "https://localhost:8080/",
          "height": 394
        },
        "id": "9BS-b7ymjDNw",
        "outputId": "9e5333e4-a314-4176-a2e2-d36a6547029e"
      },
      "execution_count": null,
      "outputs": [
        {
          "output_type": "execute_result",
          "data": {
            "text/plain": [
              "                                 feature             group     WoE       score\n",
              "0   RevolvingUtilizationOfUnsecuredLines     (-0.001, 0.1]  1.2903  159.279614\n",
              "1   RevolvingUtilizationOfUnsecuredLines        (0.1, 0.2]  0.8725  137.298346\n",
              "2   RevolvingUtilizationOfUnsecuredLines        (0.2, 0.3]  0.6283  124.450510\n",
              "3   RevolvingUtilizationOfUnsecuredLines        (0.3, 0.4]  0.2913  106.720287\n",
              "4   RevolvingUtilizationOfUnsecuredLines        (0.4, 0.5]  0.0808   95.645473\n",
              "5   RevolvingUtilizationOfUnsecuredLines        (0.5, 0.6] -0.2846   76.421071\n",
              "6   RevolvingUtilizationOfUnsecuredLines        (0.6, 0.7] -0.4302   68.760772\n",
              "7   RevolvingUtilizationOfUnsecuredLines        (0.7, 0.8] -0.7433   52.287974\n",
              "8   RevolvingUtilizationOfUnsecuredLines        (0.8, 0.9] -0.8956   44.275176\n",
              "9   RevolvingUtilizationOfUnsecuredLines        (0.9, 1.0] -1.1849   29.054541\n",
              "10  RevolvingUtilizationOfUnsecuredLines  (1.0, 1000000.0] -2.1498  -21.710719"
            ],
            "text/html": [
              "\n",
              "  <div id=\"df-756b9960-8a98-4efc-8b4e-9eb822fbd899\">\n",
              "    <div class=\"colab-df-container\">\n",
              "      <div>\n",
              "<style scoped>\n",
              "    .dataframe tbody tr th:only-of-type {\n",
              "        vertical-align: middle;\n",
              "    }\n",
              "\n",
              "    .dataframe tbody tr th {\n",
              "        vertical-align: top;\n",
              "    }\n",
              "\n",
              "    .dataframe thead th {\n",
              "        text-align: right;\n",
              "    }\n",
              "</style>\n",
              "<table border=\"1\" class=\"dataframe\">\n",
              "  <thead>\n",
              "    <tr style=\"text-align: right;\">\n",
              "      <th></th>\n",
              "      <th>feature</th>\n",
              "      <th>group</th>\n",
              "      <th>WoE</th>\n",
              "      <th>score</th>\n",
              "    </tr>\n",
              "  </thead>\n",
              "  <tbody>\n",
              "    <tr>\n",
              "      <th>0</th>\n",
              "      <td>RevolvingUtilizationOfUnsecuredLines</td>\n",
              "      <td>(-0.001, 0.1]</td>\n",
              "      <td>1.2903</td>\n",
              "      <td>159.279614</td>\n",
              "    </tr>\n",
              "    <tr>\n",
              "      <th>1</th>\n",
              "      <td>RevolvingUtilizationOfUnsecuredLines</td>\n",
              "      <td>(0.1, 0.2]</td>\n",
              "      <td>0.8725</td>\n",
              "      <td>137.298346</td>\n",
              "    </tr>\n",
              "    <tr>\n",
              "      <th>2</th>\n",
              "      <td>RevolvingUtilizationOfUnsecuredLines</td>\n",
              "      <td>(0.2, 0.3]</td>\n",
              "      <td>0.6283</td>\n",
              "      <td>124.450510</td>\n",
              "    </tr>\n",
              "    <tr>\n",
              "      <th>3</th>\n",
              "      <td>RevolvingUtilizationOfUnsecuredLines</td>\n",
              "      <td>(0.3, 0.4]</td>\n",
              "      <td>0.2913</td>\n",
              "      <td>106.720287</td>\n",
              "    </tr>\n",
              "    <tr>\n",
              "      <th>4</th>\n",
              "      <td>RevolvingUtilizationOfUnsecuredLines</td>\n",
              "      <td>(0.4, 0.5]</td>\n",
              "      <td>0.0808</td>\n",
              "      <td>95.645473</td>\n",
              "    </tr>\n",
              "    <tr>\n",
              "      <th>5</th>\n",
              "      <td>RevolvingUtilizationOfUnsecuredLines</td>\n",
              "      <td>(0.5, 0.6]</td>\n",
              "      <td>-0.2846</td>\n",
              "      <td>76.421071</td>\n",
              "    </tr>\n",
              "    <tr>\n",
              "      <th>6</th>\n",
              "      <td>RevolvingUtilizationOfUnsecuredLines</td>\n",
              "      <td>(0.6, 0.7]</td>\n",
              "      <td>-0.4302</td>\n",
              "      <td>68.760772</td>\n",
              "    </tr>\n",
              "    <tr>\n",
              "      <th>7</th>\n",
              "      <td>RevolvingUtilizationOfUnsecuredLines</td>\n",
              "      <td>(0.7, 0.8]</td>\n",
              "      <td>-0.7433</td>\n",
              "      <td>52.287974</td>\n",
              "    </tr>\n",
              "    <tr>\n",
              "      <th>8</th>\n",
              "      <td>RevolvingUtilizationOfUnsecuredLines</td>\n",
              "      <td>(0.8, 0.9]</td>\n",
              "      <td>-0.8956</td>\n",
              "      <td>44.275176</td>\n",
              "    </tr>\n",
              "    <tr>\n",
              "      <th>9</th>\n",
              "      <td>RevolvingUtilizationOfUnsecuredLines</td>\n",
              "      <td>(0.9, 1.0]</td>\n",
              "      <td>-1.1849</td>\n",
              "      <td>29.054541</td>\n",
              "    </tr>\n",
              "    <tr>\n",
              "      <th>10</th>\n",
              "      <td>RevolvingUtilizationOfUnsecuredLines</td>\n",
              "      <td>(1.0, 1000000.0]</td>\n",
              "      <td>-2.1498</td>\n",
              "      <td>-21.710719</td>\n",
              "    </tr>\n",
              "  </tbody>\n",
              "</table>\n",
              "</div>\n",
              "      <button class=\"colab-df-convert\" onclick=\"convertToInteractive('df-756b9960-8a98-4efc-8b4e-9eb822fbd899')\"\n",
              "              title=\"Convert this dataframe to an interactive table.\"\n",
              "              style=\"display:none;\">\n",
              "        \n",
              "  <svg xmlns=\"http://www.w3.org/2000/svg\" height=\"24px\"viewBox=\"0 0 24 24\"\n",
              "       width=\"24px\">\n",
              "    <path d=\"M0 0h24v24H0V0z\" fill=\"none\"/>\n",
              "    <path d=\"M18.56 5.44l.94 2.06.94-2.06 2.06-.94-2.06-.94-.94-2.06-.94 2.06-2.06.94zm-11 1L8.5 8.5l.94-2.06 2.06-.94-2.06-.94L8.5 2.5l-.94 2.06-2.06.94zm10 10l.94 2.06.94-2.06 2.06-.94-2.06-.94-.94-2.06-.94 2.06-2.06.94z\"/><path d=\"M17.41 7.96l-1.37-1.37c-.4-.4-.92-.59-1.43-.59-.52 0-1.04.2-1.43.59L10.3 9.45l-7.72 7.72c-.78.78-.78 2.05 0 2.83L4 21.41c.39.39.9.59 1.41.59.51 0 1.02-.2 1.41-.59l7.78-7.78 2.81-2.81c.8-.78.8-2.07 0-2.86zM5.41 20L4 18.59l7.72-7.72 1.47 1.35L5.41 20z\"/>\n",
              "  </svg>\n",
              "      </button>\n",
              "      \n",
              "  <style>\n",
              "    .colab-df-container {\n",
              "      display:flex;\n",
              "      flex-wrap:wrap;\n",
              "      gap: 12px;\n",
              "    }\n",
              "\n",
              "    .colab-df-convert {\n",
              "      background-color: #E8F0FE;\n",
              "      border: none;\n",
              "      border-radius: 50%;\n",
              "      cursor: pointer;\n",
              "      display: none;\n",
              "      fill: #1967D2;\n",
              "      height: 32px;\n",
              "      padding: 0 0 0 0;\n",
              "      width: 32px;\n",
              "    }\n",
              "\n",
              "    .colab-df-convert:hover {\n",
              "      background-color: #E2EBFA;\n",
              "      box-shadow: 0px 1px 2px rgba(60, 64, 67, 0.3), 0px 1px 3px 1px rgba(60, 64, 67, 0.15);\n",
              "      fill: #174EA6;\n",
              "    }\n",
              "\n",
              "    [theme=dark] .colab-df-convert {\n",
              "      background-color: #3B4455;\n",
              "      fill: #D2E3FC;\n",
              "    }\n",
              "\n",
              "    [theme=dark] .colab-df-convert:hover {\n",
              "      background-color: #434B5C;\n",
              "      box-shadow: 0px 1px 3px 1px rgba(0, 0, 0, 0.15);\n",
              "      filter: drop-shadow(0px 1px 2px rgba(0, 0, 0, 0.3));\n",
              "      fill: #FFFFFF;\n",
              "    }\n",
              "  </style>\n",
              "\n",
              "      <script>\n",
              "        const buttonEl =\n",
              "          document.querySelector('#df-756b9960-8a98-4efc-8b4e-9eb822fbd899 button.colab-df-convert');\n",
              "        buttonEl.style.display =\n",
              "          google.colab.kernel.accessAllowed ? 'block' : 'none';\n",
              "\n",
              "        async function convertToInteractive(key) {\n",
              "          const element = document.querySelector('#df-756b9960-8a98-4efc-8b4e-9eb822fbd899');\n",
              "          const dataTable =\n",
              "            await google.colab.kernel.invokeFunction('convertToInteractive',\n",
              "                                                     [key], {});\n",
              "          if (!dataTable) return;\n",
              "\n",
              "          const docLinkHtml = 'Like what you see? Visit the ' +\n",
              "            '<a target=\"_blank\" href=https://colab.research.google.com/notebooks/data_table.ipynb>data table notebook</a>'\n",
              "            + ' to learn more about interactive tables.';\n",
              "          element.innerHTML = '';\n",
              "          dataTable['output_type'] = 'display_data';\n",
              "          await google.colab.output.renderOutput(dataTable, element);\n",
              "          const docLink = document.createElement('div');\n",
              "          docLink.innerHTML = docLinkHtml;\n",
              "          element.appendChild(docLink);\n",
              "        }\n",
              "      </script>\n",
              "    </div>\n",
              "  </div>\n",
              "  "
            ]
          },
          "metadata": {},
          "execution_count": 1192
        }
      ]
    },
    {
      "cell_type": "markdown",
      "source": [
        "Here, we see that, as the feature is higher (which means that the person uses more unsecured lines), the score decreases. Note that our model was able to identify this trend by itself. Great! Also, the scores change a lot in this feature, going from 160 (for 0% to 10% of unsecured lines) to -22 (for more than 100% of unsecured lines). This high variation occurs because the IV for this feature is very high! Since this feature says a lot of information about our customers, the score variation is higher.\n",
        "\n",
        "Now, let's see another opposite case:"
      ],
      "metadata": {
        "id": "xHIVb2OCjoCb"
      }
    },
    {
      "cell_type": "code",
      "source": [
        "df_woe.query(\"feature == 'NumberOfDependents'\")"
      ],
      "metadata": {
        "colab": {
          "base_uri": "https://localhost:8080/",
          "height": 206
        },
        "id": "kYq_OeFJjjXu",
        "outputId": "34669688-dd13-4c26-b1e8-837e023f2004"
      },
      "execution_count": null,
      "outputs": [
        {
          "output_type": "execute_result",
          "data": {
            "text/plain": [
              "              feature             group     WoE      score\n",
              "0  NumberOfDependents     (-0.001, 1.0]  0.0951  93.938455\n",
              "1  NumberOfDependents        (1.0, 2.0] -0.1796  86.589938\n",
              "2  NumberOfDependents        (2.0, 3.0] -0.2887  83.671397\n",
              "3  NumberOfDependents        (3.0, 4.0] -0.4447  79.498231\n",
              "4  NumberOfDependents  (4.0, 1000000.0] -0.3595  81.777422"
            ],
            "text/html": [
              "\n",
              "  <div id=\"df-85b6a535-af61-480f-9af2-47607823d873\">\n",
              "    <div class=\"colab-df-container\">\n",
              "      <div>\n",
              "<style scoped>\n",
              "    .dataframe tbody tr th:only-of-type {\n",
              "        vertical-align: middle;\n",
              "    }\n",
              "\n",
              "    .dataframe tbody tr th {\n",
              "        vertical-align: top;\n",
              "    }\n",
              "\n",
              "    .dataframe thead th {\n",
              "        text-align: right;\n",
              "    }\n",
              "</style>\n",
              "<table border=\"1\" class=\"dataframe\">\n",
              "  <thead>\n",
              "    <tr style=\"text-align: right;\">\n",
              "      <th></th>\n",
              "      <th>feature</th>\n",
              "      <th>group</th>\n",
              "      <th>WoE</th>\n",
              "      <th>score</th>\n",
              "    </tr>\n",
              "  </thead>\n",
              "  <tbody>\n",
              "    <tr>\n",
              "      <th>0</th>\n",
              "      <td>NumberOfDependents</td>\n",
              "      <td>(-0.001, 1.0]</td>\n",
              "      <td>0.0951</td>\n",
              "      <td>93.938455</td>\n",
              "    </tr>\n",
              "    <tr>\n",
              "      <th>1</th>\n",
              "      <td>NumberOfDependents</td>\n",
              "      <td>(1.0, 2.0]</td>\n",
              "      <td>-0.1796</td>\n",
              "      <td>86.589938</td>\n",
              "    </tr>\n",
              "    <tr>\n",
              "      <th>2</th>\n",
              "      <td>NumberOfDependents</td>\n",
              "      <td>(2.0, 3.0]</td>\n",
              "      <td>-0.2887</td>\n",
              "      <td>83.671397</td>\n",
              "    </tr>\n",
              "    <tr>\n",
              "      <th>3</th>\n",
              "      <td>NumberOfDependents</td>\n",
              "      <td>(3.0, 4.0]</td>\n",
              "      <td>-0.4447</td>\n",
              "      <td>79.498231</td>\n",
              "    </tr>\n",
              "    <tr>\n",
              "      <th>4</th>\n",
              "      <td>NumberOfDependents</td>\n",
              "      <td>(4.0, 1000000.0]</td>\n",
              "      <td>-0.3595</td>\n",
              "      <td>81.777422</td>\n",
              "    </tr>\n",
              "  </tbody>\n",
              "</table>\n",
              "</div>\n",
              "      <button class=\"colab-df-convert\" onclick=\"convertToInteractive('df-85b6a535-af61-480f-9af2-47607823d873')\"\n",
              "              title=\"Convert this dataframe to an interactive table.\"\n",
              "              style=\"display:none;\">\n",
              "        \n",
              "  <svg xmlns=\"http://www.w3.org/2000/svg\" height=\"24px\"viewBox=\"0 0 24 24\"\n",
              "       width=\"24px\">\n",
              "    <path d=\"M0 0h24v24H0V0z\" fill=\"none\"/>\n",
              "    <path d=\"M18.56 5.44l.94 2.06.94-2.06 2.06-.94-2.06-.94-.94-2.06-.94 2.06-2.06.94zm-11 1L8.5 8.5l.94-2.06 2.06-.94-2.06-.94L8.5 2.5l-.94 2.06-2.06.94zm10 10l.94 2.06.94-2.06 2.06-.94-2.06-.94-.94-2.06-.94 2.06-2.06.94z\"/><path d=\"M17.41 7.96l-1.37-1.37c-.4-.4-.92-.59-1.43-.59-.52 0-1.04.2-1.43.59L10.3 9.45l-7.72 7.72c-.78.78-.78 2.05 0 2.83L4 21.41c.39.39.9.59 1.41.59.51 0 1.02-.2 1.41-.59l7.78-7.78 2.81-2.81c.8-.78.8-2.07 0-2.86zM5.41 20L4 18.59l7.72-7.72 1.47 1.35L5.41 20z\"/>\n",
              "  </svg>\n",
              "      </button>\n",
              "      \n",
              "  <style>\n",
              "    .colab-df-container {\n",
              "      display:flex;\n",
              "      flex-wrap:wrap;\n",
              "      gap: 12px;\n",
              "    }\n",
              "\n",
              "    .colab-df-convert {\n",
              "      background-color: #E8F0FE;\n",
              "      border: none;\n",
              "      border-radius: 50%;\n",
              "      cursor: pointer;\n",
              "      display: none;\n",
              "      fill: #1967D2;\n",
              "      height: 32px;\n",
              "      padding: 0 0 0 0;\n",
              "      width: 32px;\n",
              "    }\n",
              "\n",
              "    .colab-df-convert:hover {\n",
              "      background-color: #E2EBFA;\n",
              "      box-shadow: 0px 1px 2px rgba(60, 64, 67, 0.3), 0px 1px 3px 1px rgba(60, 64, 67, 0.15);\n",
              "      fill: #174EA6;\n",
              "    }\n",
              "\n",
              "    [theme=dark] .colab-df-convert {\n",
              "      background-color: #3B4455;\n",
              "      fill: #D2E3FC;\n",
              "    }\n",
              "\n",
              "    [theme=dark] .colab-df-convert:hover {\n",
              "      background-color: #434B5C;\n",
              "      box-shadow: 0px 1px 3px 1px rgba(0, 0, 0, 0.15);\n",
              "      filter: drop-shadow(0px 1px 2px rgba(0, 0, 0, 0.3));\n",
              "      fill: #FFFFFF;\n",
              "    }\n",
              "  </style>\n",
              "\n",
              "      <script>\n",
              "        const buttonEl =\n",
              "          document.querySelector('#df-85b6a535-af61-480f-9af2-47607823d873 button.colab-df-convert');\n",
              "        buttonEl.style.display =\n",
              "          google.colab.kernel.accessAllowed ? 'block' : 'none';\n",
              "\n",
              "        async function convertToInteractive(key) {\n",
              "          const element = document.querySelector('#df-85b6a535-af61-480f-9af2-47607823d873');\n",
              "          const dataTable =\n",
              "            await google.colab.kernel.invokeFunction('convertToInteractive',\n",
              "                                                     [key], {});\n",
              "          if (!dataTable) return;\n",
              "\n",
              "          const docLinkHtml = 'Like what you see? Visit the ' +\n",
              "            '<a target=\"_blank\" href=https://colab.research.google.com/notebooks/data_table.ipynb>data table notebook</a>'\n",
              "            + ' to learn more about interactive tables.';\n",
              "          element.innerHTML = '';\n",
              "          dataTable['output_type'] = 'display_data';\n",
              "          await google.colab.output.renderOutput(dataTable, element);\n",
              "          const docLink = document.createElement('div');\n",
              "          docLink.innerHTML = docLinkHtml;\n",
              "          element.appendChild(docLink);\n",
              "        }\n",
              "      </script>\n",
              "    </div>\n",
              "  </div>\n",
              "  "
            ]
          },
          "metadata": {},
          "execution_count": 1193
        }
      ]
    },
    {
      "cell_type": "markdown",
      "source": [
        "From the feature Number Of Dependents, the score only goes from 78 to 94. This feature actually has a very low IV, which means that it gives less information to our model."
      ],
      "metadata": {
        "id": "4Eks5u72kYNE"
      }
    },
    {
      "cell_type": "markdown",
      "source": [
        "Finally, note that, to build our credit scorecard, we used the coefficients of the logistic regression. However, we could also build the scorecard using the predicted probability of being a good customer. This approach is interesting, because it means that we could use different classification models to derive our credit scorecard. To do so, we should do:"
      ],
      "metadata": {
        "id": "A42OvSnikjcL"
      }
    },
    {
      "cell_type": "code",
      "source": [
        "def transform_proba_into_odds(pred_proba):\n",
        "  odds = []\n",
        "  for prob_good in pred_proba:\n",
        "    odds.append(prob_good/(1 - prob_good))\n",
        "\n",
        "  return odds"
      ],
      "metadata": {
        "id": "XSspfWOQl3y_"
      },
      "execution_count": null,
      "outputs": []
    },
    {
      "cell_type": "code",
      "source": [
        "vars = ['age_group', 'revolv_group', 'income_group', 'opencredit_group', 'numloans_group', 'dependents_group', '30dayslate_group']\n",
        "\n",
        "pred_proba = LogReg.predict_proba(df[vars])[:, 1]\n",
        "\n",
        "pred_odds = transform_proba_into_odds(pred_proba)\n",
        "\n",
        "df['score_predproba'] = (offset + factor*np.log(pred_odds)).astype(int)"
      ],
      "metadata": {
        "id": "D7Vp5bVhkI7s"
      },
      "execution_count": null,
      "outputs": []
    },
    {
      "cell_type": "code",
      "source": [
        "df[['score', 'score_predproba']].sample(20)"
      ],
      "metadata": {
        "colab": {
          "base_uri": "https://localhost:8080/",
          "height": 676
        },
        "id": "eC864XKFmMjU",
        "outputId": "66f5a017-5259-4d26-ec23-d11b4e92cbc6"
      },
      "execution_count": null,
      "outputs": [
        {
          "output_type": "execute_result",
          "data": {
            "text/plain": [
              "        score  score_predproba\n",
              "44494     701              701\n",
              "83675     649              649\n",
              "101376    644              644\n",
              "14977     609              609\n",
              "61480     682              682\n",
              "14435     602              602\n",
              "1947      734              734\n",
              "115446    776              776\n",
              "63107     729              729\n",
              "44852     763              763\n",
              "8154      738              738\n",
              "94617     720              720\n",
              "118005    683              683\n",
              "78899     680              680\n",
              "95240     703              703\n",
              "31015     744              744\n",
              "68505     778              778\n",
              "39162     630              630\n",
              "53375     737              737\n",
              "74344     723              723"
            ],
            "text/html": [
              "\n",
              "  <div id=\"df-98e758ca-4649-452f-bddd-aa94de134ff1\">\n",
              "    <div class=\"colab-df-container\">\n",
              "      <div>\n",
              "<style scoped>\n",
              "    .dataframe tbody tr th:only-of-type {\n",
              "        vertical-align: middle;\n",
              "    }\n",
              "\n",
              "    .dataframe tbody tr th {\n",
              "        vertical-align: top;\n",
              "    }\n",
              "\n",
              "    .dataframe thead th {\n",
              "        text-align: right;\n",
              "    }\n",
              "</style>\n",
              "<table border=\"1\" class=\"dataframe\">\n",
              "  <thead>\n",
              "    <tr style=\"text-align: right;\">\n",
              "      <th></th>\n",
              "      <th>score</th>\n",
              "      <th>score_predproba</th>\n",
              "    </tr>\n",
              "  </thead>\n",
              "  <tbody>\n",
              "    <tr>\n",
              "      <th>44494</th>\n",
              "      <td>701</td>\n",
              "      <td>701</td>\n",
              "    </tr>\n",
              "    <tr>\n",
              "      <th>83675</th>\n",
              "      <td>649</td>\n",
              "      <td>649</td>\n",
              "    </tr>\n",
              "    <tr>\n",
              "      <th>101376</th>\n",
              "      <td>644</td>\n",
              "      <td>644</td>\n",
              "    </tr>\n",
              "    <tr>\n",
              "      <th>14977</th>\n",
              "      <td>609</td>\n",
              "      <td>609</td>\n",
              "    </tr>\n",
              "    <tr>\n",
              "      <th>61480</th>\n",
              "      <td>682</td>\n",
              "      <td>682</td>\n",
              "    </tr>\n",
              "    <tr>\n",
              "      <th>14435</th>\n",
              "      <td>602</td>\n",
              "      <td>602</td>\n",
              "    </tr>\n",
              "    <tr>\n",
              "      <th>1947</th>\n",
              "      <td>734</td>\n",
              "      <td>734</td>\n",
              "    </tr>\n",
              "    <tr>\n",
              "      <th>115446</th>\n",
              "      <td>776</td>\n",
              "      <td>776</td>\n",
              "    </tr>\n",
              "    <tr>\n",
              "      <th>63107</th>\n",
              "      <td>729</td>\n",
              "      <td>729</td>\n",
              "    </tr>\n",
              "    <tr>\n",
              "      <th>44852</th>\n",
              "      <td>763</td>\n",
              "      <td>763</td>\n",
              "    </tr>\n",
              "    <tr>\n",
              "      <th>8154</th>\n",
              "      <td>738</td>\n",
              "      <td>738</td>\n",
              "    </tr>\n",
              "    <tr>\n",
              "      <th>94617</th>\n",
              "      <td>720</td>\n",
              "      <td>720</td>\n",
              "    </tr>\n",
              "    <tr>\n",
              "      <th>118005</th>\n",
              "      <td>683</td>\n",
              "      <td>683</td>\n",
              "    </tr>\n",
              "    <tr>\n",
              "      <th>78899</th>\n",
              "      <td>680</td>\n",
              "      <td>680</td>\n",
              "    </tr>\n",
              "    <tr>\n",
              "      <th>95240</th>\n",
              "      <td>703</td>\n",
              "      <td>703</td>\n",
              "    </tr>\n",
              "    <tr>\n",
              "      <th>31015</th>\n",
              "      <td>744</td>\n",
              "      <td>744</td>\n",
              "    </tr>\n",
              "    <tr>\n",
              "      <th>68505</th>\n",
              "      <td>778</td>\n",
              "      <td>778</td>\n",
              "    </tr>\n",
              "    <tr>\n",
              "      <th>39162</th>\n",
              "      <td>630</td>\n",
              "      <td>630</td>\n",
              "    </tr>\n",
              "    <tr>\n",
              "      <th>53375</th>\n",
              "      <td>737</td>\n",
              "      <td>737</td>\n",
              "    </tr>\n",
              "    <tr>\n",
              "      <th>74344</th>\n",
              "      <td>723</td>\n",
              "      <td>723</td>\n",
              "    </tr>\n",
              "  </tbody>\n",
              "</table>\n",
              "</div>\n",
              "      <button class=\"colab-df-convert\" onclick=\"convertToInteractive('df-98e758ca-4649-452f-bddd-aa94de134ff1')\"\n",
              "              title=\"Convert this dataframe to an interactive table.\"\n",
              "              style=\"display:none;\">\n",
              "        \n",
              "  <svg xmlns=\"http://www.w3.org/2000/svg\" height=\"24px\"viewBox=\"0 0 24 24\"\n",
              "       width=\"24px\">\n",
              "    <path d=\"M0 0h24v24H0V0z\" fill=\"none\"/>\n",
              "    <path d=\"M18.56 5.44l.94 2.06.94-2.06 2.06-.94-2.06-.94-.94-2.06-.94 2.06-2.06.94zm-11 1L8.5 8.5l.94-2.06 2.06-.94-2.06-.94L8.5 2.5l-.94 2.06-2.06.94zm10 10l.94 2.06.94-2.06 2.06-.94-2.06-.94-.94-2.06-.94 2.06-2.06.94z\"/><path d=\"M17.41 7.96l-1.37-1.37c-.4-.4-.92-.59-1.43-.59-.52 0-1.04.2-1.43.59L10.3 9.45l-7.72 7.72c-.78.78-.78 2.05 0 2.83L4 21.41c.39.39.9.59 1.41.59.51 0 1.02-.2 1.41-.59l7.78-7.78 2.81-2.81c.8-.78.8-2.07 0-2.86zM5.41 20L4 18.59l7.72-7.72 1.47 1.35L5.41 20z\"/>\n",
              "  </svg>\n",
              "      </button>\n",
              "      \n",
              "  <style>\n",
              "    .colab-df-container {\n",
              "      display:flex;\n",
              "      flex-wrap:wrap;\n",
              "      gap: 12px;\n",
              "    }\n",
              "\n",
              "    .colab-df-convert {\n",
              "      background-color: #E8F0FE;\n",
              "      border: none;\n",
              "      border-radius: 50%;\n",
              "      cursor: pointer;\n",
              "      display: none;\n",
              "      fill: #1967D2;\n",
              "      height: 32px;\n",
              "      padding: 0 0 0 0;\n",
              "      width: 32px;\n",
              "    }\n",
              "\n",
              "    .colab-df-convert:hover {\n",
              "      background-color: #E2EBFA;\n",
              "      box-shadow: 0px 1px 2px rgba(60, 64, 67, 0.3), 0px 1px 3px 1px rgba(60, 64, 67, 0.15);\n",
              "      fill: #174EA6;\n",
              "    }\n",
              "\n",
              "    [theme=dark] .colab-df-convert {\n",
              "      background-color: #3B4455;\n",
              "      fill: #D2E3FC;\n",
              "    }\n",
              "\n",
              "    [theme=dark] .colab-df-convert:hover {\n",
              "      background-color: #434B5C;\n",
              "      box-shadow: 0px 1px 3px 1px rgba(0, 0, 0, 0.15);\n",
              "      filter: drop-shadow(0px 1px 2px rgba(0, 0, 0, 0.3));\n",
              "      fill: #FFFFFF;\n",
              "    }\n",
              "  </style>\n",
              "\n",
              "      <script>\n",
              "        const buttonEl =\n",
              "          document.querySelector('#df-98e758ca-4649-452f-bddd-aa94de134ff1 button.colab-df-convert');\n",
              "        buttonEl.style.display =\n",
              "          google.colab.kernel.accessAllowed ? 'block' : 'none';\n",
              "\n",
              "        async function convertToInteractive(key) {\n",
              "          const element = document.querySelector('#df-98e758ca-4649-452f-bddd-aa94de134ff1');\n",
              "          const dataTable =\n",
              "            await google.colab.kernel.invokeFunction('convertToInteractive',\n",
              "                                                     [key], {});\n",
              "          if (!dataTable) return;\n",
              "\n",
              "          const docLinkHtml = 'Like what you see? Visit the ' +\n",
              "            '<a target=\"_blank\" href=https://colab.research.google.com/notebooks/data_table.ipynb>data table notebook</a>'\n",
              "            + ' to learn more about interactive tables.';\n",
              "          element.innerHTML = '';\n",
              "          dataTable['output_type'] = 'display_data';\n",
              "          await google.colab.output.renderOutput(dataTable, element);\n",
              "          const docLink = document.createElement('div');\n",
              "          docLink.innerHTML = docLinkHtml;\n",
              "          element.appendChild(docLink);\n",
              "        }\n",
              "      </script>\n",
              "    </div>\n",
              "  </div>\n",
              "  "
            ]
          },
          "metadata": {},
          "execution_count": 1196
        }
      ]
    },
    {
      "cell_type": "markdown",
      "source": [
        "Note that the scores are the same! Great."
      ],
      "metadata": {
        "id": "wfWbkb84ncQ1"
      }
    },
    {
      "cell_type": "markdown",
      "source": [
        "# Final recommendations\n",
        "\n",
        "In this project, we created a credit scorecard for our clients. Thus, using information taken from their registration and old history, we are able to assign a credit score to each customer, so that we know more easily when we should give credit to a customer. Credit scorecards are very interesting because:\n",
        "\n",
        "* Unlike probabilities, scores can be revealed. So we can present the score to the public and simply say \"the higher, the better\". The audience will get the message!\n",
        "* Using proper normalization, we can compare data even from different environments.\n",
        "* It is more convenient to deal with integer scores rather than decimals/probabilities.\n",
        "\n",
        "We show how to derive a credit scorecard using Logistic Regression models (which provides an easy method to understand the importance of each feature), but we also show how to evaluate the score using the probability of good events, which allows the definition of the scorecard using any classification model.\n",
        "\n",
        "Our credit scoring model ended up giving good scores to some bad clients and bad scores to some good clients. This is to be expected, as no model is perfect. However, we could try to improve performance using alternative models such as Decision Trees, Random Forests, XGBoost, Catboost and Gradient boost.\n",
        "\n",
        "Finally, using a credit score, a company can set rules for accepting some borrowers. Also, for riskier lines of credit, we could ask for a higher credit score, to ensure our company will get paid. Thus, the credit score is very important to guide the company's decision-making process and facilitate the decision to accept or not a borrower."
      ],
      "metadata": {
        "id": "rfjKcdVHnf0c"
      }
    },
    {
      "cell_type": "code",
      "source": [
        ""
      ],
      "metadata": {
        "id": "rDi-knHeER3k"
      },
      "execution_count": null,
      "outputs": []
    }
  ]
}